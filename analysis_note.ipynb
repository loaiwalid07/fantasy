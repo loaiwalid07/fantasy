{
 "cells": [
  {
   "cell_type": "code",
   "execution_count": 112,
   "metadata": {},
   "outputs": [],
   "source": [
    "import pandas as pd\n",
    "import numpy as np\n",
    "import matplotlib.pyplot as plt\n",
    "import os\n",
    "from ast import literal_eval\n",
    "import time\n",
    "import requests"
   ]
  },
  {
   "cell_type": "code",
   "execution_count": 113,
   "metadata": {},
   "outputs": [
    {
     "data": {
      "text/html": [
       "<div>\n",
       "<style scoped>\n",
       "    .dataframe tbody tr th:only-of-type {\n",
       "        vertical-align: middle;\n",
       "    }\n",
       "\n",
       "    .dataframe tbody tr th {\n",
       "        vertical-align: top;\n",
       "    }\n",
       "\n",
       "    .dataframe thead th {\n",
       "        text-align: right;\n",
       "    }\n",
       "</style>\n",
       "<table border=\"1\" class=\"dataframe\">\n",
       "  <thead>\n",
       "    <tr style=\"text-align: right;\">\n",
       "      <th></th>\n",
       "      <th>FirstName</th>\n",
       "      <th>Surname</th>\n",
       "      <th>PositionsList</th>\n",
       "      <th>Team</th>\n",
       "      <th>Cost</th>\n",
       "      <th>PointsLastRound</th>\n",
       "      <th>TotalPoints</th>\n",
       "      <th>AveragePoints</th>\n",
       "      <th>AveragePointsPerDollar</th>\n",
       "      <th>TotalPointsPerDollar</th>\n",
       "      <th>...</th>\n",
       "      <th>GW29Forecast</th>\n",
       "      <th>GW30Forecast</th>\n",
       "      <th>GW31Forecast</th>\n",
       "      <th>GW32Forecast</th>\n",
       "      <th>GW33Forecast</th>\n",
       "      <th>GW34Forecast</th>\n",
       "      <th>GW35Forecast</th>\n",
       "      <th>GW36Forecast</th>\n",
       "      <th>GW37Forecast</th>\n",
       "      <th>GW38Forecast</th>\n",
       "    </tr>\n",
       "  </thead>\n",
       "  <tbody>\n",
       "    <tr>\n",
       "      <th>1</th>\n",
       "      <td>NaN</td>\n",
       "      <td>A.Armstrong</td>\n",
       "      <td>FWD</td>\n",
       "      <td>SOU</td>\n",
       "      <td>5500000</td>\n",
       "      <td>4</td>\n",
       "      <td>5</td>\n",
       "      <td>2.5</td>\n",
       "      <td>4.545455e-07</td>\n",
       "      <td>9.090909e-07</td>\n",
       "      <td>...</td>\n",
       "      <td>1.9</td>\n",
       "      <td>1.2</td>\n",
       "      <td>3.5</td>\n",
       "      <td>1.2</td>\n",
       "      <td>1.5</td>\n",
       "      <td>1.2</td>\n",
       "      <td>1.2</td>\n",
       "      <td>1.4</td>\n",
       "      <td>1.2</td>\n",
       "      <td>3.5</td>\n",
       "    </tr>\n",
       "    <tr>\n",
       "      <th>2</th>\n",
       "      <td>NaN</td>\n",
       "      <td>A.Doucoure</td>\n",
       "      <td>MID</td>\n",
       "      <td>EVE</td>\n",
       "      <td>5500000</td>\n",
       "      <td>1</td>\n",
       "      <td>3</td>\n",
       "      <td>1.5</td>\n",
       "      <td>2.727273e-07</td>\n",
       "      <td>5.454545e-07</td>\n",
       "      <td>...</td>\n",
       "      <td>0.8</td>\n",
       "      <td>0.8</td>\n",
       "      <td>0.8</td>\n",
       "      <td>0.8</td>\n",
       "      <td>0.8</td>\n",
       "      <td>0.8</td>\n",
       "      <td>0.8</td>\n",
       "      <td>0.8</td>\n",
       "      <td>0.8</td>\n",
       "      <td>0.8</td>\n",
       "    </tr>\n",
       "    <tr>\n",
       "      <th>3</th>\n",
       "      <td>Brenden</td>\n",
       "      <td>Aaronson</td>\n",
       "      <td>MID</td>\n",
       "      <td>LEE</td>\n",
       "      <td>5500000</td>\n",
       "      <td>1</td>\n",
       "      <td>3</td>\n",
       "      <td>1.5</td>\n",
       "      <td>2.727273e-07</td>\n",
       "      <td>5.454545e-07</td>\n",
       "      <td>...</td>\n",
       "      <td>0.8</td>\n",
       "      <td>1.1</td>\n",
       "      <td>0.8</td>\n",
       "      <td>0.8</td>\n",
       "      <td>0.8</td>\n",
       "      <td>0.8</td>\n",
       "      <td>0.8</td>\n",
       "      <td>0.8</td>\n",
       "      <td>0.8</td>\n",
       "      <td>0.8</td>\n",
       "    </tr>\n",
       "    <tr>\n",
       "      <th>4</th>\n",
       "      <td>NaN</td>\n",
       "      <td>Adama</td>\n",
       "      <td>MID</td>\n",
       "      <td>WOL</td>\n",
       "      <td>5500000</td>\n",
       "      <td>1</td>\n",
       "      <td>1</td>\n",
       "      <td>1.0</td>\n",
       "      <td>1.818182e-07</td>\n",
       "      <td>1.818182e-07</td>\n",
       "      <td>...</td>\n",
       "      <td>0.5</td>\n",
       "      <td>0.5</td>\n",
       "      <td>0.5</td>\n",
       "      <td>0.5</td>\n",
       "      <td>0.5</td>\n",
       "      <td>0.5</td>\n",
       "      <td>0.5</td>\n",
       "      <td>0.5</td>\n",
       "      <td>0.5</td>\n",
       "      <td>0.5</td>\n",
       "    </tr>\n",
       "    <tr>\n",
       "      <th>5</th>\n",
       "      <td>Che</td>\n",
       "      <td>Adams</td>\n",
       "      <td>FWD</td>\n",
       "      <td>SOU</td>\n",
       "      <td>6400000</td>\n",
       "      <td>2</td>\n",
       "      <td>2</td>\n",
       "      <td>2.0</td>\n",
       "      <td>3.125000e-07</td>\n",
       "      <td>3.125000e-07</td>\n",
       "      <td>...</td>\n",
       "      <td>1.3</td>\n",
       "      <td>1.0</td>\n",
       "      <td>2.8</td>\n",
       "      <td>1.0</td>\n",
       "      <td>1.0</td>\n",
       "      <td>1.0</td>\n",
       "      <td>1.0</td>\n",
       "      <td>1.0</td>\n",
       "      <td>1.0</td>\n",
       "      <td>2.8</td>\n",
       "    </tr>\n",
       "    <tr>\n",
       "      <th>6</th>\n",
       "      <td>Tyler</td>\n",
       "      <td>Adams</td>\n",
       "      <td>MID</td>\n",
       "      <td>LEE</td>\n",
       "      <td>5000000</td>\n",
       "      <td>2</td>\n",
       "      <td>3</td>\n",
       "      <td>1.5</td>\n",
       "      <td>3.000000e-07</td>\n",
       "      <td>6.000000e-07</td>\n",
       "      <td>...</td>\n",
       "      <td>0.8</td>\n",
       "      <td>1.1</td>\n",
       "      <td>0.8</td>\n",
       "      <td>0.8</td>\n",
       "      <td>0.8</td>\n",
       "      <td>0.8</td>\n",
       "      <td>0.8</td>\n",
       "      <td>0.8</td>\n",
       "      <td>0.8</td>\n",
       "      <td>0.8</td>\n",
       "    </tr>\n",
       "    <tr>\n",
       "      <th>7</th>\n",
       "      <td>NaN</td>\n",
       "      <td>Adrian</td>\n",
       "      <td>GLK</td>\n",
       "      <td>LIV</td>\n",
       "      <td>4000000</td>\n",
       "      <td>0</td>\n",
       "      <td>0</td>\n",
       "      <td>0.0</td>\n",
       "      <td>0.000000e+00</td>\n",
       "      <td>0.000000e+00</td>\n",
       "      <td>...</td>\n",
       "      <td>0.0</td>\n",
       "      <td>0.0</td>\n",
       "      <td>0.0</td>\n",
       "      <td>0.0</td>\n",
       "      <td>0.0</td>\n",
       "      <td>0.0</td>\n",
       "      <td>0.0</td>\n",
       "      <td>0.0</td>\n",
       "      <td>0.0</td>\n",
       "      <td>0.0</td>\n",
       "    </tr>\n",
       "    <tr>\n",
       "      <th>8</th>\n",
       "      <td>Nayef</td>\n",
       "      <td>Aguerd</td>\n",
       "      <td>DEF</td>\n",
       "      <td>WHU</td>\n",
       "      <td>4900000</td>\n",
       "      <td>0</td>\n",
       "      <td>0</td>\n",
       "      <td>0.0</td>\n",
       "      <td>0.000000e+00</td>\n",
       "      <td>0.000000e+00</td>\n",
       "      <td>...</td>\n",
       "      <td>0.0</td>\n",
       "      <td>0.0</td>\n",
       "      <td>0.0</td>\n",
       "      <td>0.0</td>\n",
       "      <td>0.0</td>\n",
       "      <td>0.0</td>\n",
       "      <td>0.0</td>\n",
       "      <td>0.0</td>\n",
       "      <td>0.0</td>\n",
       "      <td>0.0</td>\n",
       "    </tr>\n",
       "    <tr>\n",
       "      <th>9</th>\n",
       "      <td>Rayan</td>\n",
       "      <td>Ait-Nouri</td>\n",
       "      <td>DEF</td>\n",
       "      <td>WOL</td>\n",
       "      <td>4500000</td>\n",
       "      <td>6</td>\n",
       "      <td>5</td>\n",
       "      <td>2.5</td>\n",
       "      <td>5.555556e-07</td>\n",
       "      <td>1.111111e-06</td>\n",
       "      <td>...</td>\n",
       "      <td>1.2</td>\n",
       "      <td>2.8</td>\n",
       "      <td>1.2</td>\n",
       "      <td>1.2</td>\n",
       "      <td>3.5</td>\n",
       "      <td>1.5</td>\n",
       "      <td>1.2</td>\n",
       "      <td>2.9</td>\n",
       "      <td>3.5</td>\n",
       "      <td>1.2</td>\n",
       "    </tr>\n",
       "    <tr>\n",
       "      <th>10</th>\n",
       "      <td>Kristoffer</td>\n",
       "      <td>Ajer</td>\n",
       "      <td>DEF</td>\n",
       "      <td>BRE</td>\n",
       "      <td>4500000</td>\n",
       "      <td>0</td>\n",
       "      <td>0</td>\n",
       "      <td>0.0</td>\n",
       "      <td>0.000000e+00</td>\n",
       "      <td>0.000000e+00</td>\n",
       "      <td>...</td>\n",
       "      <td>0.0</td>\n",
       "      <td>0.0</td>\n",
       "      <td>0.0</td>\n",
       "      <td>0.0</td>\n",
       "      <td>0.0</td>\n",
       "      <td>0.0</td>\n",
       "      <td>0.0</td>\n",
       "      <td>0.0</td>\n",
       "      <td>0.0</td>\n",
       "      <td>0.0</td>\n",
       "    </tr>\n",
       "  </tbody>\n",
       "</table>\n",
       "<p>10 rows × 86 columns</p>\n",
       "</div>"
      ],
      "text/plain": [
       "     FirstName      Surname PositionsList Team     Cost  PointsLastRound  \\\n",
       "1          NaN  A.Armstrong           FWD  SOU  5500000                4   \n",
       "2          NaN   A.Doucoure           MID  EVE  5500000                1   \n",
       "3      Brenden     Aaronson           MID  LEE  5500000                1   \n",
       "4          NaN        Adama           MID  WOL  5500000                1   \n",
       "5          Che        Adams           FWD  SOU  6400000                2   \n",
       "6        Tyler        Adams           MID  LEE  5000000                2   \n",
       "7          NaN       Adrian           GLK  LIV  4000000                0   \n",
       "8        Nayef       Aguerd           DEF  WHU  4900000                0   \n",
       "9        Rayan    Ait-Nouri           DEF  WOL  4500000                6   \n",
       "10  Kristoffer         Ajer           DEF  BRE  4500000                0   \n",
       "\n",
       "    TotalPoints  AveragePoints  AveragePointsPerDollar  TotalPointsPerDollar  \\\n",
       "1             5            2.5            4.545455e-07          9.090909e-07   \n",
       "2             3            1.5            2.727273e-07          5.454545e-07   \n",
       "3             3            1.5            2.727273e-07          5.454545e-07   \n",
       "4             1            1.0            1.818182e-07          1.818182e-07   \n",
       "5             2            2.0            3.125000e-07          3.125000e-07   \n",
       "6             3            1.5            3.000000e-07          6.000000e-07   \n",
       "7             0            0.0            0.000000e+00          0.000000e+00   \n",
       "8             0            0.0            0.000000e+00          0.000000e+00   \n",
       "9             5            2.5            5.555556e-07          1.111111e-06   \n",
       "10            0            0.0            0.000000e+00          0.000000e+00   \n",
       "\n",
       "    ...  GW29Forecast  GW30Forecast  GW31Forecast  GW32Forecast  GW33Forecast  \\\n",
       "1   ...           1.9           1.2           3.5           1.2           1.5   \n",
       "2   ...           0.8           0.8           0.8           0.8           0.8   \n",
       "3   ...           0.8           1.1           0.8           0.8           0.8   \n",
       "4   ...           0.5           0.5           0.5           0.5           0.5   \n",
       "5   ...           1.3           1.0           2.8           1.0           1.0   \n",
       "6   ...           0.8           1.1           0.8           0.8           0.8   \n",
       "7   ...           0.0           0.0           0.0           0.0           0.0   \n",
       "8   ...           0.0           0.0           0.0           0.0           0.0   \n",
       "9   ...           1.2           2.8           1.2           1.2           3.5   \n",
       "10  ...           0.0           0.0           0.0           0.0           0.0   \n",
       "\n",
       "    GW34Forecast  GW35Forecast  GW36Forecast  GW37Forecast  GW38Forecast  \n",
       "1            1.2           1.2           1.4           1.2           3.5  \n",
       "2            0.8           0.8           0.8           0.8           0.8  \n",
       "3            0.8           0.8           0.8           0.8           0.8  \n",
       "4            0.5           0.5           0.5           0.5           0.5  \n",
       "5            1.0           1.0           1.0           1.0           2.8  \n",
       "6            0.8           0.8           0.8           0.8           0.8  \n",
       "7            0.0           0.0           0.0           0.0           0.0  \n",
       "8            0.0           0.0           0.0           0.0           0.0  \n",
       "9            1.5           1.2           2.9           3.5           1.2  \n",
       "10           0.0           0.0           0.0           0.0           0.0  \n",
       "\n",
       "[10 rows x 86 columns]"
      ]
     },
     "execution_count": 113,
     "metadata": {},
     "output_type": "execute_result"
    }
   ],
   "source": [
    "# Import the dataset\n",
    "data = pd.read_csv('http://fantasyoverlord.com/FPL/DataWithForecasts',encoding='iso8859_2')\n",
    "data.index = range(1, data.shape[0] + 1)\n",
    "data.head(10)"
   ]
  },
  {
   "cell_type": "code",
   "execution_count": 114,
   "metadata": {},
   "outputs": [
    {
     "data": {
      "text/html": [
       "<div>\n",
       "<style scoped>\n",
       "    .dataframe tbody tr th:only-of-type {\n",
       "        vertical-align: middle;\n",
       "    }\n",
       "\n",
       "    .dataframe tbody tr th {\n",
       "        vertical-align: top;\n",
       "    }\n",
       "\n",
       "    .dataframe thead th {\n",
       "        text-align: right;\n",
       "    }\n",
       "</style>\n",
       "<table border=\"1\" class=\"dataframe\">\n",
       "  <thead>\n",
       "    <tr style=\"text-align: right;\">\n",
       "      <th></th>\n",
       "      <th>FirstName</th>\n",
       "      <th>Surname</th>\n",
       "      <th>PositionsList</th>\n",
       "      <th>Team</th>\n",
       "      <th>Cost</th>\n",
       "      <th>PointsLastRound</th>\n",
       "      <th>TotalPoints</th>\n",
       "      <th>AveragePoints</th>\n",
       "      <th>AveragePointsPerDollar</th>\n",
       "      <th>TotalPointsPerDollar</th>\n",
       "      <th>...</th>\n",
       "      <th>TransfersInRound</th>\n",
       "      <th>PriceRiseRound</th>\n",
       "      <th>RedCards</th>\n",
       "      <th>BPS</th>\n",
       "      <th>NextFixture1</th>\n",
       "      <th>NextFixture2</th>\n",
       "      <th>NextFixture3</th>\n",
       "      <th>NextFixture4</th>\n",
       "      <th>NextFixture5</th>\n",
       "      <th>GW2Forecast</th>\n",
       "    </tr>\n",
       "  </thead>\n",
       "  <tbody>\n",
       "    <tr>\n",
       "      <th>448</th>\n",
       "      <td>NaN</td>\n",
       "      <td>Rodrigo</td>\n",
       "      <td>MID</td>\n",
       "      <td>LEE</td>\n",
       "      <td>6100000</td>\n",
       "      <td>15</td>\n",
       "      <td>22</td>\n",
       "      <td>22.0</td>\n",
       "      <td>3.606557e-06</td>\n",
       "      <td>3.606557e-06</td>\n",
       "      <td>...</td>\n",
       "      <td>382402</td>\n",
       "      <td>1</td>\n",
       "      <td>0</td>\n",
       "      <td>72</td>\n",
       "      <td>Southampton</td>\n",
       "      <td>Chelsea</td>\n",
       "      <td>Brighton</td>\n",
       "      <td>Everton</td>\n",
       "      <td>Brentford F.C.</td>\n",
       "      <td>13.9776</td>\n",
       "    </tr>\n",
       "    <tr>\n",
       "      <th>256</th>\n",
       "      <td>NaN</td>\n",
       "      <td>Jesus</td>\n",
       "      <td>FWD</td>\n",
       "      <td>ARS</td>\n",
       "      <td>8000000</td>\n",
       "      <td>19</td>\n",
       "      <td>21</td>\n",
       "      <td>10.5</td>\n",
       "      <td>1.312500e-06</td>\n",
       "      <td>2.625000e-06</td>\n",
       "      <td>...</td>\n",
       "      <td>263271</td>\n",
       "      <td>0</td>\n",
       "      <td>0</td>\n",
       "      <td>72</td>\n",
       "      <td>Leicester</td>\n",
       "      <td>Bournemouth</td>\n",
       "      <td>Fulham</td>\n",
       "      <td>Aston Villa</td>\n",
       "      <td>Man Utd</td>\n",
       "      <td>14.9000</td>\n",
       "    </tr>\n",
       "    <tr>\n",
       "      <th>135</th>\n",
       "      <td>Kevin</td>\n",
       "      <td>De Bruyne</td>\n",
       "      <td>MID</td>\n",
       "      <td>MCI</td>\n",
       "      <td>12000000</td>\n",
       "      <td>14</td>\n",
       "      <td>20</td>\n",
       "      <td>10.0</td>\n",
       "      <td>8.333333e-07</td>\n",
       "      <td>1.666667e-06</td>\n",
       "      <td>...</td>\n",
       "      <td>136609</td>\n",
       "      <td>0</td>\n",
       "      <td>0</td>\n",
       "      <td>70</td>\n",
       "      <td>Bournemouth</td>\n",
       "      <td>Newcastle</td>\n",
       "      <td>Crystal Palace</td>\n",
       "      <td>Nottingham Forest FC</td>\n",
       "      <td>Aston Villa</td>\n",
       "      <td>12.2000</td>\n",
       "    </tr>\n",
       "    <tr>\n",
       "      <th>476</th>\n",
       "      <td>Fabian</td>\n",
       "      <td>Schar</td>\n",
       "      <td>DEF</td>\n",
       "      <td>NEW</td>\n",
       "      <td>4600000</td>\n",
       "      <td>5</td>\n",
       "      <td>20</td>\n",
       "      <td>10.0</td>\n",
       "      <td>2.173913e-06</td>\n",
       "      <td>4.347826e-06</td>\n",
       "      <td>...</td>\n",
       "      <td>99149</td>\n",
       "      <td>0</td>\n",
       "      <td>0</td>\n",
       "      <td>65</td>\n",
       "      <td>Brighton</td>\n",
       "      <td>Man City</td>\n",
       "      <td>Wolverhampton</td>\n",
       "      <td>Liverpool</td>\n",
       "      <td>Crystal Palace</td>\n",
       "      <td>12.4000</td>\n",
       "    </tr>\n",
       "    <tr>\n",
       "      <th>216</th>\n",
       "      <td>Pascal</td>\n",
       "      <td>Gro?</td>\n",
       "      <td>MID</td>\n",
       "      <td>BHA</td>\n",
       "      <td>5600000</td>\n",
       "      <td>3</td>\n",
       "      <td>18</td>\n",
       "      <td>9.0</td>\n",
       "      <td>1.607143e-06</td>\n",
       "      <td>3.214286e-06</td>\n",
       "      <td>...</td>\n",
       "      <td>91420</td>\n",
       "      <td>0</td>\n",
       "      <td>0</td>\n",
       "      <td>51</td>\n",
       "      <td>Newcastle</td>\n",
       "      <td>West Ham</td>\n",
       "      <td>Leeds United F.C.</td>\n",
       "      <td>Fulham</td>\n",
       "      <td>Leicester</td>\n",
       "      <td>9.9000</td>\n",
       "    </tr>\n",
       "    <tr>\n",
       "      <th>223</th>\n",
       "      <td>Erling</td>\n",
       "      <td>Haaland</td>\n",
       "      <td>FWD</td>\n",
       "      <td>MCI</td>\n",
       "      <td>11700000</td>\n",
       "      <td>5</td>\n",
       "      <td>18</td>\n",
       "      <td>9.0</td>\n",
       "      <td>7.692308e-07</td>\n",
       "      <td>1.538462e-06</td>\n",
       "      <td>...</td>\n",
       "      <td>93981</td>\n",
       "      <td>1</td>\n",
       "      <td>0</td>\n",
       "      <td>64</td>\n",
       "      <td>Bournemouth</td>\n",
       "      <td>Newcastle</td>\n",
       "      <td>Crystal Palace</td>\n",
       "      <td>Nottingham Forest FC</td>\n",
       "      <td>Aston Villa</td>\n",
       "      <td>11.0000</td>\n",
       "    </tr>\n",
       "    <tr>\n",
       "      <th>87</th>\n",
       "      <td>Joao</td>\n",
       "      <td>Cancelo</td>\n",
       "      <td>DEF</td>\n",
       "      <td>MCI</td>\n",
       "      <td>7000000</td>\n",
       "      <td>11</td>\n",
       "      <td>18</td>\n",
       "      <td>9.0</td>\n",
       "      <td>1.285714e-06</td>\n",
       "      <td>2.571429e-06</td>\n",
       "      <td>...</td>\n",
       "      <td>97467</td>\n",
       "      <td>0</td>\n",
       "      <td>0</td>\n",
       "      <td>63</td>\n",
       "      <td>Bournemouth</td>\n",
       "      <td>Newcastle</td>\n",
       "      <td>Crystal Palace</td>\n",
       "      <td>Nottingham Forest FC</td>\n",
       "      <td>Aston Villa</td>\n",
       "      <td>12.4000</td>\n",
       "    </tr>\n",
       "    <tr>\n",
       "      <th>458</th>\n",
       "      <td>NaN</td>\n",
       "      <td>Sa</td>\n",
       "      <td>GLK</td>\n",
       "      <td>WOL</td>\n",
       "      <td>5000000</td>\n",
       "      <td>15</td>\n",
       "      <td>17</td>\n",
       "      <td>8.5</td>\n",
       "      <td>1.700000e-06</td>\n",
       "      <td>3.400000e-06</td>\n",
       "      <td>...</td>\n",
       "      <td>21610</td>\n",
       "      <td>0</td>\n",
       "      <td>0</td>\n",
       "      <td>60</td>\n",
       "      <td>Fulham</td>\n",
       "      <td>Tottenham</td>\n",
       "      <td>Newcastle</td>\n",
       "      <td>Bournemouth</td>\n",
       "      <td>Southampton</td>\n",
       "      <td>10.5000</td>\n",
       "    </tr>\n",
       "    <tr>\n",
       "      <th>230</th>\n",
       "      <td>Dean</td>\n",
       "      <td>Henderson</td>\n",
       "      <td>GLK</td>\n",
       "      <td>NFO</td>\n",
       "      <td>4500000</td>\n",
       "      <td>14</td>\n",
       "      <td>17</td>\n",
       "      <td>8.5</td>\n",
       "      <td>1.888889e-06</td>\n",
       "      <td>3.777778e-06</td>\n",
       "      <td>...</td>\n",
       "      <td>42321</td>\n",
       "      <td>0</td>\n",
       "      <td>0</td>\n",
       "      <td>69</td>\n",
       "      <td>West Ham</td>\n",
       "      <td>Everton</td>\n",
       "      <td>Tottenham</td>\n",
       "      <td>Man City</td>\n",
       "      <td>Bournemouth</td>\n",
       "      <td>12.1000</td>\n",
       "    </tr>\n",
       "    <tr>\n",
       "      <th>530</th>\n",
       "      <td>Ivan</td>\n",
       "      <td>Toney</td>\n",
       "      <td>FWD</td>\n",
       "      <td>BRE</td>\n",
       "      <td>7000000</td>\n",
       "      <td>9</td>\n",
       "      <td>17</td>\n",
       "      <td>8.5</td>\n",
       "      <td>1.214286e-06</td>\n",
       "      <td>2.428571e-06</td>\n",
       "      <td>...</td>\n",
       "      <td>110356</td>\n",
       "      <td>0</td>\n",
       "      <td>0</td>\n",
       "      <td>57</td>\n",
       "      <td>Man Utd</td>\n",
       "      <td>Fulham</td>\n",
       "      <td>Everton</td>\n",
       "      <td>Crystal Palace</td>\n",
       "      <td>Leeds United F.C.</td>\n",
       "      <td>12.1000</td>\n",
       "    </tr>\n",
       "    <tr>\n",
       "      <th>414</th>\n",
       "      <td>Nick</td>\n",
       "      <td>Pope</td>\n",
       "      <td>GLK</td>\n",
       "      <td>NEW</td>\n",
       "      <td>5000000</td>\n",
       "      <td>10</td>\n",
       "      <td>16</td>\n",
       "      <td>8.0</td>\n",
       "      <td>1.600000e-06</td>\n",
       "      <td>3.200000e-06</td>\n",
       "      <td>...</td>\n",
       "      <td>27943</td>\n",
       "      <td>0</td>\n",
       "      <td>0</td>\n",
       "      <td>52</td>\n",
       "      <td>Brighton</td>\n",
       "      <td>Man City</td>\n",
       "      <td>Wolverhampton</td>\n",
       "      <td>Liverpool</td>\n",
       "      <td>Crystal Palace</td>\n",
       "      <td>9.1000</td>\n",
       "    </tr>\n",
       "    <tr>\n",
       "      <th>330</th>\n",
       "      <td>NaN</td>\n",
       "      <td>Martinelli</td>\n",
       "      <td>MID</td>\n",
       "      <td>ARS</td>\n",
       "      <td>6200000</td>\n",
       "      <td>8</td>\n",
       "      <td>16</td>\n",
       "      <td>8.0</td>\n",
       "      <td>1.290323e-06</td>\n",
       "      <td>2.580645e-06</td>\n",
       "      <td>...</td>\n",
       "      <td>492892</td>\n",
       "      <td>1</td>\n",
       "      <td>0</td>\n",
       "      <td>53</td>\n",
       "      <td>Leicester</td>\n",
       "      <td>Bournemouth</td>\n",
       "      <td>Fulham</td>\n",
       "      <td>Aston Villa</td>\n",
       "      <td>Man Utd</td>\n",
       "      <td>8.7000</td>\n",
       "    </tr>\n",
       "    <tr>\n",
       "      <th>291</th>\n",
       "      <td>Dejan</td>\n",
       "      <td>Kulusevski</td>\n",
       "      <td>MID</td>\n",
       "      <td>TOT</td>\n",
       "      <td>8100000</td>\n",
       "      <td>2</td>\n",
       "      <td>15</td>\n",
       "      <td>7.5</td>\n",
       "      <td>9.259259e-07</td>\n",
       "      <td>1.851852e-06</td>\n",
       "      <td>...</td>\n",
       "      <td>138010</td>\n",
       "      <td>0</td>\n",
       "      <td>0</td>\n",
       "      <td>50</td>\n",
       "      <td>Chelsea</td>\n",
       "      <td>Wolverhampton</td>\n",
       "      <td>Nottingham Forest FC</td>\n",
       "      <td>West Ham</td>\n",
       "      <td>Fulham</td>\n",
       "      <td>5.9000</td>\n",
       "    </tr>\n",
       "    <tr>\n",
       "      <th>255</th>\n",
       "      <td>Mathias</td>\n",
       "      <td>Jensen</td>\n",
       "      <td>MID</td>\n",
       "      <td>BRE</td>\n",
       "      <td>5000000</td>\n",
       "      <td>14</td>\n",
       "      <td>15</td>\n",
       "      <td>7.5</td>\n",
       "      <td>1.500000e-06</td>\n",
       "      <td>3.000000e-06</td>\n",
       "      <td>...</td>\n",
       "      <td>70987</td>\n",
       "      <td>0</td>\n",
       "      <td>0</td>\n",
       "      <td>48</td>\n",
       "      <td>Man Utd</td>\n",
       "      <td>Fulham</td>\n",
       "      <td>Everton</td>\n",
       "      <td>Crystal Palace</td>\n",
       "      <td>Leeds United F.C.</td>\n",
       "      <td>9.5000</td>\n",
       "    </tr>\n",
       "    <tr>\n",
       "      <th>349</th>\n",
       "      <td>Ben</td>\n",
       "      <td>Mee</td>\n",
       "      <td>DEF</td>\n",
       "      <td>BRE</td>\n",
       "      <td>4500000</td>\n",
       "      <td>14</td>\n",
       "      <td>14</td>\n",
       "      <td>7.0</td>\n",
       "      <td>1.555556e-06</td>\n",
       "      <td>3.111111e-06</td>\n",
       "      <td>...</td>\n",
       "      <td>77912</td>\n",
       "      <td>0</td>\n",
       "      <td>0</td>\n",
       "      <td>41</td>\n",
       "      <td>Man Utd</td>\n",
       "      <td>Fulham</td>\n",
       "      <td>Everton</td>\n",
       "      <td>Crystal Palace</td>\n",
       "      <td>Leeds United F.C.</td>\n",
       "      <td>9.9000</td>\n",
       "    </tr>\n",
       "    <tr>\n",
       "      <th>537</th>\n",
       "      <td>Kieran</td>\n",
       "      <td>Trippier</td>\n",
       "      <td>DEF</td>\n",
       "      <td>NEW</td>\n",
       "      <td>5000000</td>\n",
       "      <td>7</td>\n",
       "      <td>14</td>\n",
       "      <td>7.0</td>\n",
       "      <td>1.400000e-06</td>\n",
       "      <td>2.800000e-06</td>\n",
       "      <td>...</td>\n",
       "      <td>90728</td>\n",
       "      <td>0</td>\n",
       "      <td>0</td>\n",
       "      <td>60</td>\n",
       "      <td>Brighton</td>\n",
       "      <td>Man City</td>\n",
       "      <td>Wolverhampton</td>\n",
       "      <td>Liverpool</td>\n",
       "      <td>Crystal Palace</td>\n",
       "      <td>7.5000</td>\n",
       "    </tr>\n",
       "    <tr>\n",
       "      <th>129</th>\n",
       "      <td>Josh</td>\n",
       "      <td>Dasilva</td>\n",
       "      <td>MID</td>\n",
       "      <td>BRE</td>\n",
       "      <td>4600000</td>\n",
       "      <td>8</td>\n",
       "      <td>14</td>\n",
       "      <td>14.0</td>\n",
       "      <td>3.043478e-06</td>\n",
       "      <td>3.043478e-06</td>\n",
       "      <td>...</td>\n",
       "      <td>294968</td>\n",
       "      <td>1</td>\n",
       "      <td>0</td>\n",
       "      <td>48</td>\n",
       "      <td>Man Utd</td>\n",
       "      <td>Fulham</td>\n",
       "      <td>Everton</td>\n",
       "      <td>Crystal Palace</td>\n",
       "      <td>Leeds United F.C.</td>\n",
       "      <td>12.7360</td>\n",
       "    </tr>\n",
       "    <tr>\n",
       "      <th>252</th>\n",
       "      <td>Reece</td>\n",
       "      <td>James</td>\n",
       "      <td>DEF</td>\n",
       "      <td>CHE</td>\n",
       "      <td>6000000</td>\n",
       "      <td>7</td>\n",
       "      <td>14</td>\n",
       "      <td>7.0</td>\n",
       "      <td>1.166667e-06</td>\n",
       "      <td>2.333333e-06</td>\n",
       "      <td>...</td>\n",
       "      <td>111677</td>\n",
       "      <td>0</td>\n",
       "      <td>0</td>\n",
       "      <td>62</td>\n",
       "      <td>Tottenham</td>\n",
       "      <td>Leeds United F.C.</td>\n",
       "      <td>Leicester</td>\n",
       "      <td>Southampton</td>\n",
       "      <td>West Ham</td>\n",
       "      <td>8.5000</td>\n",
       "    </tr>\n",
       "    <tr>\n",
       "      <th>576</th>\n",
       "      <td>Granit</td>\n",
       "      <td>Xhaka</td>\n",
       "      <td>MID</td>\n",
       "      <td>ARS</td>\n",
       "      <td>5000000</td>\n",
       "      <td>12</td>\n",
       "      <td>14</td>\n",
       "      <td>7.0</td>\n",
       "      <td>1.400000e-06</td>\n",
       "      <td>2.800000e-06</td>\n",
       "      <td>...</td>\n",
       "      <td>51066</td>\n",
       "      <td>0</td>\n",
       "      <td>0</td>\n",
       "      <td>47</td>\n",
       "      <td>Leicester</td>\n",
       "      <td>Bournemouth</td>\n",
       "      <td>Fulham</td>\n",
       "      <td>Aston Villa</td>\n",
       "      <td>Man Utd</td>\n",
       "      <td>7.1000</td>\n",
       "    </tr>\n",
       "    <tr>\n",
       "      <th>285</th>\n",
       "      <td>Kalidou</td>\n",
       "      <td>Koulibaly</td>\n",
       "      <td>DEF</td>\n",
       "      <td>CHE</td>\n",
       "      <td>5500000</td>\n",
       "      <td>7</td>\n",
       "      <td>13</td>\n",
       "      <td>6.5</td>\n",
       "      <td>1.181818e-06</td>\n",
       "      <td>2.363636e-06</td>\n",
       "      <td>...</td>\n",
       "      <td>71029</td>\n",
       "      <td>0</td>\n",
       "      <td>0</td>\n",
       "      <td>53</td>\n",
       "      <td>Tottenham</td>\n",
       "      <td>Leeds United F.C.</td>\n",
       "      <td>Leicester</td>\n",
       "      <td>Southampton</td>\n",
       "      <td>West Ham</td>\n",
       "      <td>7.7000</td>\n",
       "    </tr>\n",
       "    <tr>\n",
       "      <th>265</th>\n",
       "      <td>NaN</td>\n",
       "      <td>Jorginho</td>\n",
       "      <td>MID</td>\n",
       "      <td>CHE</td>\n",
       "      <td>6000000</td>\n",
       "      <td>2</td>\n",
       "      <td>13</td>\n",
       "      <td>6.5</td>\n",
       "      <td>1.083333e-06</td>\n",
       "      <td>2.166667e-06</td>\n",
       "      <td>...</td>\n",
       "      <td>41689</td>\n",
       "      <td>0</td>\n",
       "      <td>0</td>\n",
       "      <td>48</td>\n",
       "      <td>Tottenham</td>\n",
       "      <td>Leeds United F.C.</td>\n",
       "      <td>Leicester</td>\n",
       "      <td>Southampton</td>\n",
       "      <td>West Ham</td>\n",
       "      <td>5.8000</td>\n",
       "    </tr>\n",
       "    <tr>\n",
       "      <th>78</th>\n",
       "      <td>Dan</td>\n",
       "      <td>Burn</td>\n",
       "      <td>DEF</td>\n",
       "      <td>NEW</td>\n",
       "      <td>4500000</td>\n",
       "      <td>7</td>\n",
       "      <td>13</td>\n",
       "      <td>6.5</td>\n",
       "      <td>1.444444e-06</td>\n",
       "      <td>2.888889e-06</td>\n",
       "      <td>...</td>\n",
       "      <td>13835</td>\n",
       "      <td>0</td>\n",
       "      <td>0</td>\n",
       "      <td>51</td>\n",
       "      <td>Brighton</td>\n",
       "      <td>Man City</td>\n",
       "      <td>Wolverhampton</td>\n",
       "      <td>Liverpool</td>\n",
       "      <td>Crystal Palace</td>\n",
       "      <td>6.7000</td>\n",
       "    </tr>\n",
       "    <tr>\n",
       "      <th>581</th>\n",
       "      <td>Oleksandr</td>\n",
       "      <td>Zinchenko</td>\n",
       "      <td>DEF</td>\n",
       "      <td>ARS</td>\n",
       "      <td>5100000</td>\n",
       "      <td>1</td>\n",
       "      <td>13</td>\n",
       "      <td>6.5</td>\n",
       "      <td>1.274510e-06</td>\n",
       "      <td>2.549020e-06</td>\n",
       "      <td>...</td>\n",
       "      <td>134457</td>\n",
       "      <td>0</td>\n",
       "      <td>0</td>\n",
       "      <td>53</td>\n",
       "      <td>Leicester</td>\n",
       "      <td>Bournemouth</td>\n",
       "      <td>Fulham</td>\n",
       "      <td>Aston Villa</td>\n",
       "      <td>Man Utd</td>\n",
       "      <td>7.2000</td>\n",
       "    </tr>\n",
       "    <tr>\n",
       "      <th>11</th>\n",
       "      <td>Nathan</td>\n",
       "      <td>Ake</td>\n",
       "      <td>DEF</td>\n",
       "      <td>MCI</td>\n",
       "      <td>5000000</td>\n",
       "      <td>6</td>\n",
       "      <td>13</td>\n",
       "      <td>6.5</td>\n",
       "      <td>1.300000e-06</td>\n",
       "      <td>2.600000e-06</td>\n",
       "      <td>...</td>\n",
       "      <td>40188</td>\n",
       "      <td>0</td>\n",
       "      <td>0</td>\n",
       "      <td>51</td>\n",
       "      <td>Bournemouth</td>\n",
       "      <td>Newcastle</td>\n",
       "      <td>Crystal Palace</td>\n",
       "      <td>Nottingham Forest FC</td>\n",
       "      <td>Aston Villa</td>\n",
       "      <td>8.0000</td>\n",
       "    </tr>\n",
       "    <tr>\n",
       "      <th>221</th>\n",
       "      <td>Ilkay</td>\n",
       "      <td>Gundogan</td>\n",
       "      <td>MID</td>\n",
       "      <td>MCI</td>\n",
       "      <td>7500000</td>\n",
       "      <td>10</td>\n",
       "      <td>13</td>\n",
       "      <td>6.5</td>\n",
       "      <td>8.666667e-07</td>\n",
       "      <td>1.733333e-06</td>\n",
       "      <td>...</td>\n",
       "      <td>49761</td>\n",
       "      <td>0</td>\n",
       "      <td>0</td>\n",
       "      <td>47</td>\n",
       "      <td>Bournemouth</td>\n",
       "      <td>Newcastle</td>\n",
       "      <td>Crystal Palace</td>\n",
       "      <td>Nottingham Forest FC</td>\n",
       "      <td>Aston Villa</td>\n",
       "      <td>6.6000</td>\n",
       "    </tr>\n",
       "    <tr>\n",
       "      <th>164</th>\n",
       "      <td>NaN</td>\n",
       "      <td>Ederson</td>\n",
       "      <td>GLK</td>\n",
       "      <td>MCI</td>\n",
       "      <td>5500000</td>\n",
       "      <td>6</td>\n",
       "      <td>13</td>\n",
       "      <td>6.5</td>\n",
       "      <td>1.181818e-06</td>\n",
       "      <td>2.363636e-06</td>\n",
       "      <td>...</td>\n",
       "      <td>49872</td>\n",
       "      <td>0</td>\n",
       "      <td>0</td>\n",
       "      <td>47</td>\n",
       "      <td>Bournemouth</td>\n",
       "      <td>Newcastle</td>\n",
       "      <td>Crystal Palace</td>\n",
       "      <td>Nottingham Forest FC</td>\n",
       "      <td>Aston Villa</td>\n",
       "      <td>8.0000</td>\n",
       "    </tr>\n",
       "    <tr>\n",
       "      <th>413</th>\n",
       "      <td>NaN</td>\n",
       "      <td>Podence</td>\n",
       "      <td>MID</td>\n",
       "      <td>WOL</td>\n",
       "      <td>5500000</td>\n",
       "      <td>2</td>\n",
       "      <td>12</td>\n",
       "      <td>6.0</td>\n",
       "      <td>1.090909e-06</td>\n",
       "      <td>2.181818e-06</td>\n",
       "      <td>...</td>\n",
       "      <td>15758</td>\n",
       "      <td>0</td>\n",
       "      <td>0</td>\n",
       "      <td>26</td>\n",
       "      <td>Fulham</td>\n",
       "      <td>Tottenham</td>\n",
       "      <td>Newcastle</td>\n",
       "      <td>Bournemouth</td>\n",
       "      <td>Southampton</td>\n",
       "      <td>6.4000</td>\n",
       "    </tr>\n",
       "    <tr>\n",
       "      <th>186</th>\n",
       "      <td>Phil</td>\n",
       "      <td>Foden</td>\n",
       "      <td>MID</td>\n",
       "      <td>MCI</td>\n",
       "      <td>8000000</td>\n",
       "      <td>9</td>\n",
       "      <td>12</td>\n",
       "      <td>12.0</td>\n",
       "      <td>1.500000e-06</td>\n",
       "      <td>1.500000e-06</td>\n",
       "      <td>...</td>\n",
       "      <td>80560</td>\n",
       "      <td>0</td>\n",
       "      <td>0</td>\n",
       "      <td>49</td>\n",
       "      <td>Bournemouth</td>\n",
       "      <td>Newcastle</td>\n",
       "      <td>Crystal Palace</td>\n",
       "      <td>Nottingham Forest FC</td>\n",
       "      <td>Aston Villa</td>\n",
       "      <td>12.5600</td>\n",
       "    </tr>\n",
       "    <tr>\n",
       "      <th>461</th>\n",
       "      <td>Mohamed</td>\n",
       "      <td>Salah</td>\n",
       "      <td>MID</td>\n",
       "      <td>LIV</td>\n",
       "      <td>13000000</td>\n",
       "      <td>0</td>\n",
       "      <td>12</td>\n",
       "      <td>12.0</td>\n",
       "      <td>9.230769e-07</td>\n",
       "      <td>9.230769e-07</td>\n",
       "      <td>...</td>\n",
       "      <td>46341</td>\n",
       "      <td>0</td>\n",
       "      <td>0</td>\n",
       "      <td>34</td>\n",
       "      <td>Crystal Palace</td>\n",
       "      <td>Man Utd</td>\n",
       "      <td>Bournemouth</td>\n",
       "      <td>Newcastle</td>\n",
       "      <td>Everton</td>\n",
       "      <td>13.6000</td>\n",
       "    </tr>\n",
       "    <tr>\n",
       "      <th>147</th>\n",
       "      <td>NaN</td>\n",
       "      <td>Dias</td>\n",
       "      <td>DEF</td>\n",
       "      <td>MCI</td>\n",
       "      <td>6000000</td>\n",
       "      <td>6</td>\n",
       "      <td>12</td>\n",
       "      <td>6.0</td>\n",
       "      <td>1.000000e-06</td>\n",
       "      <td>2.000000e-06</td>\n",
       "      <td>...</td>\n",
       "      <td>26399</td>\n",
       "      <td>0</td>\n",
       "      <td>0</td>\n",
       "      <td>51</td>\n",
       "      <td>Bournemouth</td>\n",
       "      <td>Newcastle</td>\n",
       "      <td>Crystal Palace</td>\n",
       "      <td>Nottingham Forest FC</td>\n",
       "      <td>Aston Villa</td>\n",
       "      <td>7.1000</td>\n",
       "    </tr>\n",
       "    <tr>\n",
       "      <th>274</th>\n",
       "      <td>Lloyd</td>\n",
       "      <td>Kelly</td>\n",
       "      <td>DEF</td>\n",
       "      <td>BOU</td>\n",
       "      <td>4500000</td>\n",
       "      <td>0</td>\n",
       "      <td>12</td>\n",
       "      <td>6.0</td>\n",
       "      <td>1.333333e-06</td>\n",
       "      <td>2.666667e-06</td>\n",
       "      <td>...</td>\n",
       "      <td>8547</td>\n",
       "      <td>0</td>\n",
       "      <td>0</td>\n",
       "      <td>52</td>\n",
       "      <td>Man City</td>\n",
       "      <td>Arsenal</td>\n",
       "      <td>Liverpool</td>\n",
       "      <td>Wolverhampton</td>\n",
       "      <td>Nottingham Forest FC</td>\n",
       "      <td>4.0000</td>\n",
       "    </tr>\n",
       "    <tr>\n",
       "      <th>239</th>\n",
       "      <td>Pierre-Emile</td>\n",
       "      <td>H?jbjerg</td>\n",
       "      <td>MID</td>\n",
       "      <td>TOT</td>\n",
       "      <td>5500000</td>\n",
       "      <td>10</td>\n",
       "      <td>12</td>\n",
       "      <td>6.0</td>\n",
       "      <td>1.090909e-06</td>\n",
       "      <td>2.181818e-06</td>\n",
       "      <td>...</td>\n",
       "      <td>12773</td>\n",
       "      <td>0</td>\n",
       "      <td>0</td>\n",
       "      <td>56</td>\n",
       "      <td>Chelsea</td>\n",
       "      <td>Wolverhampton</td>\n",
       "      <td>Nottingham Forest FC</td>\n",
       "      <td>West Ham</td>\n",
       "      <td>Fulham</td>\n",
       "      <td>4.1000</td>\n",
       "    </tr>\n",
       "    <tr>\n",
       "      <th>318</th>\n",
       "      <td>James</td>\n",
       "      <td>Maddison</td>\n",
       "      <td>MID</td>\n",
       "      <td>LEI</td>\n",
       "      <td>8000000</td>\n",
       "      <td>7</td>\n",
       "      <td>12</td>\n",
       "      <td>6.0</td>\n",
       "      <td>7.500000e-07</td>\n",
       "      <td>1.500000e-06</td>\n",
       "      <td>...</td>\n",
       "      <td>36721</td>\n",
       "      <td>0</td>\n",
       "      <td>0</td>\n",
       "      <td>46</td>\n",
       "      <td>Arsenal</td>\n",
       "      <td>Southampton</td>\n",
       "      <td>Chelsea</td>\n",
       "      <td>Man Utd</td>\n",
       "      <td>Brighton</td>\n",
       "      <td>3.4000</td>\n",
       "    </tr>\n",
       "    <tr>\n",
       "      <th>362</th>\n",
       "      <td>Aleksandar</td>\n",
       "      <td>Mitrovic</td>\n",
       "      <td>FWD</td>\n",
       "      <td>FUL</td>\n",
       "      <td>6600000</td>\n",
       "      <td>-1</td>\n",
       "      <td>12</td>\n",
       "      <td>6.0</td>\n",
       "      <td>9.090909e-07</td>\n",
       "      <td>1.818182e-06</td>\n",
       "      <td>...</td>\n",
       "      <td>63631</td>\n",
       "      <td>0</td>\n",
       "      <td>0</td>\n",
       "      <td>52</td>\n",
       "      <td>Wolverhampton</td>\n",
       "      <td>Brentford F.C.</td>\n",
       "      <td>Arsenal</td>\n",
       "      <td>Brighton</td>\n",
       "      <td>Tottenham</td>\n",
       "      <td>4.1000</td>\n",
       "    </tr>\n",
       "    <tr>\n",
       "      <th>145</th>\n",
       "      <td>Kiernan</td>\n",
       "      <td>Dewsbury-Hall</td>\n",
       "      <td>MID</td>\n",
       "      <td>LEI</td>\n",
       "      <td>5000000</td>\n",
       "      <td>2</td>\n",
       "      <td>12</td>\n",
       "      <td>6.0</td>\n",
       "      <td>1.200000e-06</td>\n",
       "      <td>2.400000e-06</td>\n",
       "      <td>...</td>\n",
       "      <td>37649</td>\n",
       "      <td>0</td>\n",
       "      <td>0</td>\n",
       "      <td>40</td>\n",
       "      <td>Arsenal</td>\n",
       "      <td>Southampton</td>\n",
       "      <td>Chelsea</td>\n",
       "      <td>Man Utd</td>\n",
       "      <td>Brighton</td>\n",
       "      <td>3.4000</td>\n",
       "    </tr>\n",
       "    <tr>\n",
       "      <th>554</th>\n",
       "      <td>Kyle</td>\n",
       "      <td>Walker</td>\n",
       "      <td>DEF</td>\n",
       "      <td>MCI</td>\n",
       "      <td>5100000</td>\n",
       "      <td>6</td>\n",
       "      <td>12</td>\n",
       "      <td>6.0</td>\n",
       "      <td>1.176471e-06</td>\n",
       "      <td>2.352941e-06</td>\n",
       "      <td>...</td>\n",
       "      <td>103434</td>\n",
       "      <td>1</td>\n",
       "      <td>0</td>\n",
       "      <td>49</td>\n",
       "      <td>Bournemouth</td>\n",
       "      <td>Newcastle</td>\n",
       "      <td>Crystal Palace</td>\n",
       "      <td>Nottingham Forest FC</td>\n",
       "      <td>Aston Villa</td>\n",
       "      <td>7.1000</td>\n",
       "    </tr>\n",
       "    <tr>\n",
       "      <th>561</th>\n",
       "      <td>Ollie</td>\n",
       "      <td>Watkins</td>\n",
       "      <td>FWD</td>\n",
       "      <td>AVL</td>\n",
       "      <td>7400000</td>\n",
       "      <td>11</td>\n",
       "      <td>12</td>\n",
       "      <td>6.0</td>\n",
       "      <td>8.108108e-07</td>\n",
       "      <td>1.621622e-06</td>\n",
       "      <td>...</td>\n",
       "      <td>22377</td>\n",
       "      <td>0</td>\n",
       "      <td>0</td>\n",
       "      <td>30</td>\n",
       "      <td>Everton</td>\n",
       "      <td>Crystal Palace</td>\n",
       "      <td>West Ham</td>\n",
       "      <td>Arsenal</td>\n",
       "      <td>Man City</td>\n",
       "      <td>7.9000</td>\n",
       "    </tr>\n",
       "    <tr>\n",
       "      <th>559</th>\n",
       "      <td>James</td>\n",
       "      <td>Ward-Prowse</td>\n",
       "      <td>MID</td>\n",
       "      <td>SOU</td>\n",
       "      <td>6500000</td>\n",
       "      <td>2</td>\n",
       "      <td>11</td>\n",
       "      <td>5.5</td>\n",
       "      <td>8.461538e-07</td>\n",
       "      <td>1.692308e-06</td>\n",
       "      <td>...</td>\n",
       "      <td>38123</td>\n",
       "      <td>0</td>\n",
       "      <td>0</td>\n",
       "      <td>41</td>\n",
       "      <td>Leeds United F.C.</td>\n",
       "      <td>Leicester</td>\n",
       "      <td>Man Utd</td>\n",
       "      <td>Chelsea</td>\n",
       "      <td>Wolverhampton</td>\n",
       "      <td>3.9000</td>\n",
       "    </tr>\n",
       "    <tr>\n",
       "      <th>172</th>\n",
       "      <td>NaN</td>\n",
       "      <td>Emerson Royal</td>\n",
       "      <td>DEF</td>\n",
       "      <td>TOT</td>\n",
       "      <td>5000000</td>\n",
       "      <td>1</td>\n",
       "      <td>10</td>\n",
       "      <td>5.0</td>\n",
       "      <td>1.000000e-06</td>\n",
       "      <td>2.000000e-06</td>\n",
       "      <td>...</td>\n",
       "      <td>32749</td>\n",
       "      <td>0</td>\n",
       "      <td>0</td>\n",
       "      <td>40</td>\n",
       "      <td>Chelsea</td>\n",
       "      <td>Wolverhampton</td>\n",
       "      <td>Nottingham Forest FC</td>\n",
       "      <td>West Ham</td>\n",
       "      <td>Fulham</td>\n",
       "      <td>6.2000</td>\n",
       "    </tr>\n",
       "    <tr>\n",
       "      <th>226</th>\n",
       "      <td>Jack</td>\n",
       "      <td>Harrison</td>\n",
       "      <td>MID</td>\n",
       "      <td>LEE</td>\n",
       "      <td>6000000</td>\n",
       "      <td>4</td>\n",
       "      <td>10</td>\n",
       "      <td>5.0</td>\n",
       "      <td>8.333333e-07</td>\n",
       "      <td>1.666667e-06</td>\n",
       "      <td>...</td>\n",
       "      <td>10289</td>\n",
       "      <td>0</td>\n",
       "      <td>0</td>\n",
       "      <td>43</td>\n",
       "      <td>Southampton</td>\n",
       "      <td>Chelsea</td>\n",
       "      <td>Brighton</td>\n",
       "      <td>Everton</td>\n",
       "      <td>Brentford F.C.</td>\n",
       "      <td>2.9000</td>\n",
       "    </tr>\n",
       "    <tr>\n",
       "      <th>301</th>\n",
       "      <td>NaN</td>\n",
       "      <td>Lerma</td>\n",
       "      <td>MID</td>\n",
       "      <td>BOU</td>\n",
       "      <td>5000000</td>\n",
       "      <td>0</td>\n",
       "      <td>10</td>\n",
       "      <td>5.0</td>\n",
       "      <td>1.000000e-06</td>\n",
       "      <td>2.000000e-06</td>\n",
       "      <td>...</td>\n",
       "      <td>7061</td>\n",
       "      <td>0</td>\n",
       "      <td>0</td>\n",
       "      <td>38</td>\n",
       "      <td>Man City</td>\n",
       "      <td>Arsenal</td>\n",
       "      <td>Liverpool</td>\n",
       "      <td>Wolverhampton</td>\n",
       "      <td>Nottingham Forest FC</td>\n",
       "      <td>2.5000</td>\n",
       "    </tr>\n",
       "    <tr>\n",
       "      <th>268</th>\n",
       "      <td>Harry</td>\n",
       "      <td>Kane</td>\n",
       "      <td>FWD</td>\n",
       "      <td>TOT</td>\n",
       "      <td>11400000</td>\n",
       "      <td>8</td>\n",
       "      <td>10</td>\n",
       "      <td>5.0</td>\n",
       "      <td>4.385965e-07</td>\n",
       "      <td>8.771930e-07</td>\n",
       "      <td>...</td>\n",
       "      <td>20385</td>\n",
       "      <td>0</td>\n",
       "      <td>0</td>\n",
       "      <td>36</td>\n",
       "      <td>Chelsea</td>\n",
       "      <td>Wolverhampton</td>\n",
       "      <td>Nottingham Forest FC</td>\n",
       "      <td>West Ham</td>\n",
       "      <td>Fulham</td>\n",
       "      <td>2.5000</td>\n",
       "    </tr>\n",
       "    <tr>\n",
       "      <th>234</th>\n",
       "      <td>Rico</td>\n",
       "      <td>Henry</td>\n",
       "      <td>DEF</td>\n",
       "      <td>BRE</td>\n",
       "      <td>4500000</td>\n",
       "      <td>6</td>\n",
       "      <td>10</td>\n",
       "      <td>5.0</td>\n",
       "      <td>1.111111e-06</td>\n",
       "      <td>2.222222e-06</td>\n",
       "      <td>...</td>\n",
       "      <td>20701</td>\n",
       "      <td>0</td>\n",
       "      <td>0</td>\n",
       "      <td>41</td>\n",
       "      <td>Man Utd</td>\n",
       "      <td>Fulham</td>\n",
       "      <td>Everton</td>\n",
       "      <td>Crystal Palace</td>\n",
       "      <td>Leeds United F.C.</td>\n",
       "      <td>7.1000</td>\n",
       "    </tr>\n",
       "    <tr>\n",
       "      <th>549</th>\n",
       "      <td>Joel</td>\n",
       "      <td>Veltman</td>\n",
       "      <td>DEF</td>\n",
       "      <td>BHA</td>\n",
       "      <td>4500000</td>\n",
       "      <td>8</td>\n",
       "      <td>10</td>\n",
       "      <td>5.0</td>\n",
       "      <td>1.111111e-06</td>\n",
       "      <td>2.222222e-06</td>\n",
       "      <td>...</td>\n",
       "      <td>8852</td>\n",
       "      <td>0</td>\n",
       "      <td>0</td>\n",
       "      <td>45</td>\n",
       "      <td>Newcastle</td>\n",
       "      <td>West Ham</td>\n",
       "      <td>Leeds United F.C.</td>\n",
       "      <td>Fulham</td>\n",
       "      <td>Leicester</td>\n",
       "      <td>5.5000</td>\n",
       "    </tr>\n",
       "    <tr>\n",
       "      <th>467</th>\n",
       "      <td>Robert</td>\n",
       "      <td>Sanchez</td>\n",
       "      <td>GLK</td>\n",
       "      <td>BHA</td>\n",
       "      <td>4500000</td>\n",
       "      <td>6</td>\n",
       "      <td>10</td>\n",
       "      <td>5.0</td>\n",
       "      <td>1.111111e-06</td>\n",
       "      <td>2.222222e-06</td>\n",
       "      <td>...</td>\n",
       "      <td>49723</td>\n",
       "      <td>0</td>\n",
       "      <td>0</td>\n",
       "      <td>41</td>\n",
       "      <td>Newcastle</td>\n",
       "      <td>West Ham</td>\n",
       "      <td>Leeds United F.C.</td>\n",
       "      <td>Fulham</td>\n",
       "      <td>Leicester</td>\n",
       "      <td>5.5000</td>\n",
       "    </tr>\n",
       "    <tr>\n",
       "      <th>162</th>\n",
       "      <td>Lewis</td>\n",
       "      <td>Dunk</td>\n",
       "      <td>DEF</td>\n",
       "      <td>BHA</td>\n",
       "      <td>4500000</td>\n",
       "      <td>7</td>\n",
       "      <td>9</td>\n",
       "      <td>4.5</td>\n",
       "      <td>1.000000e-06</td>\n",
       "      <td>2.000000e-06</td>\n",
       "      <td>...</td>\n",
       "      <td>20639</td>\n",
       "      <td>0</td>\n",
       "      <td>0</td>\n",
       "      <td>37</td>\n",
       "      <td>Newcastle</td>\n",
       "      <td>West Ham</td>\n",
       "      <td>Leeds United F.C.</td>\n",
       "      <td>Fulham</td>\n",
       "      <td>Leicester</td>\n",
       "      <td>4.7000</td>\n",
       "    </tr>\n",
       "    <tr>\n",
       "      <th>100</th>\n",
       "      <td>Ben</td>\n",
       "      <td>Chilwell</td>\n",
       "      <td>DEF</td>\n",
       "      <td>CHE</td>\n",
       "      <td>6000000</td>\n",
       "      <td>0</td>\n",
       "      <td>9</td>\n",
       "      <td>9.0</td>\n",
       "      <td>1.500000e-06</td>\n",
       "      <td>1.500000e-06</td>\n",
       "      <td>...</td>\n",
       "      <td>13474</td>\n",
       "      <td>0</td>\n",
       "      <td>0</td>\n",
       "      <td>27</td>\n",
       "      <td>Tottenham</td>\n",
       "      <td>Leeds United F.C.</td>\n",
       "      <td>Leicester</td>\n",
       "      <td>Southampton</td>\n",
       "      <td>West Ham</td>\n",
       "      <td>12.0000</td>\n",
       "    </tr>\n",
       "    <tr>\n",
       "      <th>128</th>\n",
       "      <td>NaN</td>\n",
       "      <td>Darwin</td>\n",
       "      <td>FWD</td>\n",
       "      <td>LIV</td>\n",
       "      <td>9100000</td>\n",
       "      <td>0</td>\n",
       "      <td>9</td>\n",
       "      <td>9.0</td>\n",
       "      <td>9.890110e-07</td>\n",
       "      <td>9.890110e-07</td>\n",
       "      <td>...</td>\n",
       "      <td>66481</td>\n",
       "      <td>0</td>\n",
       "      <td>0</td>\n",
       "      <td>31</td>\n",
       "      <td>Crystal Palace</td>\n",
       "      <td>Man Utd</td>\n",
       "      <td>Bournemouth</td>\n",
       "      <td>Newcastle</td>\n",
       "      <td>Everton</td>\n",
       "      <td>12.8000</td>\n",
       "    </tr>\n",
       "    <tr>\n",
       "      <th>37</th>\n",
       "      <td>Taiwo</td>\n",
       "      <td>Awoniyi</td>\n",
       "      <td>FWD</td>\n",
       "      <td>NFO</td>\n",
       "      <td>5900000</td>\n",
       "      <td>8</td>\n",
       "      <td>9</td>\n",
       "      <td>4.5</td>\n",
       "      <td>7.627119e-07</td>\n",
       "      <td>1.525424e-06</td>\n",
       "      <td>...</td>\n",
       "      <td>11111</td>\n",
       "      <td>0</td>\n",
       "      <td>0</td>\n",
       "      <td>32</td>\n",
       "      <td>West Ham</td>\n",
       "      <td>Everton</td>\n",
       "      <td>Tottenham</td>\n",
       "      <td>Man City</td>\n",
       "      <td>Bournemouth</td>\n",
       "      <td>5.6000</td>\n",
       "    </tr>\n",
       "    <tr>\n",
       "      <th>149</th>\n",
       "      <td>Eric</td>\n",
       "      <td>Dier</td>\n",
       "      <td>DEF</td>\n",
       "      <td>TOT</td>\n",
       "      <td>5000000</td>\n",
       "      <td>1</td>\n",
       "      <td>9</td>\n",
       "      <td>4.5</td>\n",
       "      <td>9.000000e-07</td>\n",
       "      <td>1.800000e-06</td>\n",
       "      <td>...</td>\n",
       "      <td>20836</td>\n",
       "      <td>0</td>\n",
       "      <td>0</td>\n",
       "      <td>41</td>\n",
       "      <td>Chelsea</td>\n",
       "      <td>Wolverhampton</td>\n",
       "      <td>Nottingham Forest FC</td>\n",
       "      <td>West Ham</td>\n",
       "      <td>Fulham</td>\n",
       "      <td>5.4000</td>\n",
       "    </tr>\n",
       "  </tbody>\n",
       "</table>\n",
       "<p>50 rows × 50 columns</p>\n",
       "</div>"
      ],
      "text/plain": [
       "        FirstName        Surname PositionsList Team      Cost  \\\n",
       "448           NaN        Rodrigo           MID  LEE   6100000   \n",
       "256           NaN          Jesus           FWD  ARS   8000000   \n",
       "135         Kevin      De Bruyne           MID  MCI  12000000   \n",
       "476        Fabian          Schar           DEF  NEW   4600000   \n",
       "216        Pascal           Gro?           MID  BHA   5600000   \n",
       "223        Erling        Haaland           FWD  MCI  11700000   \n",
       "87           Joao        Cancelo           DEF  MCI   7000000   \n",
       "458           NaN             Sa           GLK  WOL   5000000   \n",
       "230          Dean      Henderson           GLK  NFO   4500000   \n",
       "530          Ivan          Toney           FWD  BRE   7000000   \n",
       "414          Nick           Pope           GLK  NEW   5000000   \n",
       "330           NaN     Martinelli           MID  ARS   6200000   \n",
       "291         Dejan     Kulusevski           MID  TOT   8100000   \n",
       "255       Mathias         Jensen           MID  BRE   5000000   \n",
       "349           Ben            Mee           DEF  BRE   4500000   \n",
       "537        Kieran       Trippier           DEF  NEW   5000000   \n",
       "129          Josh        Dasilva           MID  BRE   4600000   \n",
       "252         Reece          James           DEF  CHE   6000000   \n",
       "576        Granit          Xhaka           MID  ARS   5000000   \n",
       "285       Kalidou      Koulibaly           DEF  CHE   5500000   \n",
       "265           NaN       Jorginho           MID  CHE   6000000   \n",
       "78            Dan           Burn           DEF  NEW   4500000   \n",
       "581     Oleksandr      Zinchenko           DEF  ARS   5100000   \n",
       "11         Nathan            Ake           DEF  MCI   5000000   \n",
       "221         Ilkay       Gundogan           MID  MCI   7500000   \n",
       "164           NaN        Ederson           GLK  MCI   5500000   \n",
       "413           NaN        Podence           MID  WOL   5500000   \n",
       "186          Phil          Foden           MID  MCI   8000000   \n",
       "461       Mohamed          Salah           MID  LIV  13000000   \n",
       "147           NaN           Dias           DEF  MCI   6000000   \n",
       "274         Lloyd          Kelly           DEF  BOU   4500000   \n",
       "239  Pierre-Emile       H?jbjerg           MID  TOT   5500000   \n",
       "318         James       Maddison           MID  LEI   8000000   \n",
       "362    Aleksandar       Mitrovic           FWD  FUL   6600000   \n",
       "145       Kiernan  Dewsbury-Hall           MID  LEI   5000000   \n",
       "554          Kyle         Walker           DEF  MCI   5100000   \n",
       "561         Ollie        Watkins           FWD  AVL   7400000   \n",
       "559         James    Ward-Prowse           MID  SOU   6500000   \n",
       "172           NaN  Emerson Royal           DEF  TOT   5000000   \n",
       "226          Jack       Harrison           MID  LEE   6000000   \n",
       "301           NaN          Lerma           MID  BOU   5000000   \n",
       "268         Harry           Kane           FWD  TOT  11400000   \n",
       "234          Rico          Henry           DEF  BRE   4500000   \n",
       "549          Joel        Veltman           DEF  BHA   4500000   \n",
       "467        Robert        Sanchez           GLK  BHA   4500000   \n",
       "162         Lewis           Dunk           DEF  BHA   4500000   \n",
       "100           Ben       Chilwell           DEF  CHE   6000000   \n",
       "128           NaN         Darwin           FWD  LIV   9100000   \n",
       "37          Taiwo        Awoniyi           FWD  NFO   5900000   \n",
       "149          Eric           Dier           DEF  TOT   5000000   \n",
       "\n",
       "     PointsLastRound  TotalPoints  AveragePoints  AveragePointsPerDollar  \\\n",
       "448               15           22           22.0            3.606557e-06   \n",
       "256               19           21           10.5            1.312500e-06   \n",
       "135               14           20           10.0            8.333333e-07   \n",
       "476                5           20           10.0            2.173913e-06   \n",
       "216                3           18            9.0            1.607143e-06   \n",
       "223                5           18            9.0            7.692308e-07   \n",
       "87                11           18            9.0            1.285714e-06   \n",
       "458               15           17            8.5            1.700000e-06   \n",
       "230               14           17            8.5            1.888889e-06   \n",
       "530                9           17            8.5            1.214286e-06   \n",
       "414               10           16            8.0            1.600000e-06   \n",
       "330                8           16            8.0            1.290323e-06   \n",
       "291                2           15            7.5            9.259259e-07   \n",
       "255               14           15            7.5            1.500000e-06   \n",
       "349               14           14            7.0            1.555556e-06   \n",
       "537                7           14            7.0            1.400000e-06   \n",
       "129                8           14           14.0            3.043478e-06   \n",
       "252                7           14            7.0            1.166667e-06   \n",
       "576               12           14            7.0            1.400000e-06   \n",
       "285                7           13            6.5            1.181818e-06   \n",
       "265                2           13            6.5            1.083333e-06   \n",
       "78                 7           13            6.5            1.444444e-06   \n",
       "581                1           13            6.5            1.274510e-06   \n",
       "11                 6           13            6.5            1.300000e-06   \n",
       "221               10           13            6.5            8.666667e-07   \n",
       "164                6           13            6.5            1.181818e-06   \n",
       "413                2           12            6.0            1.090909e-06   \n",
       "186                9           12           12.0            1.500000e-06   \n",
       "461                0           12           12.0            9.230769e-07   \n",
       "147                6           12            6.0            1.000000e-06   \n",
       "274                0           12            6.0            1.333333e-06   \n",
       "239               10           12            6.0            1.090909e-06   \n",
       "318                7           12            6.0            7.500000e-07   \n",
       "362               -1           12            6.0            9.090909e-07   \n",
       "145                2           12            6.0            1.200000e-06   \n",
       "554                6           12            6.0            1.176471e-06   \n",
       "561               11           12            6.0            8.108108e-07   \n",
       "559                2           11            5.5            8.461538e-07   \n",
       "172                1           10            5.0            1.000000e-06   \n",
       "226                4           10            5.0            8.333333e-07   \n",
       "301                0           10            5.0            1.000000e-06   \n",
       "268                8           10            5.0            4.385965e-07   \n",
       "234                6           10            5.0            1.111111e-06   \n",
       "549                8           10            5.0            1.111111e-06   \n",
       "467                6           10            5.0            1.111111e-06   \n",
       "162                7            9            4.5            1.000000e-06   \n",
       "100                0            9            9.0            1.500000e-06   \n",
       "128                0            9            9.0            9.890110e-07   \n",
       "37                 8            9            4.5            7.627119e-07   \n",
       "149                1            9            4.5            9.000000e-07   \n",
       "\n",
       "     TotalPointsPerDollar  ...  TransfersInRound  PriceRiseRound  RedCards  \\\n",
       "448          3.606557e-06  ...            382402               1         0   \n",
       "256          2.625000e-06  ...            263271               0         0   \n",
       "135          1.666667e-06  ...            136609               0         0   \n",
       "476          4.347826e-06  ...             99149               0         0   \n",
       "216          3.214286e-06  ...             91420               0         0   \n",
       "223          1.538462e-06  ...             93981               1         0   \n",
       "87           2.571429e-06  ...             97467               0         0   \n",
       "458          3.400000e-06  ...             21610               0         0   \n",
       "230          3.777778e-06  ...             42321               0         0   \n",
       "530          2.428571e-06  ...            110356               0         0   \n",
       "414          3.200000e-06  ...             27943               0         0   \n",
       "330          2.580645e-06  ...            492892               1         0   \n",
       "291          1.851852e-06  ...            138010               0         0   \n",
       "255          3.000000e-06  ...             70987               0         0   \n",
       "349          3.111111e-06  ...             77912               0         0   \n",
       "537          2.800000e-06  ...             90728               0         0   \n",
       "129          3.043478e-06  ...            294968               1         0   \n",
       "252          2.333333e-06  ...            111677               0         0   \n",
       "576          2.800000e-06  ...             51066               0         0   \n",
       "285          2.363636e-06  ...             71029               0         0   \n",
       "265          2.166667e-06  ...             41689               0         0   \n",
       "78           2.888889e-06  ...             13835               0         0   \n",
       "581          2.549020e-06  ...            134457               0         0   \n",
       "11           2.600000e-06  ...             40188               0         0   \n",
       "221          1.733333e-06  ...             49761               0         0   \n",
       "164          2.363636e-06  ...             49872               0         0   \n",
       "413          2.181818e-06  ...             15758               0         0   \n",
       "186          1.500000e-06  ...             80560               0         0   \n",
       "461          9.230769e-07  ...             46341               0         0   \n",
       "147          2.000000e-06  ...             26399               0         0   \n",
       "274          2.666667e-06  ...              8547               0         0   \n",
       "239          2.181818e-06  ...             12773               0         0   \n",
       "318          1.500000e-06  ...             36721               0         0   \n",
       "362          1.818182e-06  ...             63631               0         0   \n",
       "145          2.400000e-06  ...             37649               0         0   \n",
       "554          2.352941e-06  ...            103434               1         0   \n",
       "561          1.621622e-06  ...             22377               0         0   \n",
       "559          1.692308e-06  ...             38123               0         0   \n",
       "172          2.000000e-06  ...             32749               0         0   \n",
       "226          1.666667e-06  ...             10289               0         0   \n",
       "301          2.000000e-06  ...              7061               0         0   \n",
       "268          8.771930e-07  ...             20385               0         0   \n",
       "234          2.222222e-06  ...             20701               0         0   \n",
       "549          2.222222e-06  ...              8852               0         0   \n",
       "467          2.222222e-06  ...             49723               0         0   \n",
       "162          2.000000e-06  ...             20639               0         0   \n",
       "100          1.500000e-06  ...             13474               0         0   \n",
       "128          9.890110e-07  ...             66481               0         0   \n",
       "37           1.525424e-06  ...             11111               0         0   \n",
       "149          1.800000e-06  ...             20836               0         0   \n",
       "\n",
       "     BPS       NextFixture1       NextFixture2          NextFixture3  \\\n",
       "448   72        Southampton            Chelsea              Brighton   \n",
       "256   72          Leicester        Bournemouth                Fulham   \n",
       "135   70        Bournemouth          Newcastle        Crystal Palace   \n",
       "476   65           Brighton           Man City         Wolverhampton   \n",
       "216   51          Newcastle           West Ham     Leeds United F.C.   \n",
       "223   64        Bournemouth          Newcastle        Crystal Palace   \n",
       "87    63        Bournemouth          Newcastle        Crystal Palace   \n",
       "458   60             Fulham          Tottenham             Newcastle   \n",
       "230   69           West Ham            Everton             Tottenham   \n",
       "530   57            Man Utd             Fulham               Everton   \n",
       "414   52           Brighton           Man City         Wolverhampton   \n",
       "330   53          Leicester        Bournemouth                Fulham   \n",
       "291   50            Chelsea      Wolverhampton  Nottingham Forest FC   \n",
       "255   48            Man Utd             Fulham               Everton   \n",
       "349   41            Man Utd             Fulham               Everton   \n",
       "537   60           Brighton           Man City         Wolverhampton   \n",
       "129   48            Man Utd             Fulham               Everton   \n",
       "252   62          Tottenham  Leeds United F.C.             Leicester   \n",
       "576   47          Leicester        Bournemouth                Fulham   \n",
       "285   53          Tottenham  Leeds United F.C.             Leicester   \n",
       "265   48          Tottenham  Leeds United F.C.             Leicester   \n",
       "78    51           Brighton           Man City         Wolverhampton   \n",
       "581   53          Leicester        Bournemouth                Fulham   \n",
       "11    51        Bournemouth          Newcastle        Crystal Palace   \n",
       "221   47        Bournemouth          Newcastle        Crystal Palace   \n",
       "164   47        Bournemouth          Newcastle        Crystal Palace   \n",
       "413   26             Fulham          Tottenham             Newcastle   \n",
       "186   49        Bournemouth          Newcastle        Crystal Palace   \n",
       "461   34     Crystal Palace            Man Utd           Bournemouth   \n",
       "147   51        Bournemouth          Newcastle        Crystal Palace   \n",
       "274   52           Man City            Arsenal             Liverpool   \n",
       "239   56            Chelsea      Wolverhampton  Nottingham Forest FC   \n",
       "318   46            Arsenal        Southampton               Chelsea   \n",
       "362   52      Wolverhampton     Brentford F.C.               Arsenal   \n",
       "145   40            Arsenal        Southampton               Chelsea   \n",
       "554   49        Bournemouth          Newcastle        Crystal Palace   \n",
       "561   30            Everton     Crystal Palace              West Ham   \n",
       "559   41  Leeds United F.C.          Leicester               Man Utd   \n",
       "172   40            Chelsea      Wolverhampton  Nottingham Forest FC   \n",
       "226   43        Southampton            Chelsea              Brighton   \n",
       "301   38           Man City            Arsenal             Liverpool   \n",
       "268   36            Chelsea      Wolverhampton  Nottingham Forest FC   \n",
       "234   41            Man Utd             Fulham               Everton   \n",
       "549   45          Newcastle           West Ham     Leeds United F.C.   \n",
       "467   41          Newcastle           West Ham     Leeds United F.C.   \n",
       "162   37          Newcastle           West Ham     Leeds United F.C.   \n",
       "100   27          Tottenham  Leeds United F.C.             Leicester   \n",
       "128   31     Crystal Palace            Man Utd           Bournemouth   \n",
       "37    32           West Ham            Everton             Tottenham   \n",
       "149   41            Chelsea      Wolverhampton  Nottingham Forest FC   \n",
       "\n",
       "             NextFixture4          NextFixture5  GW2Forecast  \n",
       "448               Everton        Brentford F.C.      13.9776  \n",
       "256           Aston Villa               Man Utd      14.9000  \n",
       "135  Nottingham Forest FC           Aston Villa      12.2000  \n",
       "476             Liverpool        Crystal Palace      12.4000  \n",
       "216                Fulham             Leicester       9.9000  \n",
       "223  Nottingham Forest FC           Aston Villa      11.0000  \n",
       "87   Nottingham Forest FC           Aston Villa      12.4000  \n",
       "458           Bournemouth           Southampton      10.5000  \n",
       "230              Man City           Bournemouth      12.1000  \n",
       "530        Crystal Palace     Leeds United F.C.      12.1000  \n",
       "414             Liverpool        Crystal Palace       9.1000  \n",
       "330           Aston Villa               Man Utd       8.7000  \n",
       "291              West Ham                Fulham       5.9000  \n",
       "255        Crystal Palace     Leeds United F.C.       9.5000  \n",
       "349        Crystal Palace     Leeds United F.C.       9.9000  \n",
       "537             Liverpool        Crystal Palace       7.5000  \n",
       "129        Crystal Palace     Leeds United F.C.      12.7360  \n",
       "252           Southampton              West Ham       8.5000  \n",
       "576           Aston Villa               Man Utd       7.1000  \n",
       "285           Southampton              West Ham       7.7000  \n",
       "265           Southampton              West Ham       5.8000  \n",
       "78              Liverpool        Crystal Palace       6.7000  \n",
       "581           Aston Villa               Man Utd       7.2000  \n",
       "11   Nottingham Forest FC           Aston Villa       8.0000  \n",
       "221  Nottingham Forest FC           Aston Villa       6.6000  \n",
       "164  Nottingham Forest FC           Aston Villa       8.0000  \n",
       "413           Bournemouth           Southampton       6.4000  \n",
       "186  Nottingham Forest FC           Aston Villa      12.5600  \n",
       "461             Newcastle               Everton      13.6000  \n",
       "147  Nottingham Forest FC           Aston Villa       7.1000  \n",
       "274         Wolverhampton  Nottingham Forest FC       4.0000  \n",
       "239              West Ham                Fulham       4.1000  \n",
       "318               Man Utd              Brighton       3.4000  \n",
       "362              Brighton             Tottenham       4.1000  \n",
       "145               Man Utd              Brighton       3.4000  \n",
       "554  Nottingham Forest FC           Aston Villa       7.1000  \n",
       "561               Arsenal              Man City       7.9000  \n",
       "559               Chelsea         Wolverhampton       3.9000  \n",
       "172              West Ham                Fulham       6.2000  \n",
       "226               Everton        Brentford F.C.       2.9000  \n",
       "301         Wolverhampton  Nottingham Forest FC       2.5000  \n",
       "268              West Ham                Fulham       2.5000  \n",
       "234        Crystal Palace     Leeds United F.C.       7.1000  \n",
       "549                Fulham             Leicester       5.5000  \n",
       "467                Fulham             Leicester       5.5000  \n",
       "162                Fulham             Leicester       4.7000  \n",
       "100           Southampton              West Ham      12.0000  \n",
       "128             Newcastle               Everton      12.8000  \n",
       "37               Man City           Bournemouth       5.6000  \n",
       "149              West Ham                Fulham       5.4000  \n",
       "\n",
       "[50 rows x 50 columns]"
      ]
     },
     "execution_count": 114,
     "metadata": {},
     "output_type": "execute_result"
    }
   ],
   "source": [
    "#Top players untile this GW [Total]\n",
    "data.sort_values(by=['TotalPoints'],ascending=False)[data.columns[:(data.columns.get_indexer(['NextFixture5'])+2)[0]]].head(50)"
   ]
  },
  {
   "cell_type": "code",
   "execution_count": 115,
   "metadata": {},
   "outputs": [
    {
     "data": {
      "text/html": [
       "<div>\n",
       "<style scoped>\n",
       "    .dataframe tbody tr th:only-of-type {\n",
       "        vertical-align: middle;\n",
       "    }\n",
       "\n",
       "    .dataframe tbody tr th {\n",
       "        vertical-align: top;\n",
       "    }\n",
       "\n",
       "    .dataframe thead th {\n",
       "        text-align: right;\n",
       "    }\n",
       "</style>\n",
       "<table border=\"1\" class=\"dataframe\">\n",
       "  <thead>\n",
       "    <tr style=\"text-align: right;\">\n",
       "      <th></th>\n",
       "      <th>FirstName</th>\n",
       "      <th>Surname</th>\n",
       "      <th>PositionsList</th>\n",
       "      <th>Team</th>\n",
       "      <th>Cost</th>\n",
       "      <th>PointsLastRound</th>\n",
       "      <th>TotalPoints</th>\n",
       "      <th>AveragePoints</th>\n",
       "      <th>AveragePointsPerDollar</th>\n",
       "      <th>TotalPointsPerDollar</th>\n",
       "      <th>...</th>\n",
       "      <th>TransfersInRound</th>\n",
       "      <th>PriceRiseRound</th>\n",
       "      <th>RedCards</th>\n",
       "      <th>BPS</th>\n",
       "      <th>NextFixture1</th>\n",
       "      <th>NextFixture2</th>\n",
       "      <th>NextFixture3</th>\n",
       "      <th>NextFixture4</th>\n",
       "      <th>NextFixture5</th>\n",
       "      <th>GW2Forecast</th>\n",
       "    </tr>\n",
       "  </thead>\n",
       "  <tbody>\n",
       "    <tr>\n",
       "      <th>256</th>\n",
       "      <td>NaN</td>\n",
       "      <td>Jesus</td>\n",
       "      <td>FWD</td>\n",
       "      <td>ARS</td>\n",
       "      <td>8000000</td>\n",
       "      <td>19</td>\n",
       "      <td>21</td>\n",
       "      <td>10.5</td>\n",
       "      <td>1.312500e-06</td>\n",
       "      <td>2.625000e-06</td>\n",
       "      <td>...</td>\n",
       "      <td>263271</td>\n",
       "      <td>0</td>\n",
       "      <td>0</td>\n",
       "      <td>72</td>\n",
       "      <td>Leicester</td>\n",
       "      <td>Bournemouth</td>\n",
       "      <td>Fulham</td>\n",
       "      <td>Aston Villa</td>\n",
       "      <td>Man Utd</td>\n",
       "      <td>14.9000</td>\n",
       "    </tr>\n",
       "    <tr>\n",
       "      <th>448</th>\n",
       "      <td>NaN</td>\n",
       "      <td>Rodrigo</td>\n",
       "      <td>MID</td>\n",
       "      <td>LEE</td>\n",
       "      <td>6100000</td>\n",
       "      <td>15</td>\n",
       "      <td>22</td>\n",
       "      <td>22.0</td>\n",
       "      <td>3.606557e-06</td>\n",
       "      <td>3.606557e-06</td>\n",
       "      <td>...</td>\n",
       "      <td>382402</td>\n",
       "      <td>1</td>\n",
       "      <td>0</td>\n",
       "      <td>72</td>\n",
       "      <td>Southampton</td>\n",
       "      <td>Chelsea</td>\n",
       "      <td>Brighton</td>\n",
       "      <td>Everton</td>\n",
       "      <td>Brentford F.C.</td>\n",
       "      <td>13.9776</td>\n",
       "    </tr>\n",
       "    <tr>\n",
       "      <th>458</th>\n",
       "      <td>NaN</td>\n",
       "      <td>Sa</td>\n",
       "      <td>GLK</td>\n",
       "      <td>WOL</td>\n",
       "      <td>5000000</td>\n",
       "      <td>15</td>\n",
       "      <td>17</td>\n",
       "      <td>8.5</td>\n",
       "      <td>1.700000e-06</td>\n",
       "      <td>3.400000e-06</td>\n",
       "      <td>...</td>\n",
       "      <td>21610</td>\n",
       "      <td>0</td>\n",
       "      <td>0</td>\n",
       "      <td>60</td>\n",
       "      <td>Fulham</td>\n",
       "      <td>Tottenham</td>\n",
       "      <td>Newcastle</td>\n",
       "      <td>Bournemouth</td>\n",
       "      <td>Southampton</td>\n",
       "      <td>10.5000</td>\n",
       "    </tr>\n",
       "    <tr>\n",
       "      <th>349</th>\n",
       "      <td>Ben</td>\n",
       "      <td>Mee</td>\n",
       "      <td>DEF</td>\n",
       "      <td>BRE</td>\n",
       "      <td>4500000</td>\n",
       "      <td>14</td>\n",
       "      <td>14</td>\n",
       "      <td>7.0</td>\n",
       "      <td>1.555556e-06</td>\n",
       "      <td>3.111111e-06</td>\n",
       "      <td>...</td>\n",
       "      <td>77912</td>\n",
       "      <td>0</td>\n",
       "      <td>0</td>\n",
       "      <td>41</td>\n",
       "      <td>Man Utd</td>\n",
       "      <td>Fulham</td>\n",
       "      <td>Everton</td>\n",
       "      <td>Crystal Palace</td>\n",
       "      <td>Leeds United F.C.</td>\n",
       "      <td>9.9000</td>\n",
       "    </tr>\n",
       "    <tr>\n",
       "      <th>135</th>\n",
       "      <td>Kevin</td>\n",
       "      <td>De Bruyne</td>\n",
       "      <td>MID</td>\n",
       "      <td>MCI</td>\n",
       "      <td>12000000</td>\n",
       "      <td>14</td>\n",
       "      <td>20</td>\n",
       "      <td>10.0</td>\n",
       "      <td>8.333333e-07</td>\n",
       "      <td>1.666667e-06</td>\n",
       "      <td>...</td>\n",
       "      <td>136609</td>\n",
       "      <td>0</td>\n",
       "      <td>0</td>\n",
       "      <td>70</td>\n",
       "      <td>Bournemouth</td>\n",
       "      <td>Newcastle</td>\n",
       "      <td>Crystal Palace</td>\n",
       "      <td>Nottingham Forest FC</td>\n",
       "      <td>Aston Villa</td>\n",
       "      <td>12.2000</td>\n",
       "    </tr>\n",
       "    <tr>\n",
       "      <th>255</th>\n",
       "      <td>Mathias</td>\n",
       "      <td>Jensen</td>\n",
       "      <td>MID</td>\n",
       "      <td>BRE</td>\n",
       "      <td>5000000</td>\n",
       "      <td>14</td>\n",
       "      <td>15</td>\n",
       "      <td>7.5</td>\n",
       "      <td>1.500000e-06</td>\n",
       "      <td>3.000000e-06</td>\n",
       "      <td>...</td>\n",
       "      <td>70987</td>\n",
       "      <td>0</td>\n",
       "      <td>0</td>\n",
       "      <td>48</td>\n",
       "      <td>Man Utd</td>\n",
       "      <td>Fulham</td>\n",
       "      <td>Everton</td>\n",
       "      <td>Crystal Palace</td>\n",
       "      <td>Leeds United F.C.</td>\n",
       "      <td>9.5000</td>\n",
       "    </tr>\n",
       "    <tr>\n",
       "      <th>230</th>\n",
       "      <td>Dean</td>\n",
       "      <td>Henderson</td>\n",
       "      <td>GLK</td>\n",
       "      <td>NFO</td>\n",
       "      <td>4500000</td>\n",
       "      <td>14</td>\n",
       "      <td>17</td>\n",
       "      <td>8.5</td>\n",
       "      <td>1.888889e-06</td>\n",
       "      <td>3.777778e-06</td>\n",
       "      <td>...</td>\n",
       "      <td>42321</td>\n",
       "      <td>0</td>\n",
       "      <td>0</td>\n",
       "      <td>69</td>\n",
       "      <td>West Ham</td>\n",
       "      <td>Everton</td>\n",
       "      <td>Tottenham</td>\n",
       "      <td>Man City</td>\n",
       "      <td>Bournemouth</td>\n",
       "      <td>12.1000</td>\n",
       "    </tr>\n",
       "    <tr>\n",
       "      <th>576</th>\n",
       "      <td>Granit</td>\n",
       "      <td>Xhaka</td>\n",
       "      <td>MID</td>\n",
       "      <td>ARS</td>\n",
       "      <td>5000000</td>\n",
       "      <td>12</td>\n",
       "      <td>14</td>\n",
       "      <td>7.0</td>\n",
       "      <td>1.400000e-06</td>\n",
       "      <td>2.800000e-06</td>\n",
       "      <td>...</td>\n",
       "      <td>51066</td>\n",
       "      <td>0</td>\n",
       "      <td>0</td>\n",
       "      <td>47</td>\n",
       "      <td>Leicester</td>\n",
       "      <td>Bournemouth</td>\n",
       "      <td>Fulham</td>\n",
       "      <td>Aston Villa</td>\n",
       "      <td>Man Utd</td>\n",
       "      <td>7.1000</td>\n",
       "    </tr>\n",
       "    <tr>\n",
       "      <th>87</th>\n",
       "      <td>Joao</td>\n",
       "      <td>Cancelo</td>\n",
       "      <td>DEF</td>\n",
       "      <td>MCI</td>\n",
       "      <td>7000000</td>\n",
       "      <td>11</td>\n",
       "      <td>18</td>\n",
       "      <td>9.0</td>\n",
       "      <td>1.285714e-06</td>\n",
       "      <td>2.571429e-06</td>\n",
       "      <td>...</td>\n",
       "      <td>97467</td>\n",
       "      <td>0</td>\n",
       "      <td>0</td>\n",
       "      <td>63</td>\n",
       "      <td>Bournemouth</td>\n",
       "      <td>Newcastle</td>\n",
       "      <td>Crystal Palace</td>\n",
       "      <td>Nottingham Forest FC</td>\n",
       "      <td>Aston Villa</td>\n",
       "      <td>12.4000</td>\n",
       "    </tr>\n",
       "    <tr>\n",
       "      <th>561</th>\n",
       "      <td>Ollie</td>\n",
       "      <td>Watkins</td>\n",
       "      <td>FWD</td>\n",
       "      <td>AVL</td>\n",
       "      <td>7400000</td>\n",
       "      <td>11</td>\n",
       "      <td>12</td>\n",
       "      <td>6.0</td>\n",
       "      <td>8.108108e-07</td>\n",
       "      <td>1.621622e-06</td>\n",
       "      <td>...</td>\n",
       "      <td>22377</td>\n",
       "      <td>0</td>\n",
       "      <td>0</td>\n",
       "      <td>30</td>\n",
       "      <td>Everton</td>\n",
       "      <td>Crystal Palace</td>\n",
       "      <td>West Ham</td>\n",
       "      <td>Arsenal</td>\n",
       "      <td>Man City</td>\n",
       "      <td>7.9000</td>\n",
       "    </tr>\n",
       "    <tr>\n",
       "      <th>221</th>\n",
       "      <td>Ilkay</td>\n",
       "      <td>Gundogan</td>\n",
       "      <td>MID</td>\n",
       "      <td>MCI</td>\n",
       "      <td>7500000</td>\n",
       "      <td>10</td>\n",
       "      <td>13</td>\n",
       "      <td>6.5</td>\n",
       "      <td>8.666667e-07</td>\n",
       "      <td>1.733333e-06</td>\n",
       "      <td>...</td>\n",
       "      <td>49761</td>\n",
       "      <td>0</td>\n",
       "      <td>0</td>\n",
       "      <td>47</td>\n",
       "      <td>Bournemouth</td>\n",
       "      <td>Newcastle</td>\n",
       "      <td>Crystal Palace</td>\n",
       "      <td>Nottingham Forest FC</td>\n",
       "      <td>Aston Villa</td>\n",
       "      <td>6.6000</td>\n",
       "    </tr>\n",
       "    <tr>\n",
       "      <th>414</th>\n",
       "      <td>Nick</td>\n",
       "      <td>Pope</td>\n",
       "      <td>GLK</td>\n",
       "      <td>NEW</td>\n",
       "      <td>5000000</td>\n",
       "      <td>10</td>\n",
       "      <td>16</td>\n",
       "      <td>8.0</td>\n",
       "      <td>1.600000e-06</td>\n",
       "      <td>3.200000e-06</td>\n",
       "      <td>...</td>\n",
       "      <td>27943</td>\n",
       "      <td>0</td>\n",
       "      <td>0</td>\n",
       "      <td>52</td>\n",
       "      <td>Brighton</td>\n",
       "      <td>Man City</td>\n",
       "      <td>Wolverhampton</td>\n",
       "      <td>Liverpool</td>\n",
       "      <td>Crystal Palace</td>\n",
       "      <td>9.1000</td>\n",
       "    </tr>\n",
       "    <tr>\n",
       "      <th>239</th>\n",
       "      <td>Pierre-Emile</td>\n",
       "      <td>H?jbjerg</td>\n",
       "      <td>MID</td>\n",
       "      <td>TOT</td>\n",
       "      <td>5500000</td>\n",
       "      <td>10</td>\n",
       "      <td>12</td>\n",
       "      <td>6.0</td>\n",
       "      <td>1.090909e-06</td>\n",
       "      <td>2.181818e-06</td>\n",
       "      <td>...</td>\n",
       "      <td>12773</td>\n",
       "      <td>0</td>\n",
       "      <td>0</td>\n",
       "      <td>56</td>\n",
       "      <td>Chelsea</td>\n",
       "      <td>Wolverhampton</td>\n",
       "      <td>Nottingham Forest FC</td>\n",
       "      <td>West Ham</td>\n",
       "      <td>Fulham</td>\n",
       "      <td>4.1000</td>\n",
       "    </tr>\n",
       "    <tr>\n",
       "      <th>530</th>\n",
       "      <td>Ivan</td>\n",
       "      <td>Toney</td>\n",
       "      <td>FWD</td>\n",
       "      <td>BRE</td>\n",
       "      <td>7000000</td>\n",
       "      <td>9</td>\n",
       "      <td>17</td>\n",
       "      <td>8.5</td>\n",
       "      <td>1.214286e-06</td>\n",
       "      <td>2.428571e-06</td>\n",
       "      <td>...</td>\n",
       "      <td>110356</td>\n",
       "      <td>0</td>\n",
       "      <td>0</td>\n",
       "      <td>57</td>\n",
       "      <td>Man Utd</td>\n",
       "      <td>Fulham</td>\n",
       "      <td>Everton</td>\n",
       "      <td>Crystal Palace</td>\n",
       "      <td>Leeds United F.C.</td>\n",
       "      <td>12.1000</td>\n",
       "    </tr>\n",
       "    <tr>\n",
       "      <th>186</th>\n",
       "      <td>Phil</td>\n",
       "      <td>Foden</td>\n",
       "      <td>MID</td>\n",
       "      <td>MCI</td>\n",
       "      <td>8000000</td>\n",
       "      <td>9</td>\n",
       "      <td>12</td>\n",
       "      <td>12.0</td>\n",
       "      <td>1.500000e-06</td>\n",
       "      <td>1.500000e-06</td>\n",
       "      <td>...</td>\n",
       "      <td>80560</td>\n",
       "      <td>0</td>\n",
       "      <td>0</td>\n",
       "      <td>49</td>\n",
       "      <td>Bournemouth</td>\n",
       "      <td>Newcastle</td>\n",
       "      <td>Crystal Palace</td>\n",
       "      <td>Nottingham Forest FC</td>\n",
       "      <td>Aston Villa</td>\n",
       "      <td>12.5600</td>\n",
       "    </tr>\n",
       "    <tr>\n",
       "      <th>37</th>\n",
       "      <td>Taiwo</td>\n",
       "      <td>Awoniyi</td>\n",
       "      <td>FWD</td>\n",
       "      <td>NFO</td>\n",
       "      <td>5900000</td>\n",
       "      <td>8</td>\n",
       "      <td>9</td>\n",
       "      <td>4.5</td>\n",
       "      <td>7.627119e-07</td>\n",
       "      <td>1.525424e-06</td>\n",
       "      <td>...</td>\n",
       "      <td>11111</td>\n",
       "      <td>0</td>\n",
       "      <td>0</td>\n",
       "      <td>32</td>\n",
       "      <td>West Ham</td>\n",
       "      <td>Everton</td>\n",
       "      <td>Tottenham</td>\n",
       "      <td>Man City</td>\n",
       "      <td>Bournemouth</td>\n",
       "      <td>5.6000</td>\n",
       "    </tr>\n",
       "    <tr>\n",
       "      <th>268</th>\n",
       "      <td>Harry</td>\n",
       "      <td>Kane</td>\n",
       "      <td>FWD</td>\n",
       "      <td>TOT</td>\n",
       "      <td>11400000</td>\n",
       "      <td>8</td>\n",
       "      <td>10</td>\n",
       "      <td>5.0</td>\n",
       "      <td>4.385965e-07</td>\n",
       "      <td>8.771930e-07</td>\n",
       "      <td>...</td>\n",
       "      <td>20385</td>\n",
       "      <td>0</td>\n",
       "      <td>0</td>\n",
       "      <td>36</td>\n",
       "      <td>Chelsea</td>\n",
       "      <td>Wolverhampton</td>\n",
       "      <td>Nottingham Forest FC</td>\n",
       "      <td>West Ham</td>\n",
       "      <td>Fulham</td>\n",
       "      <td>2.5000</td>\n",
       "    </tr>\n",
       "    <tr>\n",
       "      <th>330</th>\n",
       "      <td>NaN</td>\n",
       "      <td>Martinelli</td>\n",
       "      <td>MID</td>\n",
       "      <td>ARS</td>\n",
       "      <td>6200000</td>\n",
       "      <td>8</td>\n",
       "      <td>16</td>\n",
       "      <td>8.0</td>\n",
       "      <td>1.290323e-06</td>\n",
       "      <td>2.580645e-06</td>\n",
       "      <td>...</td>\n",
       "      <td>492892</td>\n",
       "      <td>1</td>\n",
       "      <td>0</td>\n",
       "      <td>53</td>\n",
       "      <td>Leicester</td>\n",
       "      <td>Bournemouth</td>\n",
       "      <td>Fulham</td>\n",
       "      <td>Aston Villa</td>\n",
       "      <td>Man Utd</td>\n",
       "      <td>8.7000</td>\n",
       "    </tr>\n",
       "    <tr>\n",
       "      <th>111</th>\n",
       "      <td>Nathan</td>\n",
       "      <td>Collins</td>\n",
       "      <td>DEF</td>\n",
       "      <td>WOL</td>\n",
       "      <td>4500000</td>\n",
       "      <td>8</td>\n",
       "      <td>9</td>\n",
       "      <td>4.5</td>\n",
       "      <td>1.000000e-06</td>\n",
       "      <td>2.000000e-06</td>\n",
       "      <td>...</td>\n",
       "      <td>3377</td>\n",
       "      <td>0</td>\n",
       "      <td>0</td>\n",
       "      <td>44</td>\n",
       "      <td>Fulham</td>\n",
       "      <td>Tottenham</td>\n",
       "      <td>Newcastle</td>\n",
       "      <td>Bournemouth</td>\n",
       "      <td>Southampton</td>\n",
       "      <td>4.1000</td>\n",
       "    </tr>\n",
       "    <tr>\n",
       "      <th>549</th>\n",
       "      <td>Joel</td>\n",
       "      <td>Veltman</td>\n",
       "      <td>DEF</td>\n",
       "      <td>BHA</td>\n",
       "      <td>4500000</td>\n",
       "      <td>8</td>\n",
       "      <td>10</td>\n",
       "      <td>5.0</td>\n",
       "      <td>1.111111e-06</td>\n",
       "      <td>2.222222e-06</td>\n",
       "      <td>...</td>\n",
       "      <td>8852</td>\n",
       "      <td>0</td>\n",
       "      <td>0</td>\n",
       "      <td>45</td>\n",
       "      <td>Newcastle</td>\n",
       "      <td>West Ham</td>\n",
       "      <td>Leeds United F.C.</td>\n",
       "      <td>Fulham</td>\n",
       "      <td>Leicester</td>\n",
       "      <td>5.5000</td>\n",
       "    </tr>\n",
       "    <tr>\n",
       "      <th>129</th>\n",
       "      <td>Josh</td>\n",
       "      <td>Dasilva</td>\n",
       "      <td>MID</td>\n",
       "      <td>BRE</td>\n",
       "      <td>4600000</td>\n",
       "      <td>8</td>\n",
       "      <td>14</td>\n",
       "      <td>14.0</td>\n",
       "      <td>3.043478e-06</td>\n",
       "      <td>3.043478e-06</td>\n",
       "      <td>...</td>\n",
       "      <td>294968</td>\n",
       "      <td>1</td>\n",
       "      <td>0</td>\n",
       "      <td>48</td>\n",
       "      <td>Man Utd</td>\n",
       "      <td>Fulham</td>\n",
       "      <td>Everton</td>\n",
       "      <td>Crystal Palace</td>\n",
       "      <td>Leeds United F.C.</td>\n",
       "      <td>12.7360</td>\n",
       "    </tr>\n",
       "    <tr>\n",
       "      <th>76</th>\n",
       "      <td>NaN</td>\n",
       "      <td>Buendia</td>\n",
       "      <td>MID</td>\n",
       "      <td>AVL</td>\n",
       "      <td>6000000</td>\n",
       "      <td>8</td>\n",
       "      <td>9</td>\n",
       "      <td>9.0</td>\n",
       "      <td>1.500000e-06</td>\n",
       "      <td>1.500000e-06</td>\n",
       "      <td>...</td>\n",
       "      <td>12684</td>\n",
       "      <td>0</td>\n",
       "      <td>0</td>\n",
       "      <td>34</td>\n",
       "      <td>Everton</td>\n",
       "      <td>Crystal Palace</td>\n",
       "      <td>West Ham</td>\n",
       "      <td>Arsenal</td>\n",
       "      <td>Man City</td>\n",
       "      <td>11.5000</td>\n",
       "    </tr>\n",
       "    <tr>\n",
       "      <th>31</th>\n",
       "      <td>NaN</td>\n",
       "      <td>Aribo</td>\n",
       "      <td>MID</td>\n",
       "      <td>SOU</td>\n",
       "      <td>5500000</td>\n",
       "      <td>7</td>\n",
       "      <td>9</td>\n",
       "      <td>4.5</td>\n",
       "      <td>8.181818e-07</td>\n",
       "      <td>1.636364e-06</td>\n",
       "      <td>...</td>\n",
       "      <td>8901</td>\n",
       "      <td>0</td>\n",
       "      <td>0</td>\n",
       "      <td>28</td>\n",
       "      <td>Leeds United F.C.</td>\n",
       "      <td>Leicester</td>\n",
       "      <td>Man Utd</td>\n",
       "      <td>Chelsea</td>\n",
       "      <td>Wolverhampton</td>\n",
       "      <td>2.8000</td>\n",
       "    </tr>\n",
       "    <tr>\n",
       "      <th>574</th>\n",
       "      <td>Joe</td>\n",
       "      <td>Worrall</td>\n",
       "      <td>DEF</td>\n",
       "      <td>NFO</td>\n",
       "      <td>4500000</td>\n",
       "      <td>7</td>\n",
       "      <td>7</td>\n",
       "      <td>3.5</td>\n",
       "      <td>7.777778e-07</td>\n",
       "      <td>1.555556e-06</td>\n",
       "      <td>...</td>\n",
       "      <td>502</td>\n",
       "      <td>0</td>\n",
       "      <td>0</td>\n",
       "      <td>33</td>\n",
       "      <td>West Ham</td>\n",
       "      <td>Everton</td>\n",
       "      <td>Tottenham</td>\n",
       "      <td>Man City</td>\n",
       "      <td>Bournemouth</td>\n",
       "      <td>4.4000</td>\n",
       "    </tr>\n",
       "    <tr>\n",
       "      <th>372</th>\n",
       "      <td>NaN</td>\n",
       "      <td>N.Williams</td>\n",
       "      <td>DEF</td>\n",
       "      <td>NFO</td>\n",
       "      <td>4000000</td>\n",
       "      <td>7</td>\n",
       "      <td>7</td>\n",
       "      <td>3.5</td>\n",
       "      <td>8.750000e-07</td>\n",
       "      <td>1.750000e-06</td>\n",
       "      <td>...</td>\n",
       "      <td>78928</td>\n",
       "      <td>0</td>\n",
       "      <td>0</td>\n",
       "      <td>34</td>\n",
       "      <td>West Ham</td>\n",
       "      <td>Everton</td>\n",
       "      <td>Tottenham</td>\n",
       "      <td>Man City</td>\n",
       "      <td>Bournemouth</td>\n",
       "      <td>4.4000</td>\n",
       "    </tr>\n",
       "    <tr>\n",
       "      <th>285</th>\n",
       "      <td>Kalidou</td>\n",
       "      <td>Koulibaly</td>\n",
       "      <td>DEF</td>\n",
       "      <td>CHE</td>\n",
       "      <td>5500000</td>\n",
       "      <td>7</td>\n",
       "      <td>13</td>\n",
       "      <td>6.5</td>\n",
       "      <td>1.181818e-06</td>\n",
       "      <td>2.363636e-06</td>\n",
       "      <td>...</td>\n",
       "      <td>71029</td>\n",
       "      <td>0</td>\n",
       "      <td>0</td>\n",
       "      <td>53</td>\n",
       "      <td>Tottenham</td>\n",
       "      <td>Leeds United F.C.</td>\n",
       "      <td>Leicester</td>\n",
       "      <td>Southampton</td>\n",
       "      <td>West Ham</td>\n",
       "      <td>7.7000</td>\n",
       "    </tr>\n",
       "    <tr>\n",
       "      <th>277</th>\n",
       "      <td>Max</td>\n",
       "      <td>Kilman</td>\n",
       "      <td>DEF</td>\n",
       "      <td>WOL</td>\n",
       "      <td>4500000</td>\n",
       "      <td>7</td>\n",
       "      <td>8</td>\n",
       "      <td>4.0</td>\n",
       "      <td>8.888889e-07</td>\n",
       "      <td>1.777778e-06</td>\n",
       "      <td>...</td>\n",
       "      <td>2057</td>\n",
       "      <td>0</td>\n",
       "      <td>0</td>\n",
       "      <td>47</td>\n",
       "      <td>Fulham</td>\n",
       "      <td>Tottenham</td>\n",
       "      <td>Newcastle</td>\n",
       "      <td>Bournemouth</td>\n",
       "      <td>Southampton</td>\n",
       "      <td>3.4000</td>\n",
       "    </tr>\n",
       "    <tr>\n",
       "      <th>555</th>\n",
       "      <td>Kyle</td>\n",
       "      <td>Walker-Peters</td>\n",
       "      <td>DEF</td>\n",
       "      <td>SOU</td>\n",
       "      <td>4500000</td>\n",
       "      <td>7</td>\n",
       "      <td>7</td>\n",
       "      <td>3.5</td>\n",
       "      <td>7.777778e-07</td>\n",
       "      <td>1.555556e-06</td>\n",
       "      <td>...</td>\n",
       "      <td>7103</td>\n",
       "      <td>0</td>\n",
       "      <td>0</td>\n",
       "      <td>30</td>\n",
       "      <td>Leeds United F.C.</td>\n",
       "      <td>Leicester</td>\n",
       "      <td>Man Utd</td>\n",
       "      <td>Chelsea</td>\n",
       "      <td>Wolverhampton</td>\n",
       "      <td>3.6000</td>\n",
       "    </tr>\n",
       "    <tr>\n",
       "      <th>78</th>\n",
       "      <td>Dan</td>\n",
       "      <td>Burn</td>\n",
       "      <td>DEF</td>\n",
       "      <td>NEW</td>\n",
       "      <td>4500000</td>\n",
       "      <td>7</td>\n",
       "      <td>13</td>\n",
       "      <td>6.5</td>\n",
       "      <td>1.444444e-06</td>\n",
       "      <td>2.888889e-06</td>\n",
       "      <td>...</td>\n",
       "      <td>13835</td>\n",
       "      <td>0</td>\n",
       "      <td>0</td>\n",
       "      <td>51</td>\n",
       "      <td>Brighton</td>\n",
       "      <td>Man City</td>\n",
       "      <td>Wolverhampton</td>\n",
       "      <td>Liverpool</td>\n",
       "      <td>Crystal Palace</td>\n",
       "      <td>6.7000</td>\n",
       "    </tr>\n",
       "    <tr>\n",
       "      <th>527</th>\n",
       "      <td>Harry</td>\n",
       "      <td>Toffolo</td>\n",
       "      <td>DEF</td>\n",
       "      <td>NFO</td>\n",
       "      <td>4500000</td>\n",
       "      <td>7</td>\n",
       "      <td>8</td>\n",
       "      <td>4.0</td>\n",
       "      <td>8.888889e-07</td>\n",
       "      <td>1.777778e-06</td>\n",
       "      <td>...</td>\n",
       "      <td>806</td>\n",
       "      <td>0</td>\n",
       "      <td>0</td>\n",
       "      <td>35</td>\n",
       "      <td>West Ham</td>\n",
       "      <td>Everton</td>\n",
       "      <td>Tottenham</td>\n",
       "      <td>Man City</td>\n",
       "      <td>Bournemouth</td>\n",
       "      <td>5.3000</td>\n",
       "    </tr>\n",
       "    <tr>\n",
       "      <th>67</th>\n",
       "      <td>Sven</td>\n",
       "      <td>Botman</td>\n",
       "      <td>DEF</td>\n",
       "      <td>NEW</td>\n",
       "      <td>4500000</td>\n",
       "      <td>7</td>\n",
       "      <td>8</td>\n",
       "      <td>4.0</td>\n",
       "      <td>8.888889e-07</td>\n",
       "      <td>1.777778e-06</td>\n",
       "      <td>...</td>\n",
       "      <td>6230</td>\n",
       "      <td>0</td>\n",
       "      <td>0</td>\n",
       "      <td>31</td>\n",
       "      <td>Brighton</td>\n",
       "      <td>Man City</td>\n",
       "      <td>Wolverhampton</td>\n",
       "      <td>Liverpool</td>\n",
       "      <td>Crystal Palace</td>\n",
       "      <td>3.2000</td>\n",
       "    </tr>\n",
       "    <tr>\n",
       "      <th>426</th>\n",
       "      <td>NaN</td>\n",
       "      <td>Raya</td>\n",
       "      <td>GLK</td>\n",
       "      <td>BRE</td>\n",
       "      <td>4500000</td>\n",
       "      <td>7</td>\n",
       "      <td>9</td>\n",
       "      <td>4.5</td>\n",
       "      <td>1.000000e-06</td>\n",
       "      <td>2.000000e-06</td>\n",
       "      <td>...</td>\n",
       "      <td>29473</td>\n",
       "      <td>0</td>\n",
       "      <td>0</td>\n",
       "      <td>45</td>\n",
       "      <td>Man Utd</td>\n",
       "      <td>Fulham</td>\n",
       "      <td>Everton</td>\n",
       "      <td>Crystal Palace</td>\n",
       "      <td>Leeds United F.C.</td>\n",
       "      <td>6.4000</td>\n",
       "    </tr>\n",
       "    <tr>\n",
       "      <th>252</th>\n",
       "      <td>Reece</td>\n",
       "      <td>James</td>\n",
       "      <td>DEF</td>\n",
       "      <td>CHE</td>\n",
       "      <td>6000000</td>\n",
       "      <td>7</td>\n",
       "      <td>14</td>\n",
       "      <td>7.0</td>\n",
       "      <td>1.166667e-06</td>\n",
       "      <td>2.333333e-06</td>\n",
       "      <td>...</td>\n",
       "      <td>111677</td>\n",
       "      <td>0</td>\n",
       "      <td>0</td>\n",
       "      <td>62</td>\n",
       "      <td>Tottenham</td>\n",
       "      <td>Leeds United F.C.</td>\n",
       "      <td>Leicester</td>\n",
       "      <td>Southampton</td>\n",
       "      <td>West Ham</td>\n",
       "      <td>8.5000</td>\n",
       "    </tr>\n",
       "    <tr>\n",
       "      <th>162</th>\n",
       "      <td>Lewis</td>\n",
       "      <td>Dunk</td>\n",
       "      <td>DEF</td>\n",
       "      <td>BHA</td>\n",
       "      <td>4500000</td>\n",
       "      <td>7</td>\n",
       "      <td>9</td>\n",
       "      <td>4.5</td>\n",
       "      <td>1.000000e-06</td>\n",
       "      <td>2.000000e-06</td>\n",
       "      <td>...</td>\n",
       "      <td>20639</td>\n",
       "      <td>0</td>\n",
       "      <td>0</td>\n",
       "      <td>37</td>\n",
       "      <td>Newcastle</td>\n",
       "      <td>West Ham</td>\n",
       "      <td>Leeds United F.C.</td>\n",
       "      <td>Fulham</td>\n",
       "      <td>Leicester</td>\n",
       "      <td>4.7000</td>\n",
       "    </tr>\n",
       "    <tr>\n",
       "      <th>537</th>\n",
       "      <td>Kieran</td>\n",
       "      <td>Trippier</td>\n",
       "      <td>DEF</td>\n",
       "      <td>NEW</td>\n",
       "      <td>5000000</td>\n",
       "      <td>7</td>\n",
       "      <td>14</td>\n",
       "      <td>7.0</td>\n",
       "      <td>1.400000e-06</td>\n",
       "      <td>2.800000e-06</td>\n",
       "      <td>...</td>\n",
       "      <td>90728</td>\n",
       "      <td>0</td>\n",
       "      <td>0</td>\n",
       "      <td>60</td>\n",
       "      <td>Brighton</td>\n",
       "      <td>Man City</td>\n",
       "      <td>Wolverhampton</td>\n",
       "      <td>Liverpool</td>\n",
       "      <td>Crystal Palace</td>\n",
       "      <td>7.5000</td>\n",
       "    </tr>\n",
       "    <tr>\n",
       "      <th>318</th>\n",
       "      <td>James</td>\n",
       "      <td>Maddison</td>\n",
       "      <td>MID</td>\n",
       "      <td>LEI</td>\n",
       "      <td>8000000</td>\n",
       "      <td>7</td>\n",
       "      <td>12</td>\n",
       "      <td>6.0</td>\n",
       "      <td>7.500000e-07</td>\n",
       "      <td>1.500000e-06</td>\n",
       "      <td>...</td>\n",
       "      <td>36721</td>\n",
       "      <td>0</td>\n",
       "      <td>0</td>\n",
       "      <td>46</td>\n",
       "      <td>Arsenal</td>\n",
       "      <td>Southampton</td>\n",
       "      <td>Chelsea</td>\n",
       "      <td>Man Utd</td>\n",
       "      <td>Brighton</td>\n",
       "      <td>3.4000</td>\n",
       "    </tr>\n",
       "    <tr>\n",
       "      <th>254</th>\n",
       "      <td>Pontus</td>\n",
       "      <td>Jansson</td>\n",
       "      <td>DEF</td>\n",
       "      <td>BRE</td>\n",
       "      <td>4500000</td>\n",
       "      <td>6</td>\n",
       "      <td>7</td>\n",
       "      <td>3.5</td>\n",
       "      <td>7.777778e-07</td>\n",
       "      <td>1.555556e-06</td>\n",
       "      <td>...</td>\n",
       "      <td>6108</td>\n",
       "      <td>0</td>\n",
       "      <td>0</td>\n",
       "      <td>39</td>\n",
       "      <td>Man Utd</td>\n",
       "      <td>Fulham</td>\n",
       "      <td>Everton</td>\n",
       "      <td>Crystal Palace</td>\n",
       "      <td>Leeds United F.C.</td>\n",
       "      <td>5.0000</td>\n",
       "    </tr>\n",
       "    <tr>\n",
       "      <th>147</th>\n",
       "      <td>NaN</td>\n",
       "      <td>Dias</td>\n",
       "      <td>DEF</td>\n",
       "      <td>MCI</td>\n",
       "      <td>6000000</td>\n",
       "      <td>6</td>\n",
       "      <td>12</td>\n",
       "      <td>6.0</td>\n",
       "      <td>1.000000e-06</td>\n",
       "      <td>2.000000e-06</td>\n",
       "      <td>...</td>\n",
       "      <td>26399</td>\n",
       "      <td>0</td>\n",
       "      <td>0</td>\n",
       "      <td>51</td>\n",
       "      <td>Bournemouth</td>\n",
       "      <td>Newcastle</td>\n",
       "      <td>Crystal Palace</td>\n",
       "      <td>Nottingham Forest FC</td>\n",
       "      <td>Aston Villa</td>\n",
       "      <td>7.1000</td>\n",
       "    </tr>\n",
       "    <tr>\n",
       "      <th>264</th>\n",
       "      <td>NaN</td>\n",
       "      <td>Jonny</td>\n",
       "      <td>DEF</td>\n",
       "      <td>WOL</td>\n",
       "      <td>4500000</td>\n",
       "      <td>6</td>\n",
       "      <td>7</td>\n",
       "      <td>3.5</td>\n",
       "      <td>7.777778e-07</td>\n",
       "      <td>1.555556e-06</td>\n",
       "      <td>...</td>\n",
       "      <td>1074</td>\n",
       "      <td>0</td>\n",
       "      <td>0</td>\n",
       "      <td>36</td>\n",
       "      <td>Fulham</td>\n",
       "      <td>Tottenham</td>\n",
       "      <td>Newcastle</td>\n",
       "      <td>Bournemouth</td>\n",
       "      <td>Southampton</td>\n",
       "      <td>2.8000</td>\n",
       "    </tr>\n",
       "    <tr>\n",
       "      <th>246</th>\n",
       "      <td>Danny</td>\n",
       "      <td>Ings</td>\n",
       "      <td>FWD</td>\n",
       "      <td>AVL</td>\n",
       "      <td>7000000</td>\n",
       "      <td>6</td>\n",
       "      <td>7</td>\n",
       "      <td>3.5</td>\n",
       "      <td>5.000000e-07</td>\n",
       "      <td>1.000000e-06</td>\n",
       "      <td>...</td>\n",
       "      <td>12492</td>\n",
       "      <td>0</td>\n",
       "      <td>0</td>\n",
       "      <td>23</td>\n",
       "      <td>Everton</td>\n",
       "      <td>Crystal Palace</td>\n",
       "      <td>West Ham</td>\n",
       "      <td>Arsenal</td>\n",
       "      <td>Man City</td>\n",
       "      <td>3.7000</td>\n",
       "    </tr>\n",
       "    <tr>\n",
       "      <th>235</th>\n",
       "      <td>Aaron</td>\n",
       "      <td>Hickey</td>\n",
       "      <td>DEF</td>\n",
       "      <td>BRE</td>\n",
       "      <td>5000000</td>\n",
       "      <td>6</td>\n",
       "      <td>7</td>\n",
       "      <td>3.5</td>\n",
       "      <td>7.000000e-07</td>\n",
       "      <td>1.400000e-06</td>\n",
       "      <td>...</td>\n",
       "      <td>4052</td>\n",
       "      <td>0</td>\n",
       "      <td>0</td>\n",
       "      <td>27</td>\n",
       "      <td>Man Utd</td>\n",
       "      <td>Fulham</td>\n",
       "      <td>Everton</td>\n",
       "      <td>Crystal Palace</td>\n",
       "      <td>Leeds United F.C.</td>\n",
       "      <td>5.0000</td>\n",
       "    </tr>\n",
       "    <tr>\n",
       "      <th>164</th>\n",
       "      <td>NaN</td>\n",
       "      <td>Ederson</td>\n",
       "      <td>GLK</td>\n",
       "      <td>MCI</td>\n",
       "      <td>5500000</td>\n",
       "      <td>6</td>\n",
       "      <td>13</td>\n",
       "      <td>6.5</td>\n",
       "      <td>1.181818e-06</td>\n",
       "      <td>2.363636e-06</td>\n",
       "      <td>...</td>\n",
       "      <td>49872</td>\n",
       "      <td>0</td>\n",
       "      <td>0</td>\n",
       "      <td>47</td>\n",
       "      <td>Bournemouth</td>\n",
       "      <td>Newcastle</td>\n",
       "      <td>Crystal Palace</td>\n",
       "      <td>Nottingham Forest FC</td>\n",
       "      <td>Aston Villa</td>\n",
       "      <td>8.0000</td>\n",
       "    </tr>\n",
       "    <tr>\n",
       "      <th>306</th>\n",
       "      <td>Jesse</td>\n",
       "      <td>Lingard</td>\n",
       "      <td>MID</td>\n",
       "      <td>NFO</td>\n",
       "      <td>6000000</td>\n",
       "      <td>6</td>\n",
       "      <td>8</td>\n",
       "      <td>4.0</td>\n",
       "      <td>6.666667e-07</td>\n",
       "      <td>1.333333e-06</td>\n",
       "      <td>...</td>\n",
       "      <td>15011</td>\n",
       "      <td>0</td>\n",
       "      <td>0</td>\n",
       "      <td>20</td>\n",
       "      <td>West Ham</td>\n",
       "      <td>Everton</td>\n",
       "      <td>Tottenham</td>\n",
       "      <td>Man City</td>\n",
       "      <td>Bournemouth</td>\n",
       "      <td>3.9000</td>\n",
       "    </tr>\n",
       "    <tr>\n",
       "      <th>234</th>\n",
       "      <td>Rico</td>\n",
       "      <td>Henry</td>\n",
       "      <td>DEF</td>\n",
       "      <td>BRE</td>\n",
       "      <td>4500000</td>\n",
       "      <td>6</td>\n",
       "      <td>10</td>\n",
       "      <td>5.0</td>\n",
       "      <td>1.111111e-06</td>\n",
       "      <td>2.222222e-06</td>\n",
       "      <td>...</td>\n",
       "      <td>20701</td>\n",
       "      <td>0</td>\n",
       "      <td>0</td>\n",
       "      <td>41</td>\n",
       "      <td>Man Utd</td>\n",
       "      <td>Fulham</td>\n",
       "      <td>Everton</td>\n",
       "      <td>Crystal Palace</td>\n",
       "      <td>Leeds United F.C.</td>\n",
       "      <td>7.1000</td>\n",
       "    </tr>\n",
       "    <tr>\n",
       "      <th>341</th>\n",
       "      <td>Bryan</td>\n",
       "      <td>Mbeumo</td>\n",
       "      <td>FWD</td>\n",
       "      <td>BRE</td>\n",
       "      <td>6000000</td>\n",
       "      <td>6</td>\n",
       "      <td>8</td>\n",
       "      <td>4.0</td>\n",
       "      <td>6.666667e-07</td>\n",
       "      <td>1.333333e-06</td>\n",
       "      <td>...</td>\n",
       "      <td>28378</td>\n",
       "      <td>0</td>\n",
       "      <td>0</td>\n",
       "      <td>40</td>\n",
       "      <td>Man Utd</td>\n",
       "      <td>Fulham</td>\n",
       "      <td>Everton</td>\n",
       "      <td>Crystal Palace</td>\n",
       "      <td>Leeds United F.C.</td>\n",
       "      <td>5.7000</td>\n",
       "    </tr>\n",
       "    <tr>\n",
       "      <th>532</th>\n",
       "      <td>NaN</td>\n",
       "      <td>Tosin</td>\n",
       "      <td>DEF</td>\n",
       "      <td>FUL</td>\n",
       "      <td>4500000</td>\n",
       "      <td>6</td>\n",
       "      <td>7</td>\n",
       "      <td>3.5</td>\n",
       "      <td>7.777778e-07</td>\n",
       "      <td>1.555556e-06</td>\n",
       "      <td>...</td>\n",
       "      <td>273</td>\n",
       "      <td>0</td>\n",
       "      <td>0</td>\n",
       "      <td>35</td>\n",
       "      <td>Wolverhampton</td>\n",
       "      <td>Brentford F.C.</td>\n",
       "      <td>Arsenal</td>\n",
       "      <td>Brighton</td>\n",
       "      <td>Tottenham</td>\n",
       "      <td>4.3000</td>\n",
       "    </tr>\n",
       "    <tr>\n",
       "      <th>11</th>\n",
       "      <td>Nathan</td>\n",
       "      <td>Ake</td>\n",
       "      <td>DEF</td>\n",
       "      <td>MCI</td>\n",
       "      <td>5000000</td>\n",
       "      <td>6</td>\n",
       "      <td>13</td>\n",
       "      <td>6.5</td>\n",
       "      <td>1.300000e-06</td>\n",
       "      <td>2.600000e-06</td>\n",
       "      <td>...</td>\n",
       "      <td>40188</td>\n",
       "      <td>0</td>\n",
       "      <td>0</td>\n",
       "      <td>51</td>\n",
       "      <td>Bournemouth</td>\n",
       "      <td>Newcastle</td>\n",
       "      <td>Crystal Palace</td>\n",
       "      <td>Nottingham Forest FC</td>\n",
       "      <td>Aston Villa</td>\n",
       "      <td>8.0000</td>\n",
       "    </tr>\n",
       "    <tr>\n",
       "      <th>449</th>\n",
       "      <td>NaN</td>\n",
       "      <td>Roerslev</td>\n",
       "      <td>DEF</td>\n",
       "      <td>BRE</td>\n",
       "      <td>4500000</td>\n",
       "      <td>6</td>\n",
       "      <td>6</td>\n",
       "      <td>6.0</td>\n",
       "      <td>1.333333e-06</td>\n",
       "      <td>1.333333e-06</td>\n",
       "      <td>...</td>\n",
       "      <td>191</td>\n",
       "      <td>0</td>\n",
       "      <td>0</td>\n",
       "      <td>20</td>\n",
       "      <td>Man Utd</td>\n",
       "      <td>Fulham</td>\n",
       "      <td>Everton</td>\n",
       "      <td>Crystal Palace</td>\n",
       "      <td>Leeds United F.C.</td>\n",
       "      <td>8.5000</td>\n",
       "    </tr>\n",
       "    <tr>\n",
       "      <th>445</th>\n",
       "      <td>Marek</td>\n",
       "      <td>Rodak</td>\n",
       "      <td>GLK</td>\n",
       "      <td>FUL</td>\n",
       "      <td>4500000</td>\n",
       "      <td>6</td>\n",
       "      <td>7</td>\n",
       "      <td>3.5</td>\n",
       "      <td>7.777778e-07</td>\n",
       "      <td>1.555556e-06</td>\n",
       "      <td>...</td>\n",
       "      <td>1811</td>\n",
       "      <td>0</td>\n",
       "      <td>0</td>\n",
       "      <td>33</td>\n",
       "      <td>Wolverhampton</td>\n",
       "      <td>Brentford F.C.</td>\n",
       "      <td>Arsenal</td>\n",
       "      <td>Brighton</td>\n",
       "      <td>Tottenham</td>\n",
       "      <td>4.3000</td>\n",
       "    </tr>\n",
       "    <tr>\n",
       "      <th>442</th>\n",
       "      <td>Antonee</td>\n",
       "      <td>Robinson</td>\n",
       "      <td>DEF</td>\n",
       "      <td>FUL</td>\n",
       "      <td>4500000</td>\n",
       "      <td>6</td>\n",
       "      <td>7</td>\n",
       "      <td>3.5</td>\n",
       "      <td>7.777778e-07</td>\n",
       "      <td>1.555556e-06</td>\n",
       "      <td>...</td>\n",
       "      <td>816</td>\n",
       "      <td>0</td>\n",
       "      <td>0</td>\n",
       "      <td>34</td>\n",
       "      <td>Wolverhampton</td>\n",
       "      <td>Brentford F.C.</td>\n",
       "      <td>Arsenal</td>\n",
       "      <td>Brighton</td>\n",
       "      <td>Tottenham</td>\n",
       "      <td>4.3000</td>\n",
       "    </tr>\n",
       "  </tbody>\n",
       "</table>\n",
       "<p>50 rows × 50 columns</p>\n",
       "</div>"
      ],
      "text/plain": [
       "        FirstName        Surname PositionsList Team      Cost  \\\n",
       "256           NaN          Jesus           FWD  ARS   8000000   \n",
       "448           NaN        Rodrigo           MID  LEE   6100000   \n",
       "458           NaN             Sa           GLK  WOL   5000000   \n",
       "349           Ben            Mee           DEF  BRE   4500000   \n",
       "135         Kevin      De Bruyne           MID  MCI  12000000   \n",
       "255       Mathias         Jensen           MID  BRE   5000000   \n",
       "230          Dean      Henderson           GLK  NFO   4500000   \n",
       "576        Granit          Xhaka           MID  ARS   5000000   \n",
       "87           Joao        Cancelo           DEF  MCI   7000000   \n",
       "561         Ollie        Watkins           FWD  AVL   7400000   \n",
       "221         Ilkay       Gundogan           MID  MCI   7500000   \n",
       "414          Nick           Pope           GLK  NEW   5000000   \n",
       "239  Pierre-Emile       H?jbjerg           MID  TOT   5500000   \n",
       "530          Ivan          Toney           FWD  BRE   7000000   \n",
       "186          Phil          Foden           MID  MCI   8000000   \n",
       "37          Taiwo        Awoniyi           FWD  NFO   5900000   \n",
       "268         Harry           Kane           FWD  TOT  11400000   \n",
       "330           NaN     Martinelli           MID  ARS   6200000   \n",
       "111        Nathan        Collins           DEF  WOL   4500000   \n",
       "549          Joel        Veltman           DEF  BHA   4500000   \n",
       "129          Josh        Dasilva           MID  BRE   4600000   \n",
       "76            NaN        Buendia           MID  AVL   6000000   \n",
       "31            NaN          Aribo           MID  SOU   5500000   \n",
       "574           Joe        Worrall           DEF  NFO   4500000   \n",
       "372           NaN     N.Williams           DEF  NFO   4000000   \n",
       "285       Kalidou      Koulibaly           DEF  CHE   5500000   \n",
       "277           Max         Kilman           DEF  WOL   4500000   \n",
       "555          Kyle  Walker-Peters           DEF  SOU   4500000   \n",
       "78            Dan           Burn           DEF  NEW   4500000   \n",
       "527         Harry        Toffolo           DEF  NFO   4500000   \n",
       "67           Sven         Botman           DEF  NEW   4500000   \n",
       "426           NaN           Raya           GLK  BRE   4500000   \n",
       "252         Reece          James           DEF  CHE   6000000   \n",
       "162         Lewis           Dunk           DEF  BHA   4500000   \n",
       "537        Kieran       Trippier           DEF  NEW   5000000   \n",
       "318         James       Maddison           MID  LEI   8000000   \n",
       "254        Pontus        Jansson           DEF  BRE   4500000   \n",
       "147           NaN           Dias           DEF  MCI   6000000   \n",
       "264           NaN          Jonny           DEF  WOL   4500000   \n",
       "246         Danny           Ings           FWD  AVL   7000000   \n",
       "235         Aaron         Hickey           DEF  BRE   5000000   \n",
       "164           NaN        Ederson           GLK  MCI   5500000   \n",
       "306         Jesse        Lingard           MID  NFO   6000000   \n",
       "234          Rico          Henry           DEF  BRE   4500000   \n",
       "341         Bryan         Mbeumo           FWD  BRE   6000000   \n",
       "532           NaN          Tosin           DEF  FUL   4500000   \n",
       "11         Nathan            Ake           DEF  MCI   5000000   \n",
       "449           NaN       Roerslev           DEF  BRE   4500000   \n",
       "445         Marek          Rodak           GLK  FUL   4500000   \n",
       "442       Antonee       Robinson           DEF  FUL   4500000   \n",
       "\n",
       "     PointsLastRound  TotalPoints  AveragePoints  AveragePointsPerDollar  \\\n",
       "256               19           21           10.5            1.312500e-06   \n",
       "448               15           22           22.0            3.606557e-06   \n",
       "458               15           17            8.5            1.700000e-06   \n",
       "349               14           14            7.0            1.555556e-06   \n",
       "135               14           20           10.0            8.333333e-07   \n",
       "255               14           15            7.5            1.500000e-06   \n",
       "230               14           17            8.5            1.888889e-06   \n",
       "576               12           14            7.0            1.400000e-06   \n",
       "87                11           18            9.0            1.285714e-06   \n",
       "561               11           12            6.0            8.108108e-07   \n",
       "221               10           13            6.5            8.666667e-07   \n",
       "414               10           16            8.0            1.600000e-06   \n",
       "239               10           12            6.0            1.090909e-06   \n",
       "530                9           17            8.5            1.214286e-06   \n",
       "186                9           12           12.0            1.500000e-06   \n",
       "37                 8            9            4.5            7.627119e-07   \n",
       "268                8           10            5.0            4.385965e-07   \n",
       "330                8           16            8.0            1.290323e-06   \n",
       "111                8            9            4.5            1.000000e-06   \n",
       "549                8           10            5.0            1.111111e-06   \n",
       "129                8           14           14.0            3.043478e-06   \n",
       "76                 8            9            9.0            1.500000e-06   \n",
       "31                 7            9            4.5            8.181818e-07   \n",
       "574                7            7            3.5            7.777778e-07   \n",
       "372                7            7            3.5            8.750000e-07   \n",
       "285                7           13            6.5            1.181818e-06   \n",
       "277                7            8            4.0            8.888889e-07   \n",
       "555                7            7            3.5            7.777778e-07   \n",
       "78                 7           13            6.5            1.444444e-06   \n",
       "527                7            8            4.0            8.888889e-07   \n",
       "67                 7            8            4.0            8.888889e-07   \n",
       "426                7            9            4.5            1.000000e-06   \n",
       "252                7           14            7.0            1.166667e-06   \n",
       "162                7            9            4.5            1.000000e-06   \n",
       "537                7           14            7.0            1.400000e-06   \n",
       "318                7           12            6.0            7.500000e-07   \n",
       "254                6            7            3.5            7.777778e-07   \n",
       "147                6           12            6.0            1.000000e-06   \n",
       "264                6            7            3.5            7.777778e-07   \n",
       "246                6            7            3.5            5.000000e-07   \n",
       "235                6            7            3.5            7.000000e-07   \n",
       "164                6           13            6.5            1.181818e-06   \n",
       "306                6            8            4.0            6.666667e-07   \n",
       "234                6           10            5.0            1.111111e-06   \n",
       "341                6            8            4.0            6.666667e-07   \n",
       "532                6            7            3.5            7.777778e-07   \n",
       "11                 6           13            6.5            1.300000e-06   \n",
       "449                6            6            6.0            1.333333e-06   \n",
       "445                6            7            3.5            7.777778e-07   \n",
       "442                6            7            3.5            7.777778e-07   \n",
       "\n",
       "     TotalPointsPerDollar  ...  TransfersInRound  PriceRiseRound  RedCards  \\\n",
       "256          2.625000e-06  ...            263271               0         0   \n",
       "448          3.606557e-06  ...            382402               1         0   \n",
       "458          3.400000e-06  ...             21610               0         0   \n",
       "349          3.111111e-06  ...             77912               0         0   \n",
       "135          1.666667e-06  ...            136609               0         0   \n",
       "255          3.000000e-06  ...             70987               0         0   \n",
       "230          3.777778e-06  ...             42321               0         0   \n",
       "576          2.800000e-06  ...             51066               0         0   \n",
       "87           2.571429e-06  ...             97467               0         0   \n",
       "561          1.621622e-06  ...             22377               0         0   \n",
       "221          1.733333e-06  ...             49761               0         0   \n",
       "414          3.200000e-06  ...             27943               0         0   \n",
       "239          2.181818e-06  ...             12773               0         0   \n",
       "530          2.428571e-06  ...            110356               0         0   \n",
       "186          1.500000e-06  ...             80560               0         0   \n",
       "37           1.525424e-06  ...             11111               0         0   \n",
       "268          8.771930e-07  ...             20385               0         0   \n",
       "330          2.580645e-06  ...            492892               1         0   \n",
       "111          2.000000e-06  ...              3377               0         0   \n",
       "549          2.222222e-06  ...              8852               0         0   \n",
       "129          3.043478e-06  ...            294968               1         0   \n",
       "76           1.500000e-06  ...             12684               0         0   \n",
       "31           1.636364e-06  ...              8901               0         0   \n",
       "574          1.555556e-06  ...               502               0         0   \n",
       "372          1.750000e-06  ...             78928               0         0   \n",
       "285          2.363636e-06  ...             71029               0         0   \n",
       "277          1.777778e-06  ...              2057               0         0   \n",
       "555          1.555556e-06  ...              7103               0         0   \n",
       "78           2.888889e-06  ...             13835               0         0   \n",
       "527          1.777778e-06  ...               806               0         0   \n",
       "67           1.777778e-06  ...              6230               0         0   \n",
       "426          2.000000e-06  ...             29473               0         0   \n",
       "252          2.333333e-06  ...            111677               0         0   \n",
       "162          2.000000e-06  ...             20639               0         0   \n",
       "537          2.800000e-06  ...             90728               0         0   \n",
       "318          1.500000e-06  ...             36721               0         0   \n",
       "254          1.555556e-06  ...              6108               0         0   \n",
       "147          2.000000e-06  ...             26399               0         0   \n",
       "264          1.555556e-06  ...              1074               0         0   \n",
       "246          1.000000e-06  ...             12492               0         0   \n",
       "235          1.400000e-06  ...              4052               0         0   \n",
       "164          2.363636e-06  ...             49872               0         0   \n",
       "306          1.333333e-06  ...             15011               0         0   \n",
       "234          2.222222e-06  ...             20701               0         0   \n",
       "341          1.333333e-06  ...             28378               0         0   \n",
       "532          1.555556e-06  ...               273               0         0   \n",
       "11           2.600000e-06  ...             40188               0         0   \n",
       "449          1.333333e-06  ...               191               0         0   \n",
       "445          1.555556e-06  ...              1811               0         0   \n",
       "442          1.555556e-06  ...               816               0         0   \n",
       "\n",
       "     BPS       NextFixture1       NextFixture2          NextFixture3  \\\n",
       "256   72          Leicester        Bournemouth                Fulham   \n",
       "448   72        Southampton            Chelsea              Brighton   \n",
       "458   60             Fulham          Tottenham             Newcastle   \n",
       "349   41            Man Utd             Fulham               Everton   \n",
       "135   70        Bournemouth          Newcastle        Crystal Palace   \n",
       "255   48            Man Utd             Fulham               Everton   \n",
       "230   69           West Ham            Everton             Tottenham   \n",
       "576   47          Leicester        Bournemouth                Fulham   \n",
       "87    63        Bournemouth          Newcastle        Crystal Palace   \n",
       "561   30            Everton     Crystal Palace              West Ham   \n",
       "221   47        Bournemouth          Newcastle        Crystal Palace   \n",
       "414   52           Brighton           Man City         Wolverhampton   \n",
       "239   56            Chelsea      Wolverhampton  Nottingham Forest FC   \n",
       "530   57            Man Utd             Fulham               Everton   \n",
       "186   49        Bournemouth          Newcastle        Crystal Palace   \n",
       "37    32           West Ham            Everton             Tottenham   \n",
       "268   36            Chelsea      Wolverhampton  Nottingham Forest FC   \n",
       "330   53          Leicester        Bournemouth                Fulham   \n",
       "111   44             Fulham          Tottenham             Newcastle   \n",
       "549   45          Newcastle           West Ham     Leeds United F.C.   \n",
       "129   48            Man Utd             Fulham               Everton   \n",
       "76    34            Everton     Crystal Palace              West Ham   \n",
       "31    28  Leeds United F.C.          Leicester               Man Utd   \n",
       "574   33           West Ham            Everton             Tottenham   \n",
       "372   34           West Ham            Everton             Tottenham   \n",
       "285   53          Tottenham  Leeds United F.C.             Leicester   \n",
       "277   47             Fulham          Tottenham             Newcastle   \n",
       "555   30  Leeds United F.C.          Leicester               Man Utd   \n",
       "78    51           Brighton           Man City         Wolverhampton   \n",
       "527   35           West Ham            Everton             Tottenham   \n",
       "67    31           Brighton           Man City         Wolverhampton   \n",
       "426   45            Man Utd             Fulham               Everton   \n",
       "252   62          Tottenham  Leeds United F.C.             Leicester   \n",
       "162   37          Newcastle           West Ham     Leeds United F.C.   \n",
       "537   60           Brighton           Man City         Wolverhampton   \n",
       "318   46            Arsenal        Southampton               Chelsea   \n",
       "254   39            Man Utd             Fulham               Everton   \n",
       "147   51        Bournemouth          Newcastle        Crystal Palace   \n",
       "264   36             Fulham          Tottenham             Newcastle   \n",
       "246   23            Everton     Crystal Palace              West Ham   \n",
       "235   27            Man Utd             Fulham               Everton   \n",
       "164   47        Bournemouth          Newcastle        Crystal Palace   \n",
       "306   20           West Ham            Everton             Tottenham   \n",
       "234   41            Man Utd             Fulham               Everton   \n",
       "341   40            Man Utd             Fulham               Everton   \n",
       "532   35      Wolverhampton     Brentford F.C.               Arsenal   \n",
       "11    51        Bournemouth          Newcastle        Crystal Palace   \n",
       "449   20            Man Utd             Fulham               Everton   \n",
       "445   33      Wolverhampton     Brentford F.C.               Arsenal   \n",
       "442   34      Wolverhampton     Brentford F.C.               Arsenal   \n",
       "\n",
       "             NextFixture4       NextFixture5  GW2Forecast  \n",
       "256           Aston Villa            Man Utd      14.9000  \n",
       "448               Everton     Brentford F.C.      13.9776  \n",
       "458           Bournemouth        Southampton      10.5000  \n",
       "349        Crystal Palace  Leeds United F.C.       9.9000  \n",
       "135  Nottingham Forest FC        Aston Villa      12.2000  \n",
       "255        Crystal Palace  Leeds United F.C.       9.5000  \n",
       "230              Man City        Bournemouth      12.1000  \n",
       "576           Aston Villa            Man Utd       7.1000  \n",
       "87   Nottingham Forest FC        Aston Villa      12.4000  \n",
       "561               Arsenal           Man City       7.9000  \n",
       "221  Nottingham Forest FC        Aston Villa       6.6000  \n",
       "414             Liverpool     Crystal Palace       9.1000  \n",
       "239              West Ham             Fulham       4.1000  \n",
       "530        Crystal Palace  Leeds United F.C.      12.1000  \n",
       "186  Nottingham Forest FC        Aston Villa      12.5600  \n",
       "37               Man City        Bournemouth       5.6000  \n",
       "268              West Ham             Fulham       2.5000  \n",
       "330           Aston Villa            Man Utd       8.7000  \n",
       "111           Bournemouth        Southampton       4.1000  \n",
       "549                Fulham          Leicester       5.5000  \n",
       "129        Crystal Palace  Leeds United F.C.      12.7360  \n",
       "76                Arsenal           Man City      11.5000  \n",
       "31                Chelsea      Wolverhampton       2.8000  \n",
       "574              Man City        Bournemouth       4.4000  \n",
       "372              Man City        Bournemouth       4.4000  \n",
       "285           Southampton           West Ham       7.7000  \n",
       "277           Bournemouth        Southampton       3.4000  \n",
       "555               Chelsea      Wolverhampton       3.6000  \n",
       "78              Liverpool     Crystal Palace       6.7000  \n",
       "527              Man City        Bournemouth       5.3000  \n",
       "67              Liverpool     Crystal Palace       3.2000  \n",
       "426        Crystal Palace  Leeds United F.C.       6.4000  \n",
       "252           Southampton           West Ham       8.5000  \n",
       "162                Fulham          Leicester       4.7000  \n",
       "537             Liverpool     Crystal Palace       7.5000  \n",
       "318               Man Utd           Brighton       3.4000  \n",
       "254        Crystal Palace  Leeds United F.C.       5.0000  \n",
       "147  Nottingham Forest FC        Aston Villa       7.1000  \n",
       "264           Bournemouth        Southampton       2.8000  \n",
       "246               Arsenal           Man City       3.7000  \n",
       "235        Crystal Palace  Leeds United F.C.       5.0000  \n",
       "164  Nottingham Forest FC        Aston Villa       8.0000  \n",
       "306              Man City        Bournemouth       3.9000  \n",
       "234        Crystal Palace  Leeds United F.C.       7.1000  \n",
       "341        Crystal Palace  Leeds United F.C.       5.7000  \n",
       "532              Brighton          Tottenham       4.3000  \n",
       "11   Nottingham Forest FC        Aston Villa       8.0000  \n",
       "449        Crystal Palace  Leeds United F.C.       8.5000  \n",
       "445              Brighton          Tottenham       4.3000  \n",
       "442              Brighton          Tottenham       4.3000  \n",
       "\n",
       "[50 rows x 50 columns]"
      ]
     },
     "execution_count": 115,
     "metadata": {},
     "output_type": "execute_result"
    }
   ],
   "source": [
    "#Top palyer in the last GW\n",
    "data.sort_values(by=['PointsLastRound'],ascending=False)[data.columns[:(data.columns.get_indexer(['NextFixture5'])+2)[0]]].head(50)"
   ]
  },
  {
   "cell_type": "code",
   "execution_count": 116,
   "metadata": {},
   "outputs": [
    {
     "data": {
      "text/html": [
       "<div>\n",
       "<style scoped>\n",
       "    .dataframe tbody tr th:only-of-type {\n",
       "        vertical-align: middle;\n",
       "    }\n",
       "\n",
       "    .dataframe tbody tr th {\n",
       "        vertical-align: top;\n",
       "    }\n",
       "\n",
       "    .dataframe thead th {\n",
       "        text-align: right;\n",
       "    }\n",
       "</style>\n",
       "<table border=\"1\" class=\"dataframe\">\n",
       "  <thead>\n",
       "    <tr style=\"text-align: right;\">\n",
       "      <th></th>\n",
       "      <th>FirstName</th>\n",
       "      <th>Surname</th>\n",
       "      <th>GW2Forecast</th>\n",
       "    </tr>\n",
       "  </thead>\n",
       "  <tbody>\n",
       "    <tr>\n",
       "      <th>0</th>\n",
       "      <td>Dean</td>\n",
       "      <td>Henderson</td>\n",
       "      <td>12.1</td>\n",
       "    </tr>\n",
       "    <tr>\n",
       "      <th>1</th>\n",
       "      <td>NaN</td>\n",
       "      <td>Sa</td>\n",
       "      <td>10.5</td>\n",
       "    </tr>\n",
       "    <tr>\n",
       "      <th>2</th>\n",
       "      <td>Nick</td>\n",
       "      <td>Pope</td>\n",
       "      <td>9.1</td>\n",
       "    </tr>\n",
       "    <tr>\n",
       "      <th>3</th>\n",
       "      <td>NaN</td>\n",
       "      <td>Ederson</td>\n",
       "      <td>8.0</td>\n",
       "    </tr>\n",
       "    <tr>\n",
       "      <th>4</th>\n",
       "      <td>NaN</td>\n",
       "      <td>Raya</td>\n",
       "      <td>6.4</td>\n",
       "    </tr>\n",
       "    <tr>\n",
       "      <th>5</th>\n",
       "      <td>Robert</td>\n",
       "      <td>Sanchez</td>\n",
       "      <td>5.5</td>\n",
       "    </tr>\n",
       "    <tr>\n",
       "      <th>6</th>\n",
       "      <td>Marek</td>\n",
       "      <td>Rodak</td>\n",
       "      <td>4.3</td>\n",
       "    </tr>\n",
       "    <tr>\n",
       "      <th>7</th>\n",
       "      <td>Edouard</td>\n",
       "      <td>Mendy</td>\n",
       "      <td>3.8</td>\n",
       "    </tr>\n",
       "    <tr>\n",
       "      <th>8</th>\n",
       "      <td>Aaron</td>\n",
       "      <td>Ramsdale</td>\n",
       "      <td>2.8</td>\n",
       "    </tr>\n",
       "    <tr>\n",
       "      <th>9</th>\n",
       "      <td>NaN</td>\n",
       "      <td>Martinez</td>\n",
       "      <td>2.8</td>\n",
       "    </tr>\n",
       "    <tr>\n",
       "      <th>10</th>\n",
       "      <td>Mark</td>\n",
       "      <td>Travers</td>\n",
       "      <td>1.8</td>\n",
       "    </tr>\n",
       "    <tr>\n",
       "      <th>11</th>\n",
       "      <td>NaN</td>\n",
       "      <td>Alisson</td>\n",
       "      <td>1.1</td>\n",
       "    </tr>\n",
       "    <tr>\n",
       "      <th>12</th>\n",
       "      <td>Jordan</td>\n",
       "      <td>Pickford</td>\n",
       "      <td>1.0</td>\n",
       "    </tr>\n",
       "    <tr>\n",
       "      <th>13</th>\n",
       "      <td>Illan</td>\n",
       "      <td>Meslier</td>\n",
       "      <td>1.0</td>\n",
       "    </tr>\n",
       "    <tr>\n",
       "      <th>14</th>\n",
       "      <td>Lukasz</td>\n",
       "      <td>Fabianski</td>\n",
       "      <td>1.0</td>\n",
       "    </tr>\n",
       "    <tr>\n",
       "      <th>15</th>\n",
       "      <td>Hugo</td>\n",
       "      <td>Lloris</td>\n",
       "      <td>1.0</td>\n",
       "    </tr>\n",
       "    <tr>\n",
       "      <th>16</th>\n",
       "      <td>Gavin</td>\n",
       "      <td>Bazunu</td>\n",
       "      <td>0.9</td>\n",
       "    </tr>\n",
       "    <tr>\n",
       "      <th>17</th>\n",
       "      <td>Vicente</td>\n",
       "      <td>Guaita</td>\n",
       "      <td>0.5</td>\n",
       "    </tr>\n",
       "    <tr>\n",
       "      <th>18</th>\n",
       "      <td>Danny</td>\n",
       "      <td>Ward</td>\n",
       "      <td>0.5</td>\n",
       "    </tr>\n",
       "    <tr>\n",
       "      <th>19</th>\n",
       "      <td>Alphonse</td>\n",
       "      <td>Areola</td>\n",
       "      <td>0.5</td>\n",
       "    </tr>\n",
       "  </tbody>\n",
       "</table>\n",
       "</div>"
      ],
      "text/plain": [
       "   FirstName    Surname  GW2Forecast\n",
       "0       Dean  Henderson         12.1\n",
       "1        NaN         Sa         10.5\n",
       "2       Nick       Pope          9.1\n",
       "3        NaN    Ederson          8.0\n",
       "4        NaN       Raya          6.4\n",
       "5     Robert    Sanchez          5.5\n",
       "6      Marek      Rodak          4.3\n",
       "7    Edouard      Mendy          3.8\n",
       "8      Aaron   Ramsdale          2.8\n",
       "9        NaN   Martinez          2.8\n",
       "10      Mark    Travers          1.8\n",
       "11       NaN    Alisson          1.1\n",
       "12    Jordan   Pickford          1.0\n",
       "13     Illan    Meslier          1.0\n",
       "14    Lukasz  Fabianski          1.0\n",
       "15      Hugo     Lloris          1.0\n",
       "16     Gavin     Bazunu          0.9\n",
       "17   Vicente     Guaita          0.5\n",
       "18     Danny       Ward          0.5\n",
       "19  Alphonse     Areola          0.5"
      ]
     },
     "execution_count": 116,
     "metadata": {},
     "output_type": "execute_result"
    }
   ],
   "source": [
    "data[data.PositionsList == 'GLK'].sort_values(by=[data.columns[(data.columns.get_indexer(['NextFixture5'])+1)][0]],ascending=False,ignore_index=True)[['FirstName','Surname',data.columns[(data.columns.get_indexer(['NextFixture5'])+1)[0]]]].head(20)"
   ]
  },
  {
   "cell_type": "code",
   "execution_count": 117,
   "metadata": {},
   "outputs": [],
   "source": [
    "cols = ['FirstName', 'Surname', 'PositionsList', 'Team', 'Cost','PointsLastRound']"
   ]
  },
  {
   "cell_type": "code",
   "execution_count": 118,
   "metadata": {},
   "outputs": [
    {
     "data": {
      "text/plain": [
       "['FirstName', 'Surname', 'PositionsList', 'Team', 'Cost', 'PointsLastRound']"
      ]
     },
     "execution_count": 118,
     "metadata": {},
     "output_type": "execute_result"
    }
   ],
   "source": [
    "cols"
   ]
  },
  {
   "cell_type": "code",
   "execution_count": 119,
   "metadata": {},
   "outputs": [],
   "source": [
    "#How much a player’s price has increased since the start of the season\n",
    "cols.append('PriceRise')\n",
    "data.sort_values(by=['PriceRise'],ascending=False,ignore_index=True)[cols].head(50)\n",
    "cols.remove('PriceRise')"
   ]
  },
  {
   "cell_type": "code",
   "execution_count": 120,
   "metadata": {},
   "outputs": [],
   "source": [
    "# How much a player’s price has increased this Gameweek.\n",
    "cols.append('PriceRiseRound')\n",
    "data.sort_values(by=['PriceRiseRound'],ascending=False,ignore_index=True)[cols].head(50)\n",
    "cols.remove('PriceRiseRound')"
   ]
  },
  {
   "cell_type": "code",
   "execution_count": 121,
   "metadata": {},
   "outputs": [],
   "source": [
    "#How much a player’s price has decreased since the start of the season\n",
    "cols.append('PriceFall')\n",
    "data.sort_values(by=['PriceFall'],ascending=False,ignore_index=True)[cols].head(50)\n",
    "cols.remove('PriceFall')"
   ]
  },
  {
   "cell_type": "code",
   "execution_count": 122,
   "metadata": {},
   "outputs": [],
   "source": [
    "# How much a player’s price has decreased this Gameweek.\n",
    "cols.append('PriceFallRound')\n",
    "data.sort_values(by=['PriceFallRound'],ascending=False,ignore_index=True)[cols].head(50)\n",
    "cols.remove('PriceFallRound')"
   ]
  },
  {
   "cell_type": "code",
   "execution_count": 123,
   "metadata": {},
   "outputs": [],
   "source": [
    "#Top Transfers Out this round\n",
    "cols.append('TransfersOutRound')\n",
    "data.sort_values(by=['TransfersOutRound'],ascending=False,ignore_index=True)[cols].head(50)\n",
    "cols.remove('TransfersOutRound')"
   ]
  },
  {
   "cell_type": "code",
   "execution_count": 124,
   "metadata": {},
   "outputs": [],
   "source": [
    "#Top Transfers In this round\n",
    "cols.append('TransfersInRound')\n",
    "data.sort_values(by=['TransfersInRound'],ascending=False,ignore_index=True)[cols].head(50)\n",
    "cols.remove('TransfersInRound')"
   ]
  },
  {
   "cell_type": "code",
   "execution_count": 125,
   "metadata": {},
   "outputs": [
    {
     "data": {
      "text/plain": [
       "Index(['FirstName', 'Surname', 'PositionsList', 'Team', 'Cost',\n",
       "       'PointsLastRound', 'TotalPoints', 'AveragePoints',\n",
       "       'AveragePointsPerDollar', 'TotalPointsPerDollar', 'GameweekWeighting',\n",
       "       'TransfersOut', 'YellowCards', 'GoalsConceded', 'GoalsConcededPoints',\n",
       "       'Saves', 'SavesPoints', 'GoalsScored', 'GoalsScoredPoints',\n",
       "       'ValueSeason', 'TransfersOutRound', 'PriceRise', 'PriceFallRound',\n",
       "       'LastSeasonPoints', 'PriceFall', 'ValueForm', 'PenaltiesMissed', 'Form',\n",
       "       'Bonus', 'FanRating', 'CleanSheets', 'CleanSheetPoints', 'Assists',\n",
       "       'SelectedByPercent', 'TransfersIn', 'OwnGoals', 'EAIndex',\n",
       "       'PenaltiesSaved', 'DreamteamCount', 'MinutesPlayed', 'TransfersInRound',\n",
       "       'PriceRiseRound', 'RedCards', 'BPS', 'NextFixture1', 'NextFixture2',\n",
       "       'NextFixture3', 'NextFixture4', 'NextFixture5', 'GW2Forecast',\n",
       "       'GW3Forecast', 'GW4Forecast', 'GW5Forecast', 'GW6Forecast',\n",
       "       'GW7Forecast', 'GW8Forecast', 'GW9Forecast', 'GW10Forecast',\n",
       "       'GW11Forecast', 'GW12Forecast', 'GW13Forecast', 'GW14Forecast',\n",
       "       'GW15Forecast', 'GW16Forecast', 'GW17Forecast', 'GW18Forecast',\n",
       "       'GW19Forecast', 'GW20Forecast', 'GW21Forecast', 'GW22Forecast',\n",
       "       'GW23Forecast', 'GW24Forecast', 'GW25Forecast', 'GW26Forecast',\n",
       "       'GW27Forecast', 'GW28Forecast', 'GW29Forecast', 'GW30Forecast',\n",
       "       'GW31Forecast', 'GW32Forecast', 'GW33Forecast', 'GW34Forecast',\n",
       "       'GW35Forecast', 'GW36Forecast', 'GW37Forecast', 'GW38Forecast'],\n",
       "      dtype='object')"
      ]
     },
     "execution_count": 125,
     "metadata": {},
     "output_type": "execute_result"
    }
   ],
   "source": [
    "data.columns"
   ]
  },
  {
   "cell_type": "code",
   "execution_count": 126,
   "metadata": {},
   "outputs": [
    {
     "data": {
      "text/html": [
       "<div>\n",
       "<style scoped>\n",
       "    .dataframe tbody tr th:only-of-type {\n",
       "        vertical-align: middle;\n",
       "    }\n",
       "\n",
       "    .dataframe tbody tr th {\n",
       "        vertical-align: top;\n",
       "    }\n",
       "\n",
       "    .dataframe thead th {\n",
       "        text-align: right;\n",
       "    }\n",
       "</style>\n",
       "<table border=\"1\" class=\"dataframe\">\n",
       "  <thead>\n",
       "    <tr style=\"text-align: right;\">\n",
       "      <th></th>\n",
       "      <th>FirstName</th>\n",
       "      <th>Surname</th>\n",
       "      <th>PositionsList</th>\n",
       "      <th>Team</th>\n",
       "      <th>Cost</th>\n",
       "      <th>PointsLastRound</th>\n",
       "      <th>TotalPoints</th>\n",
       "      <th>AveragePoints</th>\n",
       "      <th>AveragePointsPerDollar</th>\n",
       "      <th>TotalPointsPerDollar</th>\n",
       "      <th>...</th>\n",
       "      <th>TransfersInRound</th>\n",
       "      <th>PriceRiseRound</th>\n",
       "      <th>RedCards</th>\n",
       "      <th>BPS</th>\n",
       "      <th>NextFixture1</th>\n",
       "      <th>NextFixture2</th>\n",
       "      <th>NextFixture3</th>\n",
       "      <th>NextFixture4</th>\n",
       "      <th>NextFixture5</th>\n",
       "      <th>GW2Forecast</th>\n",
       "    </tr>\n",
       "  </thead>\n",
       "  <tbody>\n",
       "    <tr>\n",
       "      <th>0</th>\n",
       "      <td>NaN</td>\n",
       "      <td>Jesus</td>\n",
       "      <td>FWD</td>\n",
       "      <td>ARS</td>\n",
       "      <td>8000000</td>\n",
       "      <td>19</td>\n",
       "      <td>21</td>\n",
       "      <td>10.5</td>\n",
       "      <td>1.312500e-06</td>\n",
       "      <td>2.625000e-06</td>\n",
       "      <td>...</td>\n",
       "      <td>263271</td>\n",
       "      <td>0</td>\n",
       "      <td>0</td>\n",
       "      <td>72</td>\n",
       "      <td>Leicester</td>\n",
       "      <td>Bournemouth</td>\n",
       "      <td>Fulham</td>\n",
       "      <td>Aston Villa</td>\n",
       "      <td>Man Utd</td>\n",
       "      <td>14.90</td>\n",
       "    </tr>\n",
       "    <tr>\n",
       "      <th>1</th>\n",
       "      <td>Mohamed</td>\n",
       "      <td>Salah</td>\n",
       "      <td>MID</td>\n",
       "      <td>LIV</td>\n",
       "      <td>13000000</td>\n",
       "      <td>0</td>\n",
       "      <td>12</td>\n",
       "      <td>12.0</td>\n",
       "      <td>9.230769e-07</td>\n",
       "      <td>9.230769e-07</td>\n",
       "      <td>...</td>\n",
       "      <td>46341</td>\n",
       "      <td>0</td>\n",
       "      <td>0</td>\n",
       "      <td>34</td>\n",
       "      <td>Crystal Palace</td>\n",
       "      <td>Man Utd</td>\n",
       "      <td>Bournemouth</td>\n",
       "      <td>Newcastle</td>\n",
       "      <td>Everton</td>\n",
       "      <td>13.60</td>\n",
       "    </tr>\n",
       "    <tr>\n",
       "      <th>2</th>\n",
       "      <td>Erling</td>\n",
       "      <td>Haaland</td>\n",
       "      <td>FWD</td>\n",
       "      <td>MCI</td>\n",
       "      <td>11700000</td>\n",
       "      <td>5</td>\n",
       "      <td>18</td>\n",
       "      <td>9.0</td>\n",
       "      <td>7.692308e-07</td>\n",
       "      <td>1.538462e-06</td>\n",
       "      <td>...</td>\n",
       "      <td>93981</td>\n",
       "      <td>1</td>\n",
       "      <td>0</td>\n",
       "      <td>64</td>\n",
       "      <td>Bournemouth</td>\n",
       "      <td>Newcastle</td>\n",
       "      <td>Crystal Palace</td>\n",
       "      <td>Nottingham Forest FC</td>\n",
       "      <td>Aston Villa</td>\n",
       "      <td>11.00</td>\n",
       "    </tr>\n",
       "    <tr>\n",
       "      <th>3</th>\n",
       "      <td>Trent</td>\n",
       "      <td>Alexander-Arnold</td>\n",
       "      <td>DEF</td>\n",
       "      <td>LIV</td>\n",
       "      <td>7500000</td>\n",
       "      <td>0</td>\n",
       "      <td>1</td>\n",
       "      <td>1.0</td>\n",
       "      <td>1.333333e-07</td>\n",
       "      <td>1.333333e-07</td>\n",
       "      <td>...</td>\n",
       "      <td>23460</td>\n",
       "      <td>0</td>\n",
       "      <td>0</td>\n",
       "      <td>13</td>\n",
       "      <td>Crystal Palace</td>\n",
       "      <td>Man Utd</td>\n",
       "      <td>Bournemouth</td>\n",
       "      <td>Newcastle</td>\n",
       "      <td>Everton</td>\n",
       "      <td>1.10</td>\n",
       "    </tr>\n",
       "    <tr>\n",
       "      <th>4</th>\n",
       "      <td>Joao</td>\n",
       "      <td>Cancelo</td>\n",
       "      <td>DEF</td>\n",
       "      <td>MCI</td>\n",
       "      <td>7000000</td>\n",
       "      <td>11</td>\n",
       "      <td>18</td>\n",
       "      <td>9.0</td>\n",
       "      <td>1.285714e-06</td>\n",
       "      <td>2.571429e-06</td>\n",
       "      <td>...</td>\n",
       "      <td>97467</td>\n",
       "      <td>0</td>\n",
       "      <td>0</td>\n",
       "      <td>63</td>\n",
       "      <td>Bournemouth</td>\n",
       "      <td>Newcastle</td>\n",
       "      <td>Crystal Palace</td>\n",
       "      <td>Nottingham Forest FC</td>\n",
       "      <td>Aston Villa</td>\n",
       "      <td>12.40</td>\n",
       "    </tr>\n",
       "    <tr>\n",
       "      <th>5</th>\n",
       "      <td>Reece</td>\n",
       "      <td>James</td>\n",
       "      <td>DEF</td>\n",
       "      <td>CHE</td>\n",
       "      <td>6000000</td>\n",
       "      <td>7</td>\n",
       "      <td>14</td>\n",
       "      <td>7.0</td>\n",
       "      <td>1.166667e-06</td>\n",
       "      <td>2.333333e-06</td>\n",
       "      <td>...</td>\n",
       "      <td>111677</td>\n",
       "      <td>0</td>\n",
       "      <td>0</td>\n",
       "      <td>62</td>\n",
       "      <td>Tottenham</td>\n",
       "      <td>Leeds United F.C.</td>\n",
       "      <td>Leicester</td>\n",
       "      <td>Southampton</td>\n",
       "      <td>West Ham</td>\n",
       "      <td>8.50</td>\n",
       "    </tr>\n",
       "    <tr>\n",
       "      <th>6</th>\n",
       "      <td>NaN</td>\n",
       "      <td>Martinelli</td>\n",
       "      <td>MID</td>\n",
       "      <td>ARS</td>\n",
       "      <td>6200000</td>\n",
       "      <td>8</td>\n",
       "      <td>16</td>\n",
       "      <td>8.0</td>\n",
       "      <td>1.290323e-06</td>\n",
       "      <td>2.580645e-06</td>\n",
       "      <td>...</td>\n",
       "      <td>492892</td>\n",
       "      <td>1</td>\n",
       "      <td>0</td>\n",
       "      <td>53</td>\n",
       "      <td>Leicester</td>\n",
       "      <td>Bournemouth</td>\n",
       "      <td>Fulham</td>\n",
       "      <td>Aston Villa</td>\n",
       "      <td>Man Utd</td>\n",
       "      <td>8.70</td>\n",
       "    </tr>\n",
       "    <tr>\n",
       "      <th>7</th>\n",
       "      <td>NaN</td>\n",
       "      <td>N.Williams</td>\n",
       "      <td>DEF</td>\n",
       "      <td>NFO</td>\n",
       "      <td>4000000</td>\n",
       "      <td>7</td>\n",
       "      <td>7</td>\n",
       "      <td>3.5</td>\n",
       "      <td>8.750000e-07</td>\n",
       "      <td>1.750000e-06</td>\n",
       "      <td>...</td>\n",
       "      <td>78928</td>\n",
       "      <td>0</td>\n",
       "      <td>0</td>\n",
       "      <td>34</td>\n",
       "      <td>West Ham</td>\n",
       "      <td>Everton</td>\n",
       "      <td>Tottenham</td>\n",
       "      <td>Man City</td>\n",
       "      <td>Bournemouth</td>\n",
       "      <td>4.40</td>\n",
       "    </tr>\n",
       "    <tr>\n",
       "      <th>8</th>\n",
       "      <td>Danny</td>\n",
       "      <td>Ward</td>\n",
       "      <td>GLK</td>\n",
       "      <td>LEI</td>\n",
       "      <td>4000000</td>\n",
       "      <td>1</td>\n",
       "      <td>2</td>\n",
       "      <td>1.0</td>\n",
       "      <td>2.500000e-07</td>\n",
       "      <td>5.000000e-07</td>\n",
       "      <td>...</td>\n",
       "      <td>59860</td>\n",
       "      <td>0</td>\n",
       "      <td>0</td>\n",
       "      <td>23</td>\n",
       "      <td>Arsenal</td>\n",
       "      <td>Southampton</td>\n",
       "      <td>Chelsea</td>\n",
       "      <td>Man Utd</td>\n",
       "      <td>Brighton</td>\n",
       "      <td>0.50</td>\n",
       "    </tr>\n",
       "    <tr>\n",
       "      <th>9</th>\n",
       "      <td>Oleksandr</td>\n",
       "      <td>Zinchenko</td>\n",
       "      <td>DEF</td>\n",
       "      <td>ARS</td>\n",
       "      <td>5100000</td>\n",
       "      <td>1</td>\n",
       "      <td>13</td>\n",
       "      <td>6.5</td>\n",
       "      <td>1.274510e-06</td>\n",
       "      <td>2.549020e-06</td>\n",
       "      <td>...</td>\n",
       "      <td>134457</td>\n",
       "      <td>0</td>\n",
       "      <td>0</td>\n",
       "      <td>53</td>\n",
       "      <td>Leicester</td>\n",
       "      <td>Bournemouth</td>\n",
       "      <td>Fulham</td>\n",
       "      <td>Aston Villa</td>\n",
       "      <td>Man Utd</td>\n",
       "      <td>7.20</td>\n",
       "    </tr>\n",
       "    <tr>\n",
       "      <th>10</th>\n",
       "      <td>NaN</td>\n",
       "      <td>Darwin</td>\n",
       "      <td>FWD</td>\n",
       "      <td>LIV</td>\n",
       "      <td>9100000</td>\n",
       "      <td>0</td>\n",
       "      <td>9</td>\n",
       "      <td>9.0</td>\n",
       "      <td>9.890110e-07</td>\n",
       "      <td>9.890110e-07</td>\n",
       "      <td>...</td>\n",
       "      <td>66481</td>\n",
       "      <td>0</td>\n",
       "      <td>0</td>\n",
       "      <td>31</td>\n",
       "      <td>Crystal Palace</td>\n",
       "      <td>Man Utd</td>\n",
       "      <td>Bournemouth</td>\n",
       "      <td>Newcastle</td>\n",
       "      <td>Everton</td>\n",
       "      <td>12.80</td>\n",
       "    </tr>\n",
       "    <tr>\n",
       "      <th>11</th>\n",
       "      <td>NaN</td>\n",
       "      <td>Andreas</td>\n",
       "      <td>MID</td>\n",
       "      <td>FUL</td>\n",
       "      <td>4500000</td>\n",
       "      <td>3</td>\n",
       "      <td>5</td>\n",
       "      <td>2.5</td>\n",
       "      <td>5.555556e-07</td>\n",
       "      <td>1.111111e-06</td>\n",
       "      <td>...</td>\n",
       "      <td>50464</td>\n",
       "      <td>0</td>\n",
       "      <td>0</td>\n",
       "      <td>11</td>\n",
       "      <td>Wolverhampton</td>\n",
       "      <td>Brentford F.C.</td>\n",
       "      <td>Arsenal</td>\n",
       "      <td>Brighton</td>\n",
       "      <td>Tottenham</td>\n",
       "      <td>0.00</td>\n",
       "    </tr>\n",
       "    <tr>\n",
       "      <th>12</th>\n",
       "      <td>Edouard</td>\n",
       "      <td>Mendy</td>\n",
       "      <td>GLK</td>\n",
       "      <td>CHE</td>\n",
       "      <td>5000000</td>\n",
       "      <td>1</td>\n",
       "      <td>8</td>\n",
       "      <td>4.0</td>\n",
       "      <td>8.000000e-07</td>\n",
       "      <td>1.600000e-06</td>\n",
       "      <td>...</td>\n",
       "      <td>72186</td>\n",
       "      <td>0</td>\n",
       "      <td>0</td>\n",
       "      <td>39</td>\n",
       "      <td>Tottenham</td>\n",
       "      <td>Leeds United F.C.</td>\n",
       "      <td>Leicester</td>\n",
       "      <td>Southampton</td>\n",
       "      <td>West Ham</td>\n",
       "      <td>3.80</td>\n",
       "    </tr>\n",
       "    <tr>\n",
       "      <th>13</th>\n",
       "      <td>Sam</td>\n",
       "      <td>Greenwood</td>\n",
       "      <td>FWD</td>\n",
       "      <td>LEE</td>\n",
       "      <td>4500000</td>\n",
       "      <td>0</td>\n",
       "      <td>1</td>\n",
       "      <td>1.0</td>\n",
       "      <td>2.222222e-07</td>\n",
       "      <td>2.222222e-07</td>\n",
       "      <td>...</td>\n",
       "      <td>28798</td>\n",
       "      <td>0</td>\n",
       "      <td>0</td>\n",
       "      <td>4</td>\n",
       "      <td>Southampton</td>\n",
       "      <td>Chelsea</td>\n",
       "      <td>Brighton</td>\n",
       "      <td>Everton</td>\n",
       "      <td>Brentford F.C.</td>\n",
       "      <td>0.50</td>\n",
       "    </tr>\n",
       "    <tr>\n",
       "      <th>14</th>\n",
       "      <td>Kieran</td>\n",
       "      <td>Trippier</td>\n",
       "      <td>DEF</td>\n",
       "      <td>NEW</td>\n",
       "      <td>5000000</td>\n",
       "      <td>7</td>\n",
       "      <td>14</td>\n",
       "      <td>7.0</td>\n",
       "      <td>1.400000e-06</td>\n",
       "      <td>2.800000e-06</td>\n",
       "      <td>...</td>\n",
       "      <td>90728</td>\n",
       "      <td>0</td>\n",
       "      <td>0</td>\n",
       "      <td>60</td>\n",
       "      <td>Brighton</td>\n",
       "      <td>Man City</td>\n",
       "      <td>Wolverhampton</td>\n",
       "      <td>Liverpool</td>\n",
       "      <td>Crystal Palace</td>\n",
       "      <td>7.50</td>\n",
       "    </tr>\n",
       "    <tr>\n",
       "      <th>15</th>\n",
       "      <td>Bukayo</td>\n",
       "      <td>Saka</td>\n",
       "      <td>MID</td>\n",
       "      <td>ARS</td>\n",
       "      <td>8000000</td>\n",
       "      <td>2</td>\n",
       "      <td>8</td>\n",
       "      <td>8.0</td>\n",
       "      <td>1.000000e-06</td>\n",
       "      <td>1.000000e-06</td>\n",
       "      <td>...</td>\n",
       "      <td>21600</td>\n",
       "      <td>0</td>\n",
       "      <td>0</td>\n",
       "      <td>28</td>\n",
       "      <td>Leicester</td>\n",
       "      <td>Bournemouth</td>\n",
       "      <td>Fulham</td>\n",
       "      <td>Aston Villa</td>\n",
       "      <td>Man Utd</td>\n",
       "      <td>8.70</td>\n",
       "    </tr>\n",
       "    <tr>\n",
       "      <th>16</th>\n",
       "      <td>NaN</td>\n",
       "      <td>Son</td>\n",
       "      <td>MID</td>\n",
       "      <td>TOT</td>\n",
       "      <td>12000000</td>\n",
       "      <td>2</td>\n",
       "      <td>7</td>\n",
       "      <td>3.5</td>\n",
       "      <td>2.916667e-07</td>\n",
       "      <td>5.833333e-07</td>\n",
       "      <td>...</td>\n",
       "      <td>14626</td>\n",
       "      <td>0</td>\n",
       "      <td>0</td>\n",
       "      <td>26</td>\n",
       "      <td>Chelsea</td>\n",
       "      <td>Wolverhampton</td>\n",
       "      <td>Nottingham Forest FC</td>\n",
       "      <td>West Ham</td>\n",
       "      <td>Fulham</td>\n",
       "      <td>1.80</td>\n",
       "    </tr>\n",
       "    <tr>\n",
       "      <th>17</th>\n",
       "      <td>NaN</td>\n",
       "      <td>Luis Diaz</td>\n",
       "      <td>MID</td>\n",
       "      <td>LIV</td>\n",
       "      <td>8000000</td>\n",
       "      <td>0</td>\n",
       "      <td>2</td>\n",
       "      <td>2.0</td>\n",
       "      <td>2.500000e-07</td>\n",
       "      <td>2.500000e-07</td>\n",
       "      <td>...</td>\n",
       "      <td>33232</td>\n",
       "      <td>0</td>\n",
       "      <td>0</td>\n",
       "      <td>1</td>\n",
       "      <td>Crystal Palace</td>\n",
       "      <td>Man Utd</td>\n",
       "      <td>Bournemouth</td>\n",
       "      <td>Newcastle</td>\n",
       "      <td>Everton</td>\n",
       "      <td>1.70</td>\n",
       "    </tr>\n",
       "    <tr>\n",
       "      <th>18</th>\n",
       "      <td>NaN</td>\n",
       "      <td>Alisson</td>\n",
       "      <td>GLK</td>\n",
       "      <td>LIV</td>\n",
       "      <td>5500000</td>\n",
       "      <td>0</td>\n",
       "      <td>1</td>\n",
       "      <td>1.0</td>\n",
       "      <td>1.818182e-07</td>\n",
       "      <td>1.818182e-07</td>\n",
       "      <td>...</td>\n",
       "      <td>18056</td>\n",
       "      <td>0</td>\n",
       "      <td>0</td>\n",
       "      <td>11</td>\n",
       "      <td>Crystal Palace</td>\n",
       "      <td>Man Utd</td>\n",
       "      <td>Bournemouth</td>\n",
       "      <td>Newcastle</td>\n",
       "      <td>Everton</td>\n",
       "      <td>1.10</td>\n",
       "    </tr>\n",
       "    <tr>\n",
       "      <th>19</th>\n",
       "      <td>Kevin</td>\n",
       "      <td>De Bruyne</td>\n",
       "      <td>MID</td>\n",
       "      <td>MCI</td>\n",
       "      <td>12000000</td>\n",
       "      <td>14</td>\n",
       "      <td>20</td>\n",
       "      <td>10.0</td>\n",
       "      <td>8.333333e-07</td>\n",
       "      <td>1.666667e-06</td>\n",
       "      <td>...</td>\n",
       "      <td>136609</td>\n",
       "      <td>0</td>\n",
       "      <td>0</td>\n",
       "      <td>70</td>\n",
       "      <td>Bournemouth</td>\n",
       "      <td>Newcastle</td>\n",
       "      <td>Crystal Palace</td>\n",
       "      <td>Nottingham Forest FC</td>\n",
       "      <td>Aston Villa</td>\n",
       "      <td>12.20</td>\n",
       "    </tr>\n",
       "    <tr>\n",
       "      <th>20</th>\n",
       "      <td>Ivan</td>\n",
       "      <td>Perisic</td>\n",
       "      <td>DEF</td>\n",
       "      <td>TOT</td>\n",
       "      <td>5400000</td>\n",
       "      <td>4</td>\n",
       "      <td>5</td>\n",
       "      <td>5.0</td>\n",
       "      <td>9.259259e-07</td>\n",
       "      <td>9.259259e-07</td>\n",
       "      <td>...</td>\n",
       "      <td>18073</td>\n",
       "      <td>-1</td>\n",
       "      <td>0</td>\n",
       "      <td>21</td>\n",
       "      <td>Chelsea</td>\n",
       "      <td>Wolverhampton</td>\n",
       "      <td>Nottingham Forest FC</td>\n",
       "      <td>West Ham</td>\n",
       "      <td>Fulham</td>\n",
       "      <td>6.20</td>\n",
       "    </tr>\n",
       "    <tr>\n",
       "      <th>21</th>\n",
       "      <td>NaN</td>\n",
       "      <td>Ederson</td>\n",
       "      <td>GLK</td>\n",
       "      <td>MCI</td>\n",
       "      <td>5500000</td>\n",
       "      <td>6</td>\n",
       "      <td>13</td>\n",
       "      <td>6.5</td>\n",
       "      <td>1.181818e-06</td>\n",
       "      <td>2.363636e-06</td>\n",
       "      <td>...</td>\n",
       "      <td>49872</td>\n",
       "      <td>0</td>\n",
       "      <td>0</td>\n",
       "      <td>47</td>\n",
       "      <td>Bournemouth</td>\n",
       "      <td>Newcastle</td>\n",
       "      <td>Crystal Palace</td>\n",
       "      <td>Nottingham Forest FC</td>\n",
       "      <td>Aston Villa</td>\n",
       "      <td>8.00</td>\n",
       "    </tr>\n",
       "    <tr>\n",
       "      <th>22</th>\n",
       "      <td>Harry</td>\n",
       "      <td>Kane</td>\n",
       "      <td>FWD</td>\n",
       "      <td>TOT</td>\n",
       "      <td>11400000</td>\n",
       "      <td>8</td>\n",
       "      <td>10</td>\n",
       "      <td>5.0</td>\n",
       "      <td>4.385965e-07</td>\n",
       "      <td>8.771930e-07</td>\n",
       "      <td>...</td>\n",
       "      <td>20385</td>\n",
       "      <td>0</td>\n",
       "      <td>0</td>\n",
       "      <td>36</td>\n",
       "      <td>Chelsea</td>\n",
       "      <td>Wolverhampton</td>\n",
       "      <td>Nottingham Forest FC</td>\n",
       "      <td>West Ham</td>\n",
       "      <td>Fulham</td>\n",
       "      <td>2.50</td>\n",
       "    </tr>\n",
       "    <tr>\n",
       "      <th>23</th>\n",
       "      <td>Aleksandar</td>\n",
       "      <td>Mitrovic</td>\n",
       "      <td>FWD</td>\n",
       "      <td>FUL</td>\n",
       "      <td>6600000</td>\n",
       "      <td>-1</td>\n",
       "      <td>12</td>\n",
       "      <td>6.0</td>\n",
       "      <td>9.090909e-07</td>\n",
       "      <td>1.818182e-06</td>\n",
       "      <td>...</td>\n",
       "      <td>63631</td>\n",
       "      <td>0</td>\n",
       "      <td>0</td>\n",
       "      <td>52</td>\n",
       "      <td>Wolverhampton</td>\n",
       "      <td>Brentford F.C.</td>\n",
       "      <td>Arsenal</td>\n",
       "      <td>Brighton</td>\n",
       "      <td>Tottenham</td>\n",
       "      <td>4.10</td>\n",
       "    </tr>\n",
       "    <tr>\n",
       "      <th>24</th>\n",
       "      <td>NaN</td>\n",
       "      <td>Neto</td>\n",
       "      <td>MID</td>\n",
       "      <td>WOL</td>\n",
       "      <td>5500000</td>\n",
       "      <td>3</td>\n",
       "      <td>5</td>\n",
       "      <td>5.0</td>\n",
       "      <td>9.090909e-07</td>\n",
       "      <td>9.090909e-07</td>\n",
       "      <td>...</td>\n",
       "      <td>15850</td>\n",
       "      <td>0</td>\n",
       "      <td>0</td>\n",
       "      <td>25</td>\n",
       "      <td>Fulham</td>\n",
       "      <td>Tottenham</td>\n",
       "      <td>Newcastle</td>\n",
       "      <td>Bournemouth</td>\n",
       "      <td>Southampton</td>\n",
       "      <td>4.80</td>\n",
       "    </tr>\n",
       "    <tr>\n",
       "      <th>25</th>\n",
       "      <td>Aaron</td>\n",
       "      <td>Ramsdale</td>\n",
       "      <td>GLK</td>\n",
       "      <td>ARS</td>\n",
       "      <td>5000000</td>\n",
       "      <td>1</td>\n",
       "      <td>7</td>\n",
       "      <td>3.5</td>\n",
       "      <td>7.000000e-07</td>\n",
       "      <td>1.400000e-06</td>\n",
       "      <td>...</td>\n",
       "      <td>26097</td>\n",
       "      <td>0</td>\n",
       "      <td>0</td>\n",
       "      <td>35</td>\n",
       "      <td>Leicester</td>\n",
       "      <td>Bournemouth</td>\n",
       "      <td>Fulham</td>\n",
       "      <td>Aston Villa</td>\n",
       "      <td>Man Utd</td>\n",
       "      <td>2.80</td>\n",
       "    </tr>\n",
       "    <tr>\n",
       "      <th>26</th>\n",
       "      <td>Leon</td>\n",
       "      <td>Bailey</td>\n",
       "      <td>MID</td>\n",
       "      <td>AVL</td>\n",
       "      <td>5000000</td>\n",
       "      <td>1</td>\n",
       "      <td>3</td>\n",
       "      <td>3.0</td>\n",
       "      <td>6.000000e-07</td>\n",
       "      <td>6.000000e-07</td>\n",
       "      <td>...</td>\n",
       "      <td>17758</td>\n",
       "      <td>0</td>\n",
       "      <td>0</td>\n",
       "      <td>13</td>\n",
       "      <td>Everton</td>\n",
       "      <td>Crystal Palace</td>\n",
       "      <td>West Ham</td>\n",
       "      <td>Arsenal</td>\n",
       "      <td>Man City</td>\n",
       "      <td>2.20</td>\n",
       "    </tr>\n",
       "    <tr>\n",
       "      <th>27</th>\n",
       "      <td>Matty</td>\n",
       "      <td>Cash</td>\n",
       "      <td>DEF</td>\n",
       "      <td>AVL</td>\n",
       "      <td>5000000</td>\n",
       "      <td>2</td>\n",
       "      <td>3</td>\n",
       "      <td>1.5</td>\n",
       "      <td>3.000000e-07</td>\n",
       "      <td>6.000000e-07</td>\n",
       "      <td>...</td>\n",
       "      <td>3606</td>\n",
       "      <td>0</td>\n",
       "      <td>0</td>\n",
       "      <td>28</td>\n",
       "      <td>Everton</td>\n",
       "      <td>Crystal Palace</td>\n",
       "      <td>West Ham</td>\n",
       "      <td>Arsenal</td>\n",
       "      <td>Man City</td>\n",
       "      <td>0.00</td>\n",
       "    </tr>\n",
       "    <tr>\n",
       "      <th>28</th>\n",
       "      <td>NaN</td>\n",
       "      <td>Van Dijk</td>\n",
       "      <td>DEF</td>\n",
       "      <td>LIV</td>\n",
       "      <td>6500000</td>\n",
       "      <td>0</td>\n",
       "      <td>1</td>\n",
       "      <td>1.0</td>\n",
       "      <td>1.538462e-07</td>\n",
       "      <td>1.538462e-07</td>\n",
       "      <td>...</td>\n",
       "      <td>16007</td>\n",
       "      <td>0</td>\n",
       "      <td>0</td>\n",
       "      <td>12</td>\n",
       "      <td>Crystal Palace</td>\n",
       "      <td>Man Utd</td>\n",
       "      <td>Bournemouth</td>\n",
       "      <td>Newcastle</td>\n",
       "      <td>Everton</td>\n",
       "      <td>1.10</td>\n",
       "    </tr>\n",
       "    <tr>\n",
       "      <th>29</th>\n",
       "      <td>Dejan</td>\n",
       "      <td>Kulusevski</td>\n",
       "      <td>MID</td>\n",
       "      <td>TOT</td>\n",
       "      <td>8100000</td>\n",
       "      <td>2</td>\n",
       "      <td>15</td>\n",
       "      <td>7.5</td>\n",
       "      <td>9.259259e-07</td>\n",
       "      <td>1.851852e-06</td>\n",
       "      <td>...</td>\n",
       "      <td>138010</td>\n",
       "      <td>0</td>\n",
       "      <td>0</td>\n",
       "      <td>50</td>\n",
       "      <td>Chelsea</td>\n",
       "      <td>Wolverhampton</td>\n",
       "      <td>Nottingham Forest FC</td>\n",
       "      <td>West Ham</td>\n",
       "      <td>Fulham</td>\n",
       "      <td>5.90</td>\n",
       "    </tr>\n",
       "    <tr>\n",
       "      <th>30</th>\n",
       "      <td>Martin</td>\n",
       "      <td>?degaard</td>\n",
       "      <td>MID</td>\n",
       "      <td>ARS</td>\n",
       "      <td>6500000</td>\n",
       "      <td>2</td>\n",
       "      <td>5</td>\n",
       "      <td>2.5</td>\n",
       "      <td>3.846154e-07</td>\n",
       "      <td>7.692308e-07</td>\n",
       "      <td>...</td>\n",
       "      <td>25989</td>\n",
       "      <td>0</td>\n",
       "      <td>0</td>\n",
       "      <td>28</td>\n",
       "      <td>Leicester</td>\n",
       "      <td>Bournemouth</td>\n",
       "      <td>Fulham</td>\n",
       "      <td>Aston Villa</td>\n",
       "      <td>Man Utd</td>\n",
       "      <td>1.40</td>\n",
       "    </tr>\n",
       "    <tr>\n",
       "      <th>31</th>\n",
       "      <td>Kyle</td>\n",
       "      <td>Walker</td>\n",
       "      <td>DEF</td>\n",
       "      <td>MCI</td>\n",
       "      <td>5100000</td>\n",
       "      <td>6</td>\n",
       "      <td>12</td>\n",
       "      <td>6.0</td>\n",
       "      <td>1.176471e-06</td>\n",
       "      <td>2.352941e-06</td>\n",
       "      <td>...</td>\n",
       "      <td>103434</td>\n",
       "      <td>1</td>\n",
       "      <td>0</td>\n",
       "      <td>49</td>\n",
       "      <td>Bournemouth</td>\n",
       "      <td>Newcastle</td>\n",
       "      <td>Crystal Palace</td>\n",
       "      <td>Nottingham Forest FC</td>\n",
       "      <td>Aston Villa</td>\n",
       "      <td>7.10</td>\n",
       "    </tr>\n",
       "    <tr>\n",
       "      <th>32</th>\n",
       "      <td>NaN</td>\n",
       "      <td>Dias</td>\n",
       "      <td>DEF</td>\n",
       "      <td>MCI</td>\n",
       "      <td>6000000</td>\n",
       "      <td>6</td>\n",
       "      <td>12</td>\n",
       "      <td>6.0</td>\n",
       "      <td>1.000000e-06</td>\n",
       "      <td>2.000000e-06</td>\n",
       "      <td>...</td>\n",
       "      <td>26399</td>\n",
       "      <td>0</td>\n",
       "      <td>0</td>\n",
       "      <td>51</td>\n",
       "      <td>Bournemouth</td>\n",
       "      <td>Newcastle</td>\n",
       "      <td>Crystal Palace</td>\n",
       "      <td>Nottingham Forest FC</td>\n",
       "      <td>Aston Villa</td>\n",
       "      <td>7.10</td>\n",
       "    </tr>\n",
       "    <tr>\n",
       "      <th>33</th>\n",
       "      <td>Robert</td>\n",
       "      <td>Sanchez</td>\n",
       "      <td>GLK</td>\n",
       "      <td>BHA</td>\n",
       "      <td>4500000</td>\n",
       "      <td>6</td>\n",
       "      <td>10</td>\n",
       "      <td>5.0</td>\n",
       "      <td>1.111111e-06</td>\n",
       "      <td>2.222222e-06</td>\n",
       "      <td>...</td>\n",
       "      <td>49723</td>\n",
       "      <td>0</td>\n",
       "      <td>0</td>\n",
       "      <td>41</td>\n",
       "      <td>Newcastle</td>\n",
       "      <td>West Ham</td>\n",
       "      <td>Leeds United F.C.</td>\n",
       "      <td>Fulham</td>\n",
       "      <td>Leicester</td>\n",
       "      <td>5.50</td>\n",
       "    </tr>\n",
       "    <tr>\n",
       "      <th>34</th>\n",
       "      <td>NaN</td>\n",
       "      <td>Coutinho</td>\n",
       "      <td>MID</td>\n",
       "      <td>AVL</td>\n",
       "      <td>6900000</td>\n",
       "      <td>0</td>\n",
       "      <td>2</td>\n",
       "      <td>1.0</td>\n",
       "      <td>1.449275e-07</td>\n",
       "      <td>2.898551e-07</td>\n",
       "      <td>...</td>\n",
       "      <td>3413</td>\n",
       "      <td>-1</td>\n",
       "      <td>0</td>\n",
       "      <td>13</td>\n",
       "      <td>Everton</td>\n",
       "      <td>Crystal Palace</td>\n",
       "      <td>West Ham</td>\n",
       "      <td>Arsenal</td>\n",
       "      <td>Man City</td>\n",
       "      <td>0.00</td>\n",
       "    </tr>\n",
       "    <tr>\n",
       "      <th>35</th>\n",
       "      <td>Andrew</td>\n",
       "      <td>Robertson</td>\n",
       "      <td>DEF</td>\n",
       "      <td>LIV</td>\n",
       "      <td>7000000</td>\n",
       "      <td>0</td>\n",
       "      <td>1</td>\n",
       "      <td>1.0</td>\n",
       "      <td>1.428571e-07</td>\n",
       "      <td>1.428571e-07</td>\n",
       "      <td>...</td>\n",
       "      <td>13240</td>\n",
       "      <td>0</td>\n",
       "      <td>0</td>\n",
       "      <td>4</td>\n",
       "      <td>Crystal Palace</td>\n",
       "      <td>Man Utd</td>\n",
       "      <td>Bournemouth</td>\n",
       "      <td>Newcastle</td>\n",
       "      <td>Everton</td>\n",
       "      <td>1.10</td>\n",
       "    </tr>\n",
       "    <tr>\n",
       "      <th>36</th>\n",
       "      <td>Kalidou</td>\n",
       "      <td>Koulibaly</td>\n",
       "      <td>DEF</td>\n",
       "      <td>CHE</td>\n",
       "      <td>5500000</td>\n",
       "      <td>7</td>\n",
       "      <td>13</td>\n",
       "      <td>6.5</td>\n",
       "      <td>1.181818e-06</td>\n",
       "      <td>2.363636e-06</td>\n",
       "      <td>...</td>\n",
       "      <td>71029</td>\n",
       "      <td>0</td>\n",
       "      <td>0</td>\n",
       "      <td>53</td>\n",
       "      <td>Tottenham</td>\n",
       "      <td>Leeds United F.C.</td>\n",
       "      <td>Leicester</td>\n",
       "      <td>Southampton</td>\n",
       "      <td>West Ham</td>\n",
       "      <td>7.70</td>\n",
       "    </tr>\n",
       "    <tr>\n",
       "      <th>37</th>\n",
       "      <td>James</td>\n",
       "      <td>Ward-Prowse</td>\n",
       "      <td>MID</td>\n",
       "      <td>SOU</td>\n",
       "      <td>6500000</td>\n",
       "      <td>2</td>\n",
       "      <td>11</td>\n",
       "      <td>5.5</td>\n",
       "      <td>8.461538e-07</td>\n",
       "      <td>1.692308e-06</td>\n",
       "      <td>...</td>\n",
       "      <td>38123</td>\n",
       "      <td>0</td>\n",
       "      <td>0</td>\n",
       "      <td>41</td>\n",
       "      <td>Leeds United F.C.</td>\n",
       "      <td>Leicester</td>\n",
       "      <td>Man Utd</td>\n",
       "      <td>Chelsea</td>\n",
       "      <td>Wolverhampton</td>\n",
       "      <td>3.90</td>\n",
       "    </tr>\n",
       "    <tr>\n",
       "      <th>38</th>\n",
       "      <td>Lyle</td>\n",
       "      <td>Taylor</td>\n",
       "      <td>FWD</td>\n",
       "      <td>NFO</td>\n",
       "      <td>4500000</td>\n",
       "      <td>0</td>\n",
       "      <td>0</td>\n",
       "      <td>0.0</td>\n",
       "      <td>0.000000e+00</td>\n",
       "      <td>0.000000e+00</td>\n",
       "      <td>...</td>\n",
       "      <td>18989</td>\n",
       "      <td>0</td>\n",
       "      <td>0</td>\n",
       "      <td>0</td>\n",
       "      <td>West Ham</td>\n",
       "      <td>Everton</td>\n",
       "      <td>Tottenham</td>\n",
       "      <td>Man City</td>\n",
       "      <td>Bournemouth</td>\n",
       "      <td>0.00</td>\n",
       "    </tr>\n",
       "    <tr>\n",
       "      <th>39</th>\n",
       "      <td>NaN</td>\n",
       "      <td>Bruno Guimaraes</td>\n",
       "      <td>MID</td>\n",
       "      <td>NEW</td>\n",
       "      <td>6000000</td>\n",
       "      <td>3</td>\n",
       "      <td>6</td>\n",
       "      <td>3.0</td>\n",
       "      <td>5.000000e-07</td>\n",
       "      <td>1.000000e-06</td>\n",
       "      <td>...</td>\n",
       "      <td>13762</td>\n",
       "      <td>0</td>\n",
       "      <td>0</td>\n",
       "      <td>31</td>\n",
       "      <td>Brighton</td>\n",
       "      <td>Man City</td>\n",
       "      <td>Wolverhampton</td>\n",
       "      <td>Liverpool</td>\n",
       "      <td>Crystal Palace</td>\n",
       "      <td>1.50</td>\n",
       "    </tr>\n",
       "    <tr>\n",
       "      <th>40</th>\n",
       "      <td>Jannik</td>\n",
       "      <td>Vestergaard</td>\n",
       "      <td>DEF</td>\n",
       "      <td>LEI</td>\n",
       "      <td>4000000</td>\n",
       "      <td>0</td>\n",
       "      <td>0</td>\n",
       "      <td>0.0</td>\n",
       "      <td>0.000000e+00</td>\n",
       "      <td>0.000000e+00</td>\n",
       "      <td>...</td>\n",
       "      <td>14249</td>\n",
       "      <td>0</td>\n",
       "      <td>0</td>\n",
       "      <td>0</td>\n",
       "      <td>Arsenal</td>\n",
       "      <td>Southampton</td>\n",
       "      <td>Chelsea</td>\n",
       "      <td>Man Utd</td>\n",
       "      <td>Brighton</td>\n",
       "      <td>0.00</td>\n",
       "    </tr>\n",
       "    <tr>\n",
       "      <th>41</th>\n",
       "      <td>NaN</td>\n",
       "      <td>Cucurella</td>\n",
       "      <td>DEF</td>\n",
       "      <td>CHE</td>\n",
       "      <td>5000000</td>\n",
       "      <td>4</td>\n",
       "      <td>4</td>\n",
       "      <td>4.0</td>\n",
       "      <td>8.000000e-07</td>\n",
       "      <td>8.000000e-07</td>\n",
       "      <td>...</td>\n",
       "      <td>90701</td>\n",
       "      <td>0</td>\n",
       "      <td>0</td>\n",
       "      <td>29</td>\n",
       "      <td>Tottenham</td>\n",
       "      <td>Leeds United F.C.</td>\n",
       "      <td>Leicester</td>\n",
       "      <td>Southampton</td>\n",
       "      <td>West Ham</td>\n",
       "      <td>3.80</td>\n",
       "    </tr>\n",
       "    <tr>\n",
       "      <th>42</th>\n",
       "      <td>Mason</td>\n",
       "      <td>Mount</td>\n",
       "      <td>MID</td>\n",
       "      <td>CHE</td>\n",
       "      <td>8000000</td>\n",
       "      <td>2</td>\n",
       "      <td>5</td>\n",
       "      <td>2.5</td>\n",
       "      <td>3.125000e-07</td>\n",
       "      <td>6.250000e-07</td>\n",
       "      <td>...</td>\n",
       "      <td>13385</td>\n",
       "      <td>0</td>\n",
       "      <td>0</td>\n",
       "      <td>16</td>\n",
       "      <td>Tottenham</td>\n",
       "      <td>Leeds United F.C.</td>\n",
       "      <td>Leicester</td>\n",
       "      <td>Southampton</td>\n",
       "      <td>West Ham</td>\n",
       "      <td>1.20</td>\n",
       "    </tr>\n",
       "    <tr>\n",
       "      <th>43</th>\n",
       "      <td>NaN</td>\n",
       "      <td>Gabriel</td>\n",
       "      <td>DEF</td>\n",
       "      <td>ARS</td>\n",
       "      <td>5000000</td>\n",
       "      <td>1</td>\n",
       "      <td>8</td>\n",
       "      <td>4.0</td>\n",
       "      <td>8.000000e-07</td>\n",
       "      <td>1.600000e-06</td>\n",
       "      <td>...</td>\n",
       "      <td>17955</td>\n",
       "      <td>0</td>\n",
       "      <td>0</td>\n",
       "      <td>38</td>\n",
       "      <td>Leicester</td>\n",
       "      <td>Bournemouth</td>\n",
       "      <td>Fulham</td>\n",
       "      <td>Aston Villa</td>\n",
       "      <td>Man Utd</td>\n",
       "      <td>3.40</td>\n",
       "    </tr>\n",
       "    <tr>\n",
       "      <th>44</th>\n",
       "      <td>Marcus</td>\n",
       "      <td>Rashford</td>\n",
       "      <td>MID</td>\n",
       "      <td>MUN</td>\n",
       "      <td>6400000</td>\n",
       "      <td>1</td>\n",
       "      <td>3</td>\n",
       "      <td>1.5</td>\n",
       "      <td>2.343750e-07</td>\n",
       "      <td>4.687500e-07</td>\n",
       "      <td>...</td>\n",
       "      <td>7485</td>\n",
       "      <td>-1</td>\n",
       "      <td>0</td>\n",
       "      <td>7</td>\n",
       "      <td>Brentford F.C.</td>\n",
       "      <td>Liverpool</td>\n",
       "      <td>Southampton</td>\n",
       "      <td>Leicester</td>\n",
       "      <td>Arsenal</td>\n",
       "      <td>0.80</td>\n",
       "    </tr>\n",
       "    <tr>\n",
       "      <th>45</th>\n",
       "      <td>Phil</td>\n",
       "      <td>Foden</td>\n",
       "      <td>MID</td>\n",
       "      <td>MCI</td>\n",
       "      <td>8000000</td>\n",
       "      <td>9</td>\n",
       "      <td>12</td>\n",
       "      <td>12.0</td>\n",
       "      <td>1.500000e-06</td>\n",
       "      <td>1.500000e-06</td>\n",
       "      <td>...</td>\n",
       "      <td>80560</td>\n",
       "      <td>0</td>\n",
       "      <td>0</td>\n",
       "      <td>49</td>\n",
       "      <td>Bournemouth</td>\n",
       "      <td>Newcastle</td>\n",
       "      <td>Crystal Palace</td>\n",
       "      <td>Nottingham Forest FC</td>\n",
       "      <td>Aston Villa</td>\n",
       "      <td>12.56</td>\n",
       "    </tr>\n",
       "    <tr>\n",
       "      <th>46</th>\n",
       "      <td>Cameron</td>\n",
       "      <td>Archer</td>\n",
       "      <td>FWD</td>\n",
       "      <td>AVL</td>\n",
       "      <td>4500000</td>\n",
       "      <td>0</td>\n",
       "      <td>1</td>\n",
       "      <td>1.0</td>\n",
       "      <td>2.222222e-07</td>\n",
       "      <td>2.222222e-07</td>\n",
       "      <td>...</td>\n",
       "      <td>11618</td>\n",
       "      <td>0</td>\n",
       "      <td>0</td>\n",
       "      <td>3</td>\n",
       "      <td>Everton</td>\n",
       "      <td>Crystal Palace</td>\n",
       "      <td>West Ham</td>\n",
       "      <td>Arsenal</td>\n",
       "      <td>Man City</td>\n",
       "      <td>0.50</td>\n",
       "    </tr>\n",
       "    <tr>\n",
       "      <th>47</th>\n",
       "      <td>Ivan</td>\n",
       "      <td>Toney</td>\n",
       "      <td>FWD</td>\n",
       "      <td>BRE</td>\n",
       "      <td>7000000</td>\n",
       "      <td>9</td>\n",
       "      <td>17</td>\n",
       "      <td>8.5</td>\n",
       "      <td>1.214286e-06</td>\n",
       "      <td>2.428571e-06</td>\n",
       "      <td>...</td>\n",
       "      <td>110356</td>\n",
       "      <td>0</td>\n",
       "      <td>0</td>\n",
       "      <td>57</td>\n",
       "      <td>Man Utd</td>\n",
       "      <td>Fulham</td>\n",
       "      <td>Everton</td>\n",
       "      <td>Crystal Palace</td>\n",
       "      <td>Leeds United F.C.</td>\n",
       "      <td>12.10</td>\n",
       "    </tr>\n",
       "    <tr>\n",
       "      <th>48</th>\n",
       "      <td>Allan</td>\n",
       "      <td>Saint-Maximin</td>\n",
       "      <td>MID</td>\n",
       "      <td>NEW</td>\n",
       "      <td>6500000</td>\n",
       "      <td>2</td>\n",
       "      <td>5</td>\n",
       "      <td>2.5</td>\n",
       "      <td>3.846154e-07</td>\n",
       "      <td>7.692308e-07</td>\n",
       "      <td>...</td>\n",
       "      <td>15104</td>\n",
       "      <td>0</td>\n",
       "      <td>0</td>\n",
       "      <td>11</td>\n",
       "      <td>Brighton</td>\n",
       "      <td>Man City</td>\n",
       "      <td>Wolverhampton</td>\n",
       "      <td>Liverpool</td>\n",
       "      <td>Crystal Palace</td>\n",
       "      <td>1.20</td>\n",
       "    </tr>\n",
       "    <tr>\n",
       "      <th>49</th>\n",
       "      <td>Jadon</td>\n",
       "      <td>Sancho</td>\n",
       "      <td>MID</td>\n",
       "      <td>MUN</td>\n",
       "      <td>7400000</td>\n",
       "      <td>1</td>\n",
       "      <td>3</td>\n",
       "      <td>1.5</td>\n",
       "      <td>2.027027e-07</td>\n",
       "      <td>4.054054e-07</td>\n",
       "      <td>...</td>\n",
       "      <td>3186</td>\n",
       "      <td>-1</td>\n",
       "      <td>0</td>\n",
       "      <td>21</td>\n",
       "      <td>Brentford F.C.</td>\n",
       "      <td>Liverpool</td>\n",
       "      <td>Southampton</td>\n",
       "      <td>Leicester</td>\n",
       "      <td>Arsenal</td>\n",
       "      <td>0.80</td>\n",
       "    </tr>\n",
       "  </tbody>\n",
       "</table>\n",
       "<p>50 rows × 50 columns</p>\n",
       "</div>"
      ],
      "text/plain": [
       "     FirstName           Surname PositionsList Team      Cost  \\\n",
       "0          NaN             Jesus           FWD  ARS   8000000   \n",
       "1      Mohamed             Salah           MID  LIV  13000000   \n",
       "2       Erling           Haaland           FWD  MCI  11700000   \n",
       "3        Trent  Alexander-Arnold           DEF  LIV   7500000   \n",
       "4         Joao           Cancelo           DEF  MCI   7000000   \n",
       "5        Reece             James           DEF  CHE   6000000   \n",
       "6          NaN        Martinelli           MID  ARS   6200000   \n",
       "7          NaN        N.Williams           DEF  NFO   4000000   \n",
       "8        Danny              Ward           GLK  LEI   4000000   \n",
       "9    Oleksandr         Zinchenko           DEF  ARS   5100000   \n",
       "10         NaN            Darwin           FWD  LIV   9100000   \n",
       "11         NaN           Andreas           MID  FUL   4500000   \n",
       "12     Edouard             Mendy           GLK  CHE   5000000   \n",
       "13         Sam         Greenwood           FWD  LEE   4500000   \n",
       "14      Kieran          Trippier           DEF  NEW   5000000   \n",
       "15      Bukayo              Saka           MID  ARS   8000000   \n",
       "16         NaN               Son           MID  TOT  12000000   \n",
       "17         NaN         Luis Diaz           MID  LIV   8000000   \n",
       "18         NaN           Alisson           GLK  LIV   5500000   \n",
       "19       Kevin         De Bruyne           MID  MCI  12000000   \n",
       "20        Ivan           Perisic           DEF  TOT   5400000   \n",
       "21         NaN           Ederson           GLK  MCI   5500000   \n",
       "22       Harry              Kane           FWD  TOT  11400000   \n",
       "23  Aleksandar          Mitrovic           FWD  FUL   6600000   \n",
       "24         NaN              Neto           MID  WOL   5500000   \n",
       "25       Aaron          Ramsdale           GLK  ARS   5000000   \n",
       "26        Leon            Bailey           MID  AVL   5000000   \n",
       "27       Matty              Cash           DEF  AVL   5000000   \n",
       "28         NaN          Van Dijk           DEF  LIV   6500000   \n",
       "29       Dejan        Kulusevski           MID  TOT   8100000   \n",
       "30      Martin          ?degaard           MID  ARS   6500000   \n",
       "31        Kyle            Walker           DEF  MCI   5100000   \n",
       "32         NaN              Dias           DEF  MCI   6000000   \n",
       "33      Robert           Sanchez           GLK  BHA   4500000   \n",
       "34         NaN          Coutinho           MID  AVL   6900000   \n",
       "35      Andrew         Robertson           DEF  LIV   7000000   \n",
       "36     Kalidou         Koulibaly           DEF  CHE   5500000   \n",
       "37       James       Ward-Prowse           MID  SOU   6500000   \n",
       "38        Lyle            Taylor           FWD  NFO   4500000   \n",
       "39         NaN   Bruno Guimaraes           MID  NEW   6000000   \n",
       "40      Jannik       Vestergaard           DEF  LEI   4000000   \n",
       "41         NaN         Cucurella           DEF  CHE   5000000   \n",
       "42       Mason             Mount           MID  CHE   8000000   \n",
       "43         NaN           Gabriel           DEF  ARS   5000000   \n",
       "44      Marcus          Rashford           MID  MUN   6400000   \n",
       "45        Phil             Foden           MID  MCI   8000000   \n",
       "46     Cameron            Archer           FWD  AVL   4500000   \n",
       "47        Ivan             Toney           FWD  BRE   7000000   \n",
       "48       Allan     Saint-Maximin           MID  NEW   6500000   \n",
       "49       Jadon            Sancho           MID  MUN   7400000   \n",
       "\n",
       "    PointsLastRound  TotalPoints  AveragePoints  AveragePointsPerDollar  \\\n",
       "0                19           21           10.5            1.312500e-06   \n",
       "1                 0           12           12.0            9.230769e-07   \n",
       "2                 5           18            9.0            7.692308e-07   \n",
       "3                 0            1            1.0            1.333333e-07   \n",
       "4                11           18            9.0            1.285714e-06   \n",
       "5                 7           14            7.0            1.166667e-06   \n",
       "6                 8           16            8.0            1.290323e-06   \n",
       "7                 7            7            3.5            8.750000e-07   \n",
       "8                 1            2            1.0            2.500000e-07   \n",
       "9                 1           13            6.5            1.274510e-06   \n",
       "10                0            9            9.0            9.890110e-07   \n",
       "11                3            5            2.5            5.555556e-07   \n",
       "12                1            8            4.0            8.000000e-07   \n",
       "13                0            1            1.0            2.222222e-07   \n",
       "14                7           14            7.0            1.400000e-06   \n",
       "15                2            8            8.0            1.000000e-06   \n",
       "16                2            7            3.5            2.916667e-07   \n",
       "17                0            2            2.0            2.500000e-07   \n",
       "18                0            1            1.0            1.818182e-07   \n",
       "19               14           20           10.0            8.333333e-07   \n",
       "20                4            5            5.0            9.259259e-07   \n",
       "21                6           13            6.5            1.181818e-06   \n",
       "22                8           10            5.0            4.385965e-07   \n",
       "23               -1           12            6.0            9.090909e-07   \n",
       "24                3            5            5.0            9.090909e-07   \n",
       "25                1            7            3.5            7.000000e-07   \n",
       "26                1            3            3.0            6.000000e-07   \n",
       "27                2            3            1.5            3.000000e-07   \n",
       "28                0            1            1.0            1.538462e-07   \n",
       "29                2           15            7.5            9.259259e-07   \n",
       "30                2            5            2.5            3.846154e-07   \n",
       "31                6           12            6.0            1.176471e-06   \n",
       "32                6           12            6.0            1.000000e-06   \n",
       "33                6           10            5.0            1.111111e-06   \n",
       "34                0            2            1.0            1.449275e-07   \n",
       "35                0            1            1.0            1.428571e-07   \n",
       "36                7           13            6.5            1.181818e-06   \n",
       "37                2           11            5.5            8.461538e-07   \n",
       "38                0            0            0.0            0.000000e+00   \n",
       "39                3            6            3.0            5.000000e-07   \n",
       "40                0            0            0.0            0.000000e+00   \n",
       "41                4            4            4.0            8.000000e-07   \n",
       "42                2            5            2.5            3.125000e-07   \n",
       "43                1            8            4.0            8.000000e-07   \n",
       "44                1            3            1.5            2.343750e-07   \n",
       "45                9           12           12.0            1.500000e-06   \n",
       "46                0            1            1.0            2.222222e-07   \n",
       "47                9           17            8.5            1.214286e-06   \n",
       "48                2            5            2.5            3.846154e-07   \n",
       "49                1            3            1.5            2.027027e-07   \n",
       "\n",
       "    TotalPointsPerDollar  ...  TransfersInRound  PriceRiseRound  RedCards  \\\n",
       "0           2.625000e-06  ...            263271               0         0   \n",
       "1           9.230769e-07  ...             46341               0         0   \n",
       "2           1.538462e-06  ...             93981               1         0   \n",
       "3           1.333333e-07  ...             23460               0         0   \n",
       "4           2.571429e-06  ...             97467               0         0   \n",
       "5           2.333333e-06  ...            111677               0         0   \n",
       "6           2.580645e-06  ...            492892               1         0   \n",
       "7           1.750000e-06  ...             78928               0         0   \n",
       "8           5.000000e-07  ...             59860               0         0   \n",
       "9           2.549020e-06  ...            134457               0         0   \n",
       "10          9.890110e-07  ...             66481               0         0   \n",
       "11          1.111111e-06  ...             50464               0         0   \n",
       "12          1.600000e-06  ...             72186               0         0   \n",
       "13          2.222222e-07  ...             28798               0         0   \n",
       "14          2.800000e-06  ...             90728               0         0   \n",
       "15          1.000000e-06  ...             21600               0         0   \n",
       "16          5.833333e-07  ...             14626               0         0   \n",
       "17          2.500000e-07  ...             33232               0         0   \n",
       "18          1.818182e-07  ...             18056               0         0   \n",
       "19          1.666667e-06  ...            136609               0         0   \n",
       "20          9.259259e-07  ...             18073              -1         0   \n",
       "21          2.363636e-06  ...             49872               0         0   \n",
       "22          8.771930e-07  ...             20385               0         0   \n",
       "23          1.818182e-06  ...             63631               0         0   \n",
       "24          9.090909e-07  ...             15850               0         0   \n",
       "25          1.400000e-06  ...             26097               0         0   \n",
       "26          6.000000e-07  ...             17758               0         0   \n",
       "27          6.000000e-07  ...              3606               0         0   \n",
       "28          1.538462e-07  ...             16007               0         0   \n",
       "29          1.851852e-06  ...            138010               0         0   \n",
       "30          7.692308e-07  ...             25989               0         0   \n",
       "31          2.352941e-06  ...            103434               1         0   \n",
       "32          2.000000e-06  ...             26399               0         0   \n",
       "33          2.222222e-06  ...             49723               0         0   \n",
       "34          2.898551e-07  ...              3413              -1         0   \n",
       "35          1.428571e-07  ...             13240               0         0   \n",
       "36          2.363636e-06  ...             71029               0         0   \n",
       "37          1.692308e-06  ...             38123               0         0   \n",
       "38          0.000000e+00  ...             18989               0         0   \n",
       "39          1.000000e-06  ...             13762               0         0   \n",
       "40          0.000000e+00  ...             14249               0         0   \n",
       "41          8.000000e-07  ...             90701               0         0   \n",
       "42          6.250000e-07  ...             13385               0         0   \n",
       "43          1.600000e-06  ...             17955               0         0   \n",
       "44          4.687500e-07  ...              7485              -1         0   \n",
       "45          1.500000e-06  ...             80560               0         0   \n",
       "46          2.222222e-07  ...             11618               0         0   \n",
       "47          2.428571e-06  ...            110356               0         0   \n",
       "48          7.692308e-07  ...             15104               0         0   \n",
       "49          4.054054e-07  ...              3186              -1         0   \n",
       "\n",
       "    BPS       NextFixture1       NextFixture2          NextFixture3  \\\n",
       "0    72          Leicester        Bournemouth                Fulham   \n",
       "1    34     Crystal Palace            Man Utd           Bournemouth   \n",
       "2    64        Bournemouth          Newcastle        Crystal Palace   \n",
       "3    13     Crystal Palace            Man Utd           Bournemouth   \n",
       "4    63        Bournemouth          Newcastle        Crystal Palace   \n",
       "5    62          Tottenham  Leeds United F.C.             Leicester   \n",
       "6    53          Leicester        Bournemouth                Fulham   \n",
       "7    34           West Ham            Everton             Tottenham   \n",
       "8    23            Arsenal        Southampton               Chelsea   \n",
       "9    53          Leicester        Bournemouth                Fulham   \n",
       "10   31     Crystal Palace            Man Utd           Bournemouth   \n",
       "11   11      Wolverhampton     Brentford F.C.               Arsenal   \n",
       "12   39          Tottenham  Leeds United F.C.             Leicester   \n",
       "13    4        Southampton            Chelsea              Brighton   \n",
       "14   60           Brighton           Man City         Wolverhampton   \n",
       "15   28          Leicester        Bournemouth                Fulham   \n",
       "16   26            Chelsea      Wolverhampton  Nottingham Forest FC   \n",
       "17    1     Crystal Palace            Man Utd           Bournemouth   \n",
       "18   11     Crystal Palace            Man Utd           Bournemouth   \n",
       "19   70        Bournemouth          Newcastle        Crystal Palace   \n",
       "20   21            Chelsea      Wolverhampton  Nottingham Forest FC   \n",
       "21   47        Bournemouth          Newcastle        Crystal Palace   \n",
       "22   36            Chelsea      Wolverhampton  Nottingham Forest FC   \n",
       "23   52      Wolverhampton     Brentford F.C.               Arsenal   \n",
       "24   25             Fulham          Tottenham             Newcastle   \n",
       "25   35          Leicester        Bournemouth                Fulham   \n",
       "26   13            Everton     Crystal Palace              West Ham   \n",
       "27   28            Everton     Crystal Palace              West Ham   \n",
       "28   12     Crystal Palace            Man Utd           Bournemouth   \n",
       "29   50            Chelsea      Wolverhampton  Nottingham Forest FC   \n",
       "30   28          Leicester        Bournemouth                Fulham   \n",
       "31   49        Bournemouth          Newcastle        Crystal Palace   \n",
       "32   51        Bournemouth          Newcastle        Crystal Palace   \n",
       "33   41          Newcastle           West Ham     Leeds United F.C.   \n",
       "34   13            Everton     Crystal Palace              West Ham   \n",
       "35    4     Crystal Palace            Man Utd           Bournemouth   \n",
       "36   53          Tottenham  Leeds United F.C.             Leicester   \n",
       "37   41  Leeds United F.C.          Leicester               Man Utd   \n",
       "38    0           West Ham            Everton             Tottenham   \n",
       "39   31           Brighton           Man City         Wolverhampton   \n",
       "40    0            Arsenal        Southampton               Chelsea   \n",
       "41   29          Tottenham  Leeds United F.C.             Leicester   \n",
       "42   16          Tottenham  Leeds United F.C.             Leicester   \n",
       "43   38          Leicester        Bournemouth                Fulham   \n",
       "44    7     Brentford F.C.          Liverpool           Southampton   \n",
       "45   49        Bournemouth          Newcastle        Crystal Palace   \n",
       "46    3            Everton     Crystal Palace              West Ham   \n",
       "47   57            Man Utd             Fulham               Everton   \n",
       "48   11           Brighton           Man City         Wolverhampton   \n",
       "49   21     Brentford F.C.          Liverpool           Southampton   \n",
       "\n",
       "            NextFixture4       NextFixture5  GW2Forecast  \n",
       "0            Aston Villa            Man Utd        14.90  \n",
       "1              Newcastle            Everton        13.60  \n",
       "2   Nottingham Forest FC        Aston Villa        11.00  \n",
       "3              Newcastle            Everton         1.10  \n",
       "4   Nottingham Forest FC        Aston Villa        12.40  \n",
       "5            Southampton           West Ham         8.50  \n",
       "6            Aston Villa            Man Utd         8.70  \n",
       "7               Man City        Bournemouth         4.40  \n",
       "8                Man Utd           Brighton         0.50  \n",
       "9            Aston Villa            Man Utd         7.20  \n",
       "10             Newcastle            Everton        12.80  \n",
       "11              Brighton          Tottenham         0.00  \n",
       "12           Southampton           West Ham         3.80  \n",
       "13               Everton     Brentford F.C.         0.50  \n",
       "14             Liverpool     Crystal Palace         7.50  \n",
       "15           Aston Villa            Man Utd         8.70  \n",
       "16              West Ham             Fulham         1.80  \n",
       "17             Newcastle            Everton         1.70  \n",
       "18             Newcastle            Everton         1.10  \n",
       "19  Nottingham Forest FC        Aston Villa        12.20  \n",
       "20              West Ham             Fulham         6.20  \n",
       "21  Nottingham Forest FC        Aston Villa         8.00  \n",
       "22              West Ham             Fulham         2.50  \n",
       "23              Brighton          Tottenham         4.10  \n",
       "24           Bournemouth        Southampton         4.80  \n",
       "25           Aston Villa            Man Utd         2.80  \n",
       "26               Arsenal           Man City         2.20  \n",
       "27               Arsenal           Man City         0.00  \n",
       "28             Newcastle            Everton         1.10  \n",
       "29              West Ham             Fulham         5.90  \n",
       "30           Aston Villa            Man Utd         1.40  \n",
       "31  Nottingham Forest FC        Aston Villa         7.10  \n",
       "32  Nottingham Forest FC        Aston Villa         7.10  \n",
       "33                Fulham          Leicester         5.50  \n",
       "34               Arsenal           Man City         0.00  \n",
       "35             Newcastle            Everton         1.10  \n",
       "36           Southampton           West Ham         7.70  \n",
       "37               Chelsea      Wolverhampton         3.90  \n",
       "38              Man City        Bournemouth         0.00  \n",
       "39             Liverpool     Crystal Palace         1.50  \n",
       "40               Man Utd           Brighton         0.00  \n",
       "41           Southampton           West Ham         3.80  \n",
       "42           Southampton           West Ham         1.20  \n",
       "43           Aston Villa            Man Utd         3.40  \n",
       "44             Leicester            Arsenal         0.80  \n",
       "45  Nottingham Forest FC        Aston Villa        12.56  \n",
       "46               Arsenal           Man City         0.50  \n",
       "47        Crystal Palace  Leeds United F.C.        12.10  \n",
       "48             Liverpool     Crystal Palace         1.20  \n",
       "49             Leicester            Arsenal         0.80  \n",
       "\n",
       "[50 rows x 50 columns]"
      ]
     },
     "execution_count": 126,
     "metadata": {},
     "output_type": "execute_result"
    }
   ],
   "source": [
    "#Top selected Plyers\n",
    "data.sort_values(by=['SelectedByPercent'],ascending=False,ignore_index=True)[data.columns[:(data.columns.get_indexer(['NextFixture5'])+2)[0]]].head(50)\n",
    "#data.index = range(1, data.shape[0] + 1)"
   ]
  },
  {
   "cell_type": "code",
   "execution_count": 127,
   "metadata": {},
   "outputs": [
    {
     "data": {
      "text/html": [
       "<div>\n",
       "<style scoped>\n",
       "    .dataframe tbody tr th:only-of-type {\n",
       "        vertical-align: middle;\n",
       "    }\n",
       "\n",
       "    .dataframe tbody tr th {\n",
       "        vertical-align: top;\n",
       "    }\n",
       "\n",
       "    .dataframe thead th {\n",
       "        text-align: right;\n",
       "    }\n",
       "</style>\n",
       "<table border=\"1\" class=\"dataframe\">\n",
       "  <thead>\n",
       "    <tr style=\"text-align: right;\">\n",
       "      <th></th>\n",
       "      <th>FirstName</th>\n",
       "      <th>Surname</th>\n",
       "      <th>PositionsList</th>\n",
       "      <th>Team</th>\n",
       "      <th>Cost</th>\n",
       "      <th>PointsLastRound</th>\n",
       "      <th>TotalPoints</th>\n",
       "      <th>AveragePoints</th>\n",
       "      <th>AveragePointsPerDollar</th>\n",
       "      <th>TotalPointsPerDollar</th>\n",
       "      <th>...</th>\n",
       "      <th>TransfersInRound</th>\n",
       "      <th>PriceRiseRound</th>\n",
       "      <th>RedCards</th>\n",
       "      <th>BPS</th>\n",
       "      <th>NextFixture1</th>\n",
       "      <th>NextFixture2</th>\n",
       "      <th>NextFixture3</th>\n",
       "      <th>NextFixture4</th>\n",
       "      <th>NextFixture5</th>\n",
       "      <th>GW2Forecast</th>\n",
       "    </tr>\n",
       "  </thead>\n",
       "  <tbody>\n",
       "    <tr>\n",
       "      <th>0</th>\n",
       "      <td>NaN</td>\n",
       "      <td>Jesus</td>\n",
       "      <td>FWD</td>\n",
       "      <td>ARS</td>\n",
       "      <td>8000000</td>\n",
       "      <td>19</td>\n",
       "      <td>21</td>\n",
       "      <td>10.5</td>\n",
       "      <td>1.312500e-06</td>\n",
       "      <td>2.625000e-06</td>\n",
       "      <td>...</td>\n",
       "      <td>263271</td>\n",
       "      <td>0</td>\n",
       "      <td>0</td>\n",
       "      <td>72</td>\n",
       "      <td>Leicester</td>\n",
       "      <td>Bournemouth</td>\n",
       "      <td>Fulham</td>\n",
       "      <td>Aston Villa</td>\n",
       "      <td>Man Utd</td>\n",
       "      <td>14.9000</td>\n",
       "    </tr>\n",
       "    <tr>\n",
       "      <th>1</th>\n",
       "      <td>NaN</td>\n",
       "      <td>Rodrigo</td>\n",
       "      <td>MID</td>\n",
       "      <td>LEE</td>\n",
       "      <td>6100000</td>\n",
       "      <td>15</td>\n",
       "      <td>22</td>\n",
       "      <td>22.0</td>\n",
       "      <td>3.606557e-06</td>\n",
       "      <td>3.606557e-06</td>\n",
       "      <td>...</td>\n",
       "      <td>382402</td>\n",
       "      <td>1</td>\n",
       "      <td>0</td>\n",
       "      <td>72</td>\n",
       "      <td>Southampton</td>\n",
       "      <td>Chelsea</td>\n",
       "      <td>Brighton</td>\n",
       "      <td>Everton</td>\n",
       "      <td>Brentford F.C.</td>\n",
       "      <td>13.9776</td>\n",
       "    </tr>\n",
       "    <tr>\n",
       "      <th>2</th>\n",
       "      <td>Mohamed</td>\n",
       "      <td>Salah</td>\n",
       "      <td>MID</td>\n",
       "      <td>LIV</td>\n",
       "      <td>13000000</td>\n",
       "      <td>0</td>\n",
       "      <td>12</td>\n",
       "      <td>12.0</td>\n",
       "      <td>9.230769e-07</td>\n",
       "      <td>9.230769e-07</td>\n",
       "      <td>...</td>\n",
       "      <td>46341</td>\n",
       "      <td>0</td>\n",
       "      <td>0</td>\n",
       "      <td>34</td>\n",
       "      <td>Crystal Palace</td>\n",
       "      <td>Man Utd</td>\n",
       "      <td>Bournemouth</td>\n",
       "      <td>Newcastle</td>\n",
       "      <td>Everton</td>\n",
       "      <td>13.6000</td>\n",
       "    </tr>\n",
       "    <tr>\n",
       "      <th>3</th>\n",
       "      <td>NaN</td>\n",
       "      <td>Darwin</td>\n",
       "      <td>FWD</td>\n",
       "      <td>LIV</td>\n",
       "      <td>9100000</td>\n",
       "      <td>0</td>\n",
       "      <td>9</td>\n",
       "      <td>9.0</td>\n",
       "      <td>9.890110e-07</td>\n",
       "      <td>9.890110e-07</td>\n",
       "      <td>...</td>\n",
       "      <td>66481</td>\n",
       "      <td>0</td>\n",
       "      <td>0</td>\n",
       "      <td>31</td>\n",
       "      <td>Crystal Palace</td>\n",
       "      <td>Man Utd</td>\n",
       "      <td>Bournemouth</td>\n",
       "      <td>Newcastle</td>\n",
       "      <td>Everton</td>\n",
       "      <td>12.8000</td>\n",
       "    </tr>\n",
       "    <tr>\n",
       "      <th>4</th>\n",
       "      <td>Josh</td>\n",
       "      <td>Dasilva</td>\n",
       "      <td>MID</td>\n",
       "      <td>BRE</td>\n",
       "      <td>4600000</td>\n",
       "      <td>8</td>\n",
       "      <td>14</td>\n",
       "      <td>14.0</td>\n",
       "      <td>3.043478e-06</td>\n",
       "      <td>3.043478e-06</td>\n",
       "      <td>...</td>\n",
       "      <td>294968</td>\n",
       "      <td>1</td>\n",
       "      <td>0</td>\n",
       "      <td>48</td>\n",
       "      <td>Man Utd</td>\n",
       "      <td>Fulham</td>\n",
       "      <td>Everton</td>\n",
       "      <td>Crystal Palace</td>\n",
       "      <td>Leeds United F.C.</td>\n",
       "      <td>12.7360</td>\n",
       "    </tr>\n",
       "    <tr>\n",
       "      <th>5</th>\n",
       "      <td>Phil</td>\n",
       "      <td>Foden</td>\n",
       "      <td>MID</td>\n",
       "      <td>MCI</td>\n",
       "      <td>8000000</td>\n",
       "      <td>9</td>\n",
       "      <td>12</td>\n",
       "      <td>12.0</td>\n",
       "      <td>1.500000e-06</td>\n",
       "      <td>1.500000e-06</td>\n",
       "      <td>...</td>\n",
       "      <td>80560</td>\n",
       "      <td>0</td>\n",
       "      <td>0</td>\n",
       "      <td>49</td>\n",
       "      <td>Bournemouth</td>\n",
       "      <td>Newcastle</td>\n",
       "      <td>Crystal Palace</td>\n",
       "      <td>Nottingham Forest FC</td>\n",
       "      <td>Aston Villa</td>\n",
       "      <td>12.5600</td>\n",
       "    </tr>\n",
       "    <tr>\n",
       "      <th>6</th>\n",
       "      <td>Joao</td>\n",
       "      <td>Cancelo</td>\n",
       "      <td>DEF</td>\n",
       "      <td>MCI</td>\n",
       "      <td>7000000</td>\n",
       "      <td>11</td>\n",
       "      <td>18</td>\n",
       "      <td>9.0</td>\n",
       "      <td>1.285714e-06</td>\n",
       "      <td>2.571429e-06</td>\n",
       "      <td>...</td>\n",
       "      <td>97467</td>\n",
       "      <td>0</td>\n",
       "      <td>0</td>\n",
       "      <td>63</td>\n",
       "      <td>Bournemouth</td>\n",
       "      <td>Newcastle</td>\n",
       "      <td>Crystal Palace</td>\n",
       "      <td>Nottingham Forest FC</td>\n",
       "      <td>Aston Villa</td>\n",
       "      <td>12.4000</td>\n",
       "    </tr>\n",
       "    <tr>\n",
       "      <th>7</th>\n",
       "      <td>Fabian</td>\n",
       "      <td>Schar</td>\n",
       "      <td>DEF</td>\n",
       "      <td>NEW</td>\n",
       "      <td>4600000</td>\n",
       "      <td>5</td>\n",
       "      <td>20</td>\n",
       "      <td>10.0</td>\n",
       "      <td>2.173913e-06</td>\n",
       "      <td>4.347826e-06</td>\n",
       "      <td>...</td>\n",
       "      <td>99149</td>\n",
       "      <td>0</td>\n",
       "      <td>0</td>\n",
       "      <td>65</td>\n",
       "      <td>Brighton</td>\n",
       "      <td>Man City</td>\n",
       "      <td>Wolverhampton</td>\n",
       "      <td>Liverpool</td>\n",
       "      <td>Crystal Palace</td>\n",
       "      <td>12.4000</td>\n",
       "    </tr>\n",
       "    <tr>\n",
       "      <th>8</th>\n",
       "      <td>Kevin</td>\n",
       "      <td>De Bruyne</td>\n",
       "      <td>MID</td>\n",
       "      <td>MCI</td>\n",
       "      <td>12000000</td>\n",
       "      <td>14</td>\n",
       "      <td>20</td>\n",
       "      <td>10.0</td>\n",
       "      <td>8.333333e-07</td>\n",
       "      <td>1.666667e-06</td>\n",
       "      <td>...</td>\n",
       "      <td>136609</td>\n",
       "      <td>0</td>\n",
       "      <td>0</td>\n",
       "      <td>70</td>\n",
       "      <td>Bournemouth</td>\n",
       "      <td>Newcastle</td>\n",
       "      <td>Crystal Palace</td>\n",
       "      <td>Nottingham Forest FC</td>\n",
       "      <td>Aston Villa</td>\n",
       "      <td>12.2000</td>\n",
       "    </tr>\n",
       "    <tr>\n",
       "      <th>9</th>\n",
       "      <td>Ivan</td>\n",
       "      <td>Toney</td>\n",
       "      <td>FWD</td>\n",
       "      <td>BRE</td>\n",
       "      <td>7000000</td>\n",
       "      <td>9</td>\n",
       "      <td>17</td>\n",
       "      <td>8.5</td>\n",
       "      <td>1.214286e-06</td>\n",
       "      <td>2.428571e-06</td>\n",
       "      <td>...</td>\n",
       "      <td>110356</td>\n",
       "      <td>0</td>\n",
       "      <td>0</td>\n",
       "      <td>57</td>\n",
       "      <td>Man Utd</td>\n",
       "      <td>Fulham</td>\n",
       "      <td>Everton</td>\n",
       "      <td>Crystal Palace</td>\n",
       "      <td>Leeds United F.C.</td>\n",
       "      <td>12.1000</td>\n",
       "    </tr>\n",
       "    <tr>\n",
       "      <th>10</th>\n",
       "      <td>Dean</td>\n",
       "      <td>Henderson</td>\n",
       "      <td>GLK</td>\n",
       "      <td>NFO</td>\n",
       "      <td>4500000</td>\n",
       "      <td>14</td>\n",
       "      <td>17</td>\n",
       "      <td>8.5</td>\n",
       "      <td>1.888889e-06</td>\n",
       "      <td>3.777778e-06</td>\n",
       "      <td>...</td>\n",
       "      <td>42321</td>\n",
       "      <td>0</td>\n",
       "      <td>0</td>\n",
       "      <td>69</td>\n",
       "      <td>West Ham</td>\n",
       "      <td>Everton</td>\n",
       "      <td>Tottenham</td>\n",
       "      <td>Man City</td>\n",
       "      <td>Bournemouth</td>\n",
       "      <td>12.1000</td>\n",
       "    </tr>\n",
       "    <tr>\n",
       "      <th>11</th>\n",
       "      <td>Ben</td>\n",
       "      <td>Chilwell</td>\n",
       "      <td>DEF</td>\n",
       "      <td>CHE</td>\n",
       "      <td>6000000</td>\n",
       "      <td>0</td>\n",
       "      <td>9</td>\n",
       "      <td>9.0</td>\n",
       "      <td>1.500000e-06</td>\n",
       "      <td>1.500000e-06</td>\n",
       "      <td>...</td>\n",
       "      <td>13474</td>\n",
       "      <td>0</td>\n",
       "      <td>0</td>\n",
       "      <td>27</td>\n",
       "      <td>Tottenham</td>\n",
       "      <td>Leeds United F.C.</td>\n",
       "      <td>Leicester</td>\n",
       "      <td>Southampton</td>\n",
       "      <td>West Ham</td>\n",
       "      <td>12.0000</td>\n",
       "    </tr>\n",
       "    <tr>\n",
       "      <th>12</th>\n",
       "      <td>NaN</td>\n",
       "      <td>Buendia</td>\n",
       "      <td>MID</td>\n",
       "      <td>AVL</td>\n",
       "      <td>6000000</td>\n",
       "      <td>8</td>\n",
       "      <td>9</td>\n",
       "      <td>9.0</td>\n",
       "      <td>1.500000e-06</td>\n",
       "      <td>1.500000e-06</td>\n",
       "      <td>...</td>\n",
       "      <td>12684</td>\n",
       "      <td>0</td>\n",
       "      <td>0</td>\n",
       "      <td>34</td>\n",
       "      <td>Everton</td>\n",
       "      <td>Crystal Palace</td>\n",
       "      <td>West Ham</td>\n",
       "      <td>Arsenal</td>\n",
       "      <td>Man City</td>\n",
       "      <td>11.5000</td>\n",
       "    </tr>\n",
       "    <tr>\n",
       "      <th>13</th>\n",
       "      <td>Erling</td>\n",
       "      <td>Haaland</td>\n",
       "      <td>FWD</td>\n",
       "      <td>MCI</td>\n",
       "      <td>11700000</td>\n",
       "      <td>5</td>\n",
       "      <td>18</td>\n",
       "      <td>9.0</td>\n",
       "      <td>7.692308e-07</td>\n",
       "      <td>1.538462e-06</td>\n",
       "      <td>...</td>\n",
       "      <td>93981</td>\n",
       "      <td>1</td>\n",
       "      <td>0</td>\n",
       "      <td>64</td>\n",
       "      <td>Bournemouth</td>\n",
       "      <td>Newcastle</td>\n",
       "      <td>Crystal Palace</td>\n",
       "      <td>Nottingham Forest FC</td>\n",
       "      <td>Aston Villa</td>\n",
       "      <td>11.0000</td>\n",
       "    </tr>\n",
       "    <tr>\n",
       "      <th>14</th>\n",
       "      <td>NaN</td>\n",
       "      <td>Sa</td>\n",
       "      <td>GLK</td>\n",
       "      <td>WOL</td>\n",
       "      <td>5000000</td>\n",
       "      <td>15</td>\n",
       "      <td>17</td>\n",
       "      <td>8.5</td>\n",
       "      <td>1.700000e-06</td>\n",
       "      <td>3.400000e-06</td>\n",
       "      <td>...</td>\n",
       "      <td>21610</td>\n",
       "      <td>0</td>\n",
       "      <td>0</td>\n",
       "      <td>60</td>\n",
       "      <td>Fulham</td>\n",
       "      <td>Tottenham</td>\n",
       "      <td>Newcastle</td>\n",
       "      <td>Bournemouth</td>\n",
       "      <td>Southampton</td>\n",
       "      <td>10.5000</td>\n",
       "    </tr>\n",
       "    <tr>\n",
       "      <th>15</th>\n",
       "      <td>Pascal</td>\n",
       "      <td>Gro?</td>\n",
       "      <td>MID</td>\n",
       "      <td>BHA</td>\n",
       "      <td>5600000</td>\n",
       "      <td>3</td>\n",
       "      <td>18</td>\n",
       "      <td>9.0</td>\n",
       "      <td>1.607143e-06</td>\n",
       "      <td>3.214286e-06</td>\n",
       "      <td>...</td>\n",
       "      <td>91420</td>\n",
       "      <td>0</td>\n",
       "      <td>0</td>\n",
       "      <td>51</td>\n",
       "      <td>Newcastle</td>\n",
       "      <td>West Ham</td>\n",
       "      <td>Leeds United F.C.</td>\n",
       "      <td>Fulham</td>\n",
       "      <td>Leicester</td>\n",
       "      <td>9.9000</td>\n",
       "    </tr>\n",
       "    <tr>\n",
       "      <th>16</th>\n",
       "      <td>NaN</td>\n",
       "      <td>R.Sessegnon</td>\n",
       "      <td>DEF</td>\n",
       "      <td>TOT</td>\n",
       "      <td>4500000</td>\n",
       "      <td>1</td>\n",
       "      <td>8</td>\n",
       "      <td>8.0</td>\n",
       "      <td>1.777778e-06</td>\n",
       "      <td>1.777778e-06</td>\n",
       "      <td>...</td>\n",
       "      <td>29284</td>\n",
       "      <td>0</td>\n",
       "      <td>0</td>\n",
       "      <td>16</td>\n",
       "      <td>Chelsea</td>\n",
       "      <td>Wolverhampton</td>\n",
       "      <td>Nottingham Forest FC</td>\n",
       "      <td>West Ham</td>\n",
       "      <td>Fulham</td>\n",
       "      <td>9.9000</td>\n",
       "    </tr>\n",
       "    <tr>\n",
       "      <th>17</th>\n",
       "      <td>Ben</td>\n",
       "      <td>Mee</td>\n",
       "      <td>DEF</td>\n",
       "      <td>BRE</td>\n",
       "      <td>4500000</td>\n",
       "      <td>14</td>\n",
       "      <td>14</td>\n",
       "      <td>7.0</td>\n",
       "      <td>1.555556e-06</td>\n",
       "      <td>3.111111e-06</td>\n",
       "      <td>...</td>\n",
       "      <td>77912</td>\n",
       "      <td>0</td>\n",
       "      <td>0</td>\n",
       "      <td>41</td>\n",
       "      <td>Man Utd</td>\n",
       "      <td>Fulham</td>\n",
       "      <td>Everton</td>\n",
       "      <td>Crystal Palace</td>\n",
       "      <td>Leeds United F.C.</td>\n",
       "      <td>9.9000</td>\n",
       "    </tr>\n",
       "    <tr>\n",
       "      <th>18</th>\n",
       "      <td>Mathias</td>\n",
       "      <td>Jensen</td>\n",
       "      <td>MID</td>\n",
       "      <td>BRE</td>\n",
       "      <td>5000000</td>\n",
       "      <td>14</td>\n",
       "      <td>15</td>\n",
       "      <td>7.5</td>\n",
       "      <td>1.500000e-06</td>\n",
       "      <td>3.000000e-06</td>\n",
       "      <td>...</td>\n",
       "      <td>70987</td>\n",
       "      <td>0</td>\n",
       "      <td>0</td>\n",
       "      <td>48</td>\n",
       "      <td>Man Utd</td>\n",
       "      <td>Fulham</td>\n",
       "      <td>Everton</td>\n",
       "      <td>Crystal Palace</td>\n",
       "      <td>Leeds United F.C.</td>\n",
       "      <td>9.5000</td>\n",
       "    </tr>\n",
       "    <tr>\n",
       "      <th>19</th>\n",
       "      <td>Nick</td>\n",
       "      <td>Pope</td>\n",
       "      <td>GLK</td>\n",
       "      <td>NEW</td>\n",
       "      <td>5000000</td>\n",
       "      <td>10</td>\n",
       "      <td>16</td>\n",
       "      <td>8.0</td>\n",
       "      <td>1.600000e-06</td>\n",
       "      <td>3.200000e-06</td>\n",
       "      <td>...</td>\n",
       "      <td>27943</td>\n",
       "      <td>0</td>\n",
       "      <td>0</td>\n",
       "      <td>52</td>\n",
       "      <td>Brighton</td>\n",
       "      <td>Man City</td>\n",
       "      <td>Wolverhampton</td>\n",
       "      <td>Liverpool</td>\n",
       "      <td>Crystal Palace</td>\n",
       "      <td>9.1000</td>\n",
       "    </tr>\n",
       "    <tr>\n",
       "      <th>20</th>\n",
       "      <td>NaN</td>\n",
       "      <td>Martinelli</td>\n",
       "      <td>MID</td>\n",
       "      <td>ARS</td>\n",
       "      <td>6200000</td>\n",
       "      <td>8</td>\n",
       "      <td>16</td>\n",
       "      <td>8.0</td>\n",
       "      <td>1.290323e-06</td>\n",
       "      <td>2.580645e-06</td>\n",
       "      <td>...</td>\n",
       "      <td>492892</td>\n",
       "      <td>1</td>\n",
       "      <td>0</td>\n",
       "      <td>53</td>\n",
       "      <td>Leicester</td>\n",
       "      <td>Bournemouth</td>\n",
       "      <td>Fulham</td>\n",
       "      <td>Aston Villa</td>\n",
       "      <td>Man Utd</td>\n",
       "      <td>8.7000</td>\n",
       "    </tr>\n",
       "    <tr>\n",
       "      <th>21</th>\n",
       "      <td>Bukayo</td>\n",
       "      <td>Saka</td>\n",
       "      <td>MID</td>\n",
       "      <td>ARS</td>\n",
       "      <td>8000000</td>\n",
       "      <td>2</td>\n",
       "      <td>8</td>\n",
       "      <td>8.0</td>\n",
       "      <td>1.000000e-06</td>\n",
       "      <td>1.000000e-06</td>\n",
       "      <td>...</td>\n",
       "      <td>21600</td>\n",
       "      <td>0</td>\n",
       "      <td>0</td>\n",
       "      <td>28</td>\n",
       "      <td>Leicester</td>\n",
       "      <td>Bournemouth</td>\n",
       "      <td>Fulham</td>\n",
       "      <td>Aston Villa</td>\n",
       "      <td>Man Utd</td>\n",
       "      <td>8.7000</td>\n",
       "    </tr>\n",
       "    <tr>\n",
       "      <th>22</th>\n",
       "      <td>NaN</td>\n",
       "      <td>Roerslev</td>\n",
       "      <td>DEF</td>\n",
       "      <td>BRE</td>\n",
       "      <td>4500000</td>\n",
       "      <td>6</td>\n",
       "      <td>6</td>\n",
       "      <td>6.0</td>\n",
       "      <td>1.333333e-06</td>\n",
       "      <td>1.333333e-06</td>\n",
       "      <td>...</td>\n",
       "      <td>191</td>\n",
       "      <td>0</td>\n",
       "      <td>0</td>\n",
       "      <td>20</td>\n",
       "      <td>Man Utd</td>\n",
       "      <td>Fulham</td>\n",
       "      <td>Everton</td>\n",
       "      <td>Crystal Palace</td>\n",
       "      <td>Leeds United F.C.</td>\n",
       "      <td>8.5000</td>\n",
       "    </tr>\n",
       "    <tr>\n",
       "      <th>23</th>\n",
       "      <td>Reece</td>\n",
       "      <td>James</td>\n",
       "      <td>DEF</td>\n",
       "      <td>CHE</td>\n",
       "      <td>6000000</td>\n",
       "      <td>7</td>\n",
       "      <td>14</td>\n",
       "      <td>7.0</td>\n",
       "      <td>1.166667e-06</td>\n",
       "      <td>2.333333e-06</td>\n",
       "      <td>...</td>\n",
       "      <td>111677</td>\n",
       "      <td>0</td>\n",
       "      <td>0</td>\n",
       "      <td>62</td>\n",
       "      <td>Tottenham</td>\n",
       "      <td>Leeds United F.C.</td>\n",
       "      <td>Leicester</td>\n",
       "      <td>Southampton</td>\n",
       "      <td>West Ham</td>\n",
       "      <td>8.5000</td>\n",
       "    </tr>\n",
       "    <tr>\n",
       "      <th>24</th>\n",
       "      <td>Nathan</td>\n",
       "      <td>Ake</td>\n",
       "      <td>DEF</td>\n",
       "      <td>MCI</td>\n",
       "      <td>5000000</td>\n",
       "      <td>6</td>\n",
       "      <td>13</td>\n",
       "      <td>6.5</td>\n",
       "      <td>1.300000e-06</td>\n",
       "      <td>2.600000e-06</td>\n",
       "      <td>...</td>\n",
       "      <td>40188</td>\n",
       "      <td>0</td>\n",
       "      <td>0</td>\n",
       "      <td>51</td>\n",
       "      <td>Bournemouth</td>\n",
       "      <td>Newcastle</td>\n",
       "      <td>Crystal Palace</td>\n",
       "      <td>Nottingham Forest FC</td>\n",
       "      <td>Aston Villa</td>\n",
       "      <td>8.0000</td>\n",
       "    </tr>\n",
       "    <tr>\n",
       "      <th>25</th>\n",
       "      <td>NaN</td>\n",
       "      <td>Ederson</td>\n",
       "      <td>GLK</td>\n",
       "      <td>MCI</td>\n",
       "      <td>5500000</td>\n",
       "      <td>6</td>\n",
       "      <td>13</td>\n",
       "      <td>6.5</td>\n",
       "      <td>1.181818e-06</td>\n",
       "      <td>2.363636e-06</td>\n",
       "      <td>...</td>\n",
       "      <td>49872</td>\n",
       "      <td>0</td>\n",
       "      <td>0</td>\n",
       "      <td>47</td>\n",
       "      <td>Bournemouth</td>\n",
       "      <td>Newcastle</td>\n",
       "      <td>Crystal Palace</td>\n",
       "      <td>Nottingham Forest FC</td>\n",
       "      <td>Aston Villa</td>\n",
       "      <td>8.0000</td>\n",
       "    </tr>\n",
       "    <tr>\n",
       "      <th>26</th>\n",
       "      <td>Ollie</td>\n",
       "      <td>Watkins</td>\n",
       "      <td>FWD</td>\n",
       "      <td>AVL</td>\n",
       "      <td>7400000</td>\n",
       "      <td>11</td>\n",
       "      <td>12</td>\n",
       "      <td>6.0</td>\n",
       "      <td>8.108108e-07</td>\n",
       "      <td>1.621622e-06</td>\n",
       "      <td>...</td>\n",
       "      <td>22377</td>\n",
       "      <td>0</td>\n",
       "      <td>0</td>\n",
       "      <td>30</td>\n",
       "      <td>Everton</td>\n",
       "      <td>Crystal Palace</td>\n",
       "      <td>West Ham</td>\n",
       "      <td>Arsenal</td>\n",
       "      <td>Man City</td>\n",
       "      <td>7.9000</td>\n",
       "    </tr>\n",
       "    <tr>\n",
       "      <th>27</th>\n",
       "      <td>Kalidou</td>\n",
       "      <td>Koulibaly</td>\n",
       "      <td>DEF</td>\n",
       "      <td>CHE</td>\n",
       "      <td>5500000</td>\n",
       "      <td>7</td>\n",
       "      <td>13</td>\n",
       "      <td>6.5</td>\n",
       "      <td>1.181818e-06</td>\n",
       "      <td>2.363636e-06</td>\n",
       "      <td>...</td>\n",
       "      <td>71029</td>\n",
       "      <td>0</td>\n",
       "      <td>0</td>\n",
       "      <td>53</td>\n",
       "      <td>Tottenham</td>\n",
       "      <td>Leeds United F.C.</td>\n",
       "      <td>Leicester</td>\n",
       "      <td>Southampton</td>\n",
       "      <td>West Ham</td>\n",
       "      <td>7.7000</td>\n",
       "    </tr>\n",
       "    <tr>\n",
       "      <th>28</th>\n",
       "      <td>Kieran</td>\n",
       "      <td>Trippier</td>\n",
       "      <td>DEF</td>\n",
       "      <td>NEW</td>\n",
       "      <td>5000000</td>\n",
       "      <td>7</td>\n",
       "      <td>14</td>\n",
       "      <td>7.0</td>\n",
       "      <td>1.400000e-06</td>\n",
       "      <td>2.800000e-06</td>\n",
       "      <td>...</td>\n",
       "      <td>90728</td>\n",
       "      <td>0</td>\n",
       "      <td>0</td>\n",
       "      <td>60</td>\n",
       "      <td>Brighton</td>\n",
       "      <td>Man City</td>\n",
       "      <td>Wolverhampton</td>\n",
       "      <td>Liverpool</td>\n",
       "      <td>Crystal Palace</td>\n",
       "      <td>7.5000</td>\n",
       "    </tr>\n",
       "    <tr>\n",
       "      <th>29</th>\n",
       "      <td>Oleksandr</td>\n",
       "      <td>Zinchenko</td>\n",
       "      <td>DEF</td>\n",
       "      <td>ARS</td>\n",
       "      <td>5100000</td>\n",
       "      <td>1</td>\n",
       "      <td>13</td>\n",
       "      <td>6.5</td>\n",
       "      <td>1.274510e-06</td>\n",
       "      <td>2.549020e-06</td>\n",
       "      <td>...</td>\n",
       "      <td>134457</td>\n",
       "      <td>0</td>\n",
       "      <td>0</td>\n",
       "      <td>53</td>\n",
       "      <td>Leicester</td>\n",
       "      <td>Bournemouth</td>\n",
       "      <td>Fulham</td>\n",
       "      <td>Aston Villa</td>\n",
       "      <td>Man Utd</td>\n",
       "      <td>7.2000</td>\n",
       "    </tr>\n",
       "    <tr>\n",
       "      <th>30</th>\n",
       "      <td>Rico</td>\n",
       "      <td>Henry</td>\n",
       "      <td>DEF</td>\n",
       "      <td>BRE</td>\n",
       "      <td>4500000</td>\n",
       "      <td>6</td>\n",
       "      <td>10</td>\n",
       "      <td>5.0</td>\n",
       "      <td>1.111111e-06</td>\n",
       "      <td>2.222222e-06</td>\n",
       "      <td>...</td>\n",
       "      <td>20701</td>\n",
       "      <td>0</td>\n",
       "      <td>0</td>\n",
       "      <td>41</td>\n",
       "      <td>Man Utd</td>\n",
       "      <td>Fulham</td>\n",
       "      <td>Everton</td>\n",
       "      <td>Crystal Palace</td>\n",
       "      <td>Leeds United F.C.</td>\n",
       "      <td>7.1000</td>\n",
       "    </tr>\n",
       "    <tr>\n",
       "      <th>31</th>\n",
       "      <td>Granit</td>\n",
       "      <td>Xhaka</td>\n",
       "      <td>MID</td>\n",
       "      <td>ARS</td>\n",
       "      <td>5000000</td>\n",
       "      <td>12</td>\n",
       "      <td>14</td>\n",
       "      <td>7.0</td>\n",
       "      <td>1.400000e-06</td>\n",
       "      <td>2.800000e-06</td>\n",
       "      <td>...</td>\n",
       "      <td>51066</td>\n",
       "      <td>0</td>\n",
       "      <td>0</td>\n",
       "      <td>47</td>\n",
       "      <td>Leicester</td>\n",
       "      <td>Bournemouth</td>\n",
       "      <td>Fulham</td>\n",
       "      <td>Aston Villa</td>\n",
       "      <td>Man Utd</td>\n",
       "      <td>7.1000</td>\n",
       "    </tr>\n",
       "    <tr>\n",
       "      <th>32</th>\n",
       "      <td>Kyle</td>\n",
       "      <td>Walker</td>\n",
       "      <td>DEF</td>\n",
       "      <td>MCI</td>\n",
       "      <td>5100000</td>\n",
       "      <td>6</td>\n",
       "      <td>12</td>\n",
       "      <td>6.0</td>\n",
       "      <td>1.176471e-06</td>\n",
       "      <td>2.352941e-06</td>\n",
       "      <td>...</td>\n",
       "      <td>103434</td>\n",
       "      <td>1</td>\n",
       "      <td>0</td>\n",
       "      <td>49</td>\n",
       "      <td>Bournemouth</td>\n",
       "      <td>Newcastle</td>\n",
       "      <td>Crystal Palace</td>\n",
       "      <td>Nottingham Forest FC</td>\n",
       "      <td>Aston Villa</td>\n",
       "      <td>7.1000</td>\n",
       "    </tr>\n",
       "    <tr>\n",
       "      <th>33</th>\n",
       "      <td>NaN</td>\n",
       "      <td>Dias</td>\n",
       "      <td>DEF</td>\n",
       "      <td>MCI</td>\n",
       "      <td>6000000</td>\n",
       "      <td>6</td>\n",
       "      <td>12</td>\n",
       "      <td>6.0</td>\n",
       "      <td>1.000000e-06</td>\n",
       "      <td>2.000000e-06</td>\n",
       "      <td>...</td>\n",
       "      <td>26399</td>\n",
       "      <td>0</td>\n",
       "      <td>0</td>\n",
       "      <td>51</td>\n",
       "      <td>Bournemouth</td>\n",
       "      <td>Newcastle</td>\n",
       "      <td>Crystal Palace</td>\n",
       "      <td>Nottingham Forest FC</td>\n",
       "      <td>Aston Villa</td>\n",
       "      <td>7.1000</td>\n",
       "    </tr>\n",
       "    <tr>\n",
       "      <th>34</th>\n",
       "      <td>Dan</td>\n",
       "      <td>Burn</td>\n",
       "      <td>DEF</td>\n",
       "      <td>NEW</td>\n",
       "      <td>4500000</td>\n",
       "      <td>7</td>\n",
       "      <td>13</td>\n",
       "      <td>6.5</td>\n",
       "      <td>1.444444e-06</td>\n",
       "      <td>2.888889e-06</td>\n",
       "      <td>...</td>\n",
       "      <td>13835</td>\n",
       "      <td>0</td>\n",
       "      <td>0</td>\n",
       "      <td>51</td>\n",
       "      <td>Brighton</td>\n",
       "      <td>Man City</td>\n",
       "      <td>Wolverhampton</td>\n",
       "      <td>Liverpool</td>\n",
       "      <td>Crystal Palace</td>\n",
       "      <td>6.7000</td>\n",
       "    </tr>\n",
       "    <tr>\n",
       "      <th>35</th>\n",
       "      <td>Ilkay</td>\n",
       "      <td>Gundogan</td>\n",
       "      <td>MID</td>\n",
       "      <td>MCI</td>\n",
       "      <td>7500000</td>\n",
       "      <td>10</td>\n",
       "      <td>13</td>\n",
       "      <td>6.5</td>\n",
       "      <td>8.666667e-07</td>\n",
       "      <td>1.733333e-06</td>\n",
       "      <td>...</td>\n",
       "      <td>49761</td>\n",
       "      <td>0</td>\n",
       "      <td>0</td>\n",
       "      <td>47</td>\n",
       "      <td>Bournemouth</td>\n",
       "      <td>Newcastle</td>\n",
       "      <td>Crystal Palace</td>\n",
       "      <td>Nottingham Forest FC</td>\n",
       "      <td>Aston Villa</td>\n",
       "      <td>6.6000</td>\n",
       "    </tr>\n",
       "    <tr>\n",
       "      <th>36</th>\n",
       "      <td>NaN</td>\n",
       "      <td>Hwang</td>\n",
       "      <td>MID</td>\n",
       "      <td>WOL</td>\n",
       "      <td>6000000</td>\n",
       "      <td>1</td>\n",
       "      <td>6</td>\n",
       "      <td>6.0</td>\n",
       "      <td>1.000000e-06</td>\n",
       "      <td>1.000000e-06</td>\n",
       "      <td>...</td>\n",
       "      <td>1724</td>\n",
       "      <td>0</td>\n",
       "      <td>0</td>\n",
       "      <td>20</td>\n",
       "      <td>Fulham</td>\n",
       "      <td>Tottenham</td>\n",
       "      <td>Newcastle</td>\n",
       "      <td>Bournemouth</td>\n",
       "      <td>Southampton</td>\n",
       "      <td>6.4000</td>\n",
       "    </tr>\n",
       "    <tr>\n",
       "      <th>37</th>\n",
       "      <td>NaN</td>\n",
       "      <td>Podence</td>\n",
       "      <td>MID</td>\n",
       "      <td>WOL</td>\n",
       "      <td>5500000</td>\n",
       "      <td>2</td>\n",
       "      <td>12</td>\n",
       "      <td>6.0</td>\n",
       "      <td>1.090909e-06</td>\n",
       "      <td>2.181818e-06</td>\n",
       "      <td>...</td>\n",
       "      <td>15758</td>\n",
       "      <td>0</td>\n",
       "      <td>0</td>\n",
       "      <td>26</td>\n",
       "      <td>Fulham</td>\n",
       "      <td>Tottenham</td>\n",
       "      <td>Newcastle</td>\n",
       "      <td>Bournemouth</td>\n",
       "      <td>Southampton</td>\n",
       "      <td>6.4000</td>\n",
       "    </tr>\n",
       "    <tr>\n",
       "      <th>38</th>\n",
       "      <td>NaN</td>\n",
       "      <td>Raya</td>\n",
       "      <td>GLK</td>\n",
       "      <td>BRE</td>\n",
       "      <td>4500000</td>\n",
       "      <td>7</td>\n",
       "      <td>9</td>\n",
       "      <td>4.5</td>\n",
       "      <td>1.000000e-06</td>\n",
       "      <td>2.000000e-06</td>\n",
       "      <td>...</td>\n",
       "      <td>29473</td>\n",
       "      <td>0</td>\n",
       "      <td>0</td>\n",
       "      <td>45</td>\n",
       "      <td>Man Utd</td>\n",
       "      <td>Fulham</td>\n",
       "      <td>Everton</td>\n",
       "      <td>Crystal Palace</td>\n",
       "      <td>Leeds United F.C.</td>\n",
       "      <td>6.4000</td>\n",
       "    </tr>\n",
       "    <tr>\n",
       "      <th>39</th>\n",
       "      <td>NaN</td>\n",
       "      <td>Emerson Royal</td>\n",
       "      <td>DEF</td>\n",
       "      <td>TOT</td>\n",
       "      <td>5000000</td>\n",
       "      <td>1</td>\n",
       "      <td>10</td>\n",
       "      <td>5.0</td>\n",
       "      <td>1.000000e-06</td>\n",
       "      <td>2.000000e-06</td>\n",
       "      <td>...</td>\n",
       "      <td>32749</td>\n",
       "      <td>0</td>\n",
       "      <td>0</td>\n",
       "      <td>40</td>\n",
       "      <td>Chelsea</td>\n",
       "      <td>Wolverhampton</td>\n",
       "      <td>Nottingham Forest FC</td>\n",
       "      <td>West Ham</td>\n",
       "      <td>Fulham</td>\n",
       "      <td>6.2000</td>\n",
       "    </tr>\n",
       "    <tr>\n",
       "      <th>40</th>\n",
       "      <td>Ivan</td>\n",
       "      <td>Perisic</td>\n",
       "      <td>DEF</td>\n",
       "      <td>TOT</td>\n",
       "      <td>5400000</td>\n",
       "      <td>4</td>\n",
       "      <td>5</td>\n",
       "      <td>5.0</td>\n",
       "      <td>9.259259e-07</td>\n",
       "      <td>9.259259e-07</td>\n",
       "      <td>...</td>\n",
       "      <td>18073</td>\n",
       "      <td>-1</td>\n",
       "      <td>0</td>\n",
       "      <td>21</td>\n",
       "      <td>Chelsea</td>\n",
       "      <td>Wolverhampton</td>\n",
       "      <td>Nottingham Forest FC</td>\n",
       "      <td>West Ham</td>\n",
       "      <td>Fulham</td>\n",
       "      <td>6.2000</td>\n",
       "    </tr>\n",
       "    <tr>\n",
       "      <th>41</th>\n",
       "      <td>Dejan</td>\n",
       "      <td>Kulusevski</td>\n",
       "      <td>MID</td>\n",
       "      <td>TOT</td>\n",
       "      <td>8100000</td>\n",
       "      <td>2</td>\n",
       "      <td>15</td>\n",
       "      <td>7.5</td>\n",
       "      <td>9.259259e-07</td>\n",
       "      <td>1.851852e-06</td>\n",
       "      <td>...</td>\n",
       "      <td>138010</td>\n",
       "      <td>0</td>\n",
       "      <td>0</td>\n",
       "      <td>50</td>\n",
       "      <td>Chelsea</td>\n",
       "      <td>Wolverhampton</td>\n",
       "      <td>Nottingham Forest FC</td>\n",
       "      <td>West Ham</td>\n",
       "      <td>Fulham</td>\n",
       "      <td>5.9000</td>\n",
       "    </tr>\n",
       "    <tr>\n",
       "      <th>42</th>\n",
       "      <td>NaN</td>\n",
       "      <td>Jorginho</td>\n",
       "      <td>MID</td>\n",
       "      <td>CHE</td>\n",
       "      <td>6000000</td>\n",
       "      <td>2</td>\n",
       "      <td>13</td>\n",
       "      <td>6.5</td>\n",
       "      <td>1.083333e-06</td>\n",
       "      <td>2.166667e-06</td>\n",
       "      <td>...</td>\n",
       "      <td>41689</td>\n",
       "      <td>0</td>\n",
       "      <td>0</td>\n",
       "      <td>48</td>\n",
       "      <td>Tottenham</td>\n",
       "      <td>Leeds United F.C.</td>\n",
       "      <td>Leicester</td>\n",
       "      <td>Southampton</td>\n",
       "      <td>West Ham</td>\n",
       "      <td>5.8000</td>\n",
       "    </tr>\n",
       "    <tr>\n",
       "      <th>43</th>\n",
       "      <td>Halil</td>\n",
       "      <td>Dervisoglu</td>\n",
       "      <td>FWD</td>\n",
       "      <td>BRE</td>\n",
       "      <td>4500000</td>\n",
       "      <td>0</td>\n",
       "      <td>4</td>\n",
       "      <td>4.0</td>\n",
       "      <td>8.888889e-07</td>\n",
       "      <td>8.888889e-07</td>\n",
       "      <td>...</td>\n",
       "      <td>37953</td>\n",
       "      <td>0</td>\n",
       "      <td>0</td>\n",
       "      <td>11</td>\n",
       "      <td>Man Utd</td>\n",
       "      <td>Fulham</td>\n",
       "      <td>Everton</td>\n",
       "      <td>Crystal Palace</td>\n",
       "      <td>Leeds United F.C.</td>\n",
       "      <td>5.7000</td>\n",
       "    </tr>\n",
       "    <tr>\n",
       "      <th>44</th>\n",
       "      <td>Bryan</td>\n",
       "      <td>Mbeumo</td>\n",
       "      <td>FWD</td>\n",
       "      <td>BRE</td>\n",
       "      <td>6000000</td>\n",
       "      <td>6</td>\n",
       "      <td>8</td>\n",
       "      <td>4.0</td>\n",
       "      <td>6.666667e-07</td>\n",
       "      <td>1.333333e-06</td>\n",
       "      <td>...</td>\n",
       "      <td>28378</td>\n",
       "      <td>0</td>\n",
       "      <td>0</td>\n",
       "      <td>40</td>\n",
       "      <td>Man Utd</td>\n",
       "      <td>Fulham</td>\n",
       "      <td>Everton</td>\n",
       "      <td>Crystal Palace</td>\n",
       "      <td>Leeds United F.C.</td>\n",
       "      <td>5.7000</td>\n",
       "    </tr>\n",
       "    <tr>\n",
       "      <th>45</th>\n",
       "      <td>Taiwo</td>\n",
       "      <td>Awoniyi</td>\n",
       "      <td>FWD</td>\n",
       "      <td>NFO</td>\n",
       "      <td>5900000</td>\n",
       "      <td>8</td>\n",
       "      <td>9</td>\n",
       "      <td>4.5</td>\n",
       "      <td>7.627119e-07</td>\n",
       "      <td>1.525424e-06</td>\n",
       "      <td>...</td>\n",
       "      <td>11111</td>\n",
       "      <td>0</td>\n",
       "      <td>0</td>\n",
       "      <td>32</td>\n",
       "      <td>West Ham</td>\n",
       "      <td>Everton</td>\n",
       "      <td>Tottenham</td>\n",
       "      <td>Man City</td>\n",
       "      <td>Bournemouth</td>\n",
       "      <td>5.6000</td>\n",
       "    </tr>\n",
       "    <tr>\n",
       "      <th>46</th>\n",
       "      <td>Kenny</td>\n",
       "      <td>Tete</td>\n",
       "      <td>DEF</td>\n",
       "      <td>FUL</td>\n",
       "      <td>4500000</td>\n",
       "      <td>6</td>\n",
       "      <td>9</td>\n",
       "      <td>4.5</td>\n",
       "      <td>1.000000e-06</td>\n",
       "      <td>2.000000e-06</td>\n",
       "      <td>...</td>\n",
       "      <td>4819</td>\n",
       "      <td>0</td>\n",
       "      <td>0</td>\n",
       "      <td>43</td>\n",
       "      <td>Wolverhampton</td>\n",
       "      <td>Brentford F.C.</td>\n",
       "      <td>Arsenal</td>\n",
       "      <td>Brighton</td>\n",
       "      <td>Tottenham</td>\n",
       "      <td>5.6000</td>\n",
       "    </tr>\n",
       "    <tr>\n",
       "      <th>47</th>\n",
       "      <td>Joel</td>\n",
       "      <td>Veltman</td>\n",
       "      <td>DEF</td>\n",
       "      <td>BHA</td>\n",
       "      <td>4500000</td>\n",
       "      <td>8</td>\n",
       "      <td>10</td>\n",
       "      <td>5.0</td>\n",
       "      <td>1.111111e-06</td>\n",
       "      <td>2.222222e-06</td>\n",
       "      <td>...</td>\n",
       "      <td>8852</td>\n",
       "      <td>0</td>\n",
       "      <td>0</td>\n",
       "      <td>45</td>\n",
       "      <td>Newcastle</td>\n",
       "      <td>West Ham</td>\n",
       "      <td>Leeds United F.C.</td>\n",
       "      <td>Fulham</td>\n",
       "      <td>Leicester</td>\n",
       "      <td>5.5000</td>\n",
       "    </tr>\n",
       "    <tr>\n",
       "      <th>48</th>\n",
       "      <td>Robert</td>\n",
       "      <td>Sanchez</td>\n",
       "      <td>GLK</td>\n",
       "      <td>BHA</td>\n",
       "      <td>4500000</td>\n",
       "      <td>6</td>\n",
       "      <td>10</td>\n",
       "      <td>5.0</td>\n",
       "      <td>1.111111e-06</td>\n",
       "      <td>2.222222e-06</td>\n",
       "      <td>...</td>\n",
       "      <td>49723</td>\n",
       "      <td>0</td>\n",
       "      <td>0</td>\n",
       "      <td>41</td>\n",
       "      <td>Newcastle</td>\n",
       "      <td>West Ham</td>\n",
       "      <td>Leeds United F.C.</td>\n",
       "      <td>Fulham</td>\n",
       "      <td>Leicester</td>\n",
       "      <td>5.5000</td>\n",
       "    </tr>\n",
       "    <tr>\n",
       "      <th>49</th>\n",
       "      <td>Eric</td>\n",
       "      <td>Dier</td>\n",
       "      <td>DEF</td>\n",
       "      <td>TOT</td>\n",
       "      <td>5000000</td>\n",
       "      <td>1</td>\n",
       "      <td>9</td>\n",
       "      <td>4.5</td>\n",
       "      <td>9.000000e-07</td>\n",
       "      <td>1.800000e-06</td>\n",
       "      <td>...</td>\n",
       "      <td>20836</td>\n",
       "      <td>0</td>\n",
       "      <td>0</td>\n",
       "      <td>41</td>\n",
       "      <td>Chelsea</td>\n",
       "      <td>Wolverhampton</td>\n",
       "      <td>Nottingham Forest FC</td>\n",
       "      <td>West Ham</td>\n",
       "      <td>Fulham</td>\n",
       "      <td>5.4000</td>\n",
       "    </tr>\n",
       "  </tbody>\n",
       "</table>\n",
       "<p>50 rows × 50 columns</p>\n",
       "</div>"
      ],
      "text/plain": [
       "    FirstName        Surname PositionsList Team      Cost  PointsLastRound  \\\n",
       "0         NaN          Jesus           FWD  ARS   8000000               19   \n",
       "1         NaN        Rodrigo           MID  LEE   6100000               15   \n",
       "2     Mohamed          Salah           MID  LIV  13000000                0   \n",
       "3         NaN         Darwin           FWD  LIV   9100000                0   \n",
       "4        Josh        Dasilva           MID  BRE   4600000                8   \n",
       "5        Phil          Foden           MID  MCI   8000000                9   \n",
       "6        Joao        Cancelo           DEF  MCI   7000000               11   \n",
       "7      Fabian          Schar           DEF  NEW   4600000                5   \n",
       "8       Kevin      De Bruyne           MID  MCI  12000000               14   \n",
       "9        Ivan          Toney           FWD  BRE   7000000                9   \n",
       "10       Dean      Henderson           GLK  NFO   4500000               14   \n",
       "11        Ben       Chilwell           DEF  CHE   6000000                0   \n",
       "12        NaN        Buendia           MID  AVL   6000000                8   \n",
       "13     Erling        Haaland           FWD  MCI  11700000                5   \n",
       "14        NaN             Sa           GLK  WOL   5000000               15   \n",
       "15     Pascal           Gro?           MID  BHA   5600000                3   \n",
       "16        NaN    R.Sessegnon           DEF  TOT   4500000                1   \n",
       "17        Ben            Mee           DEF  BRE   4500000               14   \n",
       "18    Mathias         Jensen           MID  BRE   5000000               14   \n",
       "19       Nick           Pope           GLK  NEW   5000000               10   \n",
       "20        NaN     Martinelli           MID  ARS   6200000                8   \n",
       "21     Bukayo           Saka           MID  ARS   8000000                2   \n",
       "22        NaN       Roerslev           DEF  BRE   4500000                6   \n",
       "23      Reece          James           DEF  CHE   6000000                7   \n",
       "24     Nathan            Ake           DEF  MCI   5000000                6   \n",
       "25        NaN        Ederson           GLK  MCI   5500000                6   \n",
       "26      Ollie        Watkins           FWD  AVL   7400000               11   \n",
       "27    Kalidou      Koulibaly           DEF  CHE   5500000                7   \n",
       "28     Kieran       Trippier           DEF  NEW   5000000                7   \n",
       "29  Oleksandr      Zinchenko           DEF  ARS   5100000                1   \n",
       "30       Rico          Henry           DEF  BRE   4500000                6   \n",
       "31     Granit          Xhaka           MID  ARS   5000000               12   \n",
       "32       Kyle         Walker           DEF  MCI   5100000                6   \n",
       "33        NaN           Dias           DEF  MCI   6000000                6   \n",
       "34        Dan           Burn           DEF  NEW   4500000                7   \n",
       "35      Ilkay       Gundogan           MID  MCI   7500000               10   \n",
       "36        NaN          Hwang           MID  WOL   6000000                1   \n",
       "37        NaN        Podence           MID  WOL   5500000                2   \n",
       "38        NaN           Raya           GLK  BRE   4500000                7   \n",
       "39        NaN  Emerson Royal           DEF  TOT   5000000                1   \n",
       "40       Ivan        Perisic           DEF  TOT   5400000                4   \n",
       "41      Dejan     Kulusevski           MID  TOT   8100000                2   \n",
       "42        NaN       Jorginho           MID  CHE   6000000                2   \n",
       "43      Halil     Dervisoglu           FWD  BRE   4500000                0   \n",
       "44      Bryan         Mbeumo           FWD  BRE   6000000                6   \n",
       "45      Taiwo        Awoniyi           FWD  NFO   5900000                8   \n",
       "46      Kenny           Tete           DEF  FUL   4500000                6   \n",
       "47       Joel        Veltman           DEF  BHA   4500000                8   \n",
       "48     Robert        Sanchez           GLK  BHA   4500000                6   \n",
       "49       Eric           Dier           DEF  TOT   5000000                1   \n",
       "\n",
       "    TotalPoints  AveragePoints  AveragePointsPerDollar  TotalPointsPerDollar  \\\n",
       "0            21           10.5            1.312500e-06          2.625000e-06   \n",
       "1            22           22.0            3.606557e-06          3.606557e-06   \n",
       "2            12           12.0            9.230769e-07          9.230769e-07   \n",
       "3             9            9.0            9.890110e-07          9.890110e-07   \n",
       "4            14           14.0            3.043478e-06          3.043478e-06   \n",
       "5            12           12.0            1.500000e-06          1.500000e-06   \n",
       "6            18            9.0            1.285714e-06          2.571429e-06   \n",
       "7            20           10.0            2.173913e-06          4.347826e-06   \n",
       "8            20           10.0            8.333333e-07          1.666667e-06   \n",
       "9            17            8.5            1.214286e-06          2.428571e-06   \n",
       "10           17            8.5            1.888889e-06          3.777778e-06   \n",
       "11            9            9.0            1.500000e-06          1.500000e-06   \n",
       "12            9            9.0            1.500000e-06          1.500000e-06   \n",
       "13           18            9.0            7.692308e-07          1.538462e-06   \n",
       "14           17            8.5            1.700000e-06          3.400000e-06   \n",
       "15           18            9.0            1.607143e-06          3.214286e-06   \n",
       "16            8            8.0            1.777778e-06          1.777778e-06   \n",
       "17           14            7.0            1.555556e-06          3.111111e-06   \n",
       "18           15            7.5            1.500000e-06          3.000000e-06   \n",
       "19           16            8.0            1.600000e-06          3.200000e-06   \n",
       "20           16            8.0            1.290323e-06          2.580645e-06   \n",
       "21            8            8.0            1.000000e-06          1.000000e-06   \n",
       "22            6            6.0            1.333333e-06          1.333333e-06   \n",
       "23           14            7.0            1.166667e-06          2.333333e-06   \n",
       "24           13            6.5            1.300000e-06          2.600000e-06   \n",
       "25           13            6.5            1.181818e-06          2.363636e-06   \n",
       "26           12            6.0            8.108108e-07          1.621622e-06   \n",
       "27           13            6.5            1.181818e-06          2.363636e-06   \n",
       "28           14            7.0            1.400000e-06          2.800000e-06   \n",
       "29           13            6.5            1.274510e-06          2.549020e-06   \n",
       "30           10            5.0            1.111111e-06          2.222222e-06   \n",
       "31           14            7.0            1.400000e-06          2.800000e-06   \n",
       "32           12            6.0            1.176471e-06          2.352941e-06   \n",
       "33           12            6.0            1.000000e-06          2.000000e-06   \n",
       "34           13            6.5            1.444444e-06          2.888889e-06   \n",
       "35           13            6.5            8.666667e-07          1.733333e-06   \n",
       "36            6            6.0            1.000000e-06          1.000000e-06   \n",
       "37           12            6.0            1.090909e-06          2.181818e-06   \n",
       "38            9            4.5            1.000000e-06          2.000000e-06   \n",
       "39           10            5.0            1.000000e-06          2.000000e-06   \n",
       "40            5            5.0            9.259259e-07          9.259259e-07   \n",
       "41           15            7.5            9.259259e-07          1.851852e-06   \n",
       "42           13            6.5            1.083333e-06          2.166667e-06   \n",
       "43            4            4.0            8.888889e-07          8.888889e-07   \n",
       "44            8            4.0            6.666667e-07          1.333333e-06   \n",
       "45            9            4.5            7.627119e-07          1.525424e-06   \n",
       "46            9            4.5            1.000000e-06          2.000000e-06   \n",
       "47           10            5.0            1.111111e-06          2.222222e-06   \n",
       "48           10            5.0            1.111111e-06          2.222222e-06   \n",
       "49            9            4.5            9.000000e-07          1.800000e-06   \n",
       "\n",
       "    ...  TransfersInRound  PriceRiseRound  RedCards  BPS    NextFixture1  \\\n",
       "0   ...            263271               0         0   72       Leicester   \n",
       "1   ...            382402               1         0   72     Southampton   \n",
       "2   ...             46341               0         0   34  Crystal Palace   \n",
       "3   ...             66481               0         0   31  Crystal Palace   \n",
       "4   ...            294968               1         0   48         Man Utd   \n",
       "5   ...             80560               0         0   49     Bournemouth   \n",
       "6   ...             97467               0         0   63     Bournemouth   \n",
       "7   ...             99149               0         0   65        Brighton   \n",
       "8   ...            136609               0         0   70     Bournemouth   \n",
       "9   ...            110356               0         0   57         Man Utd   \n",
       "10  ...             42321               0         0   69        West Ham   \n",
       "11  ...             13474               0         0   27       Tottenham   \n",
       "12  ...             12684               0         0   34         Everton   \n",
       "13  ...             93981               1         0   64     Bournemouth   \n",
       "14  ...             21610               0         0   60          Fulham   \n",
       "15  ...             91420               0         0   51       Newcastle   \n",
       "16  ...             29284               0         0   16         Chelsea   \n",
       "17  ...             77912               0         0   41         Man Utd   \n",
       "18  ...             70987               0         0   48         Man Utd   \n",
       "19  ...             27943               0         0   52        Brighton   \n",
       "20  ...            492892               1         0   53       Leicester   \n",
       "21  ...             21600               0         0   28       Leicester   \n",
       "22  ...               191               0         0   20         Man Utd   \n",
       "23  ...            111677               0         0   62       Tottenham   \n",
       "24  ...             40188               0         0   51     Bournemouth   \n",
       "25  ...             49872               0         0   47     Bournemouth   \n",
       "26  ...             22377               0         0   30         Everton   \n",
       "27  ...             71029               0         0   53       Tottenham   \n",
       "28  ...             90728               0         0   60        Brighton   \n",
       "29  ...            134457               0         0   53       Leicester   \n",
       "30  ...             20701               0         0   41         Man Utd   \n",
       "31  ...             51066               0         0   47       Leicester   \n",
       "32  ...            103434               1         0   49     Bournemouth   \n",
       "33  ...             26399               0         0   51     Bournemouth   \n",
       "34  ...             13835               0         0   51        Brighton   \n",
       "35  ...             49761               0         0   47     Bournemouth   \n",
       "36  ...              1724               0         0   20          Fulham   \n",
       "37  ...             15758               0         0   26          Fulham   \n",
       "38  ...             29473               0         0   45         Man Utd   \n",
       "39  ...             32749               0         0   40         Chelsea   \n",
       "40  ...             18073              -1         0   21         Chelsea   \n",
       "41  ...            138010               0         0   50         Chelsea   \n",
       "42  ...             41689               0         0   48       Tottenham   \n",
       "43  ...             37953               0         0   11         Man Utd   \n",
       "44  ...             28378               0         0   40         Man Utd   \n",
       "45  ...             11111               0         0   32        West Ham   \n",
       "46  ...              4819               0         0   43   Wolverhampton   \n",
       "47  ...              8852               0         0   45       Newcastle   \n",
       "48  ...             49723               0         0   41       Newcastle   \n",
       "49  ...             20836               0         0   41         Chelsea   \n",
       "\n",
       "         NextFixture2          NextFixture3          NextFixture4  \\\n",
       "0         Bournemouth                Fulham           Aston Villa   \n",
       "1             Chelsea              Brighton               Everton   \n",
       "2             Man Utd           Bournemouth             Newcastle   \n",
       "3             Man Utd           Bournemouth             Newcastle   \n",
       "4              Fulham               Everton        Crystal Palace   \n",
       "5           Newcastle        Crystal Palace  Nottingham Forest FC   \n",
       "6           Newcastle        Crystal Palace  Nottingham Forest FC   \n",
       "7            Man City         Wolverhampton             Liverpool   \n",
       "8           Newcastle        Crystal Palace  Nottingham Forest FC   \n",
       "9              Fulham               Everton        Crystal Palace   \n",
       "10            Everton             Tottenham              Man City   \n",
       "11  Leeds United F.C.             Leicester           Southampton   \n",
       "12     Crystal Palace              West Ham               Arsenal   \n",
       "13          Newcastle        Crystal Palace  Nottingham Forest FC   \n",
       "14          Tottenham             Newcastle           Bournemouth   \n",
       "15           West Ham     Leeds United F.C.                Fulham   \n",
       "16      Wolverhampton  Nottingham Forest FC              West Ham   \n",
       "17             Fulham               Everton        Crystal Palace   \n",
       "18             Fulham               Everton        Crystal Palace   \n",
       "19           Man City         Wolverhampton             Liverpool   \n",
       "20        Bournemouth                Fulham           Aston Villa   \n",
       "21        Bournemouth                Fulham           Aston Villa   \n",
       "22             Fulham               Everton        Crystal Palace   \n",
       "23  Leeds United F.C.             Leicester           Southampton   \n",
       "24          Newcastle        Crystal Palace  Nottingham Forest FC   \n",
       "25          Newcastle        Crystal Palace  Nottingham Forest FC   \n",
       "26     Crystal Palace              West Ham               Arsenal   \n",
       "27  Leeds United F.C.             Leicester           Southampton   \n",
       "28           Man City         Wolverhampton             Liverpool   \n",
       "29        Bournemouth                Fulham           Aston Villa   \n",
       "30             Fulham               Everton        Crystal Palace   \n",
       "31        Bournemouth                Fulham           Aston Villa   \n",
       "32          Newcastle        Crystal Palace  Nottingham Forest FC   \n",
       "33          Newcastle        Crystal Palace  Nottingham Forest FC   \n",
       "34           Man City         Wolverhampton             Liverpool   \n",
       "35          Newcastle        Crystal Palace  Nottingham Forest FC   \n",
       "36          Tottenham             Newcastle           Bournemouth   \n",
       "37          Tottenham             Newcastle           Bournemouth   \n",
       "38             Fulham               Everton        Crystal Palace   \n",
       "39      Wolverhampton  Nottingham Forest FC              West Ham   \n",
       "40      Wolverhampton  Nottingham Forest FC              West Ham   \n",
       "41      Wolverhampton  Nottingham Forest FC              West Ham   \n",
       "42  Leeds United F.C.             Leicester           Southampton   \n",
       "43             Fulham               Everton        Crystal Palace   \n",
       "44             Fulham               Everton        Crystal Palace   \n",
       "45            Everton             Tottenham              Man City   \n",
       "46     Brentford F.C.               Arsenal              Brighton   \n",
       "47           West Ham     Leeds United F.C.                Fulham   \n",
       "48           West Ham     Leeds United F.C.                Fulham   \n",
       "49      Wolverhampton  Nottingham Forest FC              West Ham   \n",
       "\n",
       "         NextFixture5  GW2Forecast  \n",
       "0             Man Utd      14.9000  \n",
       "1      Brentford F.C.      13.9776  \n",
       "2             Everton      13.6000  \n",
       "3             Everton      12.8000  \n",
       "4   Leeds United F.C.      12.7360  \n",
       "5         Aston Villa      12.5600  \n",
       "6         Aston Villa      12.4000  \n",
       "7      Crystal Palace      12.4000  \n",
       "8         Aston Villa      12.2000  \n",
       "9   Leeds United F.C.      12.1000  \n",
       "10        Bournemouth      12.1000  \n",
       "11           West Ham      12.0000  \n",
       "12           Man City      11.5000  \n",
       "13        Aston Villa      11.0000  \n",
       "14        Southampton      10.5000  \n",
       "15          Leicester       9.9000  \n",
       "16             Fulham       9.9000  \n",
       "17  Leeds United F.C.       9.9000  \n",
       "18  Leeds United F.C.       9.5000  \n",
       "19     Crystal Palace       9.1000  \n",
       "20            Man Utd       8.7000  \n",
       "21            Man Utd       8.7000  \n",
       "22  Leeds United F.C.       8.5000  \n",
       "23           West Ham       8.5000  \n",
       "24        Aston Villa       8.0000  \n",
       "25        Aston Villa       8.0000  \n",
       "26           Man City       7.9000  \n",
       "27           West Ham       7.7000  \n",
       "28     Crystal Palace       7.5000  \n",
       "29            Man Utd       7.2000  \n",
       "30  Leeds United F.C.       7.1000  \n",
       "31            Man Utd       7.1000  \n",
       "32        Aston Villa       7.1000  \n",
       "33        Aston Villa       7.1000  \n",
       "34     Crystal Palace       6.7000  \n",
       "35        Aston Villa       6.6000  \n",
       "36        Southampton       6.4000  \n",
       "37        Southampton       6.4000  \n",
       "38  Leeds United F.C.       6.4000  \n",
       "39             Fulham       6.2000  \n",
       "40             Fulham       6.2000  \n",
       "41             Fulham       5.9000  \n",
       "42           West Ham       5.8000  \n",
       "43  Leeds United F.C.       5.7000  \n",
       "44  Leeds United F.C.       5.7000  \n",
       "45        Bournemouth       5.6000  \n",
       "46          Tottenham       5.6000  \n",
       "47          Leicester       5.5000  \n",
       "48          Leicester       5.5000  \n",
       "49             Fulham       5.4000  \n",
       "\n",
       "[50 rows x 50 columns]"
      ]
     },
     "execution_count": 127,
     "metadata": {},
     "output_type": "execute_result"
    }
   ],
   "source": [
    "# Forcasting\n",
    "data.sort_values(by=[data.columns[(data.columns.get_indexer(['NextFixture5'])+1)][0]],ascending=False,ignore_index=True)[data.columns[:(data.columns.get_indexer(['NextFixture5'])+2)[0]]].head(50)"
   ]
  },
  {
   "cell_type": "code",
   "execution_count": 128,
   "metadata": {},
   "outputs": [
    {
     "data": {
      "text/html": [
       "<div>\n",
       "<style scoped>\n",
       "    .dataframe tbody tr th:only-of-type {\n",
       "        vertical-align: middle;\n",
       "    }\n",
       "\n",
       "    .dataframe tbody tr th {\n",
       "        vertical-align: top;\n",
       "    }\n",
       "\n",
       "    .dataframe thead th {\n",
       "        text-align: right;\n",
       "    }\n",
       "</style>\n",
       "<table border=\"1\" class=\"dataframe\">\n",
       "  <thead>\n",
       "    <tr style=\"text-align: right;\">\n",
       "      <th></th>\n",
       "      <th>FirstName</th>\n",
       "      <th>Surname</th>\n",
       "      <th>PositionsList</th>\n",
       "      <th>Team</th>\n",
       "      <th>Cost</th>\n",
       "      <th>PointsLastRound</th>\n",
       "      <th>TotalPoints</th>\n",
       "      <th>AveragePoints</th>\n",
       "      <th>AveragePointsPerDollar</th>\n",
       "      <th>TotalPointsPerDollar</th>\n",
       "      <th>...</th>\n",
       "      <th>TransfersInRound</th>\n",
       "      <th>PriceRiseRound</th>\n",
       "      <th>RedCards</th>\n",
       "      <th>BPS</th>\n",
       "      <th>NextFixture1</th>\n",
       "      <th>NextFixture2</th>\n",
       "      <th>NextFixture3</th>\n",
       "      <th>NextFixture4</th>\n",
       "      <th>NextFixture5</th>\n",
       "      <th>GW2Forecast</th>\n",
       "    </tr>\n",
       "  </thead>\n",
       "  <tbody>\n",
       "    <tr>\n",
       "      <th>0</th>\n",
       "      <td>Erling</td>\n",
       "      <td>Haaland</td>\n",
       "      <td>FWD</td>\n",
       "      <td>MCI</td>\n",
       "      <td>11700000</td>\n",
       "      <td>5</td>\n",
       "      <td>18</td>\n",
       "      <td>9.0</td>\n",
       "      <td>7.692308e-07</td>\n",
       "      <td>1.538462e-06</td>\n",
       "      <td>...</td>\n",
       "      <td>93981</td>\n",
       "      <td>1</td>\n",
       "      <td>0</td>\n",
       "      <td>64</td>\n",
       "      <td>Bournemouth</td>\n",
       "      <td>Newcastle</td>\n",
       "      <td>Crystal Palace</td>\n",
       "      <td>Nottingham Forest FC</td>\n",
       "      <td>Aston Villa</td>\n",
       "      <td>11.0</td>\n",
       "    </tr>\n",
       "    <tr>\n",
       "      <th>1</th>\n",
       "      <td>Mohamed</td>\n",
       "      <td>Salah</td>\n",
       "      <td>MID</td>\n",
       "      <td>LIV</td>\n",
       "      <td>13000000</td>\n",
       "      <td>0</td>\n",
       "      <td>12</td>\n",
       "      <td>12.0</td>\n",
       "      <td>9.230769e-07</td>\n",
       "      <td>9.230769e-07</td>\n",
       "      <td>...</td>\n",
       "      <td>46341</td>\n",
       "      <td>0</td>\n",
       "      <td>0</td>\n",
       "      <td>34</td>\n",
       "      <td>Crystal Palace</td>\n",
       "      <td>Man Utd</td>\n",
       "      <td>Bournemouth</td>\n",
       "      <td>Newcastle</td>\n",
       "      <td>Everton</td>\n",
       "      <td>13.6</td>\n",
       "    </tr>\n",
       "  </tbody>\n",
       "</table>\n",
       "<p>2 rows × 50 columns</p>\n",
       "</div>"
      ],
      "text/plain": [
       "  FirstName  Surname PositionsList Team      Cost  PointsLastRound  \\\n",
       "0    Erling  Haaland           FWD  MCI  11700000                5   \n",
       "1   Mohamed    Salah           MID  LIV  13000000                0   \n",
       "\n",
       "   TotalPoints  AveragePoints  AveragePointsPerDollar  TotalPointsPerDollar  \\\n",
       "0           18            9.0            7.692308e-07          1.538462e-06   \n",
       "1           12           12.0            9.230769e-07          9.230769e-07   \n",
       "\n",
       "   ...  TransfersInRound  PriceRiseRound  RedCards  BPS    NextFixture1  \\\n",
       "0  ...             93981               1         0   64     Bournemouth   \n",
       "1  ...             46341               0         0   34  Crystal Palace   \n",
       "\n",
       "   NextFixture2    NextFixture3          NextFixture4  NextFixture5  \\\n",
       "0     Newcastle  Crystal Palace  Nottingham Forest FC   Aston Villa   \n",
       "1       Man Utd     Bournemouth             Newcastle       Everton   \n",
       "\n",
       "   GW2Forecast  \n",
       "0         11.0  \n",
       "1         13.6  \n",
       "\n",
       "[2 rows x 50 columns]"
      ]
     },
     "execution_count": 128,
     "metadata": {},
     "output_type": "execute_result"
    }
   ],
   "source": [
    "# Get data for selected players\n",
    "data[data['Surname'].isin(['Salah','Haaland'])][data.columns[:(data.columns.get_indexer(['NextFixture5'])+2)[0]]].reset_index(drop=True)"
   ]
  },
  {
   "cell_type": "code",
   "execution_count": 129,
   "metadata": {},
   "outputs": [
    {
     "data": {
      "text/html": [
       "<div>\n",
       "<style scoped>\n",
       "    .dataframe tbody tr th:only-of-type {\n",
       "        vertical-align: middle;\n",
       "    }\n",
       "\n",
       "    .dataframe tbody tr th {\n",
       "        vertical-align: top;\n",
       "    }\n",
       "\n",
       "    .dataframe thead th {\n",
       "        text-align: right;\n",
       "    }\n",
       "</style>\n",
       "<table border=\"1\" class=\"dataframe\">\n",
       "  <thead>\n",
       "    <tr style=\"text-align: right;\">\n",
       "      <th></th>\n",
       "      <th>FirstName</th>\n",
       "      <th>Surname</th>\n",
       "      <th>GW2Forecast</th>\n",
       "    </tr>\n",
       "  </thead>\n",
       "  <tbody>\n",
       "    <tr>\n",
       "      <th>0</th>\n",
       "      <td>Dean</td>\n",
       "      <td>Henderson</td>\n",
       "      <td>12.1</td>\n",
       "    </tr>\n",
       "    <tr>\n",
       "      <th>1</th>\n",
       "      <td>NaN</td>\n",
       "      <td>Sa</td>\n",
       "      <td>10.5</td>\n",
       "    </tr>\n",
       "    <tr>\n",
       "      <th>2</th>\n",
       "      <td>Nick</td>\n",
       "      <td>Pope</td>\n",
       "      <td>9.1</td>\n",
       "    </tr>\n",
       "    <tr>\n",
       "      <th>3</th>\n",
       "      <td>NaN</td>\n",
       "      <td>Ederson</td>\n",
       "      <td>8.0</td>\n",
       "    </tr>\n",
       "    <tr>\n",
       "      <th>4</th>\n",
       "      <td>NaN</td>\n",
       "      <td>Raya</td>\n",
       "      <td>6.4</td>\n",
       "    </tr>\n",
       "    <tr>\n",
       "      <th>5</th>\n",
       "      <td>Robert</td>\n",
       "      <td>Sanchez</td>\n",
       "      <td>5.5</td>\n",
       "    </tr>\n",
       "    <tr>\n",
       "      <th>6</th>\n",
       "      <td>Marek</td>\n",
       "      <td>Rodak</td>\n",
       "      <td>4.3</td>\n",
       "    </tr>\n",
       "    <tr>\n",
       "      <th>7</th>\n",
       "      <td>Edouard</td>\n",
       "      <td>Mendy</td>\n",
       "      <td>3.8</td>\n",
       "    </tr>\n",
       "    <tr>\n",
       "      <th>8</th>\n",
       "      <td>Aaron</td>\n",
       "      <td>Ramsdale</td>\n",
       "      <td>2.8</td>\n",
       "    </tr>\n",
       "    <tr>\n",
       "      <th>9</th>\n",
       "      <td>NaN</td>\n",
       "      <td>Martinez</td>\n",
       "      <td>2.8</td>\n",
       "    </tr>\n",
       "    <tr>\n",
       "      <th>10</th>\n",
       "      <td>Mark</td>\n",
       "      <td>Travers</td>\n",
       "      <td>1.8</td>\n",
       "    </tr>\n",
       "    <tr>\n",
       "      <th>11</th>\n",
       "      <td>NaN</td>\n",
       "      <td>Alisson</td>\n",
       "      <td>1.1</td>\n",
       "    </tr>\n",
       "    <tr>\n",
       "      <th>12</th>\n",
       "      <td>Jordan</td>\n",
       "      <td>Pickford</td>\n",
       "      <td>1.0</td>\n",
       "    </tr>\n",
       "    <tr>\n",
       "      <th>13</th>\n",
       "      <td>Illan</td>\n",
       "      <td>Meslier</td>\n",
       "      <td>1.0</td>\n",
       "    </tr>\n",
       "    <tr>\n",
       "      <th>14</th>\n",
       "      <td>Lukasz</td>\n",
       "      <td>Fabianski</td>\n",
       "      <td>1.0</td>\n",
       "    </tr>\n",
       "    <tr>\n",
       "      <th>15</th>\n",
       "      <td>Hugo</td>\n",
       "      <td>Lloris</td>\n",
       "      <td>1.0</td>\n",
       "    </tr>\n",
       "    <tr>\n",
       "      <th>16</th>\n",
       "      <td>Gavin</td>\n",
       "      <td>Bazunu</td>\n",
       "      <td>0.9</td>\n",
       "    </tr>\n",
       "    <tr>\n",
       "      <th>17</th>\n",
       "      <td>Vicente</td>\n",
       "      <td>Guaita</td>\n",
       "      <td>0.5</td>\n",
       "    </tr>\n",
       "    <tr>\n",
       "      <th>18</th>\n",
       "      <td>Danny</td>\n",
       "      <td>Ward</td>\n",
       "      <td>0.5</td>\n",
       "    </tr>\n",
       "    <tr>\n",
       "      <th>19</th>\n",
       "      <td>Alphonse</td>\n",
       "      <td>Areola</td>\n",
       "      <td>0.5</td>\n",
       "    </tr>\n",
       "  </tbody>\n",
       "</table>\n",
       "</div>"
      ],
      "text/plain": [
       "   FirstName    Surname  GW2Forecast\n",
       "0       Dean  Henderson         12.1\n",
       "1        NaN         Sa         10.5\n",
       "2       Nick       Pope          9.1\n",
       "3        NaN    Ederson          8.0\n",
       "4        NaN       Raya          6.4\n",
       "5     Robert    Sanchez          5.5\n",
       "6      Marek      Rodak          4.3\n",
       "7    Edouard      Mendy          3.8\n",
       "8      Aaron   Ramsdale          2.8\n",
       "9        NaN   Martinez          2.8\n",
       "10      Mark    Travers          1.8\n",
       "11       NaN    Alisson          1.1\n",
       "12    Jordan   Pickford          1.0\n",
       "13     Illan    Meslier          1.0\n",
       "14    Lukasz  Fabianski          1.0\n",
       "15      Hugo     Lloris          1.0\n",
       "16     Gavin     Bazunu          0.9\n",
       "17   Vicente     Guaita          0.5\n",
       "18     Danny       Ward          0.5\n",
       "19  Alphonse     Areola          0.5"
      ]
     },
     "execution_count": 129,
     "metadata": {},
     "output_type": "execute_result"
    }
   ],
   "source": [
    "data[data.PositionsList == 'GLK'].sort_values(by=[data.columns[(data.columns.get_indexer(['NextFixture5'])+1)][0]],ascending=False,ignore_index=True)[['FirstName','Surname',data.columns[(data.columns.get_indexer(['NextFixture5'])+1)[0]]]].head(20)"
   ]
  },
  {
   "cell_type": "markdown",
   "metadata": {},
   "source": [
    "# Read data from FPL API"
   ]
  },
  {
   "cell_type": "markdown",
   "metadata": {},
   "source": []
  },
  {
   "cell_type": "code",
   "execution_count": 248,
   "metadata": {},
   "outputs": [
    {
     "name": "stderr",
     "output_type": "stream",
     "text": [
      "c:\\Users\\loain\\AppData\\Local\\Programs\\Python\\Python39\\lib\\site-packages\\IPython\\core\\interactiveshell.py:3257: DtypeWarning: Columns (4) have mixed types.Specify dtype option on import or set low_memory=False.\n",
      "  has_raised = await self.run_ast_nodes(code_ast.body, cell_name,\n"
     ]
    }
   ],
   "source": [
    "data_git = pd.read_csv('https://github.com/vaastav/Fantasy-Premier-League/raw/master/data/cleaned_merged_seasons.csv',index_col=False)"
   ]
  },
  {
   "cell_type": "code",
   "execution_count": 250,
   "metadata": {},
   "outputs": [
    {
     "data": {
      "text/plain": [
       "Index(['Unnamed: 0', 'season_x', 'name', 'position', 'team_x', 'assists',\n",
       "       'bonus', 'bps', 'clean_sheets', 'creativity', 'element', 'fixture',\n",
       "       'goals_conceded', 'goals_scored', 'ict_index', 'influence',\n",
       "       'kickoff_time', 'minutes', 'opponent_team', 'opp_team_name',\n",
       "       'own_goals', 'penalties_missed', 'penalties_saved', 'red_cards',\n",
       "       'round', 'saves', 'selected', 'team_a_score', 'team_h_score', 'threat',\n",
       "       'total_points', 'transfers_balance', 'transfers_in', 'transfers_out',\n",
       "       'value', 'was_home', 'yellow_cards', 'GW'],\n",
       "      dtype='object')"
      ]
     },
     "execution_count": 250,
     "metadata": {},
     "output_type": "execute_result"
    }
   ],
   "source": [
    "data_git.columns"
   ]
  },
  {
   "cell_type": "markdown",
   "metadata": {},
   "source": []
  },
  {
   "cell_type": "code",
   "execution_count": 376,
   "metadata": {},
   "outputs": [
    {
     "name": "stdout",
     "output_type": "stream",
     "text": [
      "dict_keys(['events', 'game_settings', 'phases', 'teams', 'total_players', 'elements', 'element_stats', 'element_types'])\n"
     ]
    }
   ],
   "source": [
    "# Import data from FPL API\n",
    "\n",
    "url = 'https://fantasy.premierleague.com/api/bootstrap-static/'\n",
    "url_fix = 'https://fantasy.premierleague.com/api/fixtures/?future=1'\n",
    "r_fixture = requests.get(url_fix)\n",
    "fixture_json = r_fixture.json()\n",
    "r = requests.get(url)\n",
    "data_json = r.json()\n",
    "print(data_json.keys())"
   ]
  },
  {
   "cell_type": "code",
   "execution_count": 377,
   "metadata": {},
   "outputs": [],
   "source": [
    "elements_df = pd.DataFrame(data_json['elements'])\n",
    "elements_types_df = pd.DataFrame(data_json['element_types'])\n",
    "teams_df = pd.DataFrame(data_json['teams'])\n",
    "fixture_df = pd.DataFrame(fixture_json)"
   ]
  },
  {
   "cell_type": "code",
   "execution_count": 382,
   "metadata": {},
   "outputs": [
    {
     "data": {
      "text/html": [
       "<div>\n",
       "<style scoped>\n",
       "    .dataframe tbody tr th:only-of-type {\n",
       "        vertical-align: middle;\n",
       "    }\n",
       "\n",
       "    .dataframe tbody tr th {\n",
       "        vertical-align: top;\n",
       "    }\n",
       "\n",
       "    .dataframe thead th {\n",
       "        text-align: right;\n",
       "    }\n",
       "</style>\n",
       "<table border=\"1\" class=\"dataframe\">\n",
       "  <thead>\n",
       "    <tr style=\"text-align: right;\">\n",
       "      <th></th>\n",
       "      <th>code</th>\n",
       "      <th>event</th>\n",
       "      <th>finished</th>\n",
       "      <th>finished_provisional</th>\n",
       "      <th>id</th>\n",
       "      <th>kickoff_time</th>\n",
       "      <th>minutes</th>\n",
       "      <th>provisional_start_time</th>\n",
       "      <th>started</th>\n",
       "      <th>team_a</th>\n",
       "      <th>team_a_score</th>\n",
       "      <th>team_h</th>\n",
       "      <th>team_h_score</th>\n",
       "      <th>stats</th>\n",
       "      <th>team_h_difficulty</th>\n",
       "      <th>team_a_difficulty</th>\n",
       "      <th>pulse_id</th>\n",
       "    </tr>\n",
       "  </thead>\n",
       "  <tbody>\n",
       "    <tr>\n",
       "      <th>0</th>\n",
       "      <td>2292838</td>\n",
       "      <td>3</td>\n",
       "      <td>False</td>\n",
       "      <td>False</td>\n",
       "      <td>29</td>\n",
       "      <td>2022-08-20T11:30:00Z</td>\n",
       "      <td>0</td>\n",
       "      <td>False</td>\n",
       "      <td>False</td>\n",
       "      <td>20</td>\n",
       "      <td>None</td>\n",
       "      <td>18</td>\n",
       "      <td>None</td>\n",
       "      <td>[]</td>\n",
       "      <td>2</td>\n",
       "      <td>4</td>\n",
       "      <td>74939</td>\n",
       "    </tr>\n",
       "    <tr>\n",
       "      <th>1</th>\n",
       "      <td>2292831</td>\n",
       "      <td>3</td>\n",
       "      <td>False</td>\n",
       "      <td>False</td>\n",
       "      <td>22</td>\n",
       "      <td>2022-08-20T14:00:00Z</td>\n",
       "      <td>0</td>\n",
       "      <td>False</td>\n",
       "      <td>False</td>\n",
       "      <td>2</td>\n",
       "      <td>None</td>\n",
       "      <td>7</td>\n",
       "      <td>None</td>\n",
       "      <td>[]</td>\n",
       "      <td>2</td>\n",
       "      <td>2</td>\n",
       "      <td>74932</td>\n",
       "    </tr>\n",
       "    <tr>\n",
       "      <th>2</th>\n",
       "      <td>2292832</td>\n",
       "      <td>3</td>\n",
       "      <td>False</td>\n",
       "      <td>False</td>\n",
       "      <td>23</td>\n",
       "      <td>2022-08-20T14:00:00Z</td>\n",
       "      <td>0</td>\n",
       "      <td>False</td>\n",
       "      <td>False</td>\n",
       "      <td>16</td>\n",
       "      <td>None</td>\n",
       "      <td>8</td>\n",
       "      <td>None</td>\n",
       "      <td>[]</td>\n",
       "      <td>2</td>\n",
       "      <td>2</td>\n",
       "      <td>74933</td>\n",
       "    </tr>\n",
       "    <tr>\n",
       "      <th>3</th>\n",
       "      <td>2292833</td>\n",
       "      <td>3</td>\n",
       "      <td>False</td>\n",
       "      <td>False</td>\n",
       "      <td>24</td>\n",
       "      <td>2022-08-20T14:00:00Z</td>\n",
       "      <td>0</td>\n",
       "      <td>False</td>\n",
       "      <td>False</td>\n",
       "      <td>4</td>\n",
       "      <td>None</td>\n",
       "      <td>9</td>\n",
       "      <td>None</td>\n",
       "      <td>[]</td>\n",
       "      <td>2</td>\n",
       "      <td>2</td>\n",
       "      <td>74934</td>\n",
       "    </tr>\n",
       "    <tr>\n",
       "      <th>4</th>\n",
       "      <td>2292835</td>\n",
       "      <td>3</td>\n",
       "      <td>False</td>\n",
       "      <td>False</td>\n",
       "      <td>26</td>\n",
       "      <td>2022-08-20T14:00:00Z</td>\n",
       "      <td>0</td>\n",
       "      <td>False</td>\n",
       "      <td>False</td>\n",
       "      <td>17</td>\n",
       "      <td>None</td>\n",
       "      <td>10</td>\n",
       "      <td>None</td>\n",
       "      <td>[]</td>\n",
       "      <td>2</td>\n",
       "      <td>4</td>\n",
       "      <td>74936</td>\n",
       "    </tr>\n",
       "    <tr>\n",
       "      <th>5</th>\n",
       "      <td>2292830</td>\n",
       "      <td>3</td>\n",
       "      <td>False</td>\n",
       "      <td>False</td>\n",
       "      <td>21</td>\n",
       "      <td>2022-08-20T16:30:00Z</td>\n",
       "      <td>0</td>\n",
       "      <td>False</td>\n",
       "      <td>False</td>\n",
       "      <td>1</td>\n",
       "      <td>None</td>\n",
       "      <td>3</td>\n",
       "      <td>None</td>\n",
       "      <td>[]</td>\n",
       "      <td>3</td>\n",
       "      <td>2</td>\n",
       "      <td>74931</td>\n",
       "    </tr>\n",
       "    <tr>\n",
       "      <th>6</th>\n",
       "      <td>2292834</td>\n",
       "      <td>3</td>\n",
       "      <td>False</td>\n",
       "      <td>False</td>\n",
       "      <td>25</td>\n",
       "      <td>2022-08-21T13:00:00Z</td>\n",
       "      <td>0</td>\n",
       "      <td>False</td>\n",
       "      <td>False</td>\n",
       "      <td>6</td>\n",
       "      <td>None</td>\n",
       "      <td>11</td>\n",
       "      <td>None</td>\n",
       "      <td>[]</td>\n",
       "      <td>4</td>\n",
       "      <td>2</td>\n",
       "      <td>74935</td>\n",
       "    </tr>\n",
       "    <tr>\n",
       "      <th>7</th>\n",
       "      <td>2292839</td>\n",
       "      <td>3</td>\n",
       "      <td>False</td>\n",
       "      <td>False</td>\n",
       "      <td>30</td>\n",
       "      <td>2022-08-21T13:00:00Z</td>\n",
       "      <td>0</td>\n",
       "      <td>False</td>\n",
       "      <td>False</td>\n",
       "      <td>5</td>\n",
       "      <td>None</td>\n",
       "      <td>19</td>\n",
       "      <td>None</td>\n",
       "      <td>[]</td>\n",
       "      <td>2</td>\n",
       "      <td>3</td>\n",
       "      <td>74940</td>\n",
       "    </tr>\n",
       "    <tr>\n",
       "      <th>8</th>\n",
       "      <td>2292837</td>\n",
       "      <td>3</td>\n",
       "      <td>False</td>\n",
       "      <td>False</td>\n",
       "      <td>28</td>\n",
       "      <td>2022-08-21T15:30:00Z</td>\n",
       "      <td>0</td>\n",
       "      <td>False</td>\n",
       "      <td>False</td>\n",
       "      <td>13</td>\n",
       "      <td>None</td>\n",
       "      <td>15</td>\n",
       "      <td>None</td>\n",
       "      <td>[]</td>\n",
       "      <td>5</td>\n",
       "      <td>3</td>\n",
       "      <td>74938</td>\n",
       "    </tr>\n",
       "    <tr>\n",
       "      <th>9</th>\n",
       "      <td>2292836</td>\n",
       "      <td>3</td>\n",
       "      <td>False</td>\n",
       "      <td>False</td>\n",
       "      <td>27</td>\n",
       "      <td>2022-08-22T19:00:00Z</td>\n",
       "      <td>0</td>\n",
       "      <td>False</td>\n",
       "      <td>False</td>\n",
       "      <td>12</td>\n",
       "      <td>None</td>\n",
       "      <td>14</td>\n",
       "      <td>None</td>\n",
       "      <td>[]</td>\n",
       "      <td>5</td>\n",
       "      <td>4</td>\n",
       "      <td>74937</td>\n",
       "    </tr>\n",
       "  </tbody>\n",
       "</table>\n",
       "</div>"
      ],
      "text/plain": [
       "      code  event  finished  finished_provisional  id          kickoff_time  \\\n",
       "0  2292838      3     False                 False  29  2022-08-20T11:30:00Z   \n",
       "1  2292831      3     False                 False  22  2022-08-20T14:00:00Z   \n",
       "2  2292832      3     False                 False  23  2022-08-20T14:00:00Z   \n",
       "3  2292833      3     False                 False  24  2022-08-20T14:00:00Z   \n",
       "4  2292835      3     False                 False  26  2022-08-20T14:00:00Z   \n",
       "5  2292830      3     False                 False  21  2022-08-20T16:30:00Z   \n",
       "6  2292834      3     False                 False  25  2022-08-21T13:00:00Z   \n",
       "7  2292839      3     False                 False  30  2022-08-21T13:00:00Z   \n",
       "8  2292837      3     False                 False  28  2022-08-21T15:30:00Z   \n",
       "9  2292836      3     False                 False  27  2022-08-22T19:00:00Z   \n",
       "\n",
       "   minutes  provisional_start_time  started  team_a team_a_score  team_h  \\\n",
       "0        0                   False    False      20         None      18   \n",
       "1        0                   False    False       2         None       7   \n",
       "2        0                   False    False      16         None       8   \n",
       "3        0                   False    False       4         None       9   \n",
       "4        0                   False    False      17         None      10   \n",
       "5        0                   False    False       1         None       3   \n",
       "6        0                   False    False       6         None      11   \n",
       "7        0                   False    False       5         None      19   \n",
       "8        0                   False    False      13         None      15   \n",
       "9        0                   False    False      12         None      14   \n",
       "\n",
       "  team_h_score stats  team_h_difficulty  team_a_difficulty  pulse_id  \n",
       "0         None    []                  2                  4     74939  \n",
       "1         None    []                  2                  2     74932  \n",
       "2         None    []                  2                  2     74933  \n",
       "3         None    []                  2                  2     74934  \n",
       "4         None    []                  2                  4     74936  \n",
       "5         None    []                  3                  2     74931  \n",
       "6         None    []                  4                  2     74935  \n",
       "7         None    []                  2                  3     74940  \n",
       "8         None    []                  5                  3     74938  \n",
       "9         None    []                  5                  4     74937  "
      ]
     },
     "execution_count": 382,
     "metadata": {},
     "output_type": "execute_result"
    }
   ],
   "source": [
    "fixture_df.iloc[:10]"
   ]
  },
  {
   "cell_type": "code",
   "execution_count": 413,
   "metadata": {},
   "outputs": [],
   "source": [
    "h_name = teams_df['name'][teams_df['id'] == fixture_df['team_h'].iloc[0]].values[0]\n",
    "a_name = teams_df['name'][teams_df['id'] == fixture_df['team_a'].iloc[0]].values[0]"
   ]
  },
  {
   "cell_type": "code",
   "execution_count": 386,
   "metadata": {},
   "outputs": [
    {
     "data": {
      "text/html": [
       "<div>\n",
       "<style scoped>\n",
       "    .dataframe tbody tr th:only-of-type {\n",
       "        vertical-align: middle;\n",
       "    }\n",
       "\n",
       "    .dataframe tbody tr th {\n",
       "        vertical-align: top;\n",
       "    }\n",
       "\n",
       "    .dataframe thead th {\n",
       "        text-align: right;\n",
       "    }\n",
       "</style>\n",
       "<table border=\"1\" class=\"dataframe\">\n",
       "  <thead>\n",
       "    <tr style=\"text-align: right;\">\n",
       "      <th></th>\n",
       "      <th>code</th>\n",
       "      <th>draw</th>\n",
       "      <th>form</th>\n",
       "      <th>id</th>\n",
       "      <th>loss</th>\n",
       "      <th>name</th>\n",
       "      <th>played</th>\n",
       "      <th>points</th>\n",
       "      <th>position</th>\n",
       "      <th>short_name</th>\n",
       "      <th>...</th>\n",
       "      <th>team_division</th>\n",
       "      <th>unavailable</th>\n",
       "      <th>win</th>\n",
       "      <th>strength_overall_home</th>\n",
       "      <th>strength_overall_away</th>\n",
       "      <th>strength_attack_home</th>\n",
       "      <th>strength_attack_away</th>\n",
       "      <th>strength_defence_home</th>\n",
       "      <th>strength_defence_away</th>\n",
       "      <th>pulse_id</th>\n",
       "    </tr>\n",
       "  </thead>\n",
       "  <tbody>\n",
       "    <tr>\n",
       "      <th>0</th>\n",
       "      <td>3</td>\n",
       "      <td>0</td>\n",
       "      <td>None</td>\n",
       "      <td>1</td>\n",
       "      <td>0</td>\n",
       "      <td>Arsenal</td>\n",
       "      <td>0</td>\n",
       "      <td>0</td>\n",
       "      <td>0</td>\n",
       "      <td>ARS</td>\n",
       "      <td>...</td>\n",
       "      <td>None</td>\n",
       "      <td>False</td>\n",
       "      <td>0</td>\n",
       "      <td>1200</td>\n",
       "      <td>1270</td>\n",
       "      <td>1150</td>\n",
       "      <td>1210</td>\n",
       "      <td>1190</td>\n",
       "      <td>1220</td>\n",
       "      <td>1</td>\n",
       "    </tr>\n",
       "    <tr>\n",
       "      <th>1</th>\n",
       "      <td>7</td>\n",
       "      <td>0</td>\n",
       "      <td>None</td>\n",
       "      <td>2</td>\n",
       "      <td>0</td>\n",
       "      <td>Aston Villa</td>\n",
       "      <td>0</td>\n",
       "      <td>0</td>\n",
       "      <td>0</td>\n",
       "      <td>AVL</td>\n",
       "      <td>...</td>\n",
       "      <td>None</td>\n",
       "      <td>False</td>\n",
       "      <td>0</td>\n",
       "      <td>1090</td>\n",
       "      <td>1100</td>\n",
       "      <td>1140</td>\n",
       "      <td>1110</td>\n",
       "      <td>1090</td>\n",
       "      <td>1090</td>\n",
       "      <td>2</td>\n",
       "    </tr>\n",
       "    <tr>\n",
       "      <th>2</th>\n",
       "      <td>91</td>\n",
       "      <td>0</td>\n",
       "      <td>None</td>\n",
       "      <td>3</td>\n",
       "      <td>0</td>\n",
       "      <td>Bournemouth</td>\n",
       "      <td>0</td>\n",
       "      <td>0</td>\n",
       "      <td>0</td>\n",
       "      <td>BOU</td>\n",
       "      <td>...</td>\n",
       "      <td>None</td>\n",
       "      <td>False</td>\n",
       "      <td>0</td>\n",
       "      <td>1050</td>\n",
       "      <td>1050</td>\n",
       "      <td>1080</td>\n",
       "      <td>1130</td>\n",
       "      <td>1060</td>\n",
       "      <td>1100</td>\n",
       "      <td>127</td>\n",
       "    </tr>\n",
       "    <tr>\n",
       "      <th>3</th>\n",
       "      <td>94</td>\n",
       "      <td>0</td>\n",
       "      <td>None</td>\n",
       "      <td>4</td>\n",
       "      <td>0</td>\n",
       "      <td>Brentford</td>\n",
       "      <td>0</td>\n",
       "      <td>0</td>\n",
       "      <td>0</td>\n",
       "      <td>BRE</td>\n",
       "      <td>...</td>\n",
       "      <td>None</td>\n",
       "      <td>False</td>\n",
       "      <td>0</td>\n",
       "      <td>1090</td>\n",
       "      <td>1100</td>\n",
       "      <td>1120</td>\n",
       "      <td>1150</td>\n",
       "      <td>1080</td>\n",
       "      <td>1120</td>\n",
       "      <td>130</td>\n",
       "    </tr>\n",
       "    <tr>\n",
       "      <th>4</th>\n",
       "      <td>36</td>\n",
       "      <td>0</td>\n",
       "      <td>None</td>\n",
       "      <td>5</td>\n",
       "      <td>0</td>\n",
       "      <td>Brighton</td>\n",
       "      <td>0</td>\n",
       "      <td>0</td>\n",
       "      <td>0</td>\n",
       "      <td>BHA</td>\n",
       "      <td>...</td>\n",
       "      <td>None</td>\n",
       "      <td>False</td>\n",
       "      <td>0</td>\n",
       "      <td>1100</td>\n",
       "      <td>1090</td>\n",
       "      <td>1160</td>\n",
       "      <td>1160</td>\n",
       "      <td>1100</td>\n",
       "      <td>1120</td>\n",
       "      <td>131</td>\n",
       "    </tr>\n",
       "    <tr>\n",
       "      <th>5</th>\n",
       "      <td>8</td>\n",
       "      <td>0</td>\n",
       "      <td>None</td>\n",
       "      <td>6</td>\n",
       "      <td>0</td>\n",
       "      <td>Chelsea</td>\n",
       "      <td>0</td>\n",
       "      <td>0</td>\n",
       "      <td>0</td>\n",
       "      <td>CHE</td>\n",
       "      <td>...</td>\n",
       "      <td>None</td>\n",
       "      <td>False</td>\n",
       "      <td>0</td>\n",
       "      <td>1270</td>\n",
       "      <td>1280</td>\n",
       "      <td>1300</td>\n",
       "      <td>1300</td>\n",
       "      <td>1250</td>\n",
       "      <td>1290</td>\n",
       "      <td>4</td>\n",
       "    </tr>\n",
       "    <tr>\n",
       "      <th>6</th>\n",
       "      <td>31</td>\n",
       "      <td>0</td>\n",
       "      <td>None</td>\n",
       "      <td>7</td>\n",
       "      <td>0</td>\n",
       "      <td>Crystal Palace</td>\n",
       "      <td>0</td>\n",
       "      <td>0</td>\n",
       "      <td>0</td>\n",
       "      <td>CRY</td>\n",
       "      <td>...</td>\n",
       "      <td>None</td>\n",
       "      <td>False</td>\n",
       "      <td>0</td>\n",
       "      <td>1090</td>\n",
       "      <td>1100</td>\n",
       "      <td>1110</td>\n",
       "      <td>1160</td>\n",
       "      <td>1080</td>\n",
       "      <td>1160</td>\n",
       "      <td>6</td>\n",
       "    </tr>\n",
       "    <tr>\n",
       "      <th>7</th>\n",
       "      <td>11</td>\n",
       "      <td>0</td>\n",
       "      <td>None</td>\n",
       "      <td>8</td>\n",
       "      <td>0</td>\n",
       "      <td>Everton</td>\n",
       "      <td>0</td>\n",
       "      <td>0</td>\n",
       "      <td>0</td>\n",
       "      <td>EVE</td>\n",
       "      <td>...</td>\n",
       "      <td>None</td>\n",
       "      <td>False</td>\n",
       "      <td>0</td>\n",
       "      <td>1050</td>\n",
       "      <td>1100</td>\n",
       "      <td>1130</td>\n",
       "      <td>1090</td>\n",
       "      <td>1110</td>\n",
       "      <td>1110</td>\n",
       "      <td>7</td>\n",
       "    </tr>\n",
       "    <tr>\n",
       "      <th>8</th>\n",
       "      <td>54</td>\n",
       "      <td>0</td>\n",
       "      <td>None</td>\n",
       "      <td>9</td>\n",
       "      <td>0</td>\n",
       "      <td>Fulham</td>\n",
       "      <td>0</td>\n",
       "      <td>0</td>\n",
       "      <td>0</td>\n",
       "      <td>FUL</td>\n",
       "      <td>...</td>\n",
       "      <td>None</td>\n",
       "      <td>False</td>\n",
       "      <td>0</td>\n",
       "      <td>1040</td>\n",
       "      <td>1060</td>\n",
       "      <td>1090</td>\n",
       "      <td>1040</td>\n",
       "      <td>1120</td>\n",
       "      <td>1070</td>\n",
       "      <td>34</td>\n",
       "    </tr>\n",
       "    <tr>\n",
       "      <th>9</th>\n",
       "      <td>13</td>\n",
       "      <td>0</td>\n",
       "      <td>None</td>\n",
       "      <td>10</td>\n",
       "      <td>0</td>\n",
       "      <td>Leicester</td>\n",
       "      <td>0</td>\n",
       "      <td>0</td>\n",
       "      <td>0</td>\n",
       "      <td>LEI</td>\n",
       "      <td>...</td>\n",
       "      <td>None</td>\n",
       "      <td>False</td>\n",
       "      <td>0</td>\n",
       "      <td>1110</td>\n",
       "      <td>1240</td>\n",
       "      <td>1100</td>\n",
       "      <td>1080</td>\n",
       "      <td>1150</td>\n",
       "      <td>1160</td>\n",
       "      <td>26</td>\n",
       "    </tr>\n",
       "    <tr>\n",
       "      <th>10</th>\n",
       "      <td>2</td>\n",
       "      <td>0</td>\n",
       "      <td>None</td>\n",
       "      <td>11</td>\n",
       "      <td>0</td>\n",
       "      <td>Leeds</td>\n",
       "      <td>0</td>\n",
       "      <td>0</td>\n",
       "      <td>0</td>\n",
       "      <td>LEE</td>\n",
       "      <td>...</td>\n",
       "      <td>None</td>\n",
       "      <td>False</td>\n",
       "      <td>0</td>\n",
       "      <td>1070</td>\n",
       "      <td>1070</td>\n",
       "      <td>1080</td>\n",
       "      <td>1070</td>\n",
       "      <td>1100</td>\n",
       "      <td>1100</td>\n",
       "      <td>9</td>\n",
       "    </tr>\n",
       "    <tr>\n",
       "      <th>11</th>\n",
       "      <td>14</td>\n",
       "      <td>0</td>\n",
       "      <td>None</td>\n",
       "      <td>12</td>\n",
       "      <td>0</td>\n",
       "      <td>Liverpool</td>\n",
       "      <td>0</td>\n",
       "      <td>0</td>\n",
       "      <td>0</td>\n",
       "      <td>LIV</td>\n",
       "      <td>...</td>\n",
       "      <td>None</td>\n",
       "      <td>False</td>\n",
       "      <td>0</td>\n",
       "      <td>1350</td>\n",
       "      <td>1360</td>\n",
       "      <td>1300</td>\n",
       "      <td>1350</td>\n",
       "      <td>1340</td>\n",
       "      <td>1350</td>\n",
       "      <td>10</td>\n",
       "    </tr>\n",
       "    <tr>\n",
       "      <th>12</th>\n",
       "      <td>43</td>\n",
       "      <td>0</td>\n",
       "      <td>None</td>\n",
       "      <td>13</td>\n",
       "      <td>0</td>\n",
       "      <td>Man City</td>\n",
       "      <td>0</td>\n",
       "      <td>0</td>\n",
       "      <td>0</td>\n",
       "      <td>MCI</td>\n",
       "      <td>...</td>\n",
       "      <td>None</td>\n",
       "      <td>False</td>\n",
       "      <td>0</td>\n",
       "      <td>1350</td>\n",
       "      <td>1370</td>\n",
       "      <td>1340</td>\n",
       "      <td>1360</td>\n",
       "      <td>1340</td>\n",
       "      <td>1360</td>\n",
       "      <td>11</td>\n",
       "    </tr>\n",
       "    <tr>\n",
       "      <th>13</th>\n",
       "      <td>1</td>\n",
       "      <td>0</td>\n",
       "      <td>None</td>\n",
       "      <td>14</td>\n",
       "      <td>0</td>\n",
       "      <td>Man Utd</td>\n",
       "      <td>0</td>\n",
       "      <td>0</td>\n",
       "      <td>0</td>\n",
       "      <td>MUN</td>\n",
       "      <td>...</td>\n",
       "      <td>None</td>\n",
       "      <td>False</td>\n",
       "      <td>0</td>\n",
       "      <td>1170</td>\n",
       "      <td>1250</td>\n",
       "      <td>1170</td>\n",
       "      <td>1190</td>\n",
       "      <td>1190</td>\n",
       "      <td>1200</td>\n",
       "      <td>12</td>\n",
       "    </tr>\n",
       "    <tr>\n",
       "      <th>14</th>\n",
       "      <td>4</td>\n",
       "      <td>0</td>\n",
       "      <td>None</td>\n",
       "      <td>15</td>\n",
       "      <td>0</td>\n",
       "      <td>Newcastle</td>\n",
       "      <td>0</td>\n",
       "      <td>0</td>\n",
       "      <td>0</td>\n",
       "      <td>NEW</td>\n",
       "      <td>...</td>\n",
       "      <td>None</td>\n",
       "      <td>False</td>\n",
       "      <td>0</td>\n",
       "      <td>1110</td>\n",
       "      <td>1190</td>\n",
       "      <td>1050</td>\n",
       "      <td>1030</td>\n",
       "      <td>1040</td>\n",
       "      <td>1070</td>\n",
       "      <td>23</td>\n",
       "    </tr>\n",
       "    <tr>\n",
       "      <th>15</th>\n",
       "      <td>17</td>\n",
       "      <td>0</td>\n",
       "      <td>None</td>\n",
       "      <td>16</td>\n",
       "      <td>0</td>\n",
       "      <td>Nott'm Forest</td>\n",
       "      <td>0</td>\n",
       "      <td>0</td>\n",
       "      <td>0</td>\n",
       "      <td>NFO</td>\n",
       "      <td>...</td>\n",
       "      <td>None</td>\n",
       "      <td>False</td>\n",
       "      <td>0</td>\n",
       "      <td>1040</td>\n",
       "      <td>1060</td>\n",
       "      <td>1040</td>\n",
       "      <td>1040</td>\n",
       "      <td>1040</td>\n",
       "      <td>1030</td>\n",
       "      <td>15</td>\n",
       "    </tr>\n",
       "    <tr>\n",
       "      <th>16</th>\n",
       "      <td>20</td>\n",
       "      <td>0</td>\n",
       "      <td>None</td>\n",
       "      <td>17</td>\n",
       "      <td>0</td>\n",
       "      <td>Southampton</td>\n",
       "      <td>0</td>\n",
       "      <td>0</td>\n",
       "      <td>0</td>\n",
       "      <td>SOU</td>\n",
       "      <td>...</td>\n",
       "      <td>None</td>\n",
       "      <td>False</td>\n",
       "      <td>0</td>\n",
       "      <td>1060</td>\n",
       "      <td>1090</td>\n",
       "      <td>1090</td>\n",
       "      <td>1140</td>\n",
       "      <td>1120</td>\n",
       "      <td>1090</td>\n",
       "      <td>20</td>\n",
       "    </tr>\n",
       "    <tr>\n",
       "      <th>17</th>\n",
       "      <td>6</td>\n",
       "      <td>0</td>\n",
       "      <td>None</td>\n",
       "      <td>18</td>\n",
       "      <td>0</td>\n",
       "      <td>Spurs</td>\n",
       "      <td>0</td>\n",
       "      <td>0</td>\n",
       "      <td>0</td>\n",
       "      <td>TOT</td>\n",
       "      <td>...</td>\n",
       "      <td>None</td>\n",
       "      <td>False</td>\n",
       "      <td>0</td>\n",
       "      <td>1210</td>\n",
       "      <td>1270</td>\n",
       "      <td>1190</td>\n",
       "      <td>1200</td>\n",
       "      <td>1210</td>\n",
       "      <td>1210</td>\n",
       "      <td>21</td>\n",
       "    </tr>\n",
       "    <tr>\n",
       "      <th>18</th>\n",
       "      <td>21</td>\n",
       "      <td>0</td>\n",
       "      <td>None</td>\n",
       "      <td>19</td>\n",
       "      <td>0</td>\n",
       "      <td>West Ham</td>\n",
       "      <td>0</td>\n",
       "      <td>0</td>\n",
       "      <td>0</td>\n",
       "      <td>WHU</td>\n",
       "      <td>...</td>\n",
       "      <td>None</td>\n",
       "      <td>False</td>\n",
       "      <td>0</td>\n",
       "      <td>1110</td>\n",
       "      <td>1170</td>\n",
       "      <td>1110</td>\n",
       "      <td>1150</td>\n",
       "      <td>1160</td>\n",
       "      <td>1180</td>\n",
       "      <td>25</td>\n",
       "    </tr>\n",
       "    <tr>\n",
       "      <th>19</th>\n",
       "      <td>39</td>\n",
       "      <td>0</td>\n",
       "      <td>None</td>\n",
       "      <td>20</td>\n",
       "      <td>0</td>\n",
       "      <td>Wolves</td>\n",
       "      <td>0</td>\n",
       "      <td>0</td>\n",
       "      <td>0</td>\n",
       "      <td>WOL</td>\n",
       "      <td>...</td>\n",
       "      <td>None</td>\n",
       "      <td>False</td>\n",
       "      <td>0</td>\n",
       "      <td>1100</td>\n",
       "      <td>1100</td>\n",
       "      <td>1150</td>\n",
       "      <td>1160</td>\n",
       "      <td>1080</td>\n",
       "      <td>1100</td>\n",
       "      <td>38</td>\n",
       "    </tr>\n",
       "  </tbody>\n",
       "</table>\n",
       "<p>20 rows × 21 columns</p>\n",
       "</div>"
      ],
      "text/plain": [
       "    code  draw  form  id  loss            name  played  points  position  \\\n",
       "0      3     0  None   1     0         Arsenal       0       0         0   \n",
       "1      7     0  None   2     0     Aston Villa       0       0         0   \n",
       "2     91     0  None   3     0     Bournemouth       0       0         0   \n",
       "3     94     0  None   4     0       Brentford       0       0         0   \n",
       "4     36     0  None   5     0        Brighton       0       0         0   \n",
       "5      8     0  None   6     0         Chelsea       0       0         0   \n",
       "6     31     0  None   7     0  Crystal Palace       0       0         0   \n",
       "7     11     0  None   8     0         Everton       0       0         0   \n",
       "8     54     0  None   9     0          Fulham       0       0         0   \n",
       "9     13     0  None  10     0       Leicester       0       0         0   \n",
       "10     2     0  None  11     0           Leeds       0       0         0   \n",
       "11    14     0  None  12     0       Liverpool       0       0         0   \n",
       "12    43     0  None  13     0        Man City       0       0         0   \n",
       "13     1     0  None  14     0         Man Utd       0       0         0   \n",
       "14     4     0  None  15     0       Newcastle       0       0         0   \n",
       "15    17     0  None  16     0   Nott'm Forest       0       0         0   \n",
       "16    20     0  None  17     0     Southampton       0       0         0   \n",
       "17     6     0  None  18     0           Spurs       0       0         0   \n",
       "18    21     0  None  19     0        West Ham       0       0         0   \n",
       "19    39     0  None  20     0          Wolves       0       0         0   \n",
       "\n",
       "   short_name  ...  team_division unavailable  win  strength_overall_home  \\\n",
       "0         ARS  ...           None       False    0                   1200   \n",
       "1         AVL  ...           None       False    0                   1090   \n",
       "2         BOU  ...           None       False    0                   1050   \n",
       "3         BRE  ...           None       False    0                   1090   \n",
       "4         BHA  ...           None       False    0                   1100   \n",
       "5         CHE  ...           None       False    0                   1270   \n",
       "6         CRY  ...           None       False    0                   1090   \n",
       "7         EVE  ...           None       False    0                   1050   \n",
       "8         FUL  ...           None       False    0                   1040   \n",
       "9         LEI  ...           None       False    0                   1110   \n",
       "10        LEE  ...           None       False    0                   1070   \n",
       "11        LIV  ...           None       False    0                   1350   \n",
       "12        MCI  ...           None       False    0                   1350   \n",
       "13        MUN  ...           None       False    0                   1170   \n",
       "14        NEW  ...           None       False    0                   1110   \n",
       "15        NFO  ...           None       False    0                   1040   \n",
       "16        SOU  ...           None       False    0                   1060   \n",
       "17        TOT  ...           None       False    0                   1210   \n",
       "18        WHU  ...           None       False    0                   1110   \n",
       "19        WOL  ...           None       False    0                   1100   \n",
       "\n",
       "    strength_overall_away  strength_attack_home  strength_attack_away  \\\n",
       "0                    1270                  1150                  1210   \n",
       "1                    1100                  1140                  1110   \n",
       "2                    1050                  1080                  1130   \n",
       "3                    1100                  1120                  1150   \n",
       "4                    1090                  1160                  1160   \n",
       "5                    1280                  1300                  1300   \n",
       "6                    1100                  1110                  1160   \n",
       "7                    1100                  1130                  1090   \n",
       "8                    1060                  1090                  1040   \n",
       "9                    1240                  1100                  1080   \n",
       "10                   1070                  1080                  1070   \n",
       "11                   1360                  1300                  1350   \n",
       "12                   1370                  1340                  1360   \n",
       "13                   1250                  1170                  1190   \n",
       "14                   1190                  1050                  1030   \n",
       "15                   1060                  1040                  1040   \n",
       "16                   1090                  1090                  1140   \n",
       "17                   1270                  1190                  1200   \n",
       "18                   1170                  1110                  1150   \n",
       "19                   1100                  1150                  1160   \n",
       "\n",
       "    strength_defence_home  strength_defence_away  pulse_id  \n",
       "0                    1190                   1220         1  \n",
       "1                    1090                   1090         2  \n",
       "2                    1060                   1100       127  \n",
       "3                    1080                   1120       130  \n",
       "4                    1100                   1120       131  \n",
       "5                    1250                   1290         4  \n",
       "6                    1080                   1160         6  \n",
       "7                    1110                   1110         7  \n",
       "8                    1120                   1070        34  \n",
       "9                    1150                   1160        26  \n",
       "10                   1100                   1100         9  \n",
       "11                   1340                   1350        10  \n",
       "12                   1340                   1360        11  \n",
       "13                   1190                   1200        12  \n",
       "14                   1040                   1070        23  \n",
       "15                   1040                   1030        15  \n",
       "16                   1120                   1090        20  \n",
       "17                   1210                   1210        21  \n",
       "18                   1160                   1180        25  \n",
       "19                   1080                   1100        38  \n",
       "\n",
       "[20 rows x 21 columns]"
      ]
     },
     "execution_count": 386,
     "metadata": {},
     "output_type": "execute_result"
    }
   ],
   "source": [
    "teams_df"
   ]
  },
  {
   "cell_type": "code",
   "execution_count": 414,
   "metadata": {},
   "outputs": [
    {
     "data": {
      "application/vnd.plotly.v1+json": {
       "config": {
        "plotlyServerURL": "https://plot.ly"
       },
       "data": [
        {
         "name": "Spurs",
         "type": "bar",
         "x": [
          "Overall",
          "Attack",
          "Defence"
         ],
         "y": [
          1210,
          1190,
          1210
         ]
        },
        {
         "name": "Wolves",
         "type": "bar",
         "x": [
          "Overall",
          "Attack",
          "Defence"
         ],
         "y": [
          1100,
          1160,
          1100
         ]
        }
       ],
       "layout": {
        "barmode": "group",
        "template": {
         "data": {
          "bar": [
           {
            "error_x": {
             "color": "#2a3f5f"
            },
            "error_y": {
             "color": "#2a3f5f"
            },
            "marker": {
             "line": {
              "color": "#E5ECF6",
              "width": 0.5
             },
             "pattern": {
              "fillmode": "overlay",
              "size": 10,
              "solidity": 0.2
             }
            },
            "type": "bar"
           }
          ],
          "barpolar": [
           {
            "marker": {
             "line": {
              "color": "#E5ECF6",
              "width": 0.5
             },
             "pattern": {
              "fillmode": "overlay",
              "size": 10,
              "solidity": 0.2
             }
            },
            "type": "barpolar"
           }
          ],
          "carpet": [
           {
            "aaxis": {
             "endlinecolor": "#2a3f5f",
             "gridcolor": "white",
             "linecolor": "white",
             "minorgridcolor": "white",
             "startlinecolor": "#2a3f5f"
            },
            "baxis": {
             "endlinecolor": "#2a3f5f",
             "gridcolor": "white",
             "linecolor": "white",
             "minorgridcolor": "white",
             "startlinecolor": "#2a3f5f"
            },
            "type": "carpet"
           }
          ],
          "choropleth": [
           {
            "colorbar": {
             "outlinewidth": 0,
             "ticks": ""
            },
            "type": "choropleth"
           }
          ],
          "contour": [
           {
            "colorbar": {
             "outlinewidth": 0,
             "ticks": ""
            },
            "colorscale": [
             [
              0,
              "#0d0887"
             ],
             [
              0.1111111111111111,
              "#46039f"
             ],
             [
              0.2222222222222222,
              "#7201a8"
             ],
             [
              0.3333333333333333,
              "#9c179e"
             ],
             [
              0.4444444444444444,
              "#bd3786"
             ],
             [
              0.5555555555555556,
              "#d8576b"
             ],
             [
              0.6666666666666666,
              "#ed7953"
             ],
             [
              0.7777777777777778,
              "#fb9f3a"
             ],
             [
              0.8888888888888888,
              "#fdca26"
             ],
             [
              1,
              "#f0f921"
             ]
            ],
            "type": "contour"
           }
          ],
          "contourcarpet": [
           {
            "colorbar": {
             "outlinewidth": 0,
             "ticks": ""
            },
            "type": "contourcarpet"
           }
          ],
          "heatmap": [
           {
            "colorbar": {
             "outlinewidth": 0,
             "ticks": ""
            },
            "colorscale": [
             [
              0,
              "#0d0887"
             ],
             [
              0.1111111111111111,
              "#46039f"
             ],
             [
              0.2222222222222222,
              "#7201a8"
             ],
             [
              0.3333333333333333,
              "#9c179e"
             ],
             [
              0.4444444444444444,
              "#bd3786"
             ],
             [
              0.5555555555555556,
              "#d8576b"
             ],
             [
              0.6666666666666666,
              "#ed7953"
             ],
             [
              0.7777777777777778,
              "#fb9f3a"
             ],
             [
              0.8888888888888888,
              "#fdca26"
             ],
             [
              1,
              "#f0f921"
             ]
            ],
            "type": "heatmap"
           }
          ],
          "heatmapgl": [
           {
            "colorbar": {
             "outlinewidth": 0,
             "ticks": ""
            },
            "colorscale": [
             [
              0,
              "#0d0887"
             ],
             [
              0.1111111111111111,
              "#46039f"
             ],
             [
              0.2222222222222222,
              "#7201a8"
             ],
             [
              0.3333333333333333,
              "#9c179e"
             ],
             [
              0.4444444444444444,
              "#bd3786"
             ],
             [
              0.5555555555555556,
              "#d8576b"
             ],
             [
              0.6666666666666666,
              "#ed7953"
             ],
             [
              0.7777777777777778,
              "#fb9f3a"
             ],
             [
              0.8888888888888888,
              "#fdca26"
             ],
             [
              1,
              "#f0f921"
             ]
            ],
            "type": "heatmapgl"
           }
          ],
          "histogram": [
           {
            "marker": {
             "pattern": {
              "fillmode": "overlay",
              "size": 10,
              "solidity": 0.2
             }
            },
            "type": "histogram"
           }
          ],
          "histogram2d": [
           {
            "colorbar": {
             "outlinewidth": 0,
             "ticks": ""
            },
            "colorscale": [
             [
              0,
              "#0d0887"
             ],
             [
              0.1111111111111111,
              "#46039f"
             ],
             [
              0.2222222222222222,
              "#7201a8"
             ],
             [
              0.3333333333333333,
              "#9c179e"
             ],
             [
              0.4444444444444444,
              "#bd3786"
             ],
             [
              0.5555555555555556,
              "#d8576b"
             ],
             [
              0.6666666666666666,
              "#ed7953"
             ],
             [
              0.7777777777777778,
              "#fb9f3a"
             ],
             [
              0.8888888888888888,
              "#fdca26"
             ],
             [
              1,
              "#f0f921"
             ]
            ],
            "type": "histogram2d"
           }
          ],
          "histogram2dcontour": [
           {
            "colorbar": {
             "outlinewidth": 0,
             "ticks": ""
            },
            "colorscale": [
             [
              0,
              "#0d0887"
             ],
             [
              0.1111111111111111,
              "#46039f"
             ],
             [
              0.2222222222222222,
              "#7201a8"
             ],
             [
              0.3333333333333333,
              "#9c179e"
             ],
             [
              0.4444444444444444,
              "#bd3786"
             ],
             [
              0.5555555555555556,
              "#d8576b"
             ],
             [
              0.6666666666666666,
              "#ed7953"
             ],
             [
              0.7777777777777778,
              "#fb9f3a"
             ],
             [
              0.8888888888888888,
              "#fdca26"
             ],
             [
              1,
              "#f0f921"
             ]
            ],
            "type": "histogram2dcontour"
           }
          ],
          "mesh3d": [
           {
            "colorbar": {
             "outlinewidth": 0,
             "ticks": ""
            },
            "type": "mesh3d"
           }
          ],
          "parcoords": [
           {
            "line": {
             "colorbar": {
              "outlinewidth": 0,
              "ticks": ""
             }
            },
            "type": "parcoords"
           }
          ],
          "pie": [
           {
            "automargin": true,
            "type": "pie"
           }
          ],
          "scatter": [
           {
            "fillpattern": {
             "fillmode": "overlay",
             "size": 10,
             "solidity": 0.2
            },
            "type": "scatter"
           }
          ],
          "scatter3d": [
           {
            "line": {
             "colorbar": {
              "outlinewidth": 0,
              "ticks": ""
             }
            },
            "marker": {
             "colorbar": {
              "outlinewidth": 0,
              "ticks": ""
             }
            },
            "type": "scatter3d"
           }
          ],
          "scattercarpet": [
           {
            "marker": {
             "colorbar": {
              "outlinewidth": 0,
              "ticks": ""
             }
            },
            "type": "scattercarpet"
           }
          ],
          "scattergeo": [
           {
            "marker": {
             "colorbar": {
              "outlinewidth": 0,
              "ticks": ""
             }
            },
            "type": "scattergeo"
           }
          ],
          "scattergl": [
           {
            "marker": {
             "colorbar": {
              "outlinewidth": 0,
              "ticks": ""
             }
            },
            "type": "scattergl"
           }
          ],
          "scattermapbox": [
           {
            "marker": {
             "colorbar": {
              "outlinewidth": 0,
              "ticks": ""
             }
            },
            "type": "scattermapbox"
           }
          ],
          "scatterpolar": [
           {
            "marker": {
             "colorbar": {
              "outlinewidth": 0,
              "ticks": ""
             }
            },
            "type": "scatterpolar"
           }
          ],
          "scatterpolargl": [
           {
            "marker": {
             "colorbar": {
              "outlinewidth": 0,
              "ticks": ""
             }
            },
            "type": "scatterpolargl"
           }
          ],
          "scatterternary": [
           {
            "marker": {
             "colorbar": {
              "outlinewidth": 0,
              "ticks": ""
             }
            },
            "type": "scatterternary"
           }
          ],
          "surface": [
           {
            "colorbar": {
             "outlinewidth": 0,
             "ticks": ""
            },
            "colorscale": [
             [
              0,
              "#0d0887"
             ],
             [
              0.1111111111111111,
              "#46039f"
             ],
             [
              0.2222222222222222,
              "#7201a8"
             ],
             [
              0.3333333333333333,
              "#9c179e"
             ],
             [
              0.4444444444444444,
              "#bd3786"
             ],
             [
              0.5555555555555556,
              "#d8576b"
             ],
             [
              0.6666666666666666,
              "#ed7953"
             ],
             [
              0.7777777777777778,
              "#fb9f3a"
             ],
             [
              0.8888888888888888,
              "#fdca26"
             ],
             [
              1,
              "#f0f921"
             ]
            ],
            "type": "surface"
           }
          ],
          "table": [
           {
            "cells": {
             "fill": {
              "color": "#EBF0F8"
             },
             "line": {
              "color": "white"
             }
            },
            "header": {
             "fill": {
              "color": "#C8D4E3"
             },
             "line": {
              "color": "white"
             }
            },
            "type": "table"
           }
          ]
         },
         "layout": {
          "annotationdefaults": {
           "arrowcolor": "#2a3f5f",
           "arrowhead": 0,
           "arrowwidth": 1
          },
          "autotypenumbers": "strict",
          "coloraxis": {
           "colorbar": {
            "outlinewidth": 0,
            "ticks": ""
           }
          },
          "colorscale": {
           "diverging": [
            [
             0,
             "#8e0152"
            ],
            [
             0.1,
             "#c51b7d"
            ],
            [
             0.2,
             "#de77ae"
            ],
            [
             0.3,
             "#f1b6da"
            ],
            [
             0.4,
             "#fde0ef"
            ],
            [
             0.5,
             "#f7f7f7"
            ],
            [
             0.6,
             "#e6f5d0"
            ],
            [
             0.7,
             "#b8e186"
            ],
            [
             0.8,
             "#7fbc41"
            ],
            [
             0.9,
             "#4d9221"
            ],
            [
             1,
             "#276419"
            ]
           ],
           "sequential": [
            [
             0,
             "#0d0887"
            ],
            [
             0.1111111111111111,
             "#46039f"
            ],
            [
             0.2222222222222222,
             "#7201a8"
            ],
            [
             0.3333333333333333,
             "#9c179e"
            ],
            [
             0.4444444444444444,
             "#bd3786"
            ],
            [
             0.5555555555555556,
             "#d8576b"
            ],
            [
             0.6666666666666666,
             "#ed7953"
            ],
            [
             0.7777777777777778,
             "#fb9f3a"
            ],
            [
             0.8888888888888888,
             "#fdca26"
            ],
            [
             1,
             "#f0f921"
            ]
           ],
           "sequentialminus": [
            [
             0,
             "#0d0887"
            ],
            [
             0.1111111111111111,
             "#46039f"
            ],
            [
             0.2222222222222222,
             "#7201a8"
            ],
            [
             0.3333333333333333,
             "#9c179e"
            ],
            [
             0.4444444444444444,
             "#bd3786"
            ],
            [
             0.5555555555555556,
             "#d8576b"
            ],
            [
             0.6666666666666666,
             "#ed7953"
            ],
            [
             0.7777777777777778,
             "#fb9f3a"
            ],
            [
             0.8888888888888888,
             "#fdca26"
            ],
            [
             1,
             "#f0f921"
            ]
           ]
          },
          "colorway": [
           "#636efa",
           "#EF553B",
           "#00cc96",
           "#ab63fa",
           "#FFA15A",
           "#19d3f3",
           "#FF6692",
           "#B6E880",
           "#FF97FF",
           "#FECB52"
          ],
          "font": {
           "color": "#2a3f5f"
          },
          "geo": {
           "bgcolor": "white",
           "lakecolor": "white",
           "landcolor": "#E5ECF6",
           "showlakes": true,
           "showland": true,
           "subunitcolor": "white"
          },
          "hoverlabel": {
           "align": "left"
          },
          "hovermode": "closest",
          "mapbox": {
           "style": "light"
          },
          "paper_bgcolor": "white",
          "plot_bgcolor": "#E5ECF6",
          "polar": {
           "angularaxis": {
            "gridcolor": "white",
            "linecolor": "white",
            "ticks": ""
           },
           "bgcolor": "#E5ECF6",
           "radialaxis": {
            "gridcolor": "white",
            "linecolor": "white",
            "ticks": ""
           }
          },
          "scene": {
           "xaxis": {
            "backgroundcolor": "#E5ECF6",
            "gridcolor": "white",
            "gridwidth": 2,
            "linecolor": "white",
            "showbackground": true,
            "ticks": "",
            "zerolinecolor": "white"
           },
           "yaxis": {
            "backgroundcolor": "#E5ECF6",
            "gridcolor": "white",
            "gridwidth": 2,
            "linecolor": "white",
            "showbackground": true,
            "ticks": "",
            "zerolinecolor": "white"
           },
           "zaxis": {
            "backgroundcolor": "#E5ECF6",
            "gridcolor": "white",
            "gridwidth": 2,
            "linecolor": "white",
            "showbackground": true,
            "ticks": "",
            "zerolinecolor": "white"
           }
          },
          "shapedefaults": {
           "line": {
            "color": "#2a3f5f"
           }
          },
          "ternary": {
           "aaxis": {
            "gridcolor": "white",
            "linecolor": "white",
            "ticks": ""
           },
           "baxis": {
            "gridcolor": "white",
            "linecolor": "white",
            "ticks": ""
           },
           "bgcolor": "#E5ECF6",
           "caxis": {
            "gridcolor": "white",
            "linecolor": "white",
            "ticks": ""
           }
          },
          "title": {
           "x": 0.05
          },
          "xaxis": {
           "automargin": true,
           "gridcolor": "white",
           "linecolor": "white",
           "ticks": "",
           "title": {
            "standoff": 15
           },
           "zerolinecolor": "white",
           "zerolinewidth": 2
          },
          "yaxis": {
           "automargin": true,
           "gridcolor": "white",
           "linecolor": "white",
           "ticks": "",
           "title": {
            "standoff": 15
           },
           "zerolinecolor": "white",
           "zerolinewidth": 2
          }
         }
        }
       }
      }
     },
     "metadata": {},
     "output_type": "display_data"
    },
    {
     "data": {
      "application/vnd.plotly.v1+json": {
       "config": {
        "plotlyServerURL": "https://plot.ly"
       },
       "data": [
        {
         "name": "Crystal Palace",
         "type": "bar",
         "x": [
          "Overall",
          "Attack",
          "Defence"
         ],
         "y": [
          1090,
          1110,
          1080
         ]
        },
        {
         "name": "Aston Villa",
         "type": "bar",
         "x": [
          "Overall",
          "Attack",
          "Defence"
         ],
         "y": [
          1100,
          1110,
          1090
         ]
        }
       ],
       "layout": {
        "barmode": "group",
        "template": {
         "data": {
          "bar": [
           {
            "error_x": {
             "color": "#2a3f5f"
            },
            "error_y": {
             "color": "#2a3f5f"
            },
            "marker": {
             "line": {
              "color": "#E5ECF6",
              "width": 0.5
             },
             "pattern": {
              "fillmode": "overlay",
              "size": 10,
              "solidity": 0.2
             }
            },
            "type": "bar"
           }
          ],
          "barpolar": [
           {
            "marker": {
             "line": {
              "color": "#E5ECF6",
              "width": 0.5
             },
             "pattern": {
              "fillmode": "overlay",
              "size": 10,
              "solidity": 0.2
             }
            },
            "type": "barpolar"
           }
          ],
          "carpet": [
           {
            "aaxis": {
             "endlinecolor": "#2a3f5f",
             "gridcolor": "white",
             "linecolor": "white",
             "minorgridcolor": "white",
             "startlinecolor": "#2a3f5f"
            },
            "baxis": {
             "endlinecolor": "#2a3f5f",
             "gridcolor": "white",
             "linecolor": "white",
             "minorgridcolor": "white",
             "startlinecolor": "#2a3f5f"
            },
            "type": "carpet"
           }
          ],
          "choropleth": [
           {
            "colorbar": {
             "outlinewidth": 0,
             "ticks": ""
            },
            "type": "choropleth"
           }
          ],
          "contour": [
           {
            "colorbar": {
             "outlinewidth": 0,
             "ticks": ""
            },
            "colorscale": [
             [
              0,
              "#0d0887"
             ],
             [
              0.1111111111111111,
              "#46039f"
             ],
             [
              0.2222222222222222,
              "#7201a8"
             ],
             [
              0.3333333333333333,
              "#9c179e"
             ],
             [
              0.4444444444444444,
              "#bd3786"
             ],
             [
              0.5555555555555556,
              "#d8576b"
             ],
             [
              0.6666666666666666,
              "#ed7953"
             ],
             [
              0.7777777777777778,
              "#fb9f3a"
             ],
             [
              0.8888888888888888,
              "#fdca26"
             ],
             [
              1,
              "#f0f921"
             ]
            ],
            "type": "contour"
           }
          ],
          "contourcarpet": [
           {
            "colorbar": {
             "outlinewidth": 0,
             "ticks": ""
            },
            "type": "contourcarpet"
           }
          ],
          "heatmap": [
           {
            "colorbar": {
             "outlinewidth": 0,
             "ticks": ""
            },
            "colorscale": [
             [
              0,
              "#0d0887"
             ],
             [
              0.1111111111111111,
              "#46039f"
             ],
             [
              0.2222222222222222,
              "#7201a8"
             ],
             [
              0.3333333333333333,
              "#9c179e"
             ],
             [
              0.4444444444444444,
              "#bd3786"
             ],
             [
              0.5555555555555556,
              "#d8576b"
             ],
             [
              0.6666666666666666,
              "#ed7953"
             ],
             [
              0.7777777777777778,
              "#fb9f3a"
             ],
             [
              0.8888888888888888,
              "#fdca26"
             ],
             [
              1,
              "#f0f921"
             ]
            ],
            "type": "heatmap"
           }
          ],
          "heatmapgl": [
           {
            "colorbar": {
             "outlinewidth": 0,
             "ticks": ""
            },
            "colorscale": [
             [
              0,
              "#0d0887"
             ],
             [
              0.1111111111111111,
              "#46039f"
             ],
             [
              0.2222222222222222,
              "#7201a8"
             ],
             [
              0.3333333333333333,
              "#9c179e"
             ],
             [
              0.4444444444444444,
              "#bd3786"
             ],
             [
              0.5555555555555556,
              "#d8576b"
             ],
             [
              0.6666666666666666,
              "#ed7953"
             ],
             [
              0.7777777777777778,
              "#fb9f3a"
             ],
             [
              0.8888888888888888,
              "#fdca26"
             ],
             [
              1,
              "#f0f921"
             ]
            ],
            "type": "heatmapgl"
           }
          ],
          "histogram": [
           {
            "marker": {
             "pattern": {
              "fillmode": "overlay",
              "size": 10,
              "solidity": 0.2
             }
            },
            "type": "histogram"
           }
          ],
          "histogram2d": [
           {
            "colorbar": {
             "outlinewidth": 0,
             "ticks": ""
            },
            "colorscale": [
             [
              0,
              "#0d0887"
             ],
             [
              0.1111111111111111,
              "#46039f"
             ],
             [
              0.2222222222222222,
              "#7201a8"
             ],
             [
              0.3333333333333333,
              "#9c179e"
             ],
             [
              0.4444444444444444,
              "#bd3786"
             ],
             [
              0.5555555555555556,
              "#d8576b"
             ],
             [
              0.6666666666666666,
              "#ed7953"
             ],
             [
              0.7777777777777778,
              "#fb9f3a"
             ],
             [
              0.8888888888888888,
              "#fdca26"
             ],
             [
              1,
              "#f0f921"
             ]
            ],
            "type": "histogram2d"
           }
          ],
          "histogram2dcontour": [
           {
            "colorbar": {
             "outlinewidth": 0,
             "ticks": ""
            },
            "colorscale": [
             [
              0,
              "#0d0887"
             ],
             [
              0.1111111111111111,
              "#46039f"
             ],
             [
              0.2222222222222222,
              "#7201a8"
             ],
             [
              0.3333333333333333,
              "#9c179e"
             ],
             [
              0.4444444444444444,
              "#bd3786"
             ],
             [
              0.5555555555555556,
              "#d8576b"
             ],
             [
              0.6666666666666666,
              "#ed7953"
             ],
             [
              0.7777777777777778,
              "#fb9f3a"
             ],
             [
              0.8888888888888888,
              "#fdca26"
             ],
             [
              1,
              "#f0f921"
             ]
            ],
            "type": "histogram2dcontour"
           }
          ],
          "mesh3d": [
           {
            "colorbar": {
             "outlinewidth": 0,
             "ticks": ""
            },
            "type": "mesh3d"
           }
          ],
          "parcoords": [
           {
            "line": {
             "colorbar": {
              "outlinewidth": 0,
              "ticks": ""
             }
            },
            "type": "parcoords"
           }
          ],
          "pie": [
           {
            "automargin": true,
            "type": "pie"
           }
          ],
          "scatter": [
           {
            "fillpattern": {
             "fillmode": "overlay",
             "size": 10,
             "solidity": 0.2
            },
            "type": "scatter"
           }
          ],
          "scatter3d": [
           {
            "line": {
             "colorbar": {
              "outlinewidth": 0,
              "ticks": ""
             }
            },
            "marker": {
             "colorbar": {
              "outlinewidth": 0,
              "ticks": ""
             }
            },
            "type": "scatter3d"
           }
          ],
          "scattercarpet": [
           {
            "marker": {
             "colorbar": {
              "outlinewidth": 0,
              "ticks": ""
             }
            },
            "type": "scattercarpet"
           }
          ],
          "scattergeo": [
           {
            "marker": {
             "colorbar": {
              "outlinewidth": 0,
              "ticks": ""
             }
            },
            "type": "scattergeo"
           }
          ],
          "scattergl": [
           {
            "marker": {
             "colorbar": {
              "outlinewidth": 0,
              "ticks": ""
             }
            },
            "type": "scattergl"
           }
          ],
          "scattermapbox": [
           {
            "marker": {
             "colorbar": {
              "outlinewidth": 0,
              "ticks": ""
             }
            },
            "type": "scattermapbox"
           }
          ],
          "scatterpolar": [
           {
            "marker": {
             "colorbar": {
              "outlinewidth": 0,
              "ticks": ""
             }
            },
            "type": "scatterpolar"
           }
          ],
          "scatterpolargl": [
           {
            "marker": {
             "colorbar": {
              "outlinewidth": 0,
              "ticks": ""
             }
            },
            "type": "scatterpolargl"
           }
          ],
          "scatterternary": [
           {
            "marker": {
             "colorbar": {
              "outlinewidth": 0,
              "ticks": ""
             }
            },
            "type": "scatterternary"
           }
          ],
          "surface": [
           {
            "colorbar": {
             "outlinewidth": 0,
             "ticks": ""
            },
            "colorscale": [
             [
              0,
              "#0d0887"
             ],
             [
              0.1111111111111111,
              "#46039f"
             ],
             [
              0.2222222222222222,
              "#7201a8"
             ],
             [
              0.3333333333333333,
              "#9c179e"
             ],
             [
              0.4444444444444444,
              "#bd3786"
             ],
             [
              0.5555555555555556,
              "#d8576b"
             ],
             [
              0.6666666666666666,
              "#ed7953"
             ],
             [
              0.7777777777777778,
              "#fb9f3a"
             ],
             [
              0.8888888888888888,
              "#fdca26"
             ],
             [
              1,
              "#f0f921"
             ]
            ],
            "type": "surface"
           }
          ],
          "table": [
           {
            "cells": {
             "fill": {
              "color": "#EBF0F8"
             },
             "line": {
              "color": "white"
             }
            },
            "header": {
             "fill": {
              "color": "#C8D4E3"
             },
             "line": {
              "color": "white"
             }
            },
            "type": "table"
           }
          ]
         },
         "layout": {
          "annotationdefaults": {
           "arrowcolor": "#2a3f5f",
           "arrowhead": 0,
           "arrowwidth": 1
          },
          "autotypenumbers": "strict",
          "coloraxis": {
           "colorbar": {
            "outlinewidth": 0,
            "ticks": ""
           }
          },
          "colorscale": {
           "diverging": [
            [
             0,
             "#8e0152"
            ],
            [
             0.1,
             "#c51b7d"
            ],
            [
             0.2,
             "#de77ae"
            ],
            [
             0.3,
             "#f1b6da"
            ],
            [
             0.4,
             "#fde0ef"
            ],
            [
             0.5,
             "#f7f7f7"
            ],
            [
             0.6,
             "#e6f5d0"
            ],
            [
             0.7,
             "#b8e186"
            ],
            [
             0.8,
             "#7fbc41"
            ],
            [
             0.9,
             "#4d9221"
            ],
            [
             1,
             "#276419"
            ]
           ],
           "sequential": [
            [
             0,
             "#0d0887"
            ],
            [
             0.1111111111111111,
             "#46039f"
            ],
            [
             0.2222222222222222,
             "#7201a8"
            ],
            [
             0.3333333333333333,
             "#9c179e"
            ],
            [
             0.4444444444444444,
             "#bd3786"
            ],
            [
             0.5555555555555556,
             "#d8576b"
            ],
            [
             0.6666666666666666,
             "#ed7953"
            ],
            [
             0.7777777777777778,
             "#fb9f3a"
            ],
            [
             0.8888888888888888,
             "#fdca26"
            ],
            [
             1,
             "#f0f921"
            ]
           ],
           "sequentialminus": [
            [
             0,
             "#0d0887"
            ],
            [
             0.1111111111111111,
             "#46039f"
            ],
            [
             0.2222222222222222,
             "#7201a8"
            ],
            [
             0.3333333333333333,
             "#9c179e"
            ],
            [
             0.4444444444444444,
             "#bd3786"
            ],
            [
             0.5555555555555556,
             "#d8576b"
            ],
            [
             0.6666666666666666,
             "#ed7953"
            ],
            [
             0.7777777777777778,
             "#fb9f3a"
            ],
            [
             0.8888888888888888,
             "#fdca26"
            ],
            [
             1,
             "#f0f921"
            ]
           ]
          },
          "colorway": [
           "#636efa",
           "#EF553B",
           "#00cc96",
           "#ab63fa",
           "#FFA15A",
           "#19d3f3",
           "#FF6692",
           "#B6E880",
           "#FF97FF",
           "#FECB52"
          ],
          "font": {
           "color": "#2a3f5f"
          },
          "geo": {
           "bgcolor": "white",
           "lakecolor": "white",
           "landcolor": "#E5ECF6",
           "showlakes": true,
           "showland": true,
           "subunitcolor": "white"
          },
          "hoverlabel": {
           "align": "left"
          },
          "hovermode": "closest",
          "mapbox": {
           "style": "light"
          },
          "paper_bgcolor": "white",
          "plot_bgcolor": "#E5ECF6",
          "polar": {
           "angularaxis": {
            "gridcolor": "white",
            "linecolor": "white",
            "ticks": ""
           },
           "bgcolor": "#E5ECF6",
           "radialaxis": {
            "gridcolor": "white",
            "linecolor": "white",
            "ticks": ""
           }
          },
          "scene": {
           "xaxis": {
            "backgroundcolor": "#E5ECF6",
            "gridcolor": "white",
            "gridwidth": 2,
            "linecolor": "white",
            "showbackground": true,
            "ticks": "",
            "zerolinecolor": "white"
           },
           "yaxis": {
            "backgroundcolor": "#E5ECF6",
            "gridcolor": "white",
            "gridwidth": 2,
            "linecolor": "white",
            "showbackground": true,
            "ticks": "",
            "zerolinecolor": "white"
           },
           "zaxis": {
            "backgroundcolor": "#E5ECF6",
            "gridcolor": "white",
            "gridwidth": 2,
            "linecolor": "white",
            "showbackground": true,
            "ticks": "",
            "zerolinecolor": "white"
           }
          },
          "shapedefaults": {
           "line": {
            "color": "#2a3f5f"
           }
          },
          "ternary": {
           "aaxis": {
            "gridcolor": "white",
            "linecolor": "white",
            "ticks": ""
           },
           "baxis": {
            "gridcolor": "white",
            "linecolor": "white",
            "ticks": ""
           },
           "bgcolor": "#E5ECF6",
           "caxis": {
            "gridcolor": "white",
            "linecolor": "white",
            "ticks": ""
           }
          },
          "title": {
           "x": 0.05
          },
          "xaxis": {
           "automargin": true,
           "gridcolor": "white",
           "linecolor": "white",
           "ticks": "",
           "title": {
            "standoff": 15
           },
           "zerolinecolor": "white",
           "zerolinewidth": 2
          },
          "yaxis": {
           "automargin": true,
           "gridcolor": "white",
           "linecolor": "white",
           "ticks": "",
           "title": {
            "standoff": 15
           },
           "zerolinecolor": "white",
           "zerolinewidth": 2
          }
         }
        }
       }
      }
     },
     "metadata": {},
     "output_type": "display_data"
    },
    {
     "data": {
      "application/vnd.plotly.v1+json": {
       "config": {
        "plotlyServerURL": "https://plot.ly"
       },
       "data": [
        {
         "name": "Everton",
         "type": "bar",
         "x": [
          "Overall",
          "Attack",
          "Defence"
         ],
         "y": [
          1050,
          1130,
          1110
         ]
        },
        {
         "name": "Nott'm Forest",
         "type": "bar",
         "x": [
          "Overall",
          "Attack",
          "Defence"
         ],
         "y": [
          1060,
          1040,
          1030
         ]
        }
       ],
       "layout": {
        "barmode": "group",
        "template": {
         "data": {
          "bar": [
           {
            "error_x": {
             "color": "#2a3f5f"
            },
            "error_y": {
             "color": "#2a3f5f"
            },
            "marker": {
             "line": {
              "color": "#E5ECF6",
              "width": 0.5
             },
             "pattern": {
              "fillmode": "overlay",
              "size": 10,
              "solidity": 0.2
             }
            },
            "type": "bar"
           }
          ],
          "barpolar": [
           {
            "marker": {
             "line": {
              "color": "#E5ECF6",
              "width": 0.5
             },
             "pattern": {
              "fillmode": "overlay",
              "size": 10,
              "solidity": 0.2
             }
            },
            "type": "barpolar"
           }
          ],
          "carpet": [
           {
            "aaxis": {
             "endlinecolor": "#2a3f5f",
             "gridcolor": "white",
             "linecolor": "white",
             "minorgridcolor": "white",
             "startlinecolor": "#2a3f5f"
            },
            "baxis": {
             "endlinecolor": "#2a3f5f",
             "gridcolor": "white",
             "linecolor": "white",
             "minorgridcolor": "white",
             "startlinecolor": "#2a3f5f"
            },
            "type": "carpet"
           }
          ],
          "choropleth": [
           {
            "colorbar": {
             "outlinewidth": 0,
             "ticks": ""
            },
            "type": "choropleth"
           }
          ],
          "contour": [
           {
            "colorbar": {
             "outlinewidth": 0,
             "ticks": ""
            },
            "colorscale": [
             [
              0,
              "#0d0887"
             ],
             [
              0.1111111111111111,
              "#46039f"
             ],
             [
              0.2222222222222222,
              "#7201a8"
             ],
             [
              0.3333333333333333,
              "#9c179e"
             ],
             [
              0.4444444444444444,
              "#bd3786"
             ],
             [
              0.5555555555555556,
              "#d8576b"
             ],
             [
              0.6666666666666666,
              "#ed7953"
             ],
             [
              0.7777777777777778,
              "#fb9f3a"
             ],
             [
              0.8888888888888888,
              "#fdca26"
             ],
             [
              1,
              "#f0f921"
             ]
            ],
            "type": "contour"
           }
          ],
          "contourcarpet": [
           {
            "colorbar": {
             "outlinewidth": 0,
             "ticks": ""
            },
            "type": "contourcarpet"
           }
          ],
          "heatmap": [
           {
            "colorbar": {
             "outlinewidth": 0,
             "ticks": ""
            },
            "colorscale": [
             [
              0,
              "#0d0887"
             ],
             [
              0.1111111111111111,
              "#46039f"
             ],
             [
              0.2222222222222222,
              "#7201a8"
             ],
             [
              0.3333333333333333,
              "#9c179e"
             ],
             [
              0.4444444444444444,
              "#bd3786"
             ],
             [
              0.5555555555555556,
              "#d8576b"
             ],
             [
              0.6666666666666666,
              "#ed7953"
             ],
             [
              0.7777777777777778,
              "#fb9f3a"
             ],
             [
              0.8888888888888888,
              "#fdca26"
             ],
             [
              1,
              "#f0f921"
             ]
            ],
            "type": "heatmap"
           }
          ],
          "heatmapgl": [
           {
            "colorbar": {
             "outlinewidth": 0,
             "ticks": ""
            },
            "colorscale": [
             [
              0,
              "#0d0887"
             ],
             [
              0.1111111111111111,
              "#46039f"
             ],
             [
              0.2222222222222222,
              "#7201a8"
             ],
             [
              0.3333333333333333,
              "#9c179e"
             ],
             [
              0.4444444444444444,
              "#bd3786"
             ],
             [
              0.5555555555555556,
              "#d8576b"
             ],
             [
              0.6666666666666666,
              "#ed7953"
             ],
             [
              0.7777777777777778,
              "#fb9f3a"
             ],
             [
              0.8888888888888888,
              "#fdca26"
             ],
             [
              1,
              "#f0f921"
             ]
            ],
            "type": "heatmapgl"
           }
          ],
          "histogram": [
           {
            "marker": {
             "pattern": {
              "fillmode": "overlay",
              "size": 10,
              "solidity": 0.2
             }
            },
            "type": "histogram"
           }
          ],
          "histogram2d": [
           {
            "colorbar": {
             "outlinewidth": 0,
             "ticks": ""
            },
            "colorscale": [
             [
              0,
              "#0d0887"
             ],
             [
              0.1111111111111111,
              "#46039f"
             ],
             [
              0.2222222222222222,
              "#7201a8"
             ],
             [
              0.3333333333333333,
              "#9c179e"
             ],
             [
              0.4444444444444444,
              "#bd3786"
             ],
             [
              0.5555555555555556,
              "#d8576b"
             ],
             [
              0.6666666666666666,
              "#ed7953"
             ],
             [
              0.7777777777777778,
              "#fb9f3a"
             ],
             [
              0.8888888888888888,
              "#fdca26"
             ],
             [
              1,
              "#f0f921"
             ]
            ],
            "type": "histogram2d"
           }
          ],
          "histogram2dcontour": [
           {
            "colorbar": {
             "outlinewidth": 0,
             "ticks": ""
            },
            "colorscale": [
             [
              0,
              "#0d0887"
             ],
             [
              0.1111111111111111,
              "#46039f"
             ],
             [
              0.2222222222222222,
              "#7201a8"
             ],
             [
              0.3333333333333333,
              "#9c179e"
             ],
             [
              0.4444444444444444,
              "#bd3786"
             ],
             [
              0.5555555555555556,
              "#d8576b"
             ],
             [
              0.6666666666666666,
              "#ed7953"
             ],
             [
              0.7777777777777778,
              "#fb9f3a"
             ],
             [
              0.8888888888888888,
              "#fdca26"
             ],
             [
              1,
              "#f0f921"
             ]
            ],
            "type": "histogram2dcontour"
           }
          ],
          "mesh3d": [
           {
            "colorbar": {
             "outlinewidth": 0,
             "ticks": ""
            },
            "type": "mesh3d"
           }
          ],
          "parcoords": [
           {
            "line": {
             "colorbar": {
              "outlinewidth": 0,
              "ticks": ""
             }
            },
            "type": "parcoords"
           }
          ],
          "pie": [
           {
            "automargin": true,
            "type": "pie"
           }
          ],
          "scatter": [
           {
            "fillpattern": {
             "fillmode": "overlay",
             "size": 10,
             "solidity": 0.2
            },
            "type": "scatter"
           }
          ],
          "scatter3d": [
           {
            "line": {
             "colorbar": {
              "outlinewidth": 0,
              "ticks": ""
             }
            },
            "marker": {
             "colorbar": {
              "outlinewidth": 0,
              "ticks": ""
             }
            },
            "type": "scatter3d"
           }
          ],
          "scattercarpet": [
           {
            "marker": {
             "colorbar": {
              "outlinewidth": 0,
              "ticks": ""
             }
            },
            "type": "scattercarpet"
           }
          ],
          "scattergeo": [
           {
            "marker": {
             "colorbar": {
              "outlinewidth": 0,
              "ticks": ""
             }
            },
            "type": "scattergeo"
           }
          ],
          "scattergl": [
           {
            "marker": {
             "colorbar": {
              "outlinewidth": 0,
              "ticks": ""
             }
            },
            "type": "scattergl"
           }
          ],
          "scattermapbox": [
           {
            "marker": {
             "colorbar": {
              "outlinewidth": 0,
              "ticks": ""
             }
            },
            "type": "scattermapbox"
           }
          ],
          "scatterpolar": [
           {
            "marker": {
             "colorbar": {
              "outlinewidth": 0,
              "ticks": ""
             }
            },
            "type": "scatterpolar"
           }
          ],
          "scatterpolargl": [
           {
            "marker": {
             "colorbar": {
              "outlinewidth": 0,
              "ticks": ""
             }
            },
            "type": "scatterpolargl"
           }
          ],
          "scatterternary": [
           {
            "marker": {
             "colorbar": {
              "outlinewidth": 0,
              "ticks": ""
             }
            },
            "type": "scatterternary"
           }
          ],
          "surface": [
           {
            "colorbar": {
             "outlinewidth": 0,
             "ticks": ""
            },
            "colorscale": [
             [
              0,
              "#0d0887"
             ],
             [
              0.1111111111111111,
              "#46039f"
             ],
             [
              0.2222222222222222,
              "#7201a8"
             ],
             [
              0.3333333333333333,
              "#9c179e"
             ],
             [
              0.4444444444444444,
              "#bd3786"
             ],
             [
              0.5555555555555556,
              "#d8576b"
             ],
             [
              0.6666666666666666,
              "#ed7953"
             ],
             [
              0.7777777777777778,
              "#fb9f3a"
             ],
             [
              0.8888888888888888,
              "#fdca26"
             ],
             [
              1,
              "#f0f921"
             ]
            ],
            "type": "surface"
           }
          ],
          "table": [
           {
            "cells": {
             "fill": {
              "color": "#EBF0F8"
             },
             "line": {
              "color": "white"
             }
            },
            "header": {
             "fill": {
              "color": "#C8D4E3"
             },
             "line": {
              "color": "white"
             }
            },
            "type": "table"
           }
          ]
         },
         "layout": {
          "annotationdefaults": {
           "arrowcolor": "#2a3f5f",
           "arrowhead": 0,
           "arrowwidth": 1
          },
          "autotypenumbers": "strict",
          "coloraxis": {
           "colorbar": {
            "outlinewidth": 0,
            "ticks": ""
           }
          },
          "colorscale": {
           "diverging": [
            [
             0,
             "#8e0152"
            ],
            [
             0.1,
             "#c51b7d"
            ],
            [
             0.2,
             "#de77ae"
            ],
            [
             0.3,
             "#f1b6da"
            ],
            [
             0.4,
             "#fde0ef"
            ],
            [
             0.5,
             "#f7f7f7"
            ],
            [
             0.6,
             "#e6f5d0"
            ],
            [
             0.7,
             "#b8e186"
            ],
            [
             0.8,
             "#7fbc41"
            ],
            [
             0.9,
             "#4d9221"
            ],
            [
             1,
             "#276419"
            ]
           ],
           "sequential": [
            [
             0,
             "#0d0887"
            ],
            [
             0.1111111111111111,
             "#46039f"
            ],
            [
             0.2222222222222222,
             "#7201a8"
            ],
            [
             0.3333333333333333,
             "#9c179e"
            ],
            [
             0.4444444444444444,
             "#bd3786"
            ],
            [
             0.5555555555555556,
             "#d8576b"
            ],
            [
             0.6666666666666666,
             "#ed7953"
            ],
            [
             0.7777777777777778,
             "#fb9f3a"
            ],
            [
             0.8888888888888888,
             "#fdca26"
            ],
            [
             1,
             "#f0f921"
            ]
           ],
           "sequentialminus": [
            [
             0,
             "#0d0887"
            ],
            [
             0.1111111111111111,
             "#46039f"
            ],
            [
             0.2222222222222222,
             "#7201a8"
            ],
            [
             0.3333333333333333,
             "#9c179e"
            ],
            [
             0.4444444444444444,
             "#bd3786"
            ],
            [
             0.5555555555555556,
             "#d8576b"
            ],
            [
             0.6666666666666666,
             "#ed7953"
            ],
            [
             0.7777777777777778,
             "#fb9f3a"
            ],
            [
             0.8888888888888888,
             "#fdca26"
            ],
            [
             1,
             "#f0f921"
            ]
           ]
          },
          "colorway": [
           "#636efa",
           "#EF553B",
           "#00cc96",
           "#ab63fa",
           "#FFA15A",
           "#19d3f3",
           "#FF6692",
           "#B6E880",
           "#FF97FF",
           "#FECB52"
          ],
          "font": {
           "color": "#2a3f5f"
          },
          "geo": {
           "bgcolor": "white",
           "lakecolor": "white",
           "landcolor": "#E5ECF6",
           "showlakes": true,
           "showland": true,
           "subunitcolor": "white"
          },
          "hoverlabel": {
           "align": "left"
          },
          "hovermode": "closest",
          "mapbox": {
           "style": "light"
          },
          "paper_bgcolor": "white",
          "plot_bgcolor": "#E5ECF6",
          "polar": {
           "angularaxis": {
            "gridcolor": "white",
            "linecolor": "white",
            "ticks": ""
           },
           "bgcolor": "#E5ECF6",
           "radialaxis": {
            "gridcolor": "white",
            "linecolor": "white",
            "ticks": ""
           }
          },
          "scene": {
           "xaxis": {
            "backgroundcolor": "#E5ECF6",
            "gridcolor": "white",
            "gridwidth": 2,
            "linecolor": "white",
            "showbackground": true,
            "ticks": "",
            "zerolinecolor": "white"
           },
           "yaxis": {
            "backgroundcolor": "#E5ECF6",
            "gridcolor": "white",
            "gridwidth": 2,
            "linecolor": "white",
            "showbackground": true,
            "ticks": "",
            "zerolinecolor": "white"
           },
           "zaxis": {
            "backgroundcolor": "#E5ECF6",
            "gridcolor": "white",
            "gridwidth": 2,
            "linecolor": "white",
            "showbackground": true,
            "ticks": "",
            "zerolinecolor": "white"
           }
          },
          "shapedefaults": {
           "line": {
            "color": "#2a3f5f"
           }
          },
          "ternary": {
           "aaxis": {
            "gridcolor": "white",
            "linecolor": "white",
            "ticks": ""
           },
           "baxis": {
            "gridcolor": "white",
            "linecolor": "white",
            "ticks": ""
           },
           "bgcolor": "#E5ECF6",
           "caxis": {
            "gridcolor": "white",
            "linecolor": "white",
            "ticks": ""
           }
          },
          "title": {
           "x": 0.05
          },
          "xaxis": {
           "automargin": true,
           "gridcolor": "white",
           "linecolor": "white",
           "ticks": "",
           "title": {
            "standoff": 15
           },
           "zerolinecolor": "white",
           "zerolinewidth": 2
          },
          "yaxis": {
           "automargin": true,
           "gridcolor": "white",
           "linecolor": "white",
           "ticks": "",
           "title": {
            "standoff": 15
           },
           "zerolinecolor": "white",
           "zerolinewidth": 2
          }
         }
        }
       }
      }
     },
     "metadata": {},
     "output_type": "display_data"
    },
    {
     "data": {
      "application/vnd.plotly.v1+json": {
       "config": {
        "plotlyServerURL": "https://plot.ly"
       },
       "data": [
        {
         "name": "Fulham",
         "type": "bar",
         "x": [
          "Overall",
          "Attack",
          "Defence"
         ],
         "y": [
          1040,
          1090,
          1120
         ]
        },
        {
         "name": "Brentford",
         "type": "bar",
         "x": [
          "Overall",
          "Attack",
          "Defence"
         ],
         "y": [
          1100,
          1150,
          1120
         ]
        }
       ],
       "layout": {
        "barmode": "group",
        "template": {
         "data": {
          "bar": [
           {
            "error_x": {
             "color": "#2a3f5f"
            },
            "error_y": {
             "color": "#2a3f5f"
            },
            "marker": {
             "line": {
              "color": "#E5ECF6",
              "width": 0.5
             },
             "pattern": {
              "fillmode": "overlay",
              "size": 10,
              "solidity": 0.2
             }
            },
            "type": "bar"
           }
          ],
          "barpolar": [
           {
            "marker": {
             "line": {
              "color": "#E5ECF6",
              "width": 0.5
             },
             "pattern": {
              "fillmode": "overlay",
              "size": 10,
              "solidity": 0.2
             }
            },
            "type": "barpolar"
           }
          ],
          "carpet": [
           {
            "aaxis": {
             "endlinecolor": "#2a3f5f",
             "gridcolor": "white",
             "linecolor": "white",
             "minorgridcolor": "white",
             "startlinecolor": "#2a3f5f"
            },
            "baxis": {
             "endlinecolor": "#2a3f5f",
             "gridcolor": "white",
             "linecolor": "white",
             "minorgridcolor": "white",
             "startlinecolor": "#2a3f5f"
            },
            "type": "carpet"
           }
          ],
          "choropleth": [
           {
            "colorbar": {
             "outlinewidth": 0,
             "ticks": ""
            },
            "type": "choropleth"
           }
          ],
          "contour": [
           {
            "colorbar": {
             "outlinewidth": 0,
             "ticks": ""
            },
            "colorscale": [
             [
              0,
              "#0d0887"
             ],
             [
              0.1111111111111111,
              "#46039f"
             ],
             [
              0.2222222222222222,
              "#7201a8"
             ],
             [
              0.3333333333333333,
              "#9c179e"
             ],
             [
              0.4444444444444444,
              "#bd3786"
             ],
             [
              0.5555555555555556,
              "#d8576b"
             ],
             [
              0.6666666666666666,
              "#ed7953"
             ],
             [
              0.7777777777777778,
              "#fb9f3a"
             ],
             [
              0.8888888888888888,
              "#fdca26"
             ],
             [
              1,
              "#f0f921"
             ]
            ],
            "type": "contour"
           }
          ],
          "contourcarpet": [
           {
            "colorbar": {
             "outlinewidth": 0,
             "ticks": ""
            },
            "type": "contourcarpet"
           }
          ],
          "heatmap": [
           {
            "colorbar": {
             "outlinewidth": 0,
             "ticks": ""
            },
            "colorscale": [
             [
              0,
              "#0d0887"
             ],
             [
              0.1111111111111111,
              "#46039f"
             ],
             [
              0.2222222222222222,
              "#7201a8"
             ],
             [
              0.3333333333333333,
              "#9c179e"
             ],
             [
              0.4444444444444444,
              "#bd3786"
             ],
             [
              0.5555555555555556,
              "#d8576b"
             ],
             [
              0.6666666666666666,
              "#ed7953"
             ],
             [
              0.7777777777777778,
              "#fb9f3a"
             ],
             [
              0.8888888888888888,
              "#fdca26"
             ],
             [
              1,
              "#f0f921"
             ]
            ],
            "type": "heatmap"
           }
          ],
          "heatmapgl": [
           {
            "colorbar": {
             "outlinewidth": 0,
             "ticks": ""
            },
            "colorscale": [
             [
              0,
              "#0d0887"
             ],
             [
              0.1111111111111111,
              "#46039f"
             ],
             [
              0.2222222222222222,
              "#7201a8"
             ],
             [
              0.3333333333333333,
              "#9c179e"
             ],
             [
              0.4444444444444444,
              "#bd3786"
             ],
             [
              0.5555555555555556,
              "#d8576b"
             ],
             [
              0.6666666666666666,
              "#ed7953"
             ],
             [
              0.7777777777777778,
              "#fb9f3a"
             ],
             [
              0.8888888888888888,
              "#fdca26"
             ],
             [
              1,
              "#f0f921"
             ]
            ],
            "type": "heatmapgl"
           }
          ],
          "histogram": [
           {
            "marker": {
             "pattern": {
              "fillmode": "overlay",
              "size": 10,
              "solidity": 0.2
             }
            },
            "type": "histogram"
           }
          ],
          "histogram2d": [
           {
            "colorbar": {
             "outlinewidth": 0,
             "ticks": ""
            },
            "colorscale": [
             [
              0,
              "#0d0887"
             ],
             [
              0.1111111111111111,
              "#46039f"
             ],
             [
              0.2222222222222222,
              "#7201a8"
             ],
             [
              0.3333333333333333,
              "#9c179e"
             ],
             [
              0.4444444444444444,
              "#bd3786"
             ],
             [
              0.5555555555555556,
              "#d8576b"
             ],
             [
              0.6666666666666666,
              "#ed7953"
             ],
             [
              0.7777777777777778,
              "#fb9f3a"
             ],
             [
              0.8888888888888888,
              "#fdca26"
             ],
             [
              1,
              "#f0f921"
             ]
            ],
            "type": "histogram2d"
           }
          ],
          "histogram2dcontour": [
           {
            "colorbar": {
             "outlinewidth": 0,
             "ticks": ""
            },
            "colorscale": [
             [
              0,
              "#0d0887"
             ],
             [
              0.1111111111111111,
              "#46039f"
             ],
             [
              0.2222222222222222,
              "#7201a8"
             ],
             [
              0.3333333333333333,
              "#9c179e"
             ],
             [
              0.4444444444444444,
              "#bd3786"
             ],
             [
              0.5555555555555556,
              "#d8576b"
             ],
             [
              0.6666666666666666,
              "#ed7953"
             ],
             [
              0.7777777777777778,
              "#fb9f3a"
             ],
             [
              0.8888888888888888,
              "#fdca26"
             ],
             [
              1,
              "#f0f921"
             ]
            ],
            "type": "histogram2dcontour"
           }
          ],
          "mesh3d": [
           {
            "colorbar": {
             "outlinewidth": 0,
             "ticks": ""
            },
            "type": "mesh3d"
           }
          ],
          "parcoords": [
           {
            "line": {
             "colorbar": {
              "outlinewidth": 0,
              "ticks": ""
             }
            },
            "type": "parcoords"
           }
          ],
          "pie": [
           {
            "automargin": true,
            "type": "pie"
           }
          ],
          "scatter": [
           {
            "fillpattern": {
             "fillmode": "overlay",
             "size": 10,
             "solidity": 0.2
            },
            "type": "scatter"
           }
          ],
          "scatter3d": [
           {
            "line": {
             "colorbar": {
              "outlinewidth": 0,
              "ticks": ""
             }
            },
            "marker": {
             "colorbar": {
              "outlinewidth": 0,
              "ticks": ""
             }
            },
            "type": "scatter3d"
           }
          ],
          "scattercarpet": [
           {
            "marker": {
             "colorbar": {
              "outlinewidth": 0,
              "ticks": ""
             }
            },
            "type": "scattercarpet"
           }
          ],
          "scattergeo": [
           {
            "marker": {
             "colorbar": {
              "outlinewidth": 0,
              "ticks": ""
             }
            },
            "type": "scattergeo"
           }
          ],
          "scattergl": [
           {
            "marker": {
             "colorbar": {
              "outlinewidth": 0,
              "ticks": ""
             }
            },
            "type": "scattergl"
           }
          ],
          "scattermapbox": [
           {
            "marker": {
             "colorbar": {
              "outlinewidth": 0,
              "ticks": ""
             }
            },
            "type": "scattermapbox"
           }
          ],
          "scatterpolar": [
           {
            "marker": {
             "colorbar": {
              "outlinewidth": 0,
              "ticks": ""
             }
            },
            "type": "scatterpolar"
           }
          ],
          "scatterpolargl": [
           {
            "marker": {
             "colorbar": {
              "outlinewidth": 0,
              "ticks": ""
             }
            },
            "type": "scatterpolargl"
           }
          ],
          "scatterternary": [
           {
            "marker": {
             "colorbar": {
              "outlinewidth": 0,
              "ticks": ""
             }
            },
            "type": "scatterternary"
           }
          ],
          "surface": [
           {
            "colorbar": {
             "outlinewidth": 0,
             "ticks": ""
            },
            "colorscale": [
             [
              0,
              "#0d0887"
             ],
             [
              0.1111111111111111,
              "#46039f"
             ],
             [
              0.2222222222222222,
              "#7201a8"
             ],
             [
              0.3333333333333333,
              "#9c179e"
             ],
             [
              0.4444444444444444,
              "#bd3786"
             ],
             [
              0.5555555555555556,
              "#d8576b"
             ],
             [
              0.6666666666666666,
              "#ed7953"
             ],
             [
              0.7777777777777778,
              "#fb9f3a"
             ],
             [
              0.8888888888888888,
              "#fdca26"
             ],
             [
              1,
              "#f0f921"
             ]
            ],
            "type": "surface"
           }
          ],
          "table": [
           {
            "cells": {
             "fill": {
              "color": "#EBF0F8"
             },
             "line": {
              "color": "white"
             }
            },
            "header": {
             "fill": {
              "color": "#C8D4E3"
             },
             "line": {
              "color": "white"
             }
            },
            "type": "table"
           }
          ]
         },
         "layout": {
          "annotationdefaults": {
           "arrowcolor": "#2a3f5f",
           "arrowhead": 0,
           "arrowwidth": 1
          },
          "autotypenumbers": "strict",
          "coloraxis": {
           "colorbar": {
            "outlinewidth": 0,
            "ticks": ""
           }
          },
          "colorscale": {
           "diverging": [
            [
             0,
             "#8e0152"
            ],
            [
             0.1,
             "#c51b7d"
            ],
            [
             0.2,
             "#de77ae"
            ],
            [
             0.3,
             "#f1b6da"
            ],
            [
             0.4,
             "#fde0ef"
            ],
            [
             0.5,
             "#f7f7f7"
            ],
            [
             0.6,
             "#e6f5d0"
            ],
            [
             0.7,
             "#b8e186"
            ],
            [
             0.8,
             "#7fbc41"
            ],
            [
             0.9,
             "#4d9221"
            ],
            [
             1,
             "#276419"
            ]
           ],
           "sequential": [
            [
             0,
             "#0d0887"
            ],
            [
             0.1111111111111111,
             "#46039f"
            ],
            [
             0.2222222222222222,
             "#7201a8"
            ],
            [
             0.3333333333333333,
             "#9c179e"
            ],
            [
             0.4444444444444444,
             "#bd3786"
            ],
            [
             0.5555555555555556,
             "#d8576b"
            ],
            [
             0.6666666666666666,
             "#ed7953"
            ],
            [
             0.7777777777777778,
             "#fb9f3a"
            ],
            [
             0.8888888888888888,
             "#fdca26"
            ],
            [
             1,
             "#f0f921"
            ]
           ],
           "sequentialminus": [
            [
             0,
             "#0d0887"
            ],
            [
             0.1111111111111111,
             "#46039f"
            ],
            [
             0.2222222222222222,
             "#7201a8"
            ],
            [
             0.3333333333333333,
             "#9c179e"
            ],
            [
             0.4444444444444444,
             "#bd3786"
            ],
            [
             0.5555555555555556,
             "#d8576b"
            ],
            [
             0.6666666666666666,
             "#ed7953"
            ],
            [
             0.7777777777777778,
             "#fb9f3a"
            ],
            [
             0.8888888888888888,
             "#fdca26"
            ],
            [
             1,
             "#f0f921"
            ]
           ]
          },
          "colorway": [
           "#636efa",
           "#EF553B",
           "#00cc96",
           "#ab63fa",
           "#FFA15A",
           "#19d3f3",
           "#FF6692",
           "#B6E880",
           "#FF97FF",
           "#FECB52"
          ],
          "font": {
           "color": "#2a3f5f"
          },
          "geo": {
           "bgcolor": "white",
           "lakecolor": "white",
           "landcolor": "#E5ECF6",
           "showlakes": true,
           "showland": true,
           "subunitcolor": "white"
          },
          "hoverlabel": {
           "align": "left"
          },
          "hovermode": "closest",
          "mapbox": {
           "style": "light"
          },
          "paper_bgcolor": "white",
          "plot_bgcolor": "#E5ECF6",
          "polar": {
           "angularaxis": {
            "gridcolor": "white",
            "linecolor": "white",
            "ticks": ""
           },
           "bgcolor": "#E5ECF6",
           "radialaxis": {
            "gridcolor": "white",
            "linecolor": "white",
            "ticks": ""
           }
          },
          "scene": {
           "xaxis": {
            "backgroundcolor": "#E5ECF6",
            "gridcolor": "white",
            "gridwidth": 2,
            "linecolor": "white",
            "showbackground": true,
            "ticks": "",
            "zerolinecolor": "white"
           },
           "yaxis": {
            "backgroundcolor": "#E5ECF6",
            "gridcolor": "white",
            "gridwidth": 2,
            "linecolor": "white",
            "showbackground": true,
            "ticks": "",
            "zerolinecolor": "white"
           },
           "zaxis": {
            "backgroundcolor": "#E5ECF6",
            "gridcolor": "white",
            "gridwidth": 2,
            "linecolor": "white",
            "showbackground": true,
            "ticks": "",
            "zerolinecolor": "white"
           }
          },
          "shapedefaults": {
           "line": {
            "color": "#2a3f5f"
           }
          },
          "ternary": {
           "aaxis": {
            "gridcolor": "white",
            "linecolor": "white",
            "ticks": ""
           },
           "baxis": {
            "gridcolor": "white",
            "linecolor": "white",
            "ticks": ""
           },
           "bgcolor": "#E5ECF6",
           "caxis": {
            "gridcolor": "white",
            "linecolor": "white",
            "ticks": ""
           }
          },
          "title": {
           "x": 0.05
          },
          "xaxis": {
           "automargin": true,
           "gridcolor": "white",
           "linecolor": "white",
           "ticks": "",
           "title": {
            "standoff": 15
           },
           "zerolinecolor": "white",
           "zerolinewidth": 2
          },
          "yaxis": {
           "automargin": true,
           "gridcolor": "white",
           "linecolor": "white",
           "ticks": "",
           "title": {
            "standoff": 15
           },
           "zerolinecolor": "white",
           "zerolinewidth": 2
          }
         }
        }
       }
      }
     },
     "metadata": {},
     "output_type": "display_data"
    },
    {
     "data": {
      "application/vnd.plotly.v1+json": {
       "config": {
        "plotlyServerURL": "https://plot.ly"
       },
       "data": [
        {
         "name": "Leicester",
         "type": "bar",
         "x": [
          "Overall",
          "Attack",
          "Defence"
         ],
         "y": [
          1110,
          1100,
          1150
         ]
        },
        {
         "name": "Southampton",
         "type": "bar",
         "x": [
          "Overall",
          "Attack",
          "Defence"
         ],
         "y": [
          1090,
          1140,
          1090
         ]
        }
       ],
       "layout": {
        "barmode": "group",
        "template": {
         "data": {
          "bar": [
           {
            "error_x": {
             "color": "#2a3f5f"
            },
            "error_y": {
             "color": "#2a3f5f"
            },
            "marker": {
             "line": {
              "color": "#E5ECF6",
              "width": 0.5
             },
             "pattern": {
              "fillmode": "overlay",
              "size": 10,
              "solidity": 0.2
             }
            },
            "type": "bar"
           }
          ],
          "barpolar": [
           {
            "marker": {
             "line": {
              "color": "#E5ECF6",
              "width": 0.5
             },
             "pattern": {
              "fillmode": "overlay",
              "size": 10,
              "solidity": 0.2
             }
            },
            "type": "barpolar"
           }
          ],
          "carpet": [
           {
            "aaxis": {
             "endlinecolor": "#2a3f5f",
             "gridcolor": "white",
             "linecolor": "white",
             "minorgridcolor": "white",
             "startlinecolor": "#2a3f5f"
            },
            "baxis": {
             "endlinecolor": "#2a3f5f",
             "gridcolor": "white",
             "linecolor": "white",
             "minorgridcolor": "white",
             "startlinecolor": "#2a3f5f"
            },
            "type": "carpet"
           }
          ],
          "choropleth": [
           {
            "colorbar": {
             "outlinewidth": 0,
             "ticks": ""
            },
            "type": "choropleth"
           }
          ],
          "contour": [
           {
            "colorbar": {
             "outlinewidth": 0,
             "ticks": ""
            },
            "colorscale": [
             [
              0,
              "#0d0887"
             ],
             [
              0.1111111111111111,
              "#46039f"
             ],
             [
              0.2222222222222222,
              "#7201a8"
             ],
             [
              0.3333333333333333,
              "#9c179e"
             ],
             [
              0.4444444444444444,
              "#bd3786"
             ],
             [
              0.5555555555555556,
              "#d8576b"
             ],
             [
              0.6666666666666666,
              "#ed7953"
             ],
             [
              0.7777777777777778,
              "#fb9f3a"
             ],
             [
              0.8888888888888888,
              "#fdca26"
             ],
             [
              1,
              "#f0f921"
             ]
            ],
            "type": "contour"
           }
          ],
          "contourcarpet": [
           {
            "colorbar": {
             "outlinewidth": 0,
             "ticks": ""
            },
            "type": "contourcarpet"
           }
          ],
          "heatmap": [
           {
            "colorbar": {
             "outlinewidth": 0,
             "ticks": ""
            },
            "colorscale": [
             [
              0,
              "#0d0887"
             ],
             [
              0.1111111111111111,
              "#46039f"
             ],
             [
              0.2222222222222222,
              "#7201a8"
             ],
             [
              0.3333333333333333,
              "#9c179e"
             ],
             [
              0.4444444444444444,
              "#bd3786"
             ],
             [
              0.5555555555555556,
              "#d8576b"
             ],
             [
              0.6666666666666666,
              "#ed7953"
             ],
             [
              0.7777777777777778,
              "#fb9f3a"
             ],
             [
              0.8888888888888888,
              "#fdca26"
             ],
             [
              1,
              "#f0f921"
             ]
            ],
            "type": "heatmap"
           }
          ],
          "heatmapgl": [
           {
            "colorbar": {
             "outlinewidth": 0,
             "ticks": ""
            },
            "colorscale": [
             [
              0,
              "#0d0887"
             ],
             [
              0.1111111111111111,
              "#46039f"
             ],
             [
              0.2222222222222222,
              "#7201a8"
             ],
             [
              0.3333333333333333,
              "#9c179e"
             ],
             [
              0.4444444444444444,
              "#bd3786"
             ],
             [
              0.5555555555555556,
              "#d8576b"
             ],
             [
              0.6666666666666666,
              "#ed7953"
             ],
             [
              0.7777777777777778,
              "#fb9f3a"
             ],
             [
              0.8888888888888888,
              "#fdca26"
             ],
             [
              1,
              "#f0f921"
             ]
            ],
            "type": "heatmapgl"
           }
          ],
          "histogram": [
           {
            "marker": {
             "pattern": {
              "fillmode": "overlay",
              "size": 10,
              "solidity": 0.2
             }
            },
            "type": "histogram"
           }
          ],
          "histogram2d": [
           {
            "colorbar": {
             "outlinewidth": 0,
             "ticks": ""
            },
            "colorscale": [
             [
              0,
              "#0d0887"
             ],
             [
              0.1111111111111111,
              "#46039f"
             ],
             [
              0.2222222222222222,
              "#7201a8"
             ],
             [
              0.3333333333333333,
              "#9c179e"
             ],
             [
              0.4444444444444444,
              "#bd3786"
             ],
             [
              0.5555555555555556,
              "#d8576b"
             ],
             [
              0.6666666666666666,
              "#ed7953"
             ],
             [
              0.7777777777777778,
              "#fb9f3a"
             ],
             [
              0.8888888888888888,
              "#fdca26"
             ],
             [
              1,
              "#f0f921"
             ]
            ],
            "type": "histogram2d"
           }
          ],
          "histogram2dcontour": [
           {
            "colorbar": {
             "outlinewidth": 0,
             "ticks": ""
            },
            "colorscale": [
             [
              0,
              "#0d0887"
             ],
             [
              0.1111111111111111,
              "#46039f"
             ],
             [
              0.2222222222222222,
              "#7201a8"
             ],
             [
              0.3333333333333333,
              "#9c179e"
             ],
             [
              0.4444444444444444,
              "#bd3786"
             ],
             [
              0.5555555555555556,
              "#d8576b"
             ],
             [
              0.6666666666666666,
              "#ed7953"
             ],
             [
              0.7777777777777778,
              "#fb9f3a"
             ],
             [
              0.8888888888888888,
              "#fdca26"
             ],
             [
              1,
              "#f0f921"
             ]
            ],
            "type": "histogram2dcontour"
           }
          ],
          "mesh3d": [
           {
            "colorbar": {
             "outlinewidth": 0,
             "ticks": ""
            },
            "type": "mesh3d"
           }
          ],
          "parcoords": [
           {
            "line": {
             "colorbar": {
              "outlinewidth": 0,
              "ticks": ""
             }
            },
            "type": "parcoords"
           }
          ],
          "pie": [
           {
            "automargin": true,
            "type": "pie"
           }
          ],
          "scatter": [
           {
            "fillpattern": {
             "fillmode": "overlay",
             "size": 10,
             "solidity": 0.2
            },
            "type": "scatter"
           }
          ],
          "scatter3d": [
           {
            "line": {
             "colorbar": {
              "outlinewidth": 0,
              "ticks": ""
             }
            },
            "marker": {
             "colorbar": {
              "outlinewidth": 0,
              "ticks": ""
             }
            },
            "type": "scatter3d"
           }
          ],
          "scattercarpet": [
           {
            "marker": {
             "colorbar": {
              "outlinewidth": 0,
              "ticks": ""
             }
            },
            "type": "scattercarpet"
           }
          ],
          "scattergeo": [
           {
            "marker": {
             "colorbar": {
              "outlinewidth": 0,
              "ticks": ""
             }
            },
            "type": "scattergeo"
           }
          ],
          "scattergl": [
           {
            "marker": {
             "colorbar": {
              "outlinewidth": 0,
              "ticks": ""
             }
            },
            "type": "scattergl"
           }
          ],
          "scattermapbox": [
           {
            "marker": {
             "colorbar": {
              "outlinewidth": 0,
              "ticks": ""
             }
            },
            "type": "scattermapbox"
           }
          ],
          "scatterpolar": [
           {
            "marker": {
             "colorbar": {
              "outlinewidth": 0,
              "ticks": ""
             }
            },
            "type": "scatterpolar"
           }
          ],
          "scatterpolargl": [
           {
            "marker": {
             "colorbar": {
              "outlinewidth": 0,
              "ticks": ""
             }
            },
            "type": "scatterpolargl"
           }
          ],
          "scatterternary": [
           {
            "marker": {
             "colorbar": {
              "outlinewidth": 0,
              "ticks": ""
             }
            },
            "type": "scatterternary"
           }
          ],
          "surface": [
           {
            "colorbar": {
             "outlinewidth": 0,
             "ticks": ""
            },
            "colorscale": [
             [
              0,
              "#0d0887"
             ],
             [
              0.1111111111111111,
              "#46039f"
             ],
             [
              0.2222222222222222,
              "#7201a8"
             ],
             [
              0.3333333333333333,
              "#9c179e"
             ],
             [
              0.4444444444444444,
              "#bd3786"
             ],
             [
              0.5555555555555556,
              "#d8576b"
             ],
             [
              0.6666666666666666,
              "#ed7953"
             ],
             [
              0.7777777777777778,
              "#fb9f3a"
             ],
             [
              0.8888888888888888,
              "#fdca26"
             ],
             [
              1,
              "#f0f921"
             ]
            ],
            "type": "surface"
           }
          ],
          "table": [
           {
            "cells": {
             "fill": {
              "color": "#EBF0F8"
             },
             "line": {
              "color": "white"
             }
            },
            "header": {
             "fill": {
              "color": "#C8D4E3"
             },
             "line": {
              "color": "white"
             }
            },
            "type": "table"
           }
          ]
         },
         "layout": {
          "annotationdefaults": {
           "arrowcolor": "#2a3f5f",
           "arrowhead": 0,
           "arrowwidth": 1
          },
          "autotypenumbers": "strict",
          "coloraxis": {
           "colorbar": {
            "outlinewidth": 0,
            "ticks": ""
           }
          },
          "colorscale": {
           "diverging": [
            [
             0,
             "#8e0152"
            ],
            [
             0.1,
             "#c51b7d"
            ],
            [
             0.2,
             "#de77ae"
            ],
            [
             0.3,
             "#f1b6da"
            ],
            [
             0.4,
             "#fde0ef"
            ],
            [
             0.5,
             "#f7f7f7"
            ],
            [
             0.6,
             "#e6f5d0"
            ],
            [
             0.7,
             "#b8e186"
            ],
            [
             0.8,
             "#7fbc41"
            ],
            [
             0.9,
             "#4d9221"
            ],
            [
             1,
             "#276419"
            ]
           ],
           "sequential": [
            [
             0,
             "#0d0887"
            ],
            [
             0.1111111111111111,
             "#46039f"
            ],
            [
             0.2222222222222222,
             "#7201a8"
            ],
            [
             0.3333333333333333,
             "#9c179e"
            ],
            [
             0.4444444444444444,
             "#bd3786"
            ],
            [
             0.5555555555555556,
             "#d8576b"
            ],
            [
             0.6666666666666666,
             "#ed7953"
            ],
            [
             0.7777777777777778,
             "#fb9f3a"
            ],
            [
             0.8888888888888888,
             "#fdca26"
            ],
            [
             1,
             "#f0f921"
            ]
           ],
           "sequentialminus": [
            [
             0,
             "#0d0887"
            ],
            [
             0.1111111111111111,
             "#46039f"
            ],
            [
             0.2222222222222222,
             "#7201a8"
            ],
            [
             0.3333333333333333,
             "#9c179e"
            ],
            [
             0.4444444444444444,
             "#bd3786"
            ],
            [
             0.5555555555555556,
             "#d8576b"
            ],
            [
             0.6666666666666666,
             "#ed7953"
            ],
            [
             0.7777777777777778,
             "#fb9f3a"
            ],
            [
             0.8888888888888888,
             "#fdca26"
            ],
            [
             1,
             "#f0f921"
            ]
           ]
          },
          "colorway": [
           "#636efa",
           "#EF553B",
           "#00cc96",
           "#ab63fa",
           "#FFA15A",
           "#19d3f3",
           "#FF6692",
           "#B6E880",
           "#FF97FF",
           "#FECB52"
          ],
          "font": {
           "color": "#2a3f5f"
          },
          "geo": {
           "bgcolor": "white",
           "lakecolor": "white",
           "landcolor": "#E5ECF6",
           "showlakes": true,
           "showland": true,
           "subunitcolor": "white"
          },
          "hoverlabel": {
           "align": "left"
          },
          "hovermode": "closest",
          "mapbox": {
           "style": "light"
          },
          "paper_bgcolor": "white",
          "plot_bgcolor": "#E5ECF6",
          "polar": {
           "angularaxis": {
            "gridcolor": "white",
            "linecolor": "white",
            "ticks": ""
           },
           "bgcolor": "#E5ECF6",
           "radialaxis": {
            "gridcolor": "white",
            "linecolor": "white",
            "ticks": ""
           }
          },
          "scene": {
           "xaxis": {
            "backgroundcolor": "#E5ECF6",
            "gridcolor": "white",
            "gridwidth": 2,
            "linecolor": "white",
            "showbackground": true,
            "ticks": "",
            "zerolinecolor": "white"
           },
           "yaxis": {
            "backgroundcolor": "#E5ECF6",
            "gridcolor": "white",
            "gridwidth": 2,
            "linecolor": "white",
            "showbackground": true,
            "ticks": "",
            "zerolinecolor": "white"
           },
           "zaxis": {
            "backgroundcolor": "#E5ECF6",
            "gridcolor": "white",
            "gridwidth": 2,
            "linecolor": "white",
            "showbackground": true,
            "ticks": "",
            "zerolinecolor": "white"
           }
          },
          "shapedefaults": {
           "line": {
            "color": "#2a3f5f"
           }
          },
          "ternary": {
           "aaxis": {
            "gridcolor": "white",
            "linecolor": "white",
            "ticks": ""
           },
           "baxis": {
            "gridcolor": "white",
            "linecolor": "white",
            "ticks": ""
           },
           "bgcolor": "#E5ECF6",
           "caxis": {
            "gridcolor": "white",
            "linecolor": "white",
            "ticks": ""
           }
          },
          "title": {
           "x": 0.05
          },
          "xaxis": {
           "automargin": true,
           "gridcolor": "white",
           "linecolor": "white",
           "ticks": "",
           "title": {
            "standoff": 15
           },
           "zerolinecolor": "white",
           "zerolinewidth": 2
          },
          "yaxis": {
           "automargin": true,
           "gridcolor": "white",
           "linecolor": "white",
           "ticks": "",
           "title": {
            "standoff": 15
           },
           "zerolinecolor": "white",
           "zerolinewidth": 2
          }
         }
        }
       }
      }
     },
     "metadata": {},
     "output_type": "display_data"
    },
    {
     "data": {
      "application/vnd.plotly.v1+json": {
       "config": {
        "plotlyServerURL": "https://plot.ly"
       },
       "data": [
        {
         "name": "Bournemouth",
         "type": "bar",
         "x": [
          "Overall",
          "Attack",
          "Defence"
         ],
         "y": [
          1050,
          1080,
          1060
         ]
        },
        {
         "name": "Arsenal",
         "type": "bar",
         "x": [
          "Overall",
          "Attack",
          "Defence"
         ],
         "y": [
          1270,
          1210,
          1220
         ]
        }
       ],
       "layout": {
        "barmode": "group",
        "template": {
         "data": {
          "bar": [
           {
            "error_x": {
             "color": "#2a3f5f"
            },
            "error_y": {
             "color": "#2a3f5f"
            },
            "marker": {
             "line": {
              "color": "#E5ECF6",
              "width": 0.5
             },
             "pattern": {
              "fillmode": "overlay",
              "size": 10,
              "solidity": 0.2
             }
            },
            "type": "bar"
           }
          ],
          "barpolar": [
           {
            "marker": {
             "line": {
              "color": "#E5ECF6",
              "width": 0.5
             },
             "pattern": {
              "fillmode": "overlay",
              "size": 10,
              "solidity": 0.2
             }
            },
            "type": "barpolar"
           }
          ],
          "carpet": [
           {
            "aaxis": {
             "endlinecolor": "#2a3f5f",
             "gridcolor": "white",
             "linecolor": "white",
             "minorgridcolor": "white",
             "startlinecolor": "#2a3f5f"
            },
            "baxis": {
             "endlinecolor": "#2a3f5f",
             "gridcolor": "white",
             "linecolor": "white",
             "minorgridcolor": "white",
             "startlinecolor": "#2a3f5f"
            },
            "type": "carpet"
           }
          ],
          "choropleth": [
           {
            "colorbar": {
             "outlinewidth": 0,
             "ticks": ""
            },
            "type": "choropleth"
           }
          ],
          "contour": [
           {
            "colorbar": {
             "outlinewidth": 0,
             "ticks": ""
            },
            "colorscale": [
             [
              0,
              "#0d0887"
             ],
             [
              0.1111111111111111,
              "#46039f"
             ],
             [
              0.2222222222222222,
              "#7201a8"
             ],
             [
              0.3333333333333333,
              "#9c179e"
             ],
             [
              0.4444444444444444,
              "#bd3786"
             ],
             [
              0.5555555555555556,
              "#d8576b"
             ],
             [
              0.6666666666666666,
              "#ed7953"
             ],
             [
              0.7777777777777778,
              "#fb9f3a"
             ],
             [
              0.8888888888888888,
              "#fdca26"
             ],
             [
              1,
              "#f0f921"
             ]
            ],
            "type": "contour"
           }
          ],
          "contourcarpet": [
           {
            "colorbar": {
             "outlinewidth": 0,
             "ticks": ""
            },
            "type": "contourcarpet"
           }
          ],
          "heatmap": [
           {
            "colorbar": {
             "outlinewidth": 0,
             "ticks": ""
            },
            "colorscale": [
             [
              0,
              "#0d0887"
             ],
             [
              0.1111111111111111,
              "#46039f"
             ],
             [
              0.2222222222222222,
              "#7201a8"
             ],
             [
              0.3333333333333333,
              "#9c179e"
             ],
             [
              0.4444444444444444,
              "#bd3786"
             ],
             [
              0.5555555555555556,
              "#d8576b"
             ],
             [
              0.6666666666666666,
              "#ed7953"
             ],
             [
              0.7777777777777778,
              "#fb9f3a"
             ],
             [
              0.8888888888888888,
              "#fdca26"
             ],
             [
              1,
              "#f0f921"
             ]
            ],
            "type": "heatmap"
           }
          ],
          "heatmapgl": [
           {
            "colorbar": {
             "outlinewidth": 0,
             "ticks": ""
            },
            "colorscale": [
             [
              0,
              "#0d0887"
             ],
             [
              0.1111111111111111,
              "#46039f"
             ],
             [
              0.2222222222222222,
              "#7201a8"
             ],
             [
              0.3333333333333333,
              "#9c179e"
             ],
             [
              0.4444444444444444,
              "#bd3786"
             ],
             [
              0.5555555555555556,
              "#d8576b"
             ],
             [
              0.6666666666666666,
              "#ed7953"
             ],
             [
              0.7777777777777778,
              "#fb9f3a"
             ],
             [
              0.8888888888888888,
              "#fdca26"
             ],
             [
              1,
              "#f0f921"
             ]
            ],
            "type": "heatmapgl"
           }
          ],
          "histogram": [
           {
            "marker": {
             "pattern": {
              "fillmode": "overlay",
              "size": 10,
              "solidity": 0.2
             }
            },
            "type": "histogram"
           }
          ],
          "histogram2d": [
           {
            "colorbar": {
             "outlinewidth": 0,
             "ticks": ""
            },
            "colorscale": [
             [
              0,
              "#0d0887"
             ],
             [
              0.1111111111111111,
              "#46039f"
             ],
             [
              0.2222222222222222,
              "#7201a8"
             ],
             [
              0.3333333333333333,
              "#9c179e"
             ],
             [
              0.4444444444444444,
              "#bd3786"
             ],
             [
              0.5555555555555556,
              "#d8576b"
             ],
             [
              0.6666666666666666,
              "#ed7953"
             ],
             [
              0.7777777777777778,
              "#fb9f3a"
             ],
             [
              0.8888888888888888,
              "#fdca26"
             ],
             [
              1,
              "#f0f921"
             ]
            ],
            "type": "histogram2d"
           }
          ],
          "histogram2dcontour": [
           {
            "colorbar": {
             "outlinewidth": 0,
             "ticks": ""
            },
            "colorscale": [
             [
              0,
              "#0d0887"
             ],
             [
              0.1111111111111111,
              "#46039f"
             ],
             [
              0.2222222222222222,
              "#7201a8"
             ],
             [
              0.3333333333333333,
              "#9c179e"
             ],
             [
              0.4444444444444444,
              "#bd3786"
             ],
             [
              0.5555555555555556,
              "#d8576b"
             ],
             [
              0.6666666666666666,
              "#ed7953"
             ],
             [
              0.7777777777777778,
              "#fb9f3a"
             ],
             [
              0.8888888888888888,
              "#fdca26"
             ],
             [
              1,
              "#f0f921"
             ]
            ],
            "type": "histogram2dcontour"
           }
          ],
          "mesh3d": [
           {
            "colorbar": {
             "outlinewidth": 0,
             "ticks": ""
            },
            "type": "mesh3d"
           }
          ],
          "parcoords": [
           {
            "line": {
             "colorbar": {
              "outlinewidth": 0,
              "ticks": ""
             }
            },
            "type": "parcoords"
           }
          ],
          "pie": [
           {
            "automargin": true,
            "type": "pie"
           }
          ],
          "scatter": [
           {
            "fillpattern": {
             "fillmode": "overlay",
             "size": 10,
             "solidity": 0.2
            },
            "type": "scatter"
           }
          ],
          "scatter3d": [
           {
            "line": {
             "colorbar": {
              "outlinewidth": 0,
              "ticks": ""
             }
            },
            "marker": {
             "colorbar": {
              "outlinewidth": 0,
              "ticks": ""
             }
            },
            "type": "scatter3d"
           }
          ],
          "scattercarpet": [
           {
            "marker": {
             "colorbar": {
              "outlinewidth": 0,
              "ticks": ""
             }
            },
            "type": "scattercarpet"
           }
          ],
          "scattergeo": [
           {
            "marker": {
             "colorbar": {
              "outlinewidth": 0,
              "ticks": ""
             }
            },
            "type": "scattergeo"
           }
          ],
          "scattergl": [
           {
            "marker": {
             "colorbar": {
              "outlinewidth": 0,
              "ticks": ""
             }
            },
            "type": "scattergl"
           }
          ],
          "scattermapbox": [
           {
            "marker": {
             "colorbar": {
              "outlinewidth": 0,
              "ticks": ""
             }
            },
            "type": "scattermapbox"
           }
          ],
          "scatterpolar": [
           {
            "marker": {
             "colorbar": {
              "outlinewidth": 0,
              "ticks": ""
             }
            },
            "type": "scatterpolar"
           }
          ],
          "scatterpolargl": [
           {
            "marker": {
             "colorbar": {
              "outlinewidth": 0,
              "ticks": ""
             }
            },
            "type": "scatterpolargl"
           }
          ],
          "scatterternary": [
           {
            "marker": {
             "colorbar": {
              "outlinewidth": 0,
              "ticks": ""
             }
            },
            "type": "scatterternary"
           }
          ],
          "surface": [
           {
            "colorbar": {
             "outlinewidth": 0,
             "ticks": ""
            },
            "colorscale": [
             [
              0,
              "#0d0887"
             ],
             [
              0.1111111111111111,
              "#46039f"
             ],
             [
              0.2222222222222222,
              "#7201a8"
             ],
             [
              0.3333333333333333,
              "#9c179e"
             ],
             [
              0.4444444444444444,
              "#bd3786"
             ],
             [
              0.5555555555555556,
              "#d8576b"
             ],
             [
              0.6666666666666666,
              "#ed7953"
             ],
             [
              0.7777777777777778,
              "#fb9f3a"
             ],
             [
              0.8888888888888888,
              "#fdca26"
             ],
             [
              1,
              "#f0f921"
             ]
            ],
            "type": "surface"
           }
          ],
          "table": [
           {
            "cells": {
             "fill": {
              "color": "#EBF0F8"
             },
             "line": {
              "color": "white"
             }
            },
            "header": {
             "fill": {
              "color": "#C8D4E3"
             },
             "line": {
              "color": "white"
             }
            },
            "type": "table"
           }
          ]
         },
         "layout": {
          "annotationdefaults": {
           "arrowcolor": "#2a3f5f",
           "arrowhead": 0,
           "arrowwidth": 1
          },
          "autotypenumbers": "strict",
          "coloraxis": {
           "colorbar": {
            "outlinewidth": 0,
            "ticks": ""
           }
          },
          "colorscale": {
           "diverging": [
            [
             0,
             "#8e0152"
            ],
            [
             0.1,
             "#c51b7d"
            ],
            [
             0.2,
             "#de77ae"
            ],
            [
             0.3,
             "#f1b6da"
            ],
            [
             0.4,
             "#fde0ef"
            ],
            [
             0.5,
             "#f7f7f7"
            ],
            [
             0.6,
             "#e6f5d0"
            ],
            [
             0.7,
             "#b8e186"
            ],
            [
             0.8,
             "#7fbc41"
            ],
            [
             0.9,
             "#4d9221"
            ],
            [
             1,
             "#276419"
            ]
           ],
           "sequential": [
            [
             0,
             "#0d0887"
            ],
            [
             0.1111111111111111,
             "#46039f"
            ],
            [
             0.2222222222222222,
             "#7201a8"
            ],
            [
             0.3333333333333333,
             "#9c179e"
            ],
            [
             0.4444444444444444,
             "#bd3786"
            ],
            [
             0.5555555555555556,
             "#d8576b"
            ],
            [
             0.6666666666666666,
             "#ed7953"
            ],
            [
             0.7777777777777778,
             "#fb9f3a"
            ],
            [
             0.8888888888888888,
             "#fdca26"
            ],
            [
             1,
             "#f0f921"
            ]
           ],
           "sequentialminus": [
            [
             0,
             "#0d0887"
            ],
            [
             0.1111111111111111,
             "#46039f"
            ],
            [
             0.2222222222222222,
             "#7201a8"
            ],
            [
             0.3333333333333333,
             "#9c179e"
            ],
            [
             0.4444444444444444,
             "#bd3786"
            ],
            [
             0.5555555555555556,
             "#d8576b"
            ],
            [
             0.6666666666666666,
             "#ed7953"
            ],
            [
             0.7777777777777778,
             "#fb9f3a"
            ],
            [
             0.8888888888888888,
             "#fdca26"
            ],
            [
             1,
             "#f0f921"
            ]
           ]
          },
          "colorway": [
           "#636efa",
           "#EF553B",
           "#00cc96",
           "#ab63fa",
           "#FFA15A",
           "#19d3f3",
           "#FF6692",
           "#B6E880",
           "#FF97FF",
           "#FECB52"
          ],
          "font": {
           "color": "#2a3f5f"
          },
          "geo": {
           "bgcolor": "white",
           "lakecolor": "white",
           "landcolor": "#E5ECF6",
           "showlakes": true,
           "showland": true,
           "subunitcolor": "white"
          },
          "hoverlabel": {
           "align": "left"
          },
          "hovermode": "closest",
          "mapbox": {
           "style": "light"
          },
          "paper_bgcolor": "white",
          "plot_bgcolor": "#E5ECF6",
          "polar": {
           "angularaxis": {
            "gridcolor": "white",
            "linecolor": "white",
            "ticks": ""
           },
           "bgcolor": "#E5ECF6",
           "radialaxis": {
            "gridcolor": "white",
            "linecolor": "white",
            "ticks": ""
           }
          },
          "scene": {
           "xaxis": {
            "backgroundcolor": "#E5ECF6",
            "gridcolor": "white",
            "gridwidth": 2,
            "linecolor": "white",
            "showbackground": true,
            "ticks": "",
            "zerolinecolor": "white"
           },
           "yaxis": {
            "backgroundcolor": "#E5ECF6",
            "gridcolor": "white",
            "gridwidth": 2,
            "linecolor": "white",
            "showbackground": true,
            "ticks": "",
            "zerolinecolor": "white"
           },
           "zaxis": {
            "backgroundcolor": "#E5ECF6",
            "gridcolor": "white",
            "gridwidth": 2,
            "linecolor": "white",
            "showbackground": true,
            "ticks": "",
            "zerolinecolor": "white"
           }
          },
          "shapedefaults": {
           "line": {
            "color": "#2a3f5f"
           }
          },
          "ternary": {
           "aaxis": {
            "gridcolor": "white",
            "linecolor": "white",
            "ticks": ""
           },
           "baxis": {
            "gridcolor": "white",
            "linecolor": "white",
            "ticks": ""
           },
           "bgcolor": "#E5ECF6",
           "caxis": {
            "gridcolor": "white",
            "linecolor": "white",
            "ticks": ""
           }
          },
          "title": {
           "x": 0.05
          },
          "xaxis": {
           "automargin": true,
           "gridcolor": "white",
           "linecolor": "white",
           "ticks": "",
           "title": {
            "standoff": 15
           },
           "zerolinecolor": "white",
           "zerolinewidth": 2
          },
          "yaxis": {
           "automargin": true,
           "gridcolor": "white",
           "linecolor": "white",
           "ticks": "",
           "title": {
            "standoff": 15
           },
           "zerolinecolor": "white",
           "zerolinewidth": 2
          }
         }
        }
       }
      }
     },
     "metadata": {},
     "output_type": "display_data"
    },
    {
     "data": {
      "application/vnd.plotly.v1+json": {
       "config": {
        "plotlyServerURL": "https://plot.ly"
       },
       "data": [
        {
         "name": "Leeds",
         "type": "bar",
         "x": [
          "Overall",
          "Attack",
          "Defence"
         ],
         "y": [
          1070,
          1080,
          1100
         ]
        },
        {
         "name": "Chelsea",
         "type": "bar",
         "x": [
          "Overall",
          "Attack",
          "Defence"
         ],
         "y": [
          1280,
          1300,
          1290
         ]
        }
       ],
       "layout": {
        "barmode": "group",
        "template": {
         "data": {
          "bar": [
           {
            "error_x": {
             "color": "#2a3f5f"
            },
            "error_y": {
             "color": "#2a3f5f"
            },
            "marker": {
             "line": {
              "color": "#E5ECF6",
              "width": 0.5
             },
             "pattern": {
              "fillmode": "overlay",
              "size": 10,
              "solidity": 0.2
             }
            },
            "type": "bar"
           }
          ],
          "barpolar": [
           {
            "marker": {
             "line": {
              "color": "#E5ECF6",
              "width": 0.5
             },
             "pattern": {
              "fillmode": "overlay",
              "size": 10,
              "solidity": 0.2
             }
            },
            "type": "barpolar"
           }
          ],
          "carpet": [
           {
            "aaxis": {
             "endlinecolor": "#2a3f5f",
             "gridcolor": "white",
             "linecolor": "white",
             "minorgridcolor": "white",
             "startlinecolor": "#2a3f5f"
            },
            "baxis": {
             "endlinecolor": "#2a3f5f",
             "gridcolor": "white",
             "linecolor": "white",
             "minorgridcolor": "white",
             "startlinecolor": "#2a3f5f"
            },
            "type": "carpet"
           }
          ],
          "choropleth": [
           {
            "colorbar": {
             "outlinewidth": 0,
             "ticks": ""
            },
            "type": "choropleth"
           }
          ],
          "contour": [
           {
            "colorbar": {
             "outlinewidth": 0,
             "ticks": ""
            },
            "colorscale": [
             [
              0,
              "#0d0887"
             ],
             [
              0.1111111111111111,
              "#46039f"
             ],
             [
              0.2222222222222222,
              "#7201a8"
             ],
             [
              0.3333333333333333,
              "#9c179e"
             ],
             [
              0.4444444444444444,
              "#bd3786"
             ],
             [
              0.5555555555555556,
              "#d8576b"
             ],
             [
              0.6666666666666666,
              "#ed7953"
             ],
             [
              0.7777777777777778,
              "#fb9f3a"
             ],
             [
              0.8888888888888888,
              "#fdca26"
             ],
             [
              1,
              "#f0f921"
             ]
            ],
            "type": "contour"
           }
          ],
          "contourcarpet": [
           {
            "colorbar": {
             "outlinewidth": 0,
             "ticks": ""
            },
            "type": "contourcarpet"
           }
          ],
          "heatmap": [
           {
            "colorbar": {
             "outlinewidth": 0,
             "ticks": ""
            },
            "colorscale": [
             [
              0,
              "#0d0887"
             ],
             [
              0.1111111111111111,
              "#46039f"
             ],
             [
              0.2222222222222222,
              "#7201a8"
             ],
             [
              0.3333333333333333,
              "#9c179e"
             ],
             [
              0.4444444444444444,
              "#bd3786"
             ],
             [
              0.5555555555555556,
              "#d8576b"
             ],
             [
              0.6666666666666666,
              "#ed7953"
             ],
             [
              0.7777777777777778,
              "#fb9f3a"
             ],
             [
              0.8888888888888888,
              "#fdca26"
             ],
             [
              1,
              "#f0f921"
             ]
            ],
            "type": "heatmap"
           }
          ],
          "heatmapgl": [
           {
            "colorbar": {
             "outlinewidth": 0,
             "ticks": ""
            },
            "colorscale": [
             [
              0,
              "#0d0887"
             ],
             [
              0.1111111111111111,
              "#46039f"
             ],
             [
              0.2222222222222222,
              "#7201a8"
             ],
             [
              0.3333333333333333,
              "#9c179e"
             ],
             [
              0.4444444444444444,
              "#bd3786"
             ],
             [
              0.5555555555555556,
              "#d8576b"
             ],
             [
              0.6666666666666666,
              "#ed7953"
             ],
             [
              0.7777777777777778,
              "#fb9f3a"
             ],
             [
              0.8888888888888888,
              "#fdca26"
             ],
             [
              1,
              "#f0f921"
             ]
            ],
            "type": "heatmapgl"
           }
          ],
          "histogram": [
           {
            "marker": {
             "pattern": {
              "fillmode": "overlay",
              "size": 10,
              "solidity": 0.2
             }
            },
            "type": "histogram"
           }
          ],
          "histogram2d": [
           {
            "colorbar": {
             "outlinewidth": 0,
             "ticks": ""
            },
            "colorscale": [
             [
              0,
              "#0d0887"
             ],
             [
              0.1111111111111111,
              "#46039f"
             ],
             [
              0.2222222222222222,
              "#7201a8"
             ],
             [
              0.3333333333333333,
              "#9c179e"
             ],
             [
              0.4444444444444444,
              "#bd3786"
             ],
             [
              0.5555555555555556,
              "#d8576b"
             ],
             [
              0.6666666666666666,
              "#ed7953"
             ],
             [
              0.7777777777777778,
              "#fb9f3a"
             ],
             [
              0.8888888888888888,
              "#fdca26"
             ],
             [
              1,
              "#f0f921"
             ]
            ],
            "type": "histogram2d"
           }
          ],
          "histogram2dcontour": [
           {
            "colorbar": {
             "outlinewidth": 0,
             "ticks": ""
            },
            "colorscale": [
             [
              0,
              "#0d0887"
             ],
             [
              0.1111111111111111,
              "#46039f"
             ],
             [
              0.2222222222222222,
              "#7201a8"
             ],
             [
              0.3333333333333333,
              "#9c179e"
             ],
             [
              0.4444444444444444,
              "#bd3786"
             ],
             [
              0.5555555555555556,
              "#d8576b"
             ],
             [
              0.6666666666666666,
              "#ed7953"
             ],
             [
              0.7777777777777778,
              "#fb9f3a"
             ],
             [
              0.8888888888888888,
              "#fdca26"
             ],
             [
              1,
              "#f0f921"
             ]
            ],
            "type": "histogram2dcontour"
           }
          ],
          "mesh3d": [
           {
            "colorbar": {
             "outlinewidth": 0,
             "ticks": ""
            },
            "type": "mesh3d"
           }
          ],
          "parcoords": [
           {
            "line": {
             "colorbar": {
              "outlinewidth": 0,
              "ticks": ""
             }
            },
            "type": "parcoords"
           }
          ],
          "pie": [
           {
            "automargin": true,
            "type": "pie"
           }
          ],
          "scatter": [
           {
            "fillpattern": {
             "fillmode": "overlay",
             "size": 10,
             "solidity": 0.2
            },
            "type": "scatter"
           }
          ],
          "scatter3d": [
           {
            "line": {
             "colorbar": {
              "outlinewidth": 0,
              "ticks": ""
             }
            },
            "marker": {
             "colorbar": {
              "outlinewidth": 0,
              "ticks": ""
             }
            },
            "type": "scatter3d"
           }
          ],
          "scattercarpet": [
           {
            "marker": {
             "colorbar": {
              "outlinewidth": 0,
              "ticks": ""
             }
            },
            "type": "scattercarpet"
           }
          ],
          "scattergeo": [
           {
            "marker": {
             "colorbar": {
              "outlinewidth": 0,
              "ticks": ""
             }
            },
            "type": "scattergeo"
           }
          ],
          "scattergl": [
           {
            "marker": {
             "colorbar": {
              "outlinewidth": 0,
              "ticks": ""
             }
            },
            "type": "scattergl"
           }
          ],
          "scattermapbox": [
           {
            "marker": {
             "colorbar": {
              "outlinewidth": 0,
              "ticks": ""
             }
            },
            "type": "scattermapbox"
           }
          ],
          "scatterpolar": [
           {
            "marker": {
             "colorbar": {
              "outlinewidth": 0,
              "ticks": ""
             }
            },
            "type": "scatterpolar"
           }
          ],
          "scatterpolargl": [
           {
            "marker": {
             "colorbar": {
              "outlinewidth": 0,
              "ticks": ""
             }
            },
            "type": "scatterpolargl"
           }
          ],
          "scatterternary": [
           {
            "marker": {
             "colorbar": {
              "outlinewidth": 0,
              "ticks": ""
             }
            },
            "type": "scatterternary"
           }
          ],
          "surface": [
           {
            "colorbar": {
             "outlinewidth": 0,
             "ticks": ""
            },
            "colorscale": [
             [
              0,
              "#0d0887"
             ],
             [
              0.1111111111111111,
              "#46039f"
             ],
             [
              0.2222222222222222,
              "#7201a8"
             ],
             [
              0.3333333333333333,
              "#9c179e"
             ],
             [
              0.4444444444444444,
              "#bd3786"
             ],
             [
              0.5555555555555556,
              "#d8576b"
             ],
             [
              0.6666666666666666,
              "#ed7953"
             ],
             [
              0.7777777777777778,
              "#fb9f3a"
             ],
             [
              0.8888888888888888,
              "#fdca26"
             ],
             [
              1,
              "#f0f921"
             ]
            ],
            "type": "surface"
           }
          ],
          "table": [
           {
            "cells": {
             "fill": {
              "color": "#EBF0F8"
             },
             "line": {
              "color": "white"
             }
            },
            "header": {
             "fill": {
              "color": "#C8D4E3"
             },
             "line": {
              "color": "white"
             }
            },
            "type": "table"
           }
          ]
         },
         "layout": {
          "annotationdefaults": {
           "arrowcolor": "#2a3f5f",
           "arrowhead": 0,
           "arrowwidth": 1
          },
          "autotypenumbers": "strict",
          "coloraxis": {
           "colorbar": {
            "outlinewidth": 0,
            "ticks": ""
           }
          },
          "colorscale": {
           "diverging": [
            [
             0,
             "#8e0152"
            ],
            [
             0.1,
             "#c51b7d"
            ],
            [
             0.2,
             "#de77ae"
            ],
            [
             0.3,
             "#f1b6da"
            ],
            [
             0.4,
             "#fde0ef"
            ],
            [
             0.5,
             "#f7f7f7"
            ],
            [
             0.6,
             "#e6f5d0"
            ],
            [
             0.7,
             "#b8e186"
            ],
            [
             0.8,
             "#7fbc41"
            ],
            [
             0.9,
             "#4d9221"
            ],
            [
             1,
             "#276419"
            ]
           ],
           "sequential": [
            [
             0,
             "#0d0887"
            ],
            [
             0.1111111111111111,
             "#46039f"
            ],
            [
             0.2222222222222222,
             "#7201a8"
            ],
            [
             0.3333333333333333,
             "#9c179e"
            ],
            [
             0.4444444444444444,
             "#bd3786"
            ],
            [
             0.5555555555555556,
             "#d8576b"
            ],
            [
             0.6666666666666666,
             "#ed7953"
            ],
            [
             0.7777777777777778,
             "#fb9f3a"
            ],
            [
             0.8888888888888888,
             "#fdca26"
            ],
            [
             1,
             "#f0f921"
            ]
           ],
           "sequentialminus": [
            [
             0,
             "#0d0887"
            ],
            [
             0.1111111111111111,
             "#46039f"
            ],
            [
             0.2222222222222222,
             "#7201a8"
            ],
            [
             0.3333333333333333,
             "#9c179e"
            ],
            [
             0.4444444444444444,
             "#bd3786"
            ],
            [
             0.5555555555555556,
             "#d8576b"
            ],
            [
             0.6666666666666666,
             "#ed7953"
            ],
            [
             0.7777777777777778,
             "#fb9f3a"
            ],
            [
             0.8888888888888888,
             "#fdca26"
            ],
            [
             1,
             "#f0f921"
            ]
           ]
          },
          "colorway": [
           "#636efa",
           "#EF553B",
           "#00cc96",
           "#ab63fa",
           "#FFA15A",
           "#19d3f3",
           "#FF6692",
           "#B6E880",
           "#FF97FF",
           "#FECB52"
          ],
          "font": {
           "color": "#2a3f5f"
          },
          "geo": {
           "bgcolor": "white",
           "lakecolor": "white",
           "landcolor": "#E5ECF6",
           "showlakes": true,
           "showland": true,
           "subunitcolor": "white"
          },
          "hoverlabel": {
           "align": "left"
          },
          "hovermode": "closest",
          "mapbox": {
           "style": "light"
          },
          "paper_bgcolor": "white",
          "plot_bgcolor": "#E5ECF6",
          "polar": {
           "angularaxis": {
            "gridcolor": "white",
            "linecolor": "white",
            "ticks": ""
           },
           "bgcolor": "#E5ECF6",
           "radialaxis": {
            "gridcolor": "white",
            "linecolor": "white",
            "ticks": ""
           }
          },
          "scene": {
           "xaxis": {
            "backgroundcolor": "#E5ECF6",
            "gridcolor": "white",
            "gridwidth": 2,
            "linecolor": "white",
            "showbackground": true,
            "ticks": "",
            "zerolinecolor": "white"
           },
           "yaxis": {
            "backgroundcolor": "#E5ECF6",
            "gridcolor": "white",
            "gridwidth": 2,
            "linecolor": "white",
            "showbackground": true,
            "ticks": "",
            "zerolinecolor": "white"
           },
           "zaxis": {
            "backgroundcolor": "#E5ECF6",
            "gridcolor": "white",
            "gridwidth": 2,
            "linecolor": "white",
            "showbackground": true,
            "ticks": "",
            "zerolinecolor": "white"
           }
          },
          "shapedefaults": {
           "line": {
            "color": "#2a3f5f"
           }
          },
          "ternary": {
           "aaxis": {
            "gridcolor": "white",
            "linecolor": "white",
            "ticks": ""
           },
           "baxis": {
            "gridcolor": "white",
            "linecolor": "white",
            "ticks": ""
           },
           "bgcolor": "#E5ECF6",
           "caxis": {
            "gridcolor": "white",
            "linecolor": "white",
            "ticks": ""
           }
          },
          "title": {
           "x": 0.05
          },
          "xaxis": {
           "automargin": true,
           "gridcolor": "white",
           "linecolor": "white",
           "ticks": "",
           "title": {
            "standoff": 15
           },
           "zerolinecolor": "white",
           "zerolinewidth": 2
          },
          "yaxis": {
           "automargin": true,
           "gridcolor": "white",
           "linecolor": "white",
           "ticks": "",
           "title": {
            "standoff": 15
           },
           "zerolinecolor": "white",
           "zerolinewidth": 2
          }
         }
        }
       }
      }
     },
     "metadata": {},
     "output_type": "display_data"
    },
    {
     "data": {
      "application/vnd.plotly.v1+json": {
       "config": {
        "plotlyServerURL": "https://plot.ly"
       },
       "data": [
        {
         "name": "West Ham",
         "type": "bar",
         "x": [
          "Overall",
          "Attack",
          "Defence"
         ],
         "y": [
          1110,
          1110,
          1160
         ]
        },
        {
         "name": "Brighton",
         "type": "bar",
         "x": [
          "Overall",
          "Attack",
          "Defence"
         ],
         "y": [
          1090,
          1160,
          1120
         ]
        }
       ],
       "layout": {
        "barmode": "group",
        "template": {
         "data": {
          "bar": [
           {
            "error_x": {
             "color": "#2a3f5f"
            },
            "error_y": {
             "color": "#2a3f5f"
            },
            "marker": {
             "line": {
              "color": "#E5ECF6",
              "width": 0.5
             },
             "pattern": {
              "fillmode": "overlay",
              "size": 10,
              "solidity": 0.2
             }
            },
            "type": "bar"
           }
          ],
          "barpolar": [
           {
            "marker": {
             "line": {
              "color": "#E5ECF6",
              "width": 0.5
             },
             "pattern": {
              "fillmode": "overlay",
              "size": 10,
              "solidity": 0.2
             }
            },
            "type": "barpolar"
           }
          ],
          "carpet": [
           {
            "aaxis": {
             "endlinecolor": "#2a3f5f",
             "gridcolor": "white",
             "linecolor": "white",
             "minorgridcolor": "white",
             "startlinecolor": "#2a3f5f"
            },
            "baxis": {
             "endlinecolor": "#2a3f5f",
             "gridcolor": "white",
             "linecolor": "white",
             "minorgridcolor": "white",
             "startlinecolor": "#2a3f5f"
            },
            "type": "carpet"
           }
          ],
          "choropleth": [
           {
            "colorbar": {
             "outlinewidth": 0,
             "ticks": ""
            },
            "type": "choropleth"
           }
          ],
          "contour": [
           {
            "colorbar": {
             "outlinewidth": 0,
             "ticks": ""
            },
            "colorscale": [
             [
              0,
              "#0d0887"
             ],
             [
              0.1111111111111111,
              "#46039f"
             ],
             [
              0.2222222222222222,
              "#7201a8"
             ],
             [
              0.3333333333333333,
              "#9c179e"
             ],
             [
              0.4444444444444444,
              "#bd3786"
             ],
             [
              0.5555555555555556,
              "#d8576b"
             ],
             [
              0.6666666666666666,
              "#ed7953"
             ],
             [
              0.7777777777777778,
              "#fb9f3a"
             ],
             [
              0.8888888888888888,
              "#fdca26"
             ],
             [
              1,
              "#f0f921"
             ]
            ],
            "type": "contour"
           }
          ],
          "contourcarpet": [
           {
            "colorbar": {
             "outlinewidth": 0,
             "ticks": ""
            },
            "type": "contourcarpet"
           }
          ],
          "heatmap": [
           {
            "colorbar": {
             "outlinewidth": 0,
             "ticks": ""
            },
            "colorscale": [
             [
              0,
              "#0d0887"
             ],
             [
              0.1111111111111111,
              "#46039f"
             ],
             [
              0.2222222222222222,
              "#7201a8"
             ],
             [
              0.3333333333333333,
              "#9c179e"
             ],
             [
              0.4444444444444444,
              "#bd3786"
             ],
             [
              0.5555555555555556,
              "#d8576b"
             ],
             [
              0.6666666666666666,
              "#ed7953"
             ],
             [
              0.7777777777777778,
              "#fb9f3a"
             ],
             [
              0.8888888888888888,
              "#fdca26"
             ],
             [
              1,
              "#f0f921"
             ]
            ],
            "type": "heatmap"
           }
          ],
          "heatmapgl": [
           {
            "colorbar": {
             "outlinewidth": 0,
             "ticks": ""
            },
            "colorscale": [
             [
              0,
              "#0d0887"
             ],
             [
              0.1111111111111111,
              "#46039f"
             ],
             [
              0.2222222222222222,
              "#7201a8"
             ],
             [
              0.3333333333333333,
              "#9c179e"
             ],
             [
              0.4444444444444444,
              "#bd3786"
             ],
             [
              0.5555555555555556,
              "#d8576b"
             ],
             [
              0.6666666666666666,
              "#ed7953"
             ],
             [
              0.7777777777777778,
              "#fb9f3a"
             ],
             [
              0.8888888888888888,
              "#fdca26"
             ],
             [
              1,
              "#f0f921"
             ]
            ],
            "type": "heatmapgl"
           }
          ],
          "histogram": [
           {
            "marker": {
             "pattern": {
              "fillmode": "overlay",
              "size": 10,
              "solidity": 0.2
             }
            },
            "type": "histogram"
           }
          ],
          "histogram2d": [
           {
            "colorbar": {
             "outlinewidth": 0,
             "ticks": ""
            },
            "colorscale": [
             [
              0,
              "#0d0887"
             ],
             [
              0.1111111111111111,
              "#46039f"
             ],
             [
              0.2222222222222222,
              "#7201a8"
             ],
             [
              0.3333333333333333,
              "#9c179e"
             ],
             [
              0.4444444444444444,
              "#bd3786"
             ],
             [
              0.5555555555555556,
              "#d8576b"
             ],
             [
              0.6666666666666666,
              "#ed7953"
             ],
             [
              0.7777777777777778,
              "#fb9f3a"
             ],
             [
              0.8888888888888888,
              "#fdca26"
             ],
             [
              1,
              "#f0f921"
             ]
            ],
            "type": "histogram2d"
           }
          ],
          "histogram2dcontour": [
           {
            "colorbar": {
             "outlinewidth": 0,
             "ticks": ""
            },
            "colorscale": [
             [
              0,
              "#0d0887"
             ],
             [
              0.1111111111111111,
              "#46039f"
             ],
             [
              0.2222222222222222,
              "#7201a8"
             ],
             [
              0.3333333333333333,
              "#9c179e"
             ],
             [
              0.4444444444444444,
              "#bd3786"
             ],
             [
              0.5555555555555556,
              "#d8576b"
             ],
             [
              0.6666666666666666,
              "#ed7953"
             ],
             [
              0.7777777777777778,
              "#fb9f3a"
             ],
             [
              0.8888888888888888,
              "#fdca26"
             ],
             [
              1,
              "#f0f921"
             ]
            ],
            "type": "histogram2dcontour"
           }
          ],
          "mesh3d": [
           {
            "colorbar": {
             "outlinewidth": 0,
             "ticks": ""
            },
            "type": "mesh3d"
           }
          ],
          "parcoords": [
           {
            "line": {
             "colorbar": {
              "outlinewidth": 0,
              "ticks": ""
             }
            },
            "type": "parcoords"
           }
          ],
          "pie": [
           {
            "automargin": true,
            "type": "pie"
           }
          ],
          "scatter": [
           {
            "fillpattern": {
             "fillmode": "overlay",
             "size": 10,
             "solidity": 0.2
            },
            "type": "scatter"
           }
          ],
          "scatter3d": [
           {
            "line": {
             "colorbar": {
              "outlinewidth": 0,
              "ticks": ""
             }
            },
            "marker": {
             "colorbar": {
              "outlinewidth": 0,
              "ticks": ""
             }
            },
            "type": "scatter3d"
           }
          ],
          "scattercarpet": [
           {
            "marker": {
             "colorbar": {
              "outlinewidth": 0,
              "ticks": ""
             }
            },
            "type": "scattercarpet"
           }
          ],
          "scattergeo": [
           {
            "marker": {
             "colorbar": {
              "outlinewidth": 0,
              "ticks": ""
             }
            },
            "type": "scattergeo"
           }
          ],
          "scattergl": [
           {
            "marker": {
             "colorbar": {
              "outlinewidth": 0,
              "ticks": ""
             }
            },
            "type": "scattergl"
           }
          ],
          "scattermapbox": [
           {
            "marker": {
             "colorbar": {
              "outlinewidth": 0,
              "ticks": ""
             }
            },
            "type": "scattermapbox"
           }
          ],
          "scatterpolar": [
           {
            "marker": {
             "colorbar": {
              "outlinewidth": 0,
              "ticks": ""
             }
            },
            "type": "scatterpolar"
           }
          ],
          "scatterpolargl": [
           {
            "marker": {
             "colorbar": {
              "outlinewidth": 0,
              "ticks": ""
             }
            },
            "type": "scatterpolargl"
           }
          ],
          "scatterternary": [
           {
            "marker": {
             "colorbar": {
              "outlinewidth": 0,
              "ticks": ""
             }
            },
            "type": "scatterternary"
           }
          ],
          "surface": [
           {
            "colorbar": {
             "outlinewidth": 0,
             "ticks": ""
            },
            "colorscale": [
             [
              0,
              "#0d0887"
             ],
             [
              0.1111111111111111,
              "#46039f"
             ],
             [
              0.2222222222222222,
              "#7201a8"
             ],
             [
              0.3333333333333333,
              "#9c179e"
             ],
             [
              0.4444444444444444,
              "#bd3786"
             ],
             [
              0.5555555555555556,
              "#d8576b"
             ],
             [
              0.6666666666666666,
              "#ed7953"
             ],
             [
              0.7777777777777778,
              "#fb9f3a"
             ],
             [
              0.8888888888888888,
              "#fdca26"
             ],
             [
              1,
              "#f0f921"
             ]
            ],
            "type": "surface"
           }
          ],
          "table": [
           {
            "cells": {
             "fill": {
              "color": "#EBF0F8"
             },
             "line": {
              "color": "white"
             }
            },
            "header": {
             "fill": {
              "color": "#C8D4E3"
             },
             "line": {
              "color": "white"
             }
            },
            "type": "table"
           }
          ]
         },
         "layout": {
          "annotationdefaults": {
           "arrowcolor": "#2a3f5f",
           "arrowhead": 0,
           "arrowwidth": 1
          },
          "autotypenumbers": "strict",
          "coloraxis": {
           "colorbar": {
            "outlinewidth": 0,
            "ticks": ""
           }
          },
          "colorscale": {
           "diverging": [
            [
             0,
             "#8e0152"
            ],
            [
             0.1,
             "#c51b7d"
            ],
            [
             0.2,
             "#de77ae"
            ],
            [
             0.3,
             "#f1b6da"
            ],
            [
             0.4,
             "#fde0ef"
            ],
            [
             0.5,
             "#f7f7f7"
            ],
            [
             0.6,
             "#e6f5d0"
            ],
            [
             0.7,
             "#b8e186"
            ],
            [
             0.8,
             "#7fbc41"
            ],
            [
             0.9,
             "#4d9221"
            ],
            [
             1,
             "#276419"
            ]
           ],
           "sequential": [
            [
             0,
             "#0d0887"
            ],
            [
             0.1111111111111111,
             "#46039f"
            ],
            [
             0.2222222222222222,
             "#7201a8"
            ],
            [
             0.3333333333333333,
             "#9c179e"
            ],
            [
             0.4444444444444444,
             "#bd3786"
            ],
            [
             0.5555555555555556,
             "#d8576b"
            ],
            [
             0.6666666666666666,
             "#ed7953"
            ],
            [
             0.7777777777777778,
             "#fb9f3a"
            ],
            [
             0.8888888888888888,
             "#fdca26"
            ],
            [
             1,
             "#f0f921"
            ]
           ],
           "sequentialminus": [
            [
             0,
             "#0d0887"
            ],
            [
             0.1111111111111111,
             "#46039f"
            ],
            [
             0.2222222222222222,
             "#7201a8"
            ],
            [
             0.3333333333333333,
             "#9c179e"
            ],
            [
             0.4444444444444444,
             "#bd3786"
            ],
            [
             0.5555555555555556,
             "#d8576b"
            ],
            [
             0.6666666666666666,
             "#ed7953"
            ],
            [
             0.7777777777777778,
             "#fb9f3a"
            ],
            [
             0.8888888888888888,
             "#fdca26"
            ],
            [
             1,
             "#f0f921"
            ]
           ]
          },
          "colorway": [
           "#636efa",
           "#EF553B",
           "#00cc96",
           "#ab63fa",
           "#FFA15A",
           "#19d3f3",
           "#FF6692",
           "#B6E880",
           "#FF97FF",
           "#FECB52"
          ],
          "font": {
           "color": "#2a3f5f"
          },
          "geo": {
           "bgcolor": "white",
           "lakecolor": "white",
           "landcolor": "#E5ECF6",
           "showlakes": true,
           "showland": true,
           "subunitcolor": "white"
          },
          "hoverlabel": {
           "align": "left"
          },
          "hovermode": "closest",
          "mapbox": {
           "style": "light"
          },
          "paper_bgcolor": "white",
          "plot_bgcolor": "#E5ECF6",
          "polar": {
           "angularaxis": {
            "gridcolor": "white",
            "linecolor": "white",
            "ticks": ""
           },
           "bgcolor": "#E5ECF6",
           "radialaxis": {
            "gridcolor": "white",
            "linecolor": "white",
            "ticks": ""
           }
          },
          "scene": {
           "xaxis": {
            "backgroundcolor": "#E5ECF6",
            "gridcolor": "white",
            "gridwidth": 2,
            "linecolor": "white",
            "showbackground": true,
            "ticks": "",
            "zerolinecolor": "white"
           },
           "yaxis": {
            "backgroundcolor": "#E5ECF6",
            "gridcolor": "white",
            "gridwidth": 2,
            "linecolor": "white",
            "showbackground": true,
            "ticks": "",
            "zerolinecolor": "white"
           },
           "zaxis": {
            "backgroundcolor": "#E5ECF6",
            "gridcolor": "white",
            "gridwidth": 2,
            "linecolor": "white",
            "showbackground": true,
            "ticks": "",
            "zerolinecolor": "white"
           }
          },
          "shapedefaults": {
           "line": {
            "color": "#2a3f5f"
           }
          },
          "ternary": {
           "aaxis": {
            "gridcolor": "white",
            "linecolor": "white",
            "ticks": ""
           },
           "baxis": {
            "gridcolor": "white",
            "linecolor": "white",
            "ticks": ""
           },
           "bgcolor": "#E5ECF6",
           "caxis": {
            "gridcolor": "white",
            "linecolor": "white",
            "ticks": ""
           }
          },
          "title": {
           "x": 0.05
          },
          "xaxis": {
           "automargin": true,
           "gridcolor": "white",
           "linecolor": "white",
           "ticks": "",
           "title": {
            "standoff": 15
           },
           "zerolinecolor": "white",
           "zerolinewidth": 2
          },
          "yaxis": {
           "automargin": true,
           "gridcolor": "white",
           "linecolor": "white",
           "ticks": "",
           "title": {
            "standoff": 15
           },
           "zerolinecolor": "white",
           "zerolinewidth": 2
          }
         }
        }
       }
      }
     },
     "metadata": {},
     "output_type": "display_data"
    },
    {
     "data": {
      "application/vnd.plotly.v1+json": {
       "config": {
        "plotlyServerURL": "https://plot.ly"
       },
       "data": [
        {
         "name": "Newcastle",
         "type": "bar",
         "x": [
          "Overall",
          "Attack",
          "Defence"
         ],
         "y": [
          1110,
          1050,
          1040
         ]
        },
        {
         "name": "Man City",
         "type": "bar",
         "x": [
          "Overall",
          "Attack",
          "Defence"
         ],
         "y": [
          1370,
          1360,
          1360
         ]
        }
       ],
       "layout": {
        "barmode": "group",
        "template": {
         "data": {
          "bar": [
           {
            "error_x": {
             "color": "#2a3f5f"
            },
            "error_y": {
             "color": "#2a3f5f"
            },
            "marker": {
             "line": {
              "color": "#E5ECF6",
              "width": 0.5
             },
             "pattern": {
              "fillmode": "overlay",
              "size": 10,
              "solidity": 0.2
             }
            },
            "type": "bar"
           }
          ],
          "barpolar": [
           {
            "marker": {
             "line": {
              "color": "#E5ECF6",
              "width": 0.5
             },
             "pattern": {
              "fillmode": "overlay",
              "size": 10,
              "solidity": 0.2
             }
            },
            "type": "barpolar"
           }
          ],
          "carpet": [
           {
            "aaxis": {
             "endlinecolor": "#2a3f5f",
             "gridcolor": "white",
             "linecolor": "white",
             "minorgridcolor": "white",
             "startlinecolor": "#2a3f5f"
            },
            "baxis": {
             "endlinecolor": "#2a3f5f",
             "gridcolor": "white",
             "linecolor": "white",
             "minorgridcolor": "white",
             "startlinecolor": "#2a3f5f"
            },
            "type": "carpet"
           }
          ],
          "choropleth": [
           {
            "colorbar": {
             "outlinewidth": 0,
             "ticks": ""
            },
            "type": "choropleth"
           }
          ],
          "contour": [
           {
            "colorbar": {
             "outlinewidth": 0,
             "ticks": ""
            },
            "colorscale": [
             [
              0,
              "#0d0887"
             ],
             [
              0.1111111111111111,
              "#46039f"
             ],
             [
              0.2222222222222222,
              "#7201a8"
             ],
             [
              0.3333333333333333,
              "#9c179e"
             ],
             [
              0.4444444444444444,
              "#bd3786"
             ],
             [
              0.5555555555555556,
              "#d8576b"
             ],
             [
              0.6666666666666666,
              "#ed7953"
             ],
             [
              0.7777777777777778,
              "#fb9f3a"
             ],
             [
              0.8888888888888888,
              "#fdca26"
             ],
             [
              1,
              "#f0f921"
             ]
            ],
            "type": "contour"
           }
          ],
          "contourcarpet": [
           {
            "colorbar": {
             "outlinewidth": 0,
             "ticks": ""
            },
            "type": "contourcarpet"
           }
          ],
          "heatmap": [
           {
            "colorbar": {
             "outlinewidth": 0,
             "ticks": ""
            },
            "colorscale": [
             [
              0,
              "#0d0887"
             ],
             [
              0.1111111111111111,
              "#46039f"
             ],
             [
              0.2222222222222222,
              "#7201a8"
             ],
             [
              0.3333333333333333,
              "#9c179e"
             ],
             [
              0.4444444444444444,
              "#bd3786"
             ],
             [
              0.5555555555555556,
              "#d8576b"
             ],
             [
              0.6666666666666666,
              "#ed7953"
             ],
             [
              0.7777777777777778,
              "#fb9f3a"
             ],
             [
              0.8888888888888888,
              "#fdca26"
             ],
             [
              1,
              "#f0f921"
             ]
            ],
            "type": "heatmap"
           }
          ],
          "heatmapgl": [
           {
            "colorbar": {
             "outlinewidth": 0,
             "ticks": ""
            },
            "colorscale": [
             [
              0,
              "#0d0887"
             ],
             [
              0.1111111111111111,
              "#46039f"
             ],
             [
              0.2222222222222222,
              "#7201a8"
             ],
             [
              0.3333333333333333,
              "#9c179e"
             ],
             [
              0.4444444444444444,
              "#bd3786"
             ],
             [
              0.5555555555555556,
              "#d8576b"
             ],
             [
              0.6666666666666666,
              "#ed7953"
             ],
             [
              0.7777777777777778,
              "#fb9f3a"
             ],
             [
              0.8888888888888888,
              "#fdca26"
             ],
             [
              1,
              "#f0f921"
             ]
            ],
            "type": "heatmapgl"
           }
          ],
          "histogram": [
           {
            "marker": {
             "pattern": {
              "fillmode": "overlay",
              "size": 10,
              "solidity": 0.2
             }
            },
            "type": "histogram"
           }
          ],
          "histogram2d": [
           {
            "colorbar": {
             "outlinewidth": 0,
             "ticks": ""
            },
            "colorscale": [
             [
              0,
              "#0d0887"
             ],
             [
              0.1111111111111111,
              "#46039f"
             ],
             [
              0.2222222222222222,
              "#7201a8"
             ],
             [
              0.3333333333333333,
              "#9c179e"
             ],
             [
              0.4444444444444444,
              "#bd3786"
             ],
             [
              0.5555555555555556,
              "#d8576b"
             ],
             [
              0.6666666666666666,
              "#ed7953"
             ],
             [
              0.7777777777777778,
              "#fb9f3a"
             ],
             [
              0.8888888888888888,
              "#fdca26"
             ],
             [
              1,
              "#f0f921"
             ]
            ],
            "type": "histogram2d"
           }
          ],
          "histogram2dcontour": [
           {
            "colorbar": {
             "outlinewidth": 0,
             "ticks": ""
            },
            "colorscale": [
             [
              0,
              "#0d0887"
             ],
             [
              0.1111111111111111,
              "#46039f"
             ],
             [
              0.2222222222222222,
              "#7201a8"
             ],
             [
              0.3333333333333333,
              "#9c179e"
             ],
             [
              0.4444444444444444,
              "#bd3786"
             ],
             [
              0.5555555555555556,
              "#d8576b"
             ],
             [
              0.6666666666666666,
              "#ed7953"
             ],
             [
              0.7777777777777778,
              "#fb9f3a"
             ],
             [
              0.8888888888888888,
              "#fdca26"
             ],
             [
              1,
              "#f0f921"
             ]
            ],
            "type": "histogram2dcontour"
           }
          ],
          "mesh3d": [
           {
            "colorbar": {
             "outlinewidth": 0,
             "ticks": ""
            },
            "type": "mesh3d"
           }
          ],
          "parcoords": [
           {
            "line": {
             "colorbar": {
              "outlinewidth": 0,
              "ticks": ""
             }
            },
            "type": "parcoords"
           }
          ],
          "pie": [
           {
            "automargin": true,
            "type": "pie"
           }
          ],
          "scatter": [
           {
            "fillpattern": {
             "fillmode": "overlay",
             "size": 10,
             "solidity": 0.2
            },
            "type": "scatter"
           }
          ],
          "scatter3d": [
           {
            "line": {
             "colorbar": {
              "outlinewidth": 0,
              "ticks": ""
             }
            },
            "marker": {
             "colorbar": {
              "outlinewidth": 0,
              "ticks": ""
             }
            },
            "type": "scatter3d"
           }
          ],
          "scattercarpet": [
           {
            "marker": {
             "colorbar": {
              "outlinewidth": 0,
              "ticks": ""
             }
            },
            "type": "scattercarpet"
           }
          ],
          "scattergeo": [
           {
            "marker": {
             "colorbar": {
              "outlinewidth": 0,
              "ticks": ""
             }
            },
            "type": "scattergeo"
           }
          ],
          "scattergl": [
           {
            "marker": {
             "colorbar": {
              "outlinewidth": 0,
              "ticks": ""
             }
            },
            "type": "scattergl"
           }
          ],
          "scattermapbox": [
           {
            "marker": {
             "colorbar": {
              "outlinewidth": 0,
              "ticks": ""
             }
            },
            "type": "scattermapbox"
           }
          ],
          "scatterpolar": [
           {
            "marker": {
             "colorbar": {
              "outlinewidth": 0,
              "ticks": ""
             }
            },
            "type": "scatterpolar"
           }
          ],
          "scatterpolargl": [
           {
            "marker": {
             "colorbar": {
              "outlinewidth": 0,
              "ticks": ""
             }
            },
            "type": "scatterpolargl"
           }
          ],
          "scatterternary": [
           {
            "marker": {
             "colorbar": {
              "outlinewidth": 0,
              "ticks": ""
             }
            },
            "type": "scatterternary"
           }
          ],
          "surface": [
           {
            "colorbar": {
             "outlinewidth": 0,
             "ticks": ""
            },
            "colorscale": [
             [
              0,
              "#0d0887"
             ],
             [
              0.1111111111111111,
              "#46039f"
             ],
             [
              0.2222222222222222,
              "#7201a8"
             ],
             [
              0.3333333333333333,
              "#9c179e"
             ],
             [
              0.4444444444444444,
              "#bd3786"
             ],
             [
              0.5555555555555556,
              "#d8576b"
             ],
             [
              0.6666666666666666,
              "#ed7953"
             ],
             [
              0.7777777777777778,
              "#fb9f3a"
             ],
             [
              0.8888888888888888,
              "#fdca26"
             ],
             [
              1,
              "#f0f921"
             ]
            ],
            "type": "surface"
           }
          ],
          "table": [
           {
            "cells": {
             "fill": {
              "color": "#EBF0F8"
             },
             "line": {
              "color": "white"
             }
            },
            "header": {
             "fill": {
              "color": "#C8D4E3"
             },
             "line": {
              "color": "white"
             }
            },
            "type": "table"
           }
          ]
         },
         "layout": {
          "annotationdefaults": {
           "arrowcolor": "#2a3f5f",
           "arrowhead": 0,
           "arrowwidth": 1
          },
          "autotypenumbers": "strict",
          "coloraxis": {
           "colorbar": {
            "outlinewidth": 0,
            "ticks": ""
           }
          },
          "colorscale": {
           "diverging": [
            [
             0,
             "#8e0152"
            ],
            [
             0.1,
             "#c51b7d"
            ],
            [
             0.2,
             "#de77ae"
            ],
            [
             0.3,
             "#f1b6da"
            ],
            [
             0.4,
             "#fde0ef"
            ],
            [
             0.5,
             "#f7f7f7"
            ],
            [
             0.6,
             "#e6f5d0"
            ],
            [
             0.7,
             "#b8e186"
            ],
            [
             0.8,
             "#7fbc41"
            ],
            [
             0.9,
             "#4d9221"
            ],
            [
             1,
             "#276419"
            ]
           ],
           "sequential": [
            [
             0,
             "#0d0887"
            ],
            [
             0.1111111111111111,
             "#46039f"
            ],
            [
             0.2222222222222222,
             "#7201a8"
            ],
            [
             0.3333333333333333,
             "#9c179e"
            ],
            [
             0.4444444444444444,
             "#bd3786"
            ],
            [
             0.5555555555555556,
             "#d8576b"
            ],
            [
             0.6666666666666666,
             "#ed7953"
            ],
            [
             0.7777777777777778,
             "#fb9f3a"
            ],
            [
             0.8888888888888888,
             "#fdca26"
            ],
            [
             1,
             "#f0f921"
            ]
           ],
           "sequentialminus": [
            [
             0,
             "#0d0887"
            ],
            [
             0.1111111111111111,
             "#46039f"
            ],
            [
             0.2222222222222222,
             "#7201a8"
            ],
            [
             0.3333333333333333,
             "#9c179e"
            ],
            [
             0.4444444444444444,
             "#bd3786"
            ],
            [
             0.5555555555555556,
             "#d8576b"
            ],
            [
             0.6666666666666666,
             "#ed7953"
            ],
            [
             0.7777777777777778,
             "#fb9f3a"
            ],
            [
             0.8888888888888888,
             "#fdca26"
            ],
            [
             1,
             "#f0f921"
            ]
           ]
          },
          "colorway": [
           "#636efa",
           "#EF553B",
           "#00cc96",
           "#ab63fa",
           "#FFA15A",
           "#19d3f3",
           "#FF6692",
           "#B6E880",
           "#FF97FF",
           "#FECB52"
          ],
          "font": {
           "color": "#2a3f5f"
          },
          "geo": {
           "bgcolor": "white",
           "lakecolor": "white",
           "landcolor": "#E5ECF6",
           "showlakes": true,
           "showland": true,
           "subunitcolor": "white"
          },
          "hoverlabel": {
           "align": "left"
          },
          "hovermode": "closest",
          "mapbox": {
           "style": "light"
          },
          "paper_bgcolor": "white",
          "plot_bgcolor": "#E5ECF6",
          "polar": {
           "angularaxis": {
            "gridcolor": "white",
            "linecolor": "white",
            "ticks": ""
           },
           "bgcolor": "#E5ECF6",
           "radialaxis": {
            "gridcolor": "white",
            "linecolor": "white",
            "ticks": ""
           }
          },
          "scene": {
           "xaxis": {
            "backgroundcolor": "#E5ECF6",
            "gridcolor": "white",
            "gridwidth": 2,
            "linecolor": "white",
            "showbackground": true,
            "ticks": "",
            "zerolinecolor": "white"
           },
           "yaxis": {
            "backgroundcolor": "#E5ECF6",
            "gridcolor": "white",
            "gridwidth": 2,
            "linecolor": "white",
            "showbackground": true,
            "ticks": "",
            "zerolinecolor": "white"
           },
           "zaxis": {
            "backgroundcolor": "#E5ECF6",
            "gridcolor": "white",
            "gridwidth": 2,
            "linecolor": "white",
            "showbackground": true,
            "ticks": "",
            "zerolinecolor": "white"
           }
          },
          "shapedefaults": {
           "line": {
            "color": "#2a3f5f"
           }
          },
          "ternary": {
           "aaxis": {
            "gridcolor": "white",
            "linecolor": "white",
            "ticks": ""
           },
           "baxis": {
            "gridcolor": "white",
            "linecolor": "white",
            "ticks": ""
           },
           "bgcolor": "#E5ECF6",
           "caxis": {
            "gridcolor": "white",
            "linecolor": "white",
            "ticks": ""
           }
          },
          "title": {
           "x": 0.05
          },
          "xaxis": {
           "automargin": true,
           "gridcolor": "white",
           "linecolor": "white",
           "ticks": "",
           "title": {
            "standoff": 15
           },
           "zerolinecolor": "white",
           "zerolinewidth": 2
          },
          "yaxis": {
           "automargin": true,
           "gridcolor": "white",
           "linecolor": "white",
           "ticks": "",
           "title": {
            "standoff": 15
           },
           "zerolinecolor": "white",
           "zerolinewidth": 2
          }
         }
        }
       }
      }
     },
     "metadata": {},
     "output_type": "display_data"
    },
    {
     "data": {
      "application/vnd.plotly.v1+json": {
       "config": {
        "plotlyServerURL": "https://plot.ly"
       },
       "data": [
        {
         "name": "Man Utd",
         "type": "bar",
         "x": [
          "Overall",
          "Attack",
          "Defence"
         ],
         "y": [
          1170,
          1170,
          1190
         ]
        },
        {
         "name": "Liverpool",
         "type": "bar",
         "x": [
          "Overall",
          "Attack",
          "Defence"
         ],
         "y": [
          1360,
          1350,
          1350
         ]
        }
       ],
       "layout": {
        "barmode": "group",
        "template": {
         "data": {
          "bar": [
           {
            "error_x": {
             "color": "#2a3f5f"
            },
            "error_y": {
             "color": "#2a3f5f"
            },
            "marker": {
             "line": {
              "color": "#E5ECF6",
              "width": 0.5
             },
             "pattern": {
              "fillmode": "overlay",
              "size": 10,
              "solidity": 0.2
             }
            },
            "type": "bar"
           }
          ],
          "barpolar": [
           {
            "marker": {
             "line": {
              "color": "#E5ECF6",
              "width": 0.5
             },
             "pattern": {
              "fillmode": "overlay",
              "size": 10,
              "solidity": 0.2
             }
            },
            "type": "barpolar"
           }
          ],
          "carpet": [
           {
            "aaxis": {
             "endlinecolor": "#2a3f5f",
             "gridcolor": "white",
             "linecolor": "white",
             "minorgridcolor": "white",
             "startlinecolor": "#2a3f5f"
            },
            "baxis": {
             "endlinecolor": "#2a3f5f",
             "gridcolor": "white",
             "linecolor": "white",
             "minorgridcolor": "white",
             "startlinecolor": "#2a3f5f"
            },
            "type": "carpet"
           }
          ],
          "choropleth": [
           {
            "colorbar": {
             "outlinewidth": 0,
             "ticks": ""
            },
            "type": "choropleth"
           }
          ],
          "contour": [
           {
            "colorbar": {
             "outlinewidth": 0,
             "ticks": ""
            },
            "colorscale": [
             [
              0,
              "#0d0887"
             ],
             [
              0.1111111111111111,
              "#46039f"
             ],
             [
              0.2222222222222222,
              "#7201a8"
             ],
             [
              0.3333333333333333,
              "#9c179e"
             ],
             [
              0.4444444444444444,
              "#bd3786"
             ],
             [
              0.5555555555555556,
              "#d8576b"
             ],
             [
              0.6666666666666666,
              "#ed7953"
             ],
             [
              0.7777777777777778,
              "#fb9f3a"
             ],
             [
              0.8888888888888888,
              "#fdca26"
             ],
             [
              1,
              "#f0f921"
             ]
            ],
            "type": "contour"
           }
          ],
          "contourcarpet": [
           {
            "colorbar": {
             "outlinewidth": 0,
             "ticks": ""
            },
            "type": "contourcarpet"
           }
          ],
          "heatmap": [
           {
            "colorbar": {
             "outlinewidth": 0,
             "ticks": ""
            },
            "colorscale": [
             [
              0,
              "#0d0887"
             ],
             [
              0.1111111111111111,
              "#46039f"
             ],
             [
              0.2222222222222222,
              "#7201a8"
             ],
             [
              0.3333333333333333,
              "#9c179e"
             ],
             [
              0.4444444444444444,
              "#bd3786"
             ],
             [
              0.5555555555555556,
              "#d8576b"
             ],
             [
              0.6666666666666666,
              "#ed7953"
             ],
             [
              0.7777777777777778,
              "#fb9f3a"
             ],
             [
              0.8888888888888888,
              "#fdca26"
             ],
             [
              1,
              "#f0f921"
             ]
            ],
            "type": "heatmap"
           }
          ],
          "heatmapgl": [
           {
            "colorbar": {
             "outlinewidth": 0,
             "ticks": ""
            },
            "colorscale": [
             [
              0,
              "#0d0887"
             ],
             [
              0.1111111111111111,
              "#46039f"
             ],
             [
              0.2222222222222222,
              "#7201a8"
             ],
             [
              0.3333333333333333,
              "#9c179e"
             ],
             [
              0.4444444444444444,
              "#bd3786"
             ],
             [
              0.5555555555555556,
              "#d8576b"
             ],
             [
              0.6666666666666666,
              "#ed7953"
             ],
             [
              0.7777777777777778,
              "#fb9f3a"
             ],
             [
              0.8888888888888888,
              "#fdca26"
             ],
             [
              1,
              "#f0f921"
             ]
            ],
            "type": "heatmapgl"
           }
          ],
          "histogram": [
           {
            "marker": {
             "pattern": {
              "fillmode": "overlay",
              "size": 10,
              "solidity": 0.2
             }
            },
            "type": "histogram"
           }
          ],
          "histogram2d": [
           {
            "colorbar": {
             "outlinewidth": 0,
             "ticks": ""
            },
            "colorscale": [
             [
              0,
              "#0d0887"
             ],
             [
              0.1111111111111111,
              "#46039f"
             ],
             [
              0.2222222222222222,
              "#7201a8"
             ],
             [
              0.3333333333333333,
              "#9c179e"
             ],
             [
              0.4444444444444444,
              "#bd3786"
             ],
             [
              0.5555555555555556,
              "#d8576b"
             ],
             [
              0.6666666666666666,
              "#ed7953"
             ],
             [
              0.7777777777777778,
              "#fb9f3a"
             ],
             [
              0.8888888888888888,
              "#fdca26"
             ],
             [
              1,
              "#f0f921"
             ]
            ],
            "type": "histogram2d"
           }
          ],
          "histogram2dcontour": [
           {
            "colorbar": {
             "outlinewidth": 0,
             "ticks": ""
            },
            "colorscale": [
             [
              0,
              "#0d0887"
             ],
             [
              0.1111111111111111,
              "#46039f"
             ],
             [
              0.2222222222222222,
              "#7201a8"
             ],
             [
              0.3333333333333333,
              "#9c179e"
             ],
             [
              0.4444444444444444,
              "#bd3786"
             ],
             [
              0.5555555555555556,
              "#d8576b"
             ],
             [
              0.6666666666666666,
              "#ed7953"
             ],
             [
              0.7777777777777778,
              "#fb9f3a"
             ],
             [
              0.8888888888888888,
              "#fdca26"
             ],
             [
              1,
              "#f0f921"
             ]
            ],
            "type": "histogram2dcontour"
           }
          ],
          "mesh3d": [
           {
            "colorbar": {
             "outlinewidth": 0,
             "ticks": ""
            },
            "type": "mesh3d"
           }
          ],
          "parcoords": [
           {
            "line": {
             "colorbar": {
              "outlinewidth": 0,
              "ticks": ""
             }
            },
            "type": "parcoords"
           }
          ],
          "pie": [
           {
            "automargin": true,
            "type": "pie"
           }
          ],
          "scatter": [
           {
            "fillpattern": {
             "fillmode": "overlay",
             "size": 10,
             "solidity": 0.2
            },
            "type": "scatter"
           }
          ],
          "scatter3d": [
           {
            "line": {
             "colorbar": {
              "outlinewidth": 0,
              "ticks": ""
             }
            },
            "marker": {
             "colorbar": {
              "outlinewidth": 0,
              "ticks": ""
             }
            },
            "type": "scatter3d"
           }
          ],
          "scattercarpet": [
           {
            "marker": {
             "colorbar": {
              "outlinewidth": 0,
              "ticks": ""
             }
            },
            "type": "scattercarpet"
           }
          ],
          "scattergeo": [
           {
            "marker": {
             "colorbar": {
              "outlinewidth": 0,
              "ticks": ""
             }
            },
            "type": "scattergeo"
           }
          ],
          "scattergl": [
           {
            "marker": {
             "colorbar": {
              "outlinewidth": 0,
              "ticks": ""
             }
            },
            "type": "scattergl"
           }
          ],
          "scattermapbox": [
           {
            "marker": {
             "colorbar": {
              "outlinewidth": 0,
              "ticks": ""
             }
            },
            "type": "scattermapbox"
           }
          ],
          "scatterpolar": [
           {
            "marker": {
             "colorbar": {
              "outlinewidth": 0,
              "ticks": ""
             }
            },
            "type": "scatterpolar"
           }
          ],
          "scatterpolargl": [
           {
            "marker": {
             "colorbar": {
              "outlinewidth": 0,
              "ticks": ""
             }
            },
            "type": "scatterpolargl"
           }
          ],
          "scatterternary": [
           {
            "marker": {
             "colorbar": {
              "outlinewidth": 0,
              "ticks": ""
             }
            },
            "type": "scatterternary"
           }
          ],
          "surface": [
           {
            "colorbar": {
             "outlinewidth": 0,
             "ticks": ""
            },
            "colorscale": [
             [
              0,
              "#0d0887"
             ],
             [
              0.1111111111111111,
              "#46039f"
             ],
             [
              0.2222222222222222,
              "#7201a8"
             ],
             [
              0.3333333333333333,
              "#9c179e"
             ],
             [
              0.4444444444444444,
              "#bd3786"
             ],
             [
              0.5555555555555556,
              "#d8576b"
             ],
             [
              0.6666666666666666,
              "#ed7953"
             ],
             [
              0.7777777777777778,
              "#fb9f3a"
             ],
             [
              0.8888888888888888,
              "#fdca26"
             ],
             [
              1,
              "#f0f921"
             ]
            ],
            "type": "surface"
           }
          ],
          "table": [
           {
            "cells": {
             "fill": {
              "color": "#EBF0F8"
             },
             "line": {
              "color": "white"
             }
            },
            "header": {
             "fill": {
              "color": "#C8D4E3"
             },
             "line": {
              "color": "white"
             }
            },
            "type": "table"
           }
          ]
         },
         "layout": {
          "annotationdefaults": {
           "arrowcolor": "#2a3f5f",
           "arrowhead": 0,
           "arrowwidth": 1
          },
          "autotypenumbers": "strict",
          "coloraxis": {
           "colorbar": {
            "outlinewidth": 0,
            "ticks": ""
           }
          },
          "colorscale": {
           "diverging": [
            [
             0,
             "#8e0152"
            ],
            [
             0.1,
             "#c51b7d"
            ],
            [
             0.2,
             "#de77ae"
            ],
            [
             0.3,
             "#f1b6da"
            ],
            [
             0.4,
             "#fde0ef"
            ],
            [
             0.5,
             "#f7f7f7"
            ],
            [
             0.6,
             "#e6f5d0"
            ],
            [
             0.7,
             "#b8e186"
            ],
            [
             0.8,
             "#7fbc41"
            ],
            [
             0.9,
             "#4d9221"
            ],
            [
             1,
             "#276419"
            ]
           ],
           "sequential": [
            [
             0,
             "#0d0887"
            ],
            [
             0.1111111111111111,
             "#46039f"
            ],
            [
             0.2222222222222222,
             "#7201a8"
            ],
            [
             0.3333333333333333,
             "#9c179e"
            ],
            [
             0.4444444444444444,
             "#bd3786"
            ],
            [
             0.5555555555555556,
             "#d8576b"
            ],
            [
             0.6666666666666666,
             "#ed7953"
            ],
            [
             0.7777777777777778,
             "#fb9f3a"
            ],
            [
             0.8888888888888888,
             "#fdca26"
            ],
            [
             1,
             "#f0f921"
            ]
           ],
           "sequentialminus": [
            [
             0,
             "#0d0887"
            ],
            [
             0.1111111111111111,
             "#46039f"
            ],
            [
             0.2222222222222222,
             "#7201a8"
            ],
            [
             0.3333333333333333,
             "#9c179e"
            ],
            [
             0.4444444444444444,
             "#bd3786"
            ],
            [
             0.5555555555555556,
             "#d8576b"
            ],
            [
             0.6666666666666666,
             "#ed7953"
            ],
            [
             0.7777777777777778,
             "#fb9f3a"
            ],
            [
             0.8888888888888888,
             "#fdca26"
            ],
            [
             1,
             "#f0f921"
            ]
           ]
          },
          "colorway": [
           "#636efa",
           "#EF553B",
           "#00cc96",
           "#ab63fa",
           "#FFA15A",
           "#19d3f3",
           "#FF6692",
           "#B6E880",
           "#FF97FF",
           "#FECB52"
          ],
          "font": {
           "color": "#2a3f5f"
          },
          "geo": {
           "bgcolor": "white",
           "lakecolor": "white",
           "landcolor": "#E5ECF6",
           "showlakes": true,
           "showland": true,
           "subunitcolor": "white"
          },
          "hoverlabel": {
           "align": "left"
          },
          "hovermode": "closest",
          "mapbox": {
           "style": "light"
          },
          "paper_bgcolor": "white",
          "plot_bgcolor": "#E5ECF6",
          "polar": {
           "angularaxis": {
            "gridcolor": "white",
            "linecolor": "white",
            "ticks": ""
           },
           "bgcolor": "#E5ECF6",
           "radialaxis": {
            "gridcolor": "white",
            "linecolor": "white",
            "ticks": ""
           }
          },
          "scene": {
           "xaxis": {
            "backgroundcolor": "#E5ECF6",
            "gridcolor": "white",
            "gridwidth": 2,
            "linecolor": "white",
            "showbackground": true,
            "ticks": "",
            "zerolinecolor": "white"
           },
           "yaxis": {
            "backgroundcolor": "#E5ECF6",
            "gridcolor": "white",
            "gridwidth": 2,
            "linecolor": "white",
            "showbackground": true,
            "ticks": "",
            "zerolinecolor": "white"
           },
           "zaxis": {
            "backgroundcolor": "#E5ECF6",
            "gridcolor": "white",
            "gridwidth": 2,
            "linecolor": "white",
            "showbackground": true,
            "ticks": "",
            "zerolinecolor": "white"
           }
          },
          "shapedefaults": {
           "line": {
            "color": "#2a3f5f"
           }
          },
          "ternary": {
           "aaxis": {
            "gridcolor": "white",
            "linecolor": "white",
            "ticks": ""
           },
           "baxis": {
            "gridcolor": "white",
            "linecolor": "white",
            "ticks": ""
           },
           "bgcolor": "#E5ECF6",
           "caxis": {
            "gridcolor": "white",
            "linecolor": "white",
            "ticks": ""
           }
          },
          "title": {
           "x": 0.05
          },
          "xaxis": {
           "automargin": true,
           "gridcolor": "white",
           "linecolor": "white",
           "ticks": "",
           "title": {
            "standoff": 15
           },
           "zerolinecolor": "white",
           "zerolinewidth": 2
          },
          "yaxis": {
           "automargin": true,
           "gridcolor": "white",
           "linecolor": "white",
           "ticks": "",
           "title": {
            "standoff": 15
           },
           "zerolinecolor": "white",
           "zerolinewidth": 2
          }
         }
        }
       }
      }
     },
     "metadata": {},
     "output_type": "display_data"
    }
   ],
   "source": [
    "import plotly.graph_objects as go\n",
    "for i in range(len(fixture_df.iloc[:10])):\n",
    "    labels = ['Overall','Attack','Defence']\n",
    "    \n",
    "    h_name = teams_df['name'][teams_df['id'] == fixture_df['team_h'].iloc[i]].values[0]\n",
    "    a_name = teams_df['name'][teams_df['id'] == fixture_df['team_a'].iloc[i]].values[0]\n",
    "    \n",
    "    h = [teams_df['strength_overall_home'][teams_df['id'] == fixture_df.team_h.iloc[i]].values[0],\n",
    "    teams_df['strength_attack_home'][teams_df['id'] == fixture_df.team_h.iloc[i]].values[0],teams_df['strength_defence_home'][teams_df['id'] == fixture_df.team_h.iloc[i]].values[0]]\n",
    "\n",
    "    a = [teams_df['strength_overall_away'][teams_df['id'] == fixture_df.team_a.iloc[i]].values[0],\n",
    "    teams_df['strength_attack_away'][teams_df['id'] == fixture_df.team_a.iloc[i]].values[0],teams_df['strength_defence_away'][teams_df['id'] == fixture_df.team_a.iloc[i]].values[0]]\n",
    "\n",
    "    fig = go.Figure(data=[\n",
    "        go.Bar(name=h_name, x=labels, y=h),\n",
    "        go.Bar(name=a_name, x=labels, y=a)\n",
    "    ])\n",
    "    # Change the bar mode\n",
    "    fig.update_layout(barmode='group')\n",
    "    fig.show()"
   ]
  },
  {
   "cell_type": "code",
   "execution_count": 132,
   "metadata": {},
   "outputs": [
    {
     "data": {
      "text/plain": [
       "Index(['chance_of_playing_next_round', 'chance_of_playing_this_round', 'code',\n",
       "       'cost_change_event', 'cost_change_event_fall', 'cost_change_start',\n",
       "       'cost_change_start_fall', 'dreamteam_count', 'element_type', 'ep_next',\n",
       "       'ep_this', 'event_points', 'first_name', 'form', 'id', 'in_dreamteam',\n",
       "       'news', 'news_added', 'now_cost', 'photo', 'points_per_game',\n",
       "       'second_name', 'selected_by_percent', 'special', 'squad_number',\n",
       "       'status', 'team', 'team_code', 'total_points', 'transfers_in',\n",
       "       'transfers_in_event', 'transfers_out', 'transfers_out_event',\n",
       "       'value_form', 'value_season', 'web_name', 'minutes', 'goals_scored',\n",
       "       'assists', 'clean_sheets', 'goals_conceded', 'own_goals',\n",
       "       'penalties_saved', 'penalties_missed', 'yellow_cards', 'red_cards',\n",
       "       'saves', 'bonus', 'bps', 'influence', 'creativity', 'threat',\n",
       "       'ict_index', 'influence_rank', 'influence_rank_type', 'creativity_rank',\n",
       "       'creativity_rank_type', 'threat_rank', 'threat_rank_type',\n",
       "       'ict_index_rank', 'ict_index_rank_type',\n",
       "       'corners_and_indirect_freekicks_order',\n",
       "       'corners_and_indirect_freekicks_text', 'direct_freekicks_order',\n",
       "       'direct_freekicks_text', 'penalties_order', 'penalties_text'],\n",
       "      dtype='object')"
      ]
     },
     "execution_count": 132,
     "metadata": {},
     "output_type": "execute_result"
    }
   ],
   "source": [
    "elements_df.head()\n",
    "elements_df.columns"
   ]
  },
  {
   "cell_type": "code",
   "execution_count": 134,
   "metadata": {},
   "outputs": [
    {
     "name": "stderr",
     "output_type": "stream",
     "text": [
      "C:\\Users\\loain\\AppData\\Local\\Temp\\ipykernel_19160\\1256876862.py:3: SettingWithCopyWarning: \n",
      "A value is trying to be set on a copy of a slice from a DataFrame.\n",
      "Try using .loc[row_indexer,col_indexer] = value instead\n",
      "\n",
      "See the caveats in the documentation: https://pandas.pydata.org/pandas-docs/stable/user_guide/indexing.html#returning-a-view-versus-a-copy\n",
      "  slim_elements_df['position'] = slim_elements_df.element_type.map(elements_types_df.set_index('id').singular_name)\n",
      "C:\\Users\\loain\\AppData\\Local\\Temp\\ipykernel_19160\\1256876862.py:4: SettingWithCopyWarning: \n",
      "A value is trying to be set on a copy of a slice from a DataFrame.\n",
      "Try using .loc[row_indexer,col_indexer] = value instead\n",
      "\n",
      "See the caveats in the documentation: https://pandas.pydata.org/pandas-docs/stable/user_guide/indexing.html#returning-a-view-versus-a-copy\n",
      "  slim_elements_df['team'] = slim_elements_df.team.map(teams_df.set_index('id').name)\n",
      "C:\\Users\\loain\\AppData\\Local\\Temp\\ipykernel_19160\\1256876862.py:5: SettingWithCopyWarning: \n",
      "A value is trying to be set on a copy of a slice from a DataFrame.\n",
      "Try using .loc[row_indexer,col_indexer] = value instead\n",
      "\n",
      "See the caveats in the documentation: https://pandas.pydata.org/pandas-docs/stable/user_guide/indexing.html#returning-a-view-versus-a-copy\n",
      "  slim_elements_df['value'] = slim_elements_df.value_season.astype(float)\n"
     ]
    },
    {
     "data": {
      "text/html": [
       "<div>\n",
       "<style scoped>\n",
       "    .dataframe tbody tr th:only-of-type {\n",
       "        vertical-align: middle;\n",
       "    }\n",
       "\n",
       "    .dataframe tbody tr th {\n",
       "        vertical-align: top;\n",
       "    }\n",
       "\n",
       "    .dataframe thead th {\n",
       "        text-align: right;\n",
       "    }\n",
       "</style>\n",
       "<table border=\"1\" class=\"dataframe\">\n",
       "  <thead>\n",
       "    <tr style=\"text-align: right;\">\n",
       "      <th></th>\n",
       "      <th>second_name</th>\n",
       "      <th>team</th>\n",
       "      <th>element_type</th>\n",
       "      <th>selected_by_percent</th>\n",
       "      <th>now_cost</th>\n",
       "      <th>minutes</th>\n",
       "      <th>transfers_in</th>\n",
       "      <th>value_season</th>\n",
       "      <th>event_points</th>\n",
       "      <th>total_points</th>\n",
       "      <th>...</th>\n",
       "      <th>penalties_saved</th>\n",
       "      <th>penalties_missed</th>\n",
       "      <th>yellow_cards</th>\n",
       "      <th>red_cards</th>\n",
       "      <th>saves</th>\n",
       "      <th>bonus</th>\n",
       "      <th>bps</th>\n",
       "      <th>ict_index</th>\n",
       "      <th>position</th>\n",
       "      <th>value</th>\n",
       "    </tr>\n",
       "  </thead>\n",
       "  <tbody>\n",
       "    <tr>\n",
       "      <th>0</th>\n",
       "      <td>Alves Soares</td>\n",
       "      <td>Arsenal</td>\n",
       "      <td>2</td>\n",
       "      <td>0.3</td>\n",
       "      <td>44</td>\n",
       "      <td>0</td>\n",
       "      <td>1879</td>\n",
       "      <td>0.0</td>\n",
       "      <td>0</td>\n",
       "      <td>0</td>\n",
       "      <td>...</td>\n",
       "      <td>0</td>\n",
       "      <td>0</td>\n",
       "      <td>0</td>\n",
       "      <td>0</td>\n",
       "      <td>0</td>\n",
       "      <td>0</td>\n",
       "      <td>0</td>\n",
       "      <td>0.0</td>\n",
       "      <td>Defender</td>\n",
       "      <td>0.0</td>\n",
       "    </tr>\n",
       "    <tr>\n",
       "      <th>1</th>\n",
       "      <td>Xhaka</td>\n",
       "      <td>Arsenal</td>\n",
       "      <td>3</td>\n",
       "      <td>1.5</td>\n",
       "      <td>50</td>\n",
       "      <td>180</td>\n",
       "      <td>70763</td>\n",
       "      <td>2.8</td>\n",
       "      <td>12</td>\n",
       "      <td>14</td>\n",
       "      <td>...</td>\n",
       "      <td>0</td>\n",
       "      <td>0</td>\n",
       "      <td>1</td>\n",
       "      <td>0</td>\n",
       "      <td>0</td>\n",
       "      <td>2</td>\n",
       "      <td>47</td>\n",
       "      <td>14.2</td>\n",
       "      <td>Midfielder</td>\n",
       "      <td>2.8</td>\n",
       "    </tr>\n",
       "    <tr>\n",
       "      <th>2</th>\n",
       "      <td>Elneny</td>\n",
       "      <td>Arsenal</td>\n",
       "      <td>3</td>\n",
       "      <td>1.1</td>\n",
       "      <td>44</td>\n",
       "      <td>0</td>\n",
       "      <td>19423</td>\n",
       "      <td>0.0</td>\n",
       "      <td>0</td>\n",
       "      <td>0</td>\n",
       "      <td>...</td>\n",
       "      <td>0</td>\n",
       "      <td>0</td>\n",
       "      <td>0</td>\n",
       "      <td>0</td>\n",
       "      <td>0</td>\n",
       "      <td>0</td>\n",
       "      <td>0</td>\n",
       "      <td>0.0</td>\n",
       "      <td>Midfielder</td>\n",
       "      <td>0.0</td>\n",
       "    </tr>\n",
       "    <tr>\n",
       "      <th>3</th>\n",
       "      <td>Holding</td>\n",
       "      <td>Arsenal</td>\n",
       "      <td>2</td>\n",
       "      <td>0.2</td>\n",
       "      <td>44</td>\n",
       "      <td>0</td>\n",
       "      <td>1023</td>\n",
       "      <td>0.0</td>\n",
       "      <td>0</td>\n",
       "      <td>0</td>\n",
       "      <td>...</td>\n",
       "      <td>0</td>\n",
       "      <td>0</td>\n",
       "      <td>0</td>\n",
       "      <td>0</td>\n",
       "      <td>0</td>\n",
       "      <td>0</td>\n",
       "      <td>0</td>\n",
       "      <td>0.0</td>\n",
       "      <td>Defender</td>\n",
       "      <td>0.0</td>\n",
       "    </tr>\n",
       "    <tr>\n",
       "      <th>4</th>\n",
       "      <td>Partey</td>\n",
       "      <td>Arsenal</td>\n",
       "      <td>3</td>\n",
       "      <td>0.7</td>\n",
       "      <td>50</td>\n",
       "      <td>180</td>\n",
       "      <td>16716</td>\n",
       "      <td>1.0</td>\n",
       "      <td>2</td>\n",
       "      <td>5</td>\n",
       "      <td>...</td>\n",
       "      <td>0</td>\n",
       "      <td>0</td>\n",
       "      <td>0</td>\n",
       "      <td>0</td>\n",
       "      <td>0</td>\n",
       "      <td>0</td>\n",
       "      <td>26</td>\n",
       "      <td>9.5</td>\n",
       "      <td>Midfielder</td>\n",
       "      <td>1.0</td>\n",
       "    </tr>\n",
       "    <tr>\n",
       "      <th>5</th>\n",
       "      <td>Ødegaard</td>\n",
       "      <td>Arsenal</td>\n",
       "      <td>3</td>\n",
       "      <td>12.3</td>\n",
       "      <td>65</td>\n",
       "      <td>180</td>\n",
       "      <td>89829</td>\n",
       "      <td>0.8</td>\n",
       "      <td>2</td>\n",
       "      <td>5</td>\n",
       "      <td>...</td>\n",
       "      <td>0</td>\n",
       "      <td>0</td>\n",
       "      <td>0</td>\n",
       "      <td>0</td>\n",
       "      <td>0</td>\n",
       "      <td>0</td>\n",
       "      <td>28</td>\n",
       "      <td>7.0</td>\n",
       "      <td>Midfielder</td>\n",
       "      <td>0.8</td>\n",
       "    </tr>\n",
       "    <tr>\n",
       "      <th>6</th>\n",
       "      <td>Tierney</td>\n",
       "      <td>Arsenal</td>\n",
       "      <td>2</td>\n",
       "      <td>1.1</td>\n",
       "      <td>50</td>\n",
       "      <td>20</td>\n",
       "      <td>4959</td>\n",
       "      <td>0.4</td>\n",
       "      <td>1</td>\n",
       "      <td>2</td>\n",
       "      <td>...</td>\n",
       "      <td>0</td>\n",
       "      <td>0</td>\n",
       "      <td>0</td>\n",
       "      <td>0</td>\n",
       "      <td>0</td>\n",
       "      <td>0</td>\n",
       "      <td>6</td>\n",
       "      <td>0.7</td>\n",
       "      <td>Defender</td>\n",
       "      <td>0.4</td>\n",
       "    </tr>\n",
       "    <tr>\n",
       "      <th>7</th>\n",
       "      <td>Pépé</td>\n",
       "      <td>Arsenal</td>\n",
       "      <td>3</td>\n",
       "      <td>0.3</td>\n",
       "      <td>54</td>\n",
       "      <td>0</td>\n",
       "      <td>3252</td>\n",
       "      <td>0.0</td>\n",
       "      <td>0</td>\n",
       "      <td>0</td>\n",
       "      <td>...</td>\n",
       "      <td>0</td>\n",
       "      <td>0</td>\n",
       "      <td>0</td>\n",
       "      <td>0</td>\n",
       "      <td>0</td>\n",
       "      <td>0</td>\n",
       "      <td>0</td>\n",
       "      <td>0.0</td>\n",
       "      <td>Midfielder</td>\n",
       "      <td>0.0</td>\n",
       "    </tr>\n",
       "    <tr>\n",
       "      <th>8</th>\n",
       "      <td>White</td>\n",
       "      <td>Arsenal</td>\n",
       "      <td>2</td>\n",
       "      <td>6.1</td>\n",
       "      <td>45</td>\n",
       "      <td>164</td>\n",
       "      <td>47365</td>\n",
       "      <td>1.3</td>\n",
       "      <td>1</td>\n",
       "      <td>6</td>\n",
       "      <td>...</td>\n",
       "      <td>0</td>\n",
       "      <td>0</td>\n",
       "      <td>1</td>\n",
       "      <td>0</td>\n",
       "      <td>0</td>\n",
       "      <td>0</td>\n",
       "      <td>33</td>\n",
       "      <td>5.6</td>\n",
       "      <td>Defender</td>\n",
       "      <td>1.3</td>\n",
       "    </tr>\n",
       "    <tr>\n",
       "      <th>9</th>\n",
       "      <td>Nketiah</td>\n",
       "      <td>Arsenal</td>\n",
       "      <td>4</td>\n",
       "      <td>0.6</td>\n",
       "      <td>69</td>\n",
       "      <td>13</td>\n",
       "      <td>5049</td>\n",
       "      <td>0.3</td>\n",
       "      <td>1</td>\n",
       "      <td>2</td>\n",
       "      <td>...</td>\n",
       "      <td>0</td>\n",
       "      <td>0</td>\n",
       "      <td>0</td>\n",
       "      <td>0</td>\n",
       "      <td>0</td>\n",
       "      <td>0</td>\n",
       "      <td>5</td>\n",
       "      <td>3.3</td>\n",
       "      <td>Forward</td>\n",
       "      <td>0.3</td>\n",
       "    </tr>\n",
       "  </tbody>\n",
       "</table>\n",
       "<p>10 rows × 31 columns</p>\n",
       "</div>"
      ],
      "text/plain": [
       "    second_name     team  element_type selected_by_percent  now_cost  minutes  \\\n",
       "0  Alves Soares  Arsenal             2                 0.3        44        0   \n",
       "1         Xhaka  Arsenal             3                 1.5        50      180   \n",
       "2        Elneny  Arsenal             3                 1.1        44        0   \n",
       "3       Holding  Arsenal             2                 0.2        44        0   \n",
       "4        Partey  Arsenal             3                 0.7        50      180   \n",
       "5      Ødegaard  Arsenal             3                12.3        65      180   \n",
       "6       Tierney  Arsenal             2                 1.1        50       20   \n",
       "7          Pépé  Arsenal             3                 0.3        54        0   \n",
       "8         White  Arsenal             2                 6.1        45      164   \n",
       "9       Nketiah  Arsenal             4                 0.6        69       13   \n",
       "\n",
       "   transfers_in value_season  event_points  total_points  ...  \\\n",
       "0          1879          0.0             0             0  ...   \n",
       "1         70763          2.8            12            14  ...   \n",
       "2         19423          0.0             0             0  ...   \n",
       "3          1023          0.0             0             0  ...   \n",
       "4         16716          1.0             2             5  ...   \n",
       "5         89829          0.8             2             5  ...   \n",
       "6          4959          0.4             1             2  ...   \n",
       "7          3252          0.0             0             0  ...   \n",
       "8         47365          1.3             1             6  ...   \n",
       "9          5049          0.3             1             2  ...   \n",
       "\n",
       "   penalties_saved penalties_missed  yellow_cards  red_cards  saves bonus  \\\n",
       "0                0                0             0          0      0     0   \n",
       "1                0                0             1          0      0     2   \n",
       "2                0                0             0          0      0     0   \n",
       "3                0                0             0          0      0     0   \n",
       "4                0                0             0          0      0     0   \n",
       "5                0                0             0          0      0     0   \n",
       "6                0                0             0          0      0     0   \n",
       "7                0                0             0          0      0     0   \n",
       "8                0                0             1          0      0     0   \n",
       "9                0                0             0          0      0     0   \n",
       "\n",
       "   bps  ict_index    position  value  \n",
       "0    0        0.0    Defender    0.0  \n",
       "1   47       14.2  Midfielder    2.8  \n",
       "2    0        0.0  Midfielder    0.0  \n",
       "3    0        0.0    Defender    0.0  \n",
       "4   26        9.5  Midfielder    1.0  \n",
       "5   28        7.0  Midfielder    0.8  \n",
       "6    6        0.7    Defender    0.4  \n",
       "7    0        0.0  Midfielder    0.0  \n",
       "8   33        5.6    Defender    1.3  \n",
       "9    5        3.3     Forward    0.3  \n",
       "\n",
       "[10 rows x 31 columns]"
      ]
     },
     "execution_count": 134,
     "metadata": {},
     "output_type": "execute_result"
    }
   ],
   "source": [
    "slim_elements_df = elements_df[['second_name','team','element_type','selected_by_percent','now_cost','minutes','transfers_in','value_season','event_points','total_points','dreamteam_count','form','transfers_in_event', 'transfers_out', 'transfers_out_event','value_form','goals_scored',\n",
    "'assists', 'clean_sheets', 'goals_conceded', 'own_goals','penalties_saved', 'penalties_missed', 'yellow_cards', 'red_cards','saves', 'bonus', 'bps','ict_index']]\n",
    "slim_elements_df['position'] = slim_elements_df.element_type.map(elements_types_df.set_index('id').singular_name)\n",
    "slim_elements_df['team'] = slim_elements_df.team.map(teams_df.set_index('id').name)\n",
    "slim_elements_df['value'] = slim_elements_df.value_season.astype(float)\n",
    "slim_elements_df.pivot_table(index='position',values='value',aggfunc=np.mean).reset_index()\n",
    "#slim_elements_df = slim_elements_df.loc[slim_elements_df.value >= 0]\n",
    "slim_elements_df.head(10)"
   ]
  },
  {
   "cell_type": "code",
   "execution_count": 135,
   "metadata": {},
   "outputs": [
    {
     "data": {
      "text/html": [
       "<div>\n",
       "<style scoped>\n",
       "    .dataframe tbody tr th:only-of-type {\n",
       "        vertical-align: middle;\n",
       "    }\n",
       "\n",
       "    .dataframe tbody tr th {\n",
       "        vertical-align: top;\n",
       "    }\n",
       "\n",
       "    .dataframe thead th {\n",
       "        text-align: right;\n",
       "    }\n",
       "</style>\n",
       "<table border=\"1\" class=\"dataframe\">\n",
       "  <thead>\n",
       "    <tr style=\"text-align: right;\">\n",
       "      <th></th>\n",
       "      <th>second_name</th>\n",
       "      <th>team</th>\n",
       "      <th>element_type</th>\n",
       "      <th>selected_by_percent</th>\n",
       "      <th>now_cost</th>\n",
       "      <th>minutes</th>\n",
       "      <th>transfers_in</th>\n",
       "      <th>value_season</th>\n",
       "      <th>event_points</th>\n",
       "      <th>total_points</th>\n",
       "      <th>...</th>\n",
       "      <th>penalties_saved</th>\n",
       "      <th>penalties_missed</th>\n",
       "      <th>yellow_cards</th>\n",
       "      <th>red_cards</th>\n",
       "      <th>saves</th>\n",
       "      <th>bonus</th>\n",
       "      <th>bps</th>\n",
       "      <th>ict_index</th>\n",
       "      <th>position</th>\n",
       "      <th>value</th>\n",
       "    </tr>\n",
       "  </thead>\n",
       "  <tbody>\n",
       "    <tr>\n",
       "      <th>17</th>\n",
       "      <td>Martinelli Silva</td>\n",
       "      <td>Arsenal</td>\n",
       "      <td>3</td>\n",
       "      <td>33.4</td>\n",
       "      <td>62</td>\n",
       "      <td>180</td>\n",
       "      <td>1009870</td>\n",
       "      <td>2.6</td>\n",
       "      <td>8</td>\n",
       "      <td>16</td>\n",
       "      <td>...</td>\n",
       "      <td>0</td>\n",
       "      <td>0</td>\n",
       "      <td>0</td>\n",
       "      <td>0</td>\n",
       "      <td>0</td>\n",
       "      <td>1</td>\n",
       "      <td>53</td>\n",
       "      <td>20.1</td>\n",
       "      <td>Midfielder</td>\n",
       "      <td>2.6</td>\n",
       "    </tr>\n",
       "    <tr>\n",
       "      <th>519</th>\n",
       "      <td>Kulusevski</td>\n",
       "      <td>Spurs</td>\n",
       "      <td>3</td>\n",
       "      <td>13.5</td>\n",
       "      <td>81</td>\n",
       "      <td>175</td>\n",
       "      <td>569697</td>\n",
       "      <td>1.9</td>\n",
       "      <td>2</td>\n",
       "      <td>15</td>\n",
       "      <td>...</td>\n",
       "      <td>0</td>\n",
       "      <td>0</td>\n",
       "      <td>0</td>\n",
       "      <td>0</td>\n",
       "      <td>0</td>\n",
       "      <td>3</td>\n",
       "      <td>50</td>\n",
       "      <td>15.9</td>\n",
       "      <td>Midfielder</td>\n",
       "      <td>1.9</td>\n",
       "    </tr>\n",
       "    <tr>\n",
       "      <th>292</th>\n",
       "      <td>Moreno</td>\n",
       "      <td>Leeds</td>\n",
       "      <td>3</td>\n",
       "      <td>7.2</td>\n",
       "      <td>61</td>\n",
       "      <td>154</td>\n",
       "      <td>509864</td>\n",
       "      <td>3.6</td>\n",
       "      <td>15</td>\n",
       "      <td>22</td>\n",
       "      <td>...</td>\n",
       "      <td>0</td>\n",
       "      <td>0</td>\n",
       "      <td>0</td>\n",
       "      <td>0</td>\n",
       "      <td>0</td>\n",
       "      <td>3</td>\n",
       "      <td>72</td>\n",
       "      <td>28.5</td>\n",
       "      <td>Midfielder</td>\n",
       "      <td>3.6</td>\n",
       "    </tr>\n",
       "    <tr>\n",
       "      <th>89</th>\n",
       "      <td>Dasilva</td>\n",
       "      <td>Brentford</td>\n",
       "      <td>3</td>\n",
       "      <td>7.1</td>\n",
       "      <td>46</td>\n",
       "      <td>92</td>\n",
       "      <td>505229</td>\n",
       "      <td>3.0</td>\n",
       "      <td>8</td>\n",
       "      <td>14</td>\n",
       "      <td>...</td>\n",
       "      <td>0</td>\n",
       "      <td>0</td>\n",
       "      <td>0</td>\n",
       "      <td>0</td>\n",
       "      <td>0</td>\n",
       "      <td>0</td>\n",
       "      <td>48</td>\n",
       "      <td>9.3</td>\n",
       "      <td>Midfielder</td>\n",
       "      <td>3.0</td>\n",
       "    </tr>\n",
       "    <tr>\n",
       "      <th>117</th>\n",
       "      <td>Groß</td>\n",
       "      <td>Brighton</td>\n",
       "      <td>3</td>\n",
       "      <td>5.6</td>\n",
       "      <td>56</td>\n",
       "      <td>180</td>\n",
       "      <td>392223</td>\n",
       "      <td>3.2</td>\n",
       "      <td>3</td>\n",
       "      <td>18</td>\n",
       "      <td>...</td>\n",
       "      <td>0</td>\n",
       "      <td>0</td>\n",
       "      <td>0</td>\n",
       "      <td>0</td>\n",
       "      <td>0</td>\n",
       "      <td>3</td>\n",
       "      <td>51</td>\n",
       "      <td>24.1</td>\n",
       "      <td>Midfielder</td>\n",
       "      <td>3.2</td>\n",
       "    </tr>\n",
       "    <tr>\n",
       "      <th>354</th>\n",
       "      <td>De Bruyne</td>\n",
       "      <td>Man City</td>\n",
       "      <td>3</td>\n",
       "      <td>19.1</td>\n",
       "      <td>120</td>\n",
       "      <td>177</td>\n",
       "      <td>321799</td>\n",
       "      <td>1.7</td>\n",
       "      <td>14</td>\n",
       "      <td>20</td>\n",
       "      <td>...</td>\n",
       "      <td>0</td>\n",
       "      <td>0</td>\n",
       "      <td>0</td>\n",
       "      <td>0</td>\n",
       "      <td>0</td>\n",
       "      <td>3</td>\n",
       "      <td>70</td>\n",
       "      <td>27.9</td>\n",
       "      <td>Midfielder</td>\n",
       "      <td>1.7</td>\n",
       "    </tr>\n",
       "    <tr>\n",
       "      <th>329</th>\n",
       "      <td>Salah</td>\n",
       "      <td>Liverpool</td>\n",
       "      <td>3</td>\n",
       "      <td>62.5</td>\n",
       "      <td>130</td>\n",
       "      <td>180</td>\n",
       "      <td>233115</td>\n",
       "      <td>1.1</td>\n",
       "      <td>2</td>\n",
       "      <td>14</td>\n",
       "      <td>...</td>\n",
       "      <td>0</td>\n",
       "      <td>0</td>\n",
       "      <td>0</td>\n",
       "      <td>0</td>\n",
       "      <td>0</td>\n",
       "      <td>2</td>\n",
       "      <td>39</td>\n",
       "      <td>23.1</td>\n",
       "      <td>Midfielder</td>\n",
       "      <td>1.1</td>\n",
       "    </tr>\n",
       "    <tr>\n",
       "      <th>253</th>\n",
       "      <td>Hoelgebaum Pereira</td>\n",
       "      <td>Fulham</td>\n",
       "      <td>3</td>\n",
       "      <td>24.4</td>\n",
       "      <td>45</td>\n",
       "      <td>173</td>\n",
       "      <td>219524</td>\n",
       "      <td>1.1</td>\n",
       "      <td>3</td>\n",
       "      <td>5</td>\n",
       "      <td>...</td>\n",
       "      <td>0</td>\n",
       "      <td>0</td>\n",
       "      <td>0</td>\n",
       "      <td>0</td>\n",
       "      <td>0</td>\n",
       "      <td>0</td>\n",
       "      <td>11</td>\n",
       "      <td>6.4</td>\n",
       "      <td>Midfielder</td>\n",
       "      <td>1.1</td>\n",
       "    </tr>\n",
       "    <tr>\n",
       "      <th>478</th>\n",
       "      <td>Ward-Prowse</td>\n",
       "      <td>Southampton</td>\n",
       "      <td>3</td>\n",
       "      <td>10.9</td>\n",
       "      <td>65</td>\n",
       "      <td>180</td>\n",
       "      <td>214452</td>\n",
       "      <td>1.7</td>\n",
       "      <td>2</td>\n",
       "      <td>11</td>\n",
       "      <td>...</td>\n",
       "      <td>0</td>\n",
       "      <td>0</td>\n",
       "      <td>0</td>\n",
       "      <td>0</td>\n",
       "      <td>0</td>\n",
       "      <td>2</td>\n",
       "      <td>41</td>\n",
       "      <td>14.3</td>\n",
       "      <td>Midfielder</td>\n",
       "      <td>1.7</td>\n",
       "    </tr>\n",
       "    <tr>\n",
       "      <th>147</th>\n",
       "      <td>Frello Filho</td>\n",
       "      <td>Chelsea</td>\n",
       "      <td>3</td>\n",
       "      <td>4.7</td>\n",
       "      <td>60</td>\n",
       "      <td>162</td>\n",
       "      <td>193172</td>\n",
       "      <td>2.2</td>\n",
       "      <td>2</td>\n",
       "      <td>13</td>\n",
       "      <td>...</td>\n",
       "      <td>0</td>\n",
       "      <td>0</td>\n",
       "      <td>0</td>\n",
       "      <td>0</td>\n",
       "      <td>0</td>\n",
       "      <td>3</td>\n",
       "      <td>48</td>\n",
       "      <td>12.2</td>\n",
       "      <td>Midfielder</td>\n",
       "      <td>2.2</td>\n",
       "    </tr>\n",
       "    <tr>\n",
       "      <th>365</th>\n",
       "      <td>Foden</td>\n",
       "      <td>Man City</td>\n",
       "      <td>3</td>\n",
       "      <td>7.7</td>\n",
       "      <td>80</td>\n",
       "      <td>132</td>\n",
       "      <td>171427</td>\n",
       "      <td>1.5</td>\n",
       "      <td>9</td>\n",
       "      <td>12</td>\n",
       "      <td>...</td>\n",
       "      <td>0</td>\n",
       "      <td>0</td>\n",
       "      <td>0</td>\n",
       "      <td>0</td>\n",
       "      <td>0</td>\n",
       "      <td>0</td>\n",
       "      <td>49</td>\n",
       "      <td>18.8</td>\n",
       "      <td>Midfielder</td>\n",
       "      <td>1.5</td>\n",
       "    </tr>\n",
       "    <tr>\n",
       "      <th>339</th>\n",
       "      <td>Díaz</td>\n",
       "      <td>Liverpool</td>\n",
       "      <td>3</td>\n",
       "      <td>19.8</td>\n",
       "      <td>80</td>\n",
       "      <td>167</td>\n",
       "      <td>159345</td>\n",
       "      <td>1.4</td>\n",
       "      <td>9</td>\n",
       "      <td>11</td>\n",
       "      <td>...</td>\n",
       "      <td>0</td>\n",
       "      <td>0</td>\n",
       "      <td>1</td>\n",
       "      <td>0</td>\n",
       "      <td>0</td>\n",
       "      <td>3</td>\n",
       "      <td>32</td>\n",
       "      <td>13.8</td>\n",
       "      <td>Midfielder</td>\n",
       "      <td>1.4</td>\n",
       "    </tr>\n",
       "    <tr>\n",
       "      <th>277</th>\n",
       "      <td>Dewsbury-Hall</td>\n",
       "      <td>Leicester</td>\n",
       "      <td>3</td>\n",
       "      <td>2.3</td>\n",
       "      <td>50</td>\n",
       "      <td>162</td>\n",
       "      <td>134311</td>\n",
       "      <td>2.4</td>\n",
       "      <td>2</td>\n",
       "      <td>12</td>\n",
       "      <td>...</td>\n",
       "      <td>0</td>\n",
       "      <td>0</td>\n",
       "      <td>0</td>\n",
       "      <td>0</td>\n",
       "      <td>0</td>\n",
       "      <td>3</td>\n",
       "      <td>40</td>\n",
       "      <td>7.3</td>\n",
       "      <td>Midfielder</td>\n",
       "      <td>2.4</td>\n",
       "    </tr>\n",
       "    <tr>\n",
       "      <th>11</th>\n",
       "      <td>Saka</td>\n",
       "      <td>Arsenal</td>\n",
       "      <td>3</td>\n",
       "      <td>19.9</td>\n",
       "      <td>80</td>\n",
       "      <td>173</td>\n",
       "      <td>121286</td>\n",
       "      <td>1.0</td>\n",
       "      <td>2</td>\n",
       "      <td>8</td>\n",
       "      <td>...</td>\n",
       "      <td>0</td>\n",
       "      <td>0</td>\n",
       "      <td>0</td>\n",
       "      <td>0</td>\n",
       "      <td>0</td>\n",
       "      <td>0</td>\n",
       "      <td>28</td>\n",
       "      <td>12.6</td>\n",
       "      <td>Midfielder</td>\n",
       "      <td>1.0</td>\n",
       "    </tr>\n",
       "    <tr>\n",
       "      <th>564</th>\n",
       "      <td>Castelo Podence</td>\n",
       "      <td>Wolves</td>\n",
       "      <td>3</td>\n",
       "      <td>2.1</td>\n",
       "      <td>55</td>\n",
       "      <td>180</td>\n",
       "      <td>114649</td>\n",
       "      <td>2.2</td>\n",
       "      <td>2</td>\n",
       "      <td>12</td>\n",
       "      <td>...</td>\n",
       "      <td>0</td>\n",
       "      <td>0</td>\n",
       "      <td>1</td>\n",
       "      <td>0</td>\n",
       "      <td>0</td>\n",
       "      <td>3</td>\n",
       "      <td>26</td>\n",
       "      <td>13.3</td>\n",
       "      <td>Midfielder</td>\n",
       "      <td>2.2</td>\n",
       "    </tr>\n",
       "    <tr>\n",
       "      <th>44</th>\n",
       "      <td>Bailey</td>\n",
       "      <td>Aston Villa</td>\n",
       "      <td>3</td>\n",
       "      <td>14.7</td>\n",
       "      <td>50</td>\n",
       "      <td>102</td>\n",
       "      <td>111510</td>\n",
       "      <td>0.6</td>\n",
       "      <td>1</td>\n",
       "      <td>3</td>\n",
       "      <td>...</td>\n",
       "      <td>0</td>\n",
       "      <td>0</td>\n",
       "      <td>0</td>\n",
       "      <td>0</td>\n",
       "      <td>0</td>\n",
       "      <td>0</td>\n",
       "      <td>13</td>\n",
       "      <td>8.2</td>\n",
       "      <td>Midfielder</td>\n",
       "      <td>0.6</td>\n",
       "    </tr>\n",
       "    <tr>\n",
       "      <th>5</th>\n",
       "      <td>Ødegaard</td>\n",
       "      <td>Arsenal</td>\n",
       "      <td>3</td>\n",
       "      <td>12.3</td>\n",
       "      <td>65</td>\n",
       "      <td>180</td>\n",
       "      <td>89829</td>\n",
       "      <td>0.8</td>\n",
       "      <td>2</td>\n",
       "      <td>5</td>\n",
       "      <td>...</td>\n",
       "      <td>0</td>\n",
       "      <td>0</td>\n",
       "      <td>0</td>\n",
       "      <td>0</td>\n",
       "      <td>0</td>\n",
       "      <td>0</td>\n",
       "      <td>28</td>\n",
       "      <td>7.0</td>\n",
       "      <td>Midfielder</td>\n",
       "      <td>0.8</td>\n",
       "    </tr>\n",
       "    <tr>\n",
       "      <th>94</th>\n",
       "      <td>Jensen</td>\n",
       "      <td>Brentford</td>\n",
       "      <td>3</td>\n",
       "      <td>1.1</td>\n",
       "      <td>50</td>\n",
       "      <td>131</td>\n",
       "      <td>88880</td>\n",
       "      <td>3.0</td>\n",
       "      <td>14</td>\n",
       "      <td>15</td>\n",
       "      <td>...</td>\n",
       "      <td>0</td>\n",
       "      <td>0</td>\n",
       "      <td>0</td>\n",
       "      <td>0</td>\n",
       "      <td>0</td>\n",
       "      <td>3</td>\n",
       "      <td>48</td>\n",
       "      <td>11.5</td>\n",
       "      <td>Midfielder</td>\n",
       "      <td>3.0</td>\n",
       "    </tr>\n",
       "    <tr>\n",
       "      <th>65</th>\n",
       "      <td>Lerma Solís</td>\n",
       "      <td>Bournemouth</td>\n",
       "      <td>3</td>\n",
       "      <td>1.3</td>\n",
       "      <td>50</td>\n",
       "      <td>180</td>\n",
       "      <td>87170</td>\n",
       "      <td>2.0</td>\n",
       "      <td>0</td>\n",
       "      <td>10</td>\n",
       "      <td>...</td>\n",
       "      <td>0</td>\n",
       "      <td>0</td>\n",
       "      <td>0</td>\n",
       "      <td>0</td>\n",
       "      <td>0</td>\n",
       "      <td>2</td>\n",
       "      <td>38</td>\n",
       "      <td>6.6</td>\n",
       "      <td>Midfielder</td>\n",
       "      <td>2.0</td>\n",
       "    </tr>\n",
       "    <tr>\n",
       "      <th>353</th>\n",
       "      <td>Gündogan</td>\n",
       "      <td>Man City</td>\n",
       "      <td>3</td>\n",
       "      <td>2.0</td>\n",
       "      <td>75</td>\n",
       "      <td>141</td>\n",
       "      <td>81324</td>\n",
       "      <td>1.7</td>\n",
       "      <td>10</td>\n",
       "      <td>13</td>\n",
       "      <td>...</td>\n",
       "      <td>0</td>\n",
       "      <td>0</td>\n",
       "      <td>0</td>\n",
       "      <td>0</td>\n",
       "      <td>0</td>\n",
       "      <td>2</td>\n",
       "      <td>47</td>\n",
       "      <td>15.3</td>\n",
       "      <td>Midfielder</td>\n",
       "      <td>1.7</td>\n",
       "    </tr>\n",
       "  </tbody>\n",
       "</table>\n",
       "<p>20 rows × 31 columns</p>\n",
       "</div>"
      ],
      "text/plain": [
       "            second_name         team  element_type selected_by_percent  \\\n",
       "17     Martinelli Silva      Arsenal             3                33.4   \n",
       "519          Kulusevski        Spurs             3                13.5   \n",
       "292              Moreno        Leeds             3                 7.2   \n",
       "89              Dasilva    Brentford             3                 7.1   \n",
       "117                Groß     Brighton             3                 5.6   \n",
       "354           De Bruyne     Man City             3                19.1   \n",
       "329               Salah    Liverpool             3                62.5   \n",
       "253  Hoelgebaum Pereira       Fulham             3                24.4   \n",
       "478         Ward-Prowse  Southampton             3                10.9   \n",
       "147        Frello Filho      Chelsea             3                 4.7   \n",
       "365               Foden     Man City             3                 7.7   \n",
       "339                Díaz    Liverpool             3                19.8   \n",
       "277       Dewsbury-Hall    Leicester             3                 2.3   \n",
       "11                 Saka      Arsenal             3                19.9   \n",
       "564     Castelo Podence       Wolves             3                 2.1   \n",
       "44               Bailey  Aston Villa             3                14.7   \n",
       "5              Ødegaard      Arsenal             3                12.3   \n",
       "94               Jensen    Brentford             3                 1.1   \n",
       "65          Lerma Solís  Bournemouth             3                 1.3   \n",
       "353            Gündogan     Man City             3                 2.0   \n",
       "\n",
       "     now_cost  minutes  transfers_in value_season  event_points  total_points  \\\n",
       "17         62      180       1009870          2.6             8            16   \n",
       "519        81      175        569697          1.9             2            15   \n",
       "292        61      154        509864          3.6            15            22   \n",
       "89         46       92        505229          3.0             8            14   \n",
       "117        56      180        392223          3.2             3            18   \n",
       "354       120      177        321799          1.7            14            20   \n",
       "329       130      180        233115          1.1             2            14   \n",
       "253        45      173        219524          1.1             3             5   \n",
       "478        65      180        214452          1.7             2            11   \n",
       "147        60      162        193172          2.2             2            13   \n",
       "365        80      132        171427          1.5             9            12   \n",
       "339        80      167        159345          1.4             9            11   \n",
       "277        50      162        134311          2.4             2            12   \n",
       "11         80      173        121286          1.0             2             8   \n",
       "564        55      180        114649          2.2             2            12   \n",
       "44         50      102        111510          0.6             1             3   \n",
       "5          65      180         89829          0.8             2             5   \n",
       "94         50      131         88880          3.0            14            15   \n",
       "65         50      180         87170          2.0             0            10   \n",
       "353        75      141         81324          1.7            10            13   \n",
       "\n",
       "     ...  penalties_saved penalties_missed  yellow_cards  red_cards  saves  \\\n",
       "17   ...                0                0             0          0      0   \n",
       "519  ...                0                0             0          0      0   \n",
       "292  ...                0                0             0          0      0   \n",
       "89   ...                0                0             0          0      0   \n",
       "117  ...                0                0             0          0      0   \n",
       "354  ...                0                0             0          0      0   \n",
       "329  ...                0                0             0          0      0   \n",
       "253  ...                0                0             0          0      0   \n",
       "478  ...                0                0             0          0      0   \n",
       "147  ...                0                0             0          0      0   \n",
       "365  ...                0                0             0          0      0   \n",
       "339  ...                0                0             1          0      0   \n",
       "277  ...                0                0             0          0      0   \n",
       "11   ...                0                0             0          0      0   \n",
       "564  ...                0                0             1          0      0   \n",
       "44   ...                0                0             0          0      0   \n",
       "5    ...                0                0             0          0      0   \n",
       "94   ...                0                0             0          0      0   \n",
       "65   ...                0                0             0          0      0   \n",
       "353  ...                0                0             0          0      0   \n",
       "\n",
       "    bonus  bps  ict_index    position  value  \n",
       "17      1   53       20.1  Midfielder    2.6  \n",
       "519     3   50       15.9  Midfielder    1.9  \n",
       "292     3   72       28.5  Midfielder    3.6  \n",
       "89      0   48        9.3  Midfielder    3.0  \n",
       "117     3   51       24.1  Midfielder    3.2  \n",
       "354     3   70       27.9  Midfielder    1.7  \n",
       "329     2   39       23.1  Midfielder    1.1  \n",
       "253     0   11        6.4  Midfielder    1.1  \n",
       "478     2   41       14.3  Midfielder    1.7  \n",
       "147     3   48       12.2  Midfielder    2.2  \n",
       "365     0   49       18.8  Midfielder    1.5  \n",
       "339     3   32       13.8  Midfielder    1.4  \n",
       "277     3   40        7.3  Midfielder    2.4  \n",
       "11      0   28       12.6  Midfielder    1.0  \n",
       "564     3   26       13.3  Midfielder    2.2  \n",
       "44      0   13        8.2  Midfielder    0.6  \n",
       "5       0   28        7.0  Midfielder    0.8  \n",
       "94      3   48       11.5  Midfielder    3.0  \n",
       "65      2   38        6.6  Midfielder    2.0  \n",
       "353     2   47       15.3  Midfielder    1.7  \n",
       "\n",
       "[20 rows x 31 columns]"
      ]
     },
     "execution_count": 135,
     "metadata": {},
     "output_type": "execute_result"
    }
   ],
   "source": [
    "mid_df = slim_elements_df.loc[slim_elements_df.position == 'Midfielder']\n",
    "mid_df.sort_values('transfers_in',ascending=False).head(20)"
   ]
  },
  {
   "cell_type": "code",
   "execution_count": 272,
   "metadata": {},
   "outputs": [],
   "source": [
    "# Get id for top # in the overall legue\n",
    "def top_users(num):\n",
    "    l =int(num / 50)\n",
    "    lege_df = pd.DataFrame()\n",
    "    for i in range(1,l):\n",
    "        leg_url = 'https://fantasy.premierleague.com/api/leagues-classic/314/standings/?page_new_entries=1&page_standings='+str(i)\n",
    "        r_lege = requests.get(leg_url)\n",
    "        lege_json = r_lege.json()\n",
    "        lege_df = lege_df.append(pd.DataFrame(lege_json['standings']['results']),ignore_index=True)\n",
    "    return lege_df"
   ]
  },
  {
   "cell_type": "code",
   "execution_count": 273,
   "metadata": {},
   "outputs": [],
   "source": [
    "top_100 = top_users(100)"
   ]
  },
  {
   "cell_type": "code",
   "execution_count": 278,
   "metadata": {},
   "outputs": [
    {
     "data": {
      "text/html": [
       "<div>\n",
       "<style scoped>\n",
       "    .dataframe tbody tr th:only-of-type {\n",
       "        vertical-align: middle;\n",
       "    }\n",
       "\n",
       "    .dataframe tbody tr th {\n",
       "        vertical-align: top;\n",
       "    }\n",
       "\n",
       "    .dataframe thead th {\n",
       "        text-align: right;\n",
       "    }\n",
       "</style>\n",
       "<table border=\"1\" class=\"dataframe\">\n",
       "  <thead>\n",
       "    <tr style=\"text-align: right;\">\n",
       "      <th></th>\n",
       "      <th>id</th>\n",
       "      <th>event_total</th>\n",
       "      <th>player_name</th>\n",
       "      <th>rank</th>\n",
       "      <th>last_rank</th>\n",
       "      <th>rank_sort</th>\n",
       "      <th>total</th>\n",
       "      <th>entry</th>\n",
       "      <th>entry_name</th>\n",
       "    </tr>\n",
       "  </thead>\n",
       "  <tbody>\n",
       "    <tr>\n",
       "      <th>0</th>\n",
       "      <td>21760144</td>\n",
       "      <td>116</td>\n",
       "      <td>Jamie Wilce</td>\n",
       "      <td>1</td>\n",
       "      <td>11262</td>\n",
       "      <td>1</td>\n",
       "      <td>209</td>\n",
       "      <td>3633274</td>\n",
       "      <td>In Jesus We Trust</td>\n",
       "    </tr>\n",
       "    <tr>\n",
       "      <th>1</th>\n",
       "      <td>3739054</td>\n",
       "      <td>117</td>\n",
       "      <td>Ethan Bryant</td>\n",
       "      <td>2</td>\n",
       "      <td>65794</td>\n",
       "      <td>2</td>\n",
       "      <td>203</td>\n",
       "      <td>721791</td>\n",
       "      <td>5backmerchant</td>\n",
       "    </tr>\n",
       "    <tr>\n",
       "      <th>2</th>\n",
       "      <td>43962372</td>\n",
       "      <td>95</td>\n",
       "      <td>Kevin Harre</td>\n",
       "      <td>3</td>\n",
       "      <td>197</td>\n",
       "      <td>3</td>\n",
       "      <td>201</td>\n",
       "      <td>6209589</td>\n",
       "      <td>Satan’s Barnacles</td>\n",
       "    </tr>\n",
       "    <tr>\n",
       "      <th>3</th>\n",
       "      <td>51933925</td>\n",
       "      <td>126</td>\n",
       "      <td>Cheong Man Wong</td>\n",
       "      <td>4</td>\n",
       "      <td>1071637</td>\n",
       "      <td>4</td>\n",
       "      <td>198</td>\n",
       "      <td>7174695</td>\n",
       "      <td>itecnewman</td>\n",
       "    </tr>\n",
       "    <tr>\n",
       "      <th>4</th>\n",
       "      <td>34187254</td>\n",
       "      <td>96</td>\n",
       "      <td>Jonathan Muyimba</td>\n",
       "      <td>5</td>\n",
       "      <td>778</td>\n",
       "      <td>5</td>\n",
       "      <td>198</td>\n",
       "      <td>5244462</td>\n",
       "      <td>HT/FT</td>\n",
       "    </tr>\n",
       "    <tr>\n",
       "      <th>5</th>\n",
       "      <td>18490470</td>\n",
       "      <td>105</td>\n",
       "      <td>Phil Mwendwa</td>\n",
       "      <td>5</td>\n",
       "      <td>11262</td>\n",
       "      <td>6</td>\n",
       "      <td>198</td>\n",
       "      <td>3157768</td>\n",
       "      <td>ifike mid-ssn nchoke</td>\n",
       "    </tr>\n",
       "    <tr>\n",
       "      <th>6</th>\n",
       "      <td>47967852</td>\n",
       "      <td>93</td>\n",
       "      <td>محمد عزاالدين بشير🇸🇩</td>\n",
       "      <td>7</td>\n",
       "      <td>384</td>\n",
       "      <td>7</td>\n",
       "      <td>197</td>\n",
       "      <td>6708542</td>\n",
       "      <td>فخر الزيداب</td>\n",
       "    </tr>\n",
       "    <tr>\n",
       "      <th>7</th>\n",
       "      <td>6260241</td>\n",
       "      <td>116</td>\n",
       "      <td>ABIUD Makokha</td>\n",
       "      <td>8</td>\n",
       "      <td>205450</td>\n",
       "      <td>8</td>\n",
       "      <td>197</td>\n",
       "      <td>1185887</td>\n",
       "      <td>ENOUGH IS ENOUGH.</td>\n",
       "    </tr>\n",
       "    <tr>\n",
       "      <th>8</th>\n",
       "      <td>41069983</td>\n",
       "      <td>97</td>\n",
       "      <td>Abdullah Ar</td>\n",
       "      <td>9</td>\n",
       "      <td>1926</td>\n",
       "      <td>9</td>\n",
       "      <td>196</td>\n",
       "      <td>5888567</td>\n",
       "      <td>Rm FC</td>\n",
       "    </tr>\n",
       "    <tr>\n",
       "      <th>9</th>\n",
       "      <td>21614396</td>\n",
       "      <td>124</td>\n",
       "      <td>Matt Gillow</td>\n",
       "      <td>9</td>\n",
       "      <td>1071637</td>\n",
       "      <td>10</td>\n",
       "      <td>196</td>\n",
       "      <td>3611550</td>\n",
       "      <td>Crass of ‘92</td>\n",
       "    </tr>\n",
       "    <tr>\n",
       "      <th>10</th>\n",
       "      <td>55330276</td>\n",
       "      <td>112</td>\n",
       "      <td>Okadi John</td>\n",
       "      <td>11</td>\n",
       "      <td>112044</td>\n",
       "      <td>11</td>\n",
       "      <td>196</td>\n",
       "      <td>7577132</td>\n",
       "      <td>Bigcity</td>\n",
       "    </tr>\n",
       "    <tr>\n",
       "      <th>11</th>\n",
       "      <td>7936039</td>\n",
       "      <td>126</td>\n",
       "      <td>Tor Andre Amble</td>\n",
       "      <td>11</td>\n",
       "      <td>1371605</td>\n",
       "      <td>12</td>\n",
       "      <td>196</td>\n",
       "      <td>1493533</td>\n",
       "      <td>Svinepelsen</td>\n",
       "    </tr>\n",
       "    <tr>\n",
       "      <th>12</th>\n",
       "      <td>6151460</td>\n",
       "      <td>128</td>\n",
       "      <td>Henrique Abreu</td>\n",
       "      <td>13</td>\n",
       "      <td>1071637</td>\n",
       "      <td>13</td>\n",
       "      <td>196</td>\n",
       "      <td>1165233</td>\n",
       "      <td>super max</td>\n",
       "    </tr>\n",
       "    <tr>\n",
       "      <th>13</th>\n",
       "      <td>46450280</td>\n",
       "      <td>105</td>\n",
       "      <td>Phenomenon Dempzie</td>\n",
       "      <td>14</td>\n",
       "      <td>25685</td>\n",
       "      <td>14</td>\n",
       "      <td>195</td>\n",
       "      <td>6518355</td>\n",
       "      <td>Ngwiindjuu FC</td>\n",
       "    </tr>\n",
       "    <tr>\n",
       "      <th>14</th>\n",
       "      <td>19013225</td>\n",
       "      <td>102</td>\n",
       "      <td>Jyothish A</td>\n",
       "      <td>15</td>\n",
       "      <td>11262</td>\n",
       "      <td>15</td>\n",
       "      <td>195</td>\n",
       "      <td>3236486</td>\n",
       "      <td>JoeBreakers</td>\n",
       "    </tr>\n",
       "    <tr>\n",
       "      <th>15</th>\n",
       "      <td>23950518</td>\n",
       "      <td>95</td>\n",
       "      <td>Joseph Arcard</td>\n",
       "      <td>15</td>\n",
       "      <td>1429</td>\n",
       "      <td>16</td>\n",
       "      <td>195</td>\n",
       "      <td>3953366</td>\n",
       "      <td>Jose ARCARD</td>\n",
       "    </tr>\n",
       "    <tr>\n",
       "      <th>16</th>\n",
       "      <td>11514321</td>\n",
       "      <td>104</td>\n",
       "      <td>Saeed Ghanam</td>\n",
       "      <td>15</td>\n",
       "      <td>19593</td>\n",
       "      <td>17</td>\n",
       "      <td>195</td>\n",
       "      <td>2108366</td>\n",
       "      <td>challenge</td>\n",
       "    </tr>\n",
       "    <tr>\n",
       "      <th>17</th>\n",
       "      <td>26958642</td>\n",
       "      <td>110</td>\n",
       "      <td>Ahmed Fahmy</td>\n",
       "      <td>18</td>\n",
       "      <td>33392</td>\n",
       "      <td>18</td>\n",
       "      <td>195</td>\n",
       "      <td>4346423</td>\n",
       "      <td>Fahmy</td>\n",
       "    </tr>\n",
       "    <tr>\n",
       "      <th>18</th>\n",
       "      <td>16181830</td>\n",
       "      <td>115</td>\n",
       "      <td>Noah Anderson</td>\n",
       "      <td>19</td>\n",
       "      <td>311353</td>\n",
       "      <td>19</td>\n",
       "      <td>194</td>\n",
       "      <td>2798168</td>\n",
       "      <td>Yeah but Norbert</td>\n",
       "    </tr>\n",
       "    <tr>\n",
       "      <th>19</th>\n",
       "      <td>4901375</td>\n",
       "      <td>97</td>\n",
       "      <td>Joakim Mucunguzi</td>\n",
       "      <td>20</td>\n",
       "      <td>3486</td>\n",
       "      <td>20</td>\n",
       "      <td>194</td>\n",
       "      <td>937923</td>\n",
       "      <td>RightHändÖfGòd</td>\n",
       "    </tr>\n",
       "    <tr>\n",
       "      <th>20</th>\n",
       "      <td>952196</td>\n",
       "      <td>109</td>\n",
       "      <td>THANAKORN THEPSOMBOON</td>\n",
       "      <td>20</td>\n",
       "      <td>84896</td>\n",
       "      <td>21</td>\n",
       "      <td>194</td>\n",
       "      <td>183210</td>\n",
       "      <td>NooM THEP</td>\n",
       "    </tr>\n",
       "    <tr>\n",
       "      <th>21</th>\n",
       "      <td>5720366</td>\n",
       "      <td>101</td>\n",
       "      <td>Sylvester chi</td>\n",
       "      <td>22</td>\n",
       "      <td>14700</td>\n",
       "      <td>22</td>\n",
       "      <td>193</td>\n",
       "      <td>1086774</td>\n",
       "      <td>Sylvester-chi</td>\n",
       "    </tr>\n",
       "    <tr>\n",
       "      <th>22</th>\n",
       "      <td>32553801</td>\n",
       "      <td>82</td>\n",
       "      <td>Harry Pettitt</td>\n",
       "      <td>22</td>\n",
       "      <td>37</td>\n",
       "      <td>23</td>\n",
       "      <td>193</td>\n",
       "      <td>5036642</td>\n",
       "      <td>Clingfilm Puss FC</td>\n",
       "    </tr>\n",
       "    <tr>\n",
       "      <th>23</th>\n",
       "      <td>2055990</td>\n",
       "      <td>102</td>\n",
       "      <td>Omar Tarek</td>\n",
       "      <td>22</td>\n",
       "      <td>19593</td>\n",
       "      <td>24</td>\n",
       "      <td>193</td>\n",
       "      <td>401875</td>\n",
       "      <td>OTFC</td>\n",
       "    </tr>\n",
       "    <tr>\n",
       "      <th>24</th>\n",
       "      <td>24092418</td>\n",
       "      <td>112</td>\n",
       "      <td>Jason Stockwin</td>\n",
       "      <td>22</td>\n",
       "      <td>205450</td>\n",
       "      <td>25</td>\n",
       "      <td>193</td>\n",
       "      <td>3974173</td>\n",
       "      <td>JayStock Eagles FC</td>\n",
       "    </tr>\n",
       "    <tr>\n",
       "      <th>25</th>\n",
       "      <td>5452798</td>\n",
       "      <td>115</td>\n",
       "      <td>Kamil Taraszkiewicz</td>\n",
       "      <td>26</td>\n",
       "      <td>386786</td>\n",
       "      <td>26</td>\n",
       "      <td>193</td>\n",
       "      <td>1038709</td>\n",
       "      <td>Suwalskie Byki</td>\n",
       "    </tr>\n",
       "    <tr>\n",
       "      <th>26</th>\n",
       "      <td>6414260</td>\n",
       "      <td>117</td>\n",
       "      <td>Chidiebube Promise</td>\n",
       "      <td>26</td>\n",
       "      <td>547392</td>\n",
       "      <td>27</td>\n",
       "      <td>193</td>\n",
       "      <td>1214533</td>\n",
       "      <td>JADON IS GOOD�</td>\n",
       "    </tr>\n",
       "    <tr>\n",
       "      <th>27</th>\n",
       "      <td>6875716</td>\n",
       "      <td>109</td>\n",
       "      <td>Jack Marston</td>\n",
       "      <td>26</td>\n",
       "      <td>112044</td>\n",
       "      <td>28</td>\n",
       "      <td>193</td>\n",
       "      <td>1297492</td>\n",
       "      <td>Arsenal</td>\n",
       "    </tr>\n",
       "    <tr>\n",
       "      <th>28</th>\n",
       "      <td>768491</td>\n",
       "      <td>111</td>\n",
       "      <td>Ryan Blair</td>\n",
       "      <td>29</td>\n",
       "      <td>205450</td>\n",
       "      <td>29</td>\n",
       "      <td>192</td>\n",
       "      <td>146595</td>\n",
       "      <td>AJER A</td>\n",
       "    </tr>\n",
       "    <tr>\n",
       "      <th>29</th>\n",
       "      <td>24910281</td>\n",
       "      <td>101</td>\n",
       "      <td>رشيد قريشي</td>\n",
       "      <td>29</td>\n",
       "      <td>19593</td>\n",
       "      <td>30</td>\n",
       "      <td>192</td>\n",
       "      <td>4089966</td>\n",
       "      <td>رشيد قريشي</td>\n",
       "    </tr>\n",
       "    <tr>\n",
       "      <th>30</th>\n",
       "      <td>29976481</td>\n",
       "      <td>113</td>\n",
       "      <td>Ioannis Fs</td>\n",
       "      <td>31</td>\n",
       "      <td>311353</td>\n",
       "      <td>31</td>\n",
       "      <td>192</td>\n",
       "      <td>4700218</td>\n",
       "      <td>Arisenal</td>\n",
       "    </tr>\n",
       "    <tr>\n",
       "      <th>31</th>\n",
       "      <td>30172360</td>\n",
       "      <td>86</td>\n",
       "      <td>Araf Saddiq</td>\n",
       "      <td>31</td>\n",
       "      <td>197</td>\n",
       "      <td>32</td>\n",
       "      <td>192</td>\n",
       "      <td>4728100</td>\n",
       "      <td>Hot shot Harrys</td>\n",
       "    </tr>\n",
       "    <tr>\n",
       "      <th>32</th>\n",
       "      <td>9414800</td>\n",
       "      <td>115</td>\n",
       "      <td>Mujtaba Zaidi</td>\n",
       "      <td>31</td>\n",
       "      <td>465691</td>\n",
       "      <td>33</td>\n",
       "      <td>192</td>\n",
       "      <td>1753482</td>\n",
       "      <td>ArtetaBall</td>\n",
       "    </tr>\n",
       "    <tr>\n",
       "      <th>33</th>\n",
       "      <td>1098845</td>\n",
       "      <td>112</td>\n",
       "      <td>ADI NAZHAN</td>\n",
       "      <td>31</td>\n",
       "      <td>250499</td>\n",
       "      <td>34</td>\n",
       "      <td>192</td>\n",
       "      <td>212910</td>\n",
       "      <td>Bujang lapok</td>\n",
       "    </tr>\n",
       "    <tr>\n",
       "      <th>34</th>\n",
       "      <td>39849971</td>\n",
       "      <td>106</td>\n",
       "      <td>Keith O'Connell</td>\n",
       "      <td>35</td>\n",
       "      <td>84896</td>\n",
       "      <td>35</td>\n",
       "      <td>191</td>\n",
       "      <td>5761711</td>\n",
       "      <td>The Second Coming</td>\n",
       "    </tr>\n",
       "    <tr>\n",
       "      <th>35</th>\n",
       "      <td>2560449</td>\n",
       "      <td>115</td>\n",
       "      <td>@ 9VXK</td>\n",
       "      <td>35</td>\n",
       "      <td>547392</td>\n",
       "      <td>36</td>\n",
       "      <td>191</td>\n",
       "      <td>500555</td>\n",
       "      <td>عبدالله الحارثي</td>\n",
       "    </tr>\n",
       "    <tr>\n",
       "      <th>36</th>\n",
       "      <td>8226917</td>\n",
       "      <td>101</td>\n",
       "      <td>Constantin Valentin Nechita</td>\n",
       "      <td>37</td>\n",
       "      <td>25685</td>\n",
       "      <td>37</td>\n",
       "      <td>191</td>\n",
       "      <td>1547526</td>\n",
       "      <td>DDB</td>\n",
       "    </tr>\n",
       "    <tr>\n",
       "      <th>37</th>\n",
       "      <td>35748551</td>\n",
       "      <td>102</td>\n",
       "      <td>Scott Oldstein</td>\n",
       "      <td>37</td>\n",
       "      <td>33392</td>\n",
       "      <td>38</td>\n",
       "      <td>191</td>\n",
       "      <td>5389393</td>\n",
       "      <td>COOOWEE</td>\n",
       "    </tr>\n",
       "    <tr>\n",
       "      <th>38</th>\n",
       "      <td>43178920</td>\n",
       "      <td>84</td>\n",
       "      <td>MO Hassan</td>\n",
       "      <td>37</td>\n",
       "      <td>142</td>\n",
       "      <td>39</td>\n",
       "      <td>191</td>\n",
       "      <td>6114426</td>\n",
       "      <td>ZSC</td>\n",
       "    </tr>\n",
       "    <tr>\n",
       "      <th>39</th>\n",
       "      <td>23967817</td>\n",
       "      <td>98</td>\n",
       "      <td>VIvek Venugopal</td>\n",
       "      <td>37</td>\n",
       "      <td>11262</td>\n",
       "      <td>40</td>\n",
       "      <td>191</td>\n",
       "      <td>3955818</td>\n",
       "      <td>Martial Fc</td>\n",
       "    </tr>\n",
       "    <tr>\n",
       "      <th>40</th>\n",
       "      <td>22343104</td>\n",
       "      <td>97</td>\n",
       "      <td>Jason Rush</td>\n",
       "      <td>41</td>\n",
       "      <td>11262</td>\n",
       "      <td>41</td>\n",
       "      <td>190</td>\n",
       "      <td>3721635</td>\n",
       "      <td>Rushie Rovers</td>\n",
       "    </tr>\n",
       "    <tr>\n",
       "      <th>41</th>\n",
       "      <td>885608</td>\n",
       "      <td>109</td>\n",
       "      <td>K. A. A.</td>\n",
       "      <td>41</td>\n",
       "      <td>205450</td>\n",
       "      <td>42</td>\n",
       "      <td>190</td>\n",
       "      <td>169978</td>\n",
       "      <td>RWANDA</td>\n",
       "    </tr>\n",
       "    <tr>\n",
       "      <th>42</th>\n",
       "      <td>2856359</td>\n",
       "      <td>116</td>\n",
       "      <td>Greg Clarke</td>\n",
       "      <td>41</td>\n",
       "      <td>742189</td>\n",
       "      <td>43</td>\n",
       "      <td>190</td>\n",
       "      <td>556816</td>\n",
       "      <td>tomato bella-kotchap</td>\n",
       "    </tr>\n",
       "    <tr>\n",
       "      <th>43</th>\n",
       "      <td>44670951</td>\n",
       "      <td>88</td>\n",
       "      <td>Hama Hasan</td>\n",
       "      <td>41</td>\n",
       "      <td>778</td>\n",
       "      <td>44</td>\n",
       "      <td>190</td>\n",
       "      <td>6296848</td>\n",
       "      <td>zhana tottenham7</td>\n",
       "    </tr>\n",
       "    <tr>\n",
       "      <th>44</th>\n",
       "      <td>24873724</td>\n",
       "      <td>116</td>\n",
       "      <td>Thommy Larsson</td>\n",
       "      <td>41</td>\n",
       "      <td>742189</td>\n",
       "      <td>45</td>\n",
       "      <td>190</td>\n",
       "      <td>4084855</td>\n",
       "      <td>Larspumbas</td>\n",
       "    </tr>\n",
       "    <tr>\n",
       "      <th>45</th>\n",
       "      <td>16396567</td>\n",
       "      <td>111</td>\n",
       "      <td>Hassan Chowdhury</td>\n",
       "      <td>41</td>\n",
       "      <td>311353</td>\n",
       "      <td>46</td>\n",
       "      <td>190</td>\n",
       "      <td>2830133</td>\n",
       "      <td>TimeForSalah</td>\n",
       "    </tr>\n",
       "    <tr>\n",
       "      <th>46</th>\n",
       "      <td>47539869</td>\n",
       "      <td>111</td>\n",
       "      <td>Bader S</td>\n",
       "      <td>41</td>\n",
       "      <td>311353</td>\n",
       "      <td>47</td>\n",
       "      <td>190</td>\n",
       "      <td>6655643</td>\n",
       "      <td>BDRAN</td>\n",
       "    </tr>\n",
       "    <tr>\n",
       "      <th>47</th>\n",
       "      <td>24241518</td>\n",
       "      <td>81</td>\n",
       "      <td>john mutinda</td>\n",
       "      <td>41</td>\n",
       "      <td>72</td>\n",
       "      <td>48</td>\n",
       "      <td>190</td>\n",
       "      <td>3996546</td>\n",
       "      <td>Tailer fc</td>\n",
       "    </tr>\n",
       "    <tr>\n",
       "      <th>48</th>\n",
       "      <td>31156839</td>\n",
       "      <td>91</td>\n",
       "      <td>Kostis Tsoumanis</td>\n",
       "      <td>49</td>\n",
       "      <td>1926</td>\n",
       "      <td>49</td>\n",
       "      <td>190</td>\n",
       "      <td>4854402</td>\n",
       "      <td>Tsoumanis</td>\n",
       "    </tr>\n",
       "    <tr>\n",
       "      <th>49</th>\n",
       "      <td>52024301</td>\n",
       "      <td>114</td>\n",
       "      <td>Johan Vandevelde</td>\n",
       "      <td>49</td>\n",
       "      <td>547392</td>\n",
       "      <td>50</td>\n",
       "      <td>190</td>\n",
       "      <td>7185515</td>\n",
       "      <td>Silky sexy seconds</td>\n",
       "    </tr>\n",
       "  </tbody>\n",
       "</table>\n",
       "</div>"
      ],
      "text/plain": [
       "          id  event_total                  player_name  rank  last_rank  \\\n",
       "0   21760144          116                  Jamie Wilce     1      11262   \n",
       "1    3739054          117                 Ethan Bryant     2      65794   \n",
       "2   43962372           95                  Kevin Harre     3        197   \n",
       "3   51933925          126              Cheong Man Wong     4    1071637   \n",
       "4   34187254           96             Jonathan Muyimba     5        778   \n",
       "5   18490470          105                 Phil Mwendwa     5      11262   \n",
       "6   47967852           93         محمد عزاالدين بشير🇸🇩     7        384   \n",
       "7    6260241          116                ABIUD Makokha     8     205450   \n",
       "8   41069983           97                  Abdullah Ar     9       1926   \n",
       "9   21614396          124                  Matt Gillow     9    1071637   \n",
       "10  55330276          112                   Okadi John    11     112044   \n",
       "11   7936039          126              Tor Andre Amble    11    1371605   \n",
       "12   6151460          128               Henrique Abreu    13    1071637   \n",
       "13  46450280          105           Phenomenon Dempzie    14      25685   \n",
       "14  19013225          102                   Jyothish A    15      11262   \n",
       "15  23950518           95                Joseph Arcard    15       1429   \n",
       "16  11514321          104                 Saeed Ghanam    15      19593   \n",
       "17  26958642          110                  Ahmed Fahmy    18      33392   \n",
       "18  16181830          115                Noah Anderson    19     311353   \n",
       "19   4901375           97             Joakim Mucunguzi    20       3486   \n",
       "20    952196          109        THANAKORN THEPSOMBOON    20      84896   \n",
       "21   5720366          101                Sylvester chi    22      14700   \n",
       "22  32553801           82                Harry Pettitt    22         37   \n",
       "23   2055990          102                   Omar Tarek    22      19593   \n",
       "24  24092418          112               Jason Stockwin    22     205450   \n",
       "25   5452798          115          Kamil Taraszkiewicz    26     386786   \n",
       "26   6414260          117           Chidiebube Promise    26     547392   \n",
       "27   6875716          109                 Jack Marston    26     112044   \n",
       "28    768491          111                   Ryan Blair    29     205450   \n",
       "29  24910281          101                   رشيد قريشي    29      19593   \n",
       "30  29976481          113                   Ioannis Fs    31     311353   \n",
       "31  30172360           86                  Araf Saddiq    31        197   \n",
       "32   9414800          115                Mujtaba Zaidi    31     465691   \n",
       "33   1098845          112                   ADI NAZHAN    31     250499   \n",
       "34  39849971          106              Keith O'Connell    35      84896   \n",
       "35   2560449          115                       @ 9VXK    35     547392   \n",
       "36   8226917          101  Constantin Valentin Nechita    37      25685   \n",
       "37  35748551          102               Scott Oldstein    37      33392   \n",
       "38  43178920           84                    MO Hassan    37        142   \n",
       "39  23967817           98              VIvek Venugopal    37      11262   \n",
       "40  22343104           97                   Jason Rush    41      11262   \n",
       "41    885608          109                     K. A. A.    41     205450   \n",
       "42   2856359          116                  Greg Clarke    41     742189   \n",
       "43  44670951           88                   Hama Hasan    41        778   \n",
       "44  24873724          116               Thommy Larsson    41     742189   \n",
       "45  16396567          111             Hassan Chowdhury    41     311353   \n",
       "46  47539869          111                      Bader S    41     311353   \n",
       "47  24241518           81                 john mutinda    41         72   \n",
       "48  31156839           91             Kostis Tsoumanis    49       1926   \n",
       "49  52024301          114             Johan Vandevelde    49     547392   \n",
       "\n",
       "    rank_sort  total    entry            entry_name  \n",
       "0           1    209  3633274     In Jesus We Trust  \n",
       "1           2    203   721791         5backmerchant  \n",
       "2           3    201  6209589     Satan’s Barnacles  \n",
       "3           4    198  7174695            itecnewman  \n",
       "4           5    198  5244462                 HT/FT  \n",
       "5           6    198  3157768  ifike mid-ssn nchoke  \n",
       "6           7    197  6708542           فخر الزيداب  \n",
       "7           8    197  1185887     ENOUGH IS ENOUGH.  \n",
       "8           9    196  5888567                 Rm FC  \n",
       "9          10    196  3611550          Crass of ‘92  \n",
       "10         11    196  7577132               Bigcity  \n",
       "11         12    196  1493533           Svinepelsen  \n",
       "12         13    196  1165233             super max  \n",
       "13         14    195  6518355         Ngwiindjuu FC  \n",
       "14         15    195  3236486           JoeBreakers  \n",
       "15         16    195  3953366           Jose ARCARD  \n",
       "16         17    195  2108366             challenge  \n",
       "17         18    195  4346423                 Fahmy  \n",
       "18         19    194  2798168      Yeah but Norbert  \n",
       "19         20    194   937923        RightHändÖfGòd  \n",
       "20         21    194   183210             NooM THEP  \n",
       "21         22    193  1086774         Sylvester-chi  \n",
       "22         23    193  5036642     Clingfilm Puss FC  \n",
       "23         24    193   401875                  OTFC  \n",
       "24         25    193  3974173    JayStock Eagles FC  \n",
       "25         26    193  1038709        Suwalskie Byki  \n",
       "26         27    193  1214533        JADON IS GOOD�  \n",
       "27         28    193  1297492               Arsenal  \n",
       "28         29    192   146595                AJER A  \n",
       "29         30    192  4089966            رشيد قريشي  \n",
       "30         31    192  4700218              Arisenal  \n",
       "31         32    192  4728100       Hot shot Harrys  \n",
       "32         33    192  1753482            ArtetaBall  \n",
       "33         34    192   212910          Bujang lapok  \n",
       "34         35    191  5761711     The Second Coming  \n",
       "35         36    191   500555       عبدالله الحارثي  \n",
       "36         37    191  1547526                   DDB  \n",
       "37         38    191  5389393               COOOWEE  \n",
       "38         39    191  6114426                   ZSC  \n",
       "39         40    191  3955818            Martial Fc  \n",
       "40         41    190  3721635         Rushie Rovers  \n",
       "41         42    190   169978                RWANDA  \n",
       "42         43    190   556816  tomato bella-kotchap  \n",
       "43         44    190  6296848      zhana tottenham7  \n",
       "44         45    190  4084855            Larspumbas  \n",
       "45         46    190  2830133          TimeForSalah  \n",
       "46         47    190  6655643                 BDRAN  \n",
       "47         48    190  3996546             Tailer fc  \n",
       "48         49    190  4854402             Tsoumanis  \n",
       "49         50    190  7185515    Silky sexy seconds  "
      ]
     },
     "execution_count": 278,
     "metadata": {},
     "output_type": "execute_result"
    }
   ],
   "source": [
    "top_100"
   ]
  },
  {
   "cell_type": "code",
   "execution_count": 333,
   "metadata": {},
   "outputs": [],
   "source": [
    "def top_picks(user_id):\n",
    "    players = []\n",
    "    for i in user_id:\n",
    "        pick_url = 'https://fantasy.premierleague.com/api/entry/'+str(i)+'/event/2/picks/'\n",
    "        rr = requests.get(pick_url)\n",
    "        pick_json = rr.json()\n",
    "        p_df = pd.DataFrame(pick_json['picks'])\n",
    "        p_df['element'] = p_df.element.map(elements_df.set_index('id').second_name)\n",
    "        for j in range(15):\n",
    "            players.append(p_df['element'].values[j])\n",
    "    df_playesr = pd.DataFrame([players])\n",
    "    return df_playesr"
   ]
  },
  {
   "cell_type": "code",
   "execution_count": 302,
   "metadata": {},
   "outputs": [],
   "source": [
    "pk_100 = top_picks(top_100['entry'])"
   ]
  },
  {
   "cell_type": "code",
   "execution_count": 360,
   "metadata": {},
   "outputs": [],
   "source": [
    "ply_val = dict(pk_100.T.value_counts(normalize=True)*100)\n"
   ]
  },
  {
   "cell_type": "code",
   "execution_count": 370,
   "metadata": {},
   "outputs": [
    {
     "data": {
      "text/html": [
       "<div>\n",
       "<style scoped>\n",
       "    .dataframe tbody tr th:only-of-type {\n",
       "        vertical-align: middle;\n",
       "    }\n",
       "\n",
       "    .dataframe tbody tr th {\n",
       "        vertical-align: top;\n",
       "    }\n",
       "\n",
       "    .dataframe thead th {\n",
       "        text-align: right;\n",
       "    }\n",
       "</style>\n",
       "<table border=\"1\" class=\"dataframe\">\n",
       "  <thead>\n",
       "    <tr style=\"text-align: right;\">\n",
       "      <th></th>\n",
       "      <th>0</th>\n",
       "    </tr>\n",
       "  </thead>\n",
       "  <tbody>\n",
       "    <tr>\n",
       "      <th>Fernando de Jesus</th>\n",
       "      <td>6.266667</td>\n",
       "    </tr>\n",
       "    <tr>\n",
       "      <th>Martinelli Silva</th>\n",
       "      <td>4.800000</td>\n",
       "    </tr>\n",
       "    <tr>\n",
       "      <th>James</th>\n",
       "      <td>4.533333</td>\n",
       "    </tr>\n",
       "    <tr>\n",
       "      <th>Cancelo</th>\n",
       "      <td>4.266667</td>\n",
       "    </tr>\n",
       "    <tr>\n",
       "      <th>Salah</th>\n",
       "      <td>4.133333</td>\n",
       "    </tr>\n",
       "    <tr>\n",
       "      <th>...</th>\n",
       "      <td>...</td>\n",
       "    </tr>\n",
       "    <tr>\n",
       "      <th>Jansson</th>\n",
       "      <td>0.133333</td>\n",
       "    </tr>\n",
       "    <tr>\n",
       "      <th>Højbjerg</th>\n",
       "      <td>0.133333</td>\n",
       "    </tr>\n",
       "    <tr>\n",
       "      <th>Heung-min</th>\n",
       "      <td>0.133333</td>\n",
       "    </tr>\n",
       "    <tr>\n",
       "      <th>Guéhi</th>\n",
       "      <td>0.133333</td>\n",
       "    </tr>\n",
       "    <tr>\n",
       "      <th>Šarkić</th>\n",
       "      <td>0.133333</td>\n",
       "    </tr>\n",
       "  </tbody>\n",
       "</table>\n",
       "<p>157 rows × 1 columns</p>\n",
       "</div>"
      ],
      "text/plain": [
       "                          0\n",
       "Fernando de Jesus  6.266667\n",
       "Martinelli Silva   4.800000\n",
       "James              4.533333\n",
       "Cancelo            4.266667\n",
       "Salah              4.133333\n",
       "...                     ...\n",
       "Jansson            0.133333\n",
       "Højbjerg           0.133333\n",
       "Heung-min          0.133333\n",
       "Guéhi              0.133333\n",
       "Šarkić             0.133333\n",
       "\n",
       "[157 rows x 1 columns]"
      ]
     },
     "execution_count": 370,
     "metadata": {},
     "output_type": "execute_result"
    }
   ],
   "source": [
    "ply_df = pd.DataFrame(data=ply_val,index=[0])\n",
    "ply_df.T"
   ]
  },
  {
   "cell_type": "code",
   "execution_count": 274,
   "metadata": {},
   "outputs": [],
   "source": [
    "# Find the captin in the pick\n",
    "def get_captain(user_id):\n",
    "    cap_list = []\n",
    "    for i in user_id:\n",
    "        pick_url = 'https://fantasy.premierleague.com/api/entry/'+str(i)+'/event/2/picks/'\n",
    "        rr = requests.get(pick_url)\n",
    "        pick_json = rr.json()\n",
    "        pick_json.keys()\n",
    "        p_df = pd.DataFrame(pick_json['picks'])\n",
    "        p_df['element'] = p_df.element.map(elements_df.set_index('id').second_name)\n",
    "        cap_list.append(p_df['element'][p_df['is_captain'] == True].values[0])\n",
    "    return cap_list"
   ]
  },
  {
   "cell_type": "code",
   "execution_count": 275,
   "metadata": {},
   "outputs": [],
   "source": [
    "captin_1k = get_captain(top_100['entry'])"
   ]
  },
  {
   "cell_type": "code",
   "execution_count": 276,
   "metadata": {},
   "outputs": [],
   "source": [
    "cap_df = pd.DataFrame(captin_1k)"
   ]
  },
  {
   "cell_type": "code",
   "execution_count": 277,
   "metadata": {},
   "outputs": [
    {
     "data": {
      "text/plain": [
       "Fernando de Jesus    26\n",
       "De Bruyne            13\n",
       "Haaland               9\n",
       "Cancelo               1\n",
       "Salah                 1\n",
       "dtype: int64"
      ]
     },
     "execution_count": 277,
     "metadata": {},
     "output_type": "execute_result"
    }
   ],
   "source": [
    "cap_df.value_counts()"
   ]
  },
  {
   "cell_type": "markdown",
   "metadata": {},
   "source": [
    "# Build the Model"
   ]
  },
  {
   "cell_type": "code",
   "execution_count": 136,
   "metadata": {},
   "outputs": [],
   "source": [
    "from sklearn.model_selection import train_test_split\n",
    "from sklearn.linear_model import LinearRegression\n",
    "from sklearn.tree import DecisionTreeRegressor\n",
    "from sklearn.metrics import accuracy_score,mean_absolute_error,mean_squared_error\n",
    "\n",
    "X = slim_elements_df.drop(columns=['second_name','team','event_points','position'])\n",
    "Y = slim_elements_df['event_points']\n",
    "x_trn,x_ts,y_trn,y_ts = train_test_split(X,Y,test_size=0.20)"
   ]
  },
  {
   "cell_type": "code",
   "execution_count": 137,
   "metadata": {},
   "outputs": [
    {
     "name": "stdout",
     "output_type": "stream",
     "text": [
      "MSE ->  1.8034188034188035\n",
      "MAE ->  0.5726495726495726\n"
     ]
    }
   ],
   "source": [
    "model = DecisionTreeRegressor(random_state=0)\n",
    "model.fit(x_trn,y_trn)\n",
    "y_pred = model.predict(x_ts)\n",
    "print('MSE -> ',mean_squared_error(y_ts,y_pred))\n",
    "print('MAE -> ',mean_absolute_error(y_ts,y_pred))"
   ]
  },
  {
   "cell_type": "code",
   "execution_count": 267,
   "metadata": {},
   "outputs": [
    {
     "data": {
      "text/plain": [
       "[<matplotlib.lines.Line2D at 0x196645e5b50>]"
      ]
     },
     "execution_count": 267,
     "metadata": {},
     "output_type": "execute_result"
    },
    {
     "data": {
      "image/png": "[encoded data removed]",
      "text/plain": [
       "<Figure size 432x288 with 1 Axes>"
      ]
     },
     "metadata": {},
     "output_type": "display_data"
    }
   ],
   "source": [
    "plt.plot(y_pred)\n",
    "plt.plot(list(y_ts))"
   ]
  }
 ],
 "metadata": {
  "kernelspec": {
   "display_name": "Python 3.9.9 64-bit",
   "language": "python",
   "name": "python3"
  },
  "language_info": {
   "codemirror_mode": {
    "name": "ipython",
    "version": 3
   },
   "file_extension": ".py",
   "mimetype": "text/x-python",
   "name": "python",
   "nbconvert_exporter": "python",
   "pygments_lexer": "ipython3",
   "version": "3.9.9"
  },
  "orig_nbformat": 4,
  "vscode": {
   "interpreter": {
    "hash": "4ddbcda22821d9e5b96dbb03204a290585b546fe09316fc426e8d8f1a2b10e08"
   }
  }
 },
 "nbformat": 4,
 "nbformat_minor": 2
}
